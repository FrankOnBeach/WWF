{
 "cells": [
  {
   "cell_type": "code",
   "execution_count": null,
   "metadata": {},
   "outputs": [],
   "source": []
  },
  {
   "cell_type": "code",
   "execution_count": 2,
   "metadata": {},
   "outputs": [],
   "source": [
    "import requests\n",
    "import pandas as pd\n",
    "import numpy as np\n",
    "import json\n",
    "from pandas.io.json import json_normalize"
   ]
  },
  {
   "cell_type": "code",
   "execution_count": 3,
   "metadata": {},
   "outputs": [],
   "source": [
    "api_token='9bb4facb6d23f48efbf424bb05c0c1ef1cf6f468393bc745d42179ac4aca5fee'"
   ]
  },
  {
   "cell_type": "code",
   "execution_count": 11,
   "metadata": {},
   "outputs": [],
   "source": [
    "def get_threat(name):\n",
    "    threat_url = 'http://apiv3.iucnredlist.org/api/v3/threats/species/name/{}?token={}'.format(name,api_token)\n",
    "    request = requests.get(threat_url)\n",
    "    data = json.loads(request.text)\n",
    "    threat_df = pd.DataFrame(json_normalize(data['result']))\n",
    "    return threat_df"
   ]
  },
  {
   "cell_type": "code",
   "execution_count": 33,
   "metadata": {},
   "outputs": [],
   "source": [
    "def get_species(group_name):\n",
    "    species_url = 'http://apiv3.iucnredlist.org/api/v3/comp-group/getspecies/{}?token={}'.format(group_name,api_token)\n",
    "    request = requests.get(species_url)\n",
    "    data = json.loads(request.text)\n",
    "    species_df = pd.DataFrame(json_normalize(data['result']))\n",
    "    return species_df"
   ]
  },
  {
   "cell_type": "code",
   "execution_count": 34,
   "metadata": {},
   "outputs": [
    {
     "data": {
      "text/html": [
       "<div>\n",
       "<style scoped>\n",
       "    .dataframe tbody tr th:only-of-type {\n",
       "        vertical-align: middle;\n",
       "    }\n",
       "\n",
       "    .dataframe tbody tr th {\n",
       "        vertical-align: top;\n",
       "    }\n",
       "\n",
       "    .dataframe thead th {\n",
       "        text-align: right;\n",
       "    }\n",
       "</style>\n",
       "<table border=\"1\" class=\"dataframe\">\n",
       "  <thead>\n",
       "    <tr style=\"text-align: right;\">\n",
       "      <th></th>\n",
       "      <th>code</th>\n",
       "      <th>invasive</th>\n",
       "      <th>scope</th>\n",
       "      <th>score</th>\n",
       "      <th>severity</th>\n",
       "      <th>timing</th>\n",
       "      <th>title</th>\n",
       "    </tr>\n",
       "  </thead>\n",
       "  <tbody>\n",
       "    <tr>\n",
       "      <th>0</th>\n",
       "      <td>1.1</td>\n",
       "      <td>None</td>\n",
       "      <td>None</td>\n",
       "      <td>Low Impact: 3</td>\n",
       "      <td>None</td>\n",
       "      <td>Ongoing</td>\n",
       "      <td>Housing &amp; urban areas</td>\n",
       "    </tr>\n",
       "    <tr>\n",
       "      <th>1</th>\n",
       "      <td>11.2</td>\n",
       "      <td>None</td>\n",
       "      <td>None</td>\n",
       "      <td>Low Impact: 3</td>\n",
       "      <td>None</td>\n",
       "      <td>Ongoing</td>\n",
       "      <td>Droughts</td>\n",
       "    </tr>\n",
       "    <tr>\n",
       "      <th>2</th>\n",
       "      <td>1.2</td>\n",
       "      <td>None</td>\n",
       "      <td>None</td>\n",
       "      <td>Low Impact: 3</td>\n",
       "      <td>None</td>\n",
       "      <td>Ongoing</td>\n",
       "      <td>Commercial &amp; industrial areas</td>\n",
       "    </tr>\n",
       "    <tr>\n",
       "      <th>3</th>\n",
       "      <td>2.1</td>\n",
       "      <td>None</td>\n",
       "      <td>None</td>\n",
       "      <td>Low Impact: 3</td>\n",
       "      <td>None</td>\n",
       "      <td>Ongoing</td>\n",
       "      <td>Annual &amp; perennial non-timber crops</td>\n",
       "    </tr>\n",
       "    <tr>\n",
       "      <th>4</th>\n",
       "      <td>2.1.1</td>\n",
       "      <td>None</td>\n",
       "      <td>None</td>\n",
       "      <td>Low Impact: 3</td>\n",
       "      <td>None</td>\n",
       "      <td>Ongoing</td>\n",
       "      <td>Shifting agriculture</td>\n",
       "    </tr>\n",
       "  </tbody>\n",
       "</table>\n",
       "</div>"
      ],
      "text/plain": [
       "    code invasive scope          score severity   timing  \\\n",
       "0    1.1     None  None  Low Impact: 3     None  Ongoing   \n",
       "1   11.2     None  None  Low Impact: 3     None  Ongoing   \n",
       "2    1.2     None  None  Low Impact: 3     None  Ongoing   \n",
       "3    2.1     None  None  Low Impact: 3     None  Ongoing   \n",
       "4  2.1.1     None  None  Low Impact: 3     None  Ongoing   \n",
       "\n",
       "                                 title  \n",
       "0                Housing & urban areas  \n",
       "1                             Droughts  \n",
       "2        Commercial & industrial areas  \n",
       "3  Annual & perennial non-timber crops  \n",
       "4                 Shifting agriculture  "
      ]
     },
     "execution_count": 34,
     "metadata": {},
     "output_type": "execute_result"
    }
   ],
   "source": [
    "get_threat(\"Loxodonta africana\").head()"
   ]
  },
  {
   "cell_type": "code",
   "execution_count": 36,
   "metadata": {},
   "outputs": [
    {
     "data": {
      "text/html": [
       "<div>\n",
       "<style scoped>\n",
       "    .dataframe tbody tr th:only-of-type {\n",
       "        vertical-align: middle;\n",
       "    }\n",
       "\n",
       "    .dataframe tbody tr th {\n",
       "        vertical-align: top;\n",
       "    }\n",
       "\n",
       "    .dataframe thead th {\n",
       "        text-align: right;\n",
       "    }\n",
       "</style>\n",
       "<table border=\"1\" class=\"dataframe\">\n",
       "  <thead>\n",
       "    <tr style=\"text-align: right;\">\n",
       "      <th></th>\n",
       "      <th>category</th>\n",
       "      <th>rank</th>\n",
       "      <th>scientific_name</th>\n",
       "      <th>subpopulation</th>\n",
       "      <th>subspecies</th>\n",
       "      <th>taxonid</th>\n",
       "    </tr>\n",
       "  </thead>\n",
       "  <tbody>\n",
       "    <tr>\n",
       "      <th>0</th>\n",
       "      <td>DD</td>\n",
       "      <td>None</td>\n",
       "      <td>Acanthopagrus akazakii</td>\n",
       "      <td>None</td>\n",
       "      <td>None</td>\n",
       "      <td>170230</td>\n",
       "    </tr>\n",
       "    <tr>\n",
       "      <th>1</th>\n",
       "      <td>LC</td>\n",
       "      <td>None</td>\n",
       "      <td>Acanthopagrus arabicus</td>\n",
       "      <td>None</td>\n",
       "      <td>None</td>\n",
       "      <td>47166659</td>\n",
       "    </tr>\n",
       "    <tr>\n",
       "      <th>2</th>\n",
       "      <td>LC</td>\n",
       "      <td>None</td>\n",
       "      <td>Acanthopagrus australis</td>\n",
       "      <td>None</td>\n",
       "      <td>None</td>\n",
       "      <td>170257</td>\n",
       "    </tr>\n",
       "    <tr>\n",
       "      <th>3</th>\n",
       "      <td>LC</td>\n",
       "      <td>None</td>\n",
       "      <td>Acanthopagrus berda</td>\n",
       "      <td>None</td>\n",
       "      <td>None</td>\n",
       "      <td>170266</td>\n",
       "    </tr>\n",
       "    <tr>\n",
       "      <th>4</th>\n",
       "      <td>LC</td>\n",
       "      <td>None</td>\n",
       "      <td>Acanthopagrus bifasciatus</td>\n",
       "      <td>None</td>\n",
       "      <td>None</td>\n",
       "      <td>170239</td>\n",
       "    </tr>\n",
       "  </tbody>\n",
       "</table>\n",
       "</div>"
      ],
      "text/plain": [
       "  category  rank            scientific_name subpopulation subspecies   taxonid\n",
       "0       DD  None     Acanthopagrus akazakii          None       None    170230\n",
       "1       LC  None     Acanthopagrus arabicus          None       None  47166659\n",
       "2       LC  None    Acanthopagrus australis          None       None    170257\n",
       "3       LC  None        Acanthopagrus berda          None       None    170266\n",
       "4       LC  None  Acanthopagrus bifasciatus          None       None    170239"
      ]
     },
     "execution_count": 36,
     "metadata": {},
     "output_type": "execute_result"
    }
   ],
   "source": [
    "get_species(\"seabreams_porgies_picarels\").head()"
   ]
  },
  {
   "cell_type": "code",
   "execution_count": null,
   "metadata": {},
   "outputs": [],
   "source": []
  }
 ],
 "metadata": {
  "kernelspec": {
   "display_name": "Python 3",
   "language": "python",
   "name": "python3"
  },
  "language_info": {
   "codemirror_mode": {
    "name": "ipython",
    "version": 3
   },
   "file_extension": ".py",
   "mimetype": "text/x-python",
   "name": "python",
   "nbconvert_exporter": "python",
   "pygments_lexer": "ipython3",
   "version": "3.7.1"
  }
 },
 "nbformat": 4,
 "nbformat_minor": 2
}
