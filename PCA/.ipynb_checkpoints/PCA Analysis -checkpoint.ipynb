{
 "cells": [
  {
   "cell_type": "code",
   "execution_count": null,
   "metadata": {},
   "outputs": [],
   "source": []
  },
  {
   "cell_type": "code",
   "execution_count": 99,
   "metadata": {},
   "outputs": [],
   "source": [
    "import pandas as pd\n",
    "from sklearn.decomposition import PCA\n",
    "pca = PCA(n_components=2)\n",
    "from sklearn.preprocessing import StandardScaler\n",
    "import numpy as np\n",
    "from IPython.display import IFrame as show\n",
    "import plotly\n",
    "import plotly.plotly as py\n",
    "import plotly.graph_objs as go\n",
    "plotly.tools.set_credentials_file(username='xpeigang', api_key='lwQSZWto6kkYyDeNh8SM')\n",
    "from plotly.offline import download_plotlyjs, init_notebook_mode, plot, iplot\n"
   ]
  },
  {
   "cell_type": "code",
   "execution_count": 100,
   "metadata": {},
   "outputs": [],
   "source": [
    "master_df = pd.read_csv(\"master_final_merged_df_protein_gdp.csv\")"
   ]
  },
  {
   "cell_type": "code",
   "execution_count": 101,
   "metadata": {},
   "outputs": [
    {
     "data": {
      "text/html": [
       "        <script type=\"text/javascript\">\n",
       "        window.PlotlyConfig = {MathJaxConfig: 'local'};\n",
       "        if (window.MathJax) {MathJax.Hub.Config({SVG: {font: \"STIX-Web\"}});}\n",
       "        if (typeof require !== 'undefined') {\n",
       "        require.undef(\"plotly\");\n",
       "        requirejs.config({\n",
       "            paths: {\n",
       "                'plotly': ['https://cdn.plot.ly/plotly-latest.min']\n",
       "            }\n",
       "        });\n",
       "        require(['plotly'], function(Plotly) {\n",
       "            window._Plotly = Plotly;\n",
       "        });\n",
       "        }\n",
       "        </script>\n",
       "        "
      ]
     },
     "metadata": {},
     "output_type": "display_data"
    }
   ],
   "source": [
    "init_notebook_mode(connected=True)"
   ]
  },
  {
   "cell_type": "markdown",
   "metadata": {},
   "source": [
    "### Analysis 1: PCA on different food sources"
   ]
  },
  {
   "cell_type": "code",
   "execution_count": 102,
   "metadata": {
    "scrolled": true
   },
   "outputs": [
    {
     "name": "stderr",
     "output_type": "stream",
     "text": [
      "C:\\Users\\XuP-intern\\AppData\\Local\\Continuum\\anaconda3\\lib\\site-packages\\ipykernel_launcher.py:13: SettingWithCopyWarning:\n",
      "\n",
      "\n",
      "A value is trying to be set on a copy of a slice from a DataFrame\n",
      "\n",
      "See the caveats in the documentation: http://pandas.pydata.org/pandas-docs/stable/indexing.html#indexing-view-versus-copy\n",
      "\n"
     ]
    },
    {
     "data": {
      "text/html": [
       "<div>\n",
       "<style scoped>\n",
       "    .dataframe tbody tr th:only-of-type {\n",
       "        vertical-align: middle;\n",
       "    }\n",
       "\n",
       "    .dataframe tbody tr th {\n",
       "        vertical-align: top;\n",
       "    }\n",
       "\n",
       "    .dataframe thead th {\n",
       "        text-align: right;\n",
       "    }\n",
       "</style>\n",
       "<table border=\"1\" class=\"dataframe\">\n",
       "  <thead>\n",
       "    <tr style=\"text-align: right;\">\n",
       "      <th></th>\n",
       "      <th>Country</th>\n",
       "      <th>Milk</th>\n",
       "      <th>Bovine meat</th>\n",
       "      <th>Sheep and goat meat</th>\n",
       "      <th>Pigmeat</th>\n",
       "      <th>Poultry</th>\n",
       "      <th>Eggs</th>\n",
       "      <th>Fish</th>\n",
       "      <th>Maize</th>\n",
       "      <th>Rice</th>\n",
       "      <th>Wheat</th>\n",
       "      <th>Rye</th>\n",
       "      <th>Barley</th>\n",
       "      <th>Pulses</th>\n",
       "      <th>Starchy roots</th>\n",
       "    </tr>\n",
       "  </thead>\n",
       "  <tbody>\n",
       "    <tr>\n",
       "      <th>0</th>\n",
       "      <td>Afghanistan</td>\n",
       "      <td>6.02</td>\n",
       "      <td>2.01</td>\n",
       "      <td>2.02</td>\n",
       "      <td>0.00</td>\n",
       "      <td>0.79</td>\n",
       "      <td>0.32</td>\n",
       "      <td>0.02</td>\n",
       "      <td>0.57</td>\n",
       "      <td>2.89</td>\n",
       "      <td>37.12</td>\n",
       "      <td>0.00</td>\n",
       "      <td>0.72</td>\n",
       "      <td>1.56</td>\n",
       "      <td>0.22</td>\n",
       "    </tr>\n",
       "    <tr>\n",
       "      <th>1</th>\n",
       "      <td>Albania</td>\n",
       "      <td>29.67</td>\n",
       "      <td>9.18</td>\n",
       "      <td>5.35</td>\n",
       "      <td>2.76</td>\n",
       "      <td>4.91</td>\n",
       "      <td>3.24</td>\n",
       "      <td>1.50</td>\n",
       "      <td>0.36</td>\n",
       "      <td>1.22</td>\n",
       "      <td>33.71</td>\n",
       "      <td>0.13</td>\n",
       "      <td>0.03</td>\n",
       "      <td>3.06</td>\n",
       "      <td>1.86</td>\n",
       "    </tr>\n",
       "    <tr>\n",
       "      <th>2</th>\n",
       "      <td>Algeria</td>\n",
       "      <td>13.78</td>\n",
       "      <td>2.18</td>\n",
       "      <td>2.70</td>\n",
       "      <td>0.00</td>\n",
       "      <td>2.30</td>\n",
       "      <td>2.09</td>\n",
       "      <td>1.23</td>\n",
       "      <td>3.09</td>\n",
       "      <td>0.50</td>\n",
       "      <td>43.03</td>\n",
       "      <td>0.00</td>\n",
       "      <td>2.61</td>\n",
       "      <td>4.55</td>\n",
       "      <td>2.67</td>\n",
       "    </tr>\n",
       "    <tr>\n",
       "      <th>3</th>\n",
       "      <td>Angola</td>\n",
       "      <td>1.02</td>\n",
       "      <td>3.27</td>\n",
       "      <td>0.44</td>\n",
       "      <td>2.34</td>\n",
       "      <td>5.55</td>\n",
       "      <td>0.51</td>\n",
       "      <td>4.14</td>\n",
       "      <td>8.80</td>\n",
       "      <td>1.55</td>\n",
       "      <td>8.46</td>\n",
       "      <td>0.00</td>\n",
       "      <td>0.00</td>\n",
       "      <td>5.23</td>\n",
       "      <td>7.13</td>\n",
       "    </tr>\n",
       "    <tr>\n",
       "      <th>4</th>\n",
       "      <td>Antigua and Barbuda</td>\n",
       "      <td>12.22</td>\n",
       "      <td>5.39</td>\n",
       "      <td>0.60</td>\n",
       "      <td>3.26</td>\n",
       "      <td>18.59</td>\n",
       "      <td>1.30</td>\n",
       "      <td>13.11</td>\n",
       "      <td>0.39</td>\n",
       "      <td>2.15</td>\n",
       "      <td>13.39</td>\n",
       "      <td>0.00</td>\n",
       "      <td>0.00</td>\n",
       "      <td>1.66</td>\n",
       "      <td>0.86</td>\n",
       "    </tr>\n",
       "    <tr>\n",
       "      <th>5</th>\n",
       "      <td>Argentina</td>\n",
       "      <td>14.70</td>\n",
       "      <td>27.16</td>\n",
       "      <td>0.58</td>\n",
       "      <td>2.85</td>\n",
       "      <td>12.44</td>\n",
       "      <td>3.25</td>\n",
       "      <td>1.95</td>\n",
       "      <td>1.94</td>\n",
       "      <td>1.70</td>\n",
       "      <td>23.29</td>\n",
       "      <td>0.00</td>\n",
       "      <td>0.00</td>\n",
       "      <td>0.31</td>\n",
       "      <td>2.57</td>\n",
       "    </tr>\n",
       "    <tr>\n",
       "      <th>6</th>\n",
       "      <td>Armenia</td>\n",
       "      <td>19.04</td>\n",
       "      <td>7.72</td>\n",
       "      <td>1.08</td>\n",
       "      <td>2.11</td>\n",
       "      <td>4.71</td>\n",
       "      <td>3.44</td>\n",
       "      <td>1.09</td>\n",
       "      <td>0.01</td>\n",
       "      <td>0.67</td>\n",
       "      <td>30.16</td>\n",
       "      <td>0.02</td>\n",
       "      <td>0.25</td>\n",
       "      <td>0.00</td>\n",
       "      <td>1.93</td>\n",
       "    </tr>\n",
       "    <tr>\n",
       "      <th>7</th>\n",
       "      <td>Australia</td>\n",
       "      <td>19.16</td>\n",
       "      <td>14.05</td>\n",
       "      <td>3.21</td>\n",
       "      <td>5.61</td>\n",
       "      <td>15.88</td>\n",
       "      <td>2.20</td>\n",
       "      <td>6.20</td>\n",
       "      <td>0.89</td>\n",
       "      <td>1.90</td>\n",
       "      <td>18.62</td>\n",
       "      <td>0.31</td>\n",
       "      <td>0.06</td>\n",
       "      <td>0.62</td>\n",
       "      <td>2.25</td>\n",
       "    </tr>\n",
       "    <tr>\n",
       "      <th>8</th>\n",
       "      <td>Austria</td>\n",
       "      <td>21.55</td>\n",
       "      <td>6.90</td>\n",
       "      <td>0.40</td>\n",
       "      <td>14.66</td>\n",
       "      <td>7.85</td>\n",
       "      <td>4.39</td>\n",
       "      <td>3.99</td>\n",
       "      <td>2.35</td>\n",
       "      <td>0.70</td>\n",
       "      <td>20.91</td>\n",
       "      <td>2.28</td>\n",
       "      <td>0.01</td>\n",
       "      <td>0.45</td>\n",
       "      <td>2.25</td>\n",
       "    </tr>\n",
       "    <tr>\n",
       "      <th>9</th>\n",
       "      <td>Azerbaijan</td>\n",
       "      <td>14.07</td>\n",
       "      <td>5.09</td>\n",
       "      <td>2.86</td>\n",
       "      <td>0.07</td>\n",
       "      <td>3.51</td>\n",
       "      <td>2.31</td>\n",
       "      <td>0.64</td>\n",
       "      <td>1.83</td>\n",
       "      <td>0.39</td>\n",
       "      <td>49.37</td>\n",
       "      <td>0.04</td>\n",
       "      <td>0.61</td>\n",
       "      <td>0.59</td>\n",
       "      <td>3.18</td>\n",
       "    </tr>\n",
       "    <tr>\n",
       "      <th>10</th>\n",
       "      <td>Bahamas</td>\n",
       "      <td>9.09</td>\n",
       "      <td>9.52</td>\n",
       "      <td>1.88</td>\n",
       "      <td>8.82</td>\n",
       "      <td>17.14</td>\n",
       "      <td>1.92</td>\n",
       "      <td>7.47</td>\n",
       "      <td>0.70</td>\n",
       "      <td>4.61</td>\n",
       "      <td>7.32</td>\n",
       "      <td>0.12</td>\n",
       "      <td>0.00</td>\n",
       "      <td>0.74</td>\n",
       "      <td>0.62</td>\n",
       "    </tr>\n",
       "    <tr>\n",
       "      <th>11</th>\n",
       "      <td>Bangladesh</td>\n",
       "      <td>2.01</td>\n",
       "      <td>0.54</td>\n",
       "      <td>0.56</td>\n",
       "      <td>0.00</td>\n",
       "      <td>0.44</td>\n",
       "      <td>0.55</td>\n",
       "      <td>5.43</td>\n",
       "      <td>0.16</td>\n",
       "      <td>32.24</td>\n",
       "      <td>4.31</td>\n",
       "      <td>0.00</td>\n",
       "      <td>0.00</td>\n",
       "      <td>2.88</td>\n",
       "      <td>2.19</td>\n",
       "    </tr>\n",
       "    <tr>\n",
       "      <th>12</th>\n",
       "      <td>Barbados</td>\n",
       "      <td>10.08</td>\n",
       "      <td>6.63</td>\n",
       "      <td>1.49</td>\n",
       "      <td>1.63</td>\n",
       "      <td>14.64</td>\n",
       "      <td>2.22</td>\n",
       "      <td>11.67</td>\n",
       "      <td>2.34</td>\n",
       "      <td>3.46</td>\n",
       "      <td>14.62</td>\n",
       "      <td>0.00</td>\n",
       "      <td>0.74</td>\n",
       "      <td>4.16</td>\n",
       "      <td>2.34</td>\n",
       "    </tr>\n",
       "    <tr>\n",
       "      <th>13</th>\n",
       "      <td>Belarus</td>\n",
       "      <td>14.12</td>\n",
       "      <td>7.69</td>\n",
       "      <td>0.04</td>\n",
       "      <td>11.76</td>\n",
       "      <td>9.61</td>\n",
       "      <td>4.85</td>\n",
       "      <td>4.38</td>\n",
       "      <td>0.10</td>\n",
       "      <td>0.54</td>\n",
       "      <td>13.13</td>\n",
       "      <td>6.34</td>\n",
       "      <td>0.04</td>\n",
       "      <td>0.02</td>\n",
       "      <td>8.15</td>\n",
       "    </tr>\n",
       "    <tr>\n",
       "      <th>14</th>\n",
       "      <td>Belgium</td>\n",
       "      <td>23.38</td>\n",
       "      <td>5.60</td>\n",
       "      <td>0.50</td>\n",
       "      <td>9.23</td>\n",
       "      <td>4.52</td>\n",
       "      <td>3.88</td>\n",
       "      <td>6.54</td>\n",
       "      <td>0.32</td>\n",
       "      <td>1.62</td>\n",
       "      <td>23.88</td>\n",
       "      <td>0.15</td>\n",
       "      <td>0.00</td>\n",
       "      <td>1.50</td>\n",
       "      <td>3.90</td>\n",
       "    </tr>\n",
       "    <tr>\n",
       "      <th>15</th>\n",
       "      <td>Belize</td>\n",
       "      <td>7.32</td>\n",
       "      <td>2.15</td>\n",
       "      <td>0.04</td>\n",
       "      <td>5.10</td>\n",
       "      <td>8.75</td>\n",
       "      <td>1.19</td>\n",
       "      <td>3.62</td>\n",
       "      <td>5.92</td>\n",
       "      <td>5.40</td>\n",
       "      <td>11.91</td>\n",
       "      <td>0.00</td>\n",
       "      <td>0.00</td>\n",
       "      <td>8.82</td>\n",
       "      <td>0.64</td>\n",
       "    </tr>\n",
       "    <tr>\n",
       "      <th>16</th>\n",
       "      <td>Benin</td>\n",
       "      <td>0.78</td>\n",
       "      <td>1.25</td>\n",
       "      <td>0.33</td>\n",
       "      <td>0.27</td>\n",
       "      <td>6.71</td>\n",
       "      <td>0.23</td>\n",
       "      <td>3.51</td>\n",
       "      <td>9.12</td>\n",
       "      <td>10.70</td>\n",
       "      <td>2.49</td>\n",
       "      <td>0.00</td>\n",
       "      <td>0.06</td>\n",
       "      <td>5.19</td>\n",
       "      <td>9.64</td>\n",
       "    </tr>\n",
       "    <tr>\n",
       "      <th>17</th>\n",
       "      <td>Bermuda</td>\n",
       "      <td>8.95</td>\n",
       "      <td>17.49</td>\n",
       "      <td>1.80</td>\n",
       "      <td>5.96</td>\n",
       "      <td>13.26</td>\n",
       "      <td>3.12</td>\n",
       "      <td>12.40</td>\n",
       "      <td>0.18</td>\n",
       "      <td>1.02</td>\n",
       "      <td>13.22</td>\n",
       "      <td>0.00</td>\n",
       "      <td>0.00</td>\n",
       "      <td>0.56</td>\n",
       "      <td>0.80</td>\n",
       "    </tr>\n",
       "    <tr>\n",
       "      <th>18</th>\n",
       "      <td>Bolivia (Plurinational State of)</td>\n",
       "      <td>4.17</td>\n",
       "      <td>7.16</td>\n",
       "      <td>0.71</td>\n",
       "      <td>2.24</td>\n",
       "      <td>11.15</td>\n",
       "      <td>1.41</td>\n",
       "      <td>0.65</td>\n",
       "      <td>6.35</td>\n",
       "      <td>5.59</td>\n",
       "      <td>10.92</td>\n",
       "      <td>0.00</td>\n",
       "      <td>0.65</td>\n",
       "      <td>2.48</td>\n",
       "      <td>4.57</td>\n",
       "    </tr>\n",
       "    <tr>\n",
       "      <th>19</th>\n",
       "      <td>Bosnia and Herzegovina</td>\n",
       "      <td>15.75</td>\n",
       "      <td>3.72</td>\n",
       "      <td>0.22</td>\n",
       "      <td>2.47</td>\n",
       "      <td>4.94</td>\n",
       "      <td>1.27</td>\n",
       "      <td>1.31</td>\n",
       "      <td>15.12</td>\n",
       "      <td>0.35</td>\n",
       "      <td>20.97</td>\n",
       "      <td>0.23</td>\n",
       "      <td>0.12</td>\n",
       "      <td>3.92</td>\n",
       "      <td>3.11</td>\n",
       "    </tr>\n",
       "    <tr>\n",
       "      <th>20</th>\n",
       "      <td>Botswana</td>\n",
       "      <td>9.84</td>\n",
       "      <td>3.21</td>\n",
       "      <td>1.47</td>\n",
       "      <td>0.21</td>\n",
       "      <td>1.67</td>\n",
       "      <td>0.59</td>\n",
       "      <td>1.08</td>\n",
       "      <td>8.86</td>\n",
       "      <td>1.73</td>\n",
       "      <td>9.17</td>\n",
       "      <td>0.22</td>\n",
       "      <td>0.00</td>\n",
       "      <td>3.10</td>\n",
       "      <td>2.38</td>\n",
       "    </tr>\n",
       "    <tr>\n",
       "      <th>21</th>\n",
       "      <td>Brazil</td>\n",
       "      <td>13.26</td>\n",
       "      <td>14.66</td>\n",
       "      <td>0.23</td>\n",
       "      <td>3.33</td>\n",
       "      <td>13.65</td>\n",
       "      <td>2.45</td>\n",
       "      <td>2.84</td>\n",
       "      <td>5.04</td>\n",
       "      <td>6.56</td>\n",
       "      <td>10.16</td>\n",
       "      <td>0.01</td>\n",
       "      <td>0.02</td>\n",
       "      <td>9.84</td>\n",
       "      <td>1.78</td>\n",
       "    </tr>\n",
       "    <tr>\n",
       "      <th>22</th>\n",
       "      <td>Brunei Darussalam</td>\n",
       "      <td>6.19</td>\n",
       "      <td>4.17</td>\n",
       "      <td>0.76</td>\n",
       "      <td>1.70</td>\n",
       "      <td>21.40</td>\n",
       "      <td>4.98</td>\n",
       "      <td>10.63</td>\n",
       "      <td>2.73</td>\n",
       "      <td>13.57</td>\n",
       "      <td>10.33</td>\n",
       "      <td>0.00</td>\n",
       "      <td>0.13</td>\n",
       "      <td>0.73</td>\n",
       "      <td>0.59</td>\n",
       "    </tr>\n",
       "    <tr>\n",
       "      <th>23</th>\n",
       "      <td>Bulgaria</td>\n",
       "      <td>14.28</td>\n",
       "      <td>1.55</td>\n",
       "      <td>0.69</td>\n",
       "      <td>7.46</td>\n",
       "      <td>8.49</td>\n",
       "      <td>2.55</td>\n",
       "      <td>1.91</td>\n",
       "      <td>4.57</td>\n",
       "      <td>0.55</td>\n",
       "      <td>27.50</td>\n",
       "      <td>0.10</td>\n",
       "      <td>0.00</td>\n",
       "      <td>1.36</td>\n",
       "      <td>1.09</td>\n",
       "    </tr>\n",
       "    <tr>\n",
       "      <th>24</th>\n",
       "      <td>Burkina Faso</td>\n",
       "      <td>2.51</td>\n",
       "      <td>2.69</td>\n",
       "      <td>1.21</td>\n",
       "      <td>0.62</td>\n",
       "      <td>0.79</td>\n",
       "      <td>0.76</td>\n",
       "      <td>2.20</td>\n",
       "      <td>14.97</td>\n",
       "      <td>3.88</td>\n",
       "      <td>2.24</td>\n",
       "      <td>0.00</td>\n",
       "      <td>0.00</td>\n",
       "      <td>8.69</td>\n",
       "      <td>0.53</td>\n",
       "    </tr>\n",
       "    <tr>\n",
       "      <th>25</th>\n",
       "      <td>Cabo Verde</td>\n",
       "      <td>10.55</td>\n",
       "      <td>0.94</td>\n",
       "      <td>0.71</td>\n",
       "      <td>3.43</td>\n",
       "      <td>6.40</td>\n",
       "      <td>1.40</td>\n",
       "      <td>3.51</td>\n",
       "      <td>8.72</td>\n",
       "      <td>9.45</td>\n",
       "      <td>8.50</td>\n",
       "      <td>0.00</td>\n",
       "      <td>0.02</td>\n",
       "      <td>8.10</td>\n",
       "      <td>1.90</td>\n",
       "    </tr>\n",
       "    <tr>\n",
       "      <th>26</th>\n",
       "      <td>Cambodia</td>\n",
       "      <td>0.26</td>\n",
       "      <td>2.01</td>\n",
       "      <td>0.00</td>\n",
       "      <td>2.15</td>\n",
       "      <td>0.58</td>\n",
       "      <td>0.41</td>\n",
       "      <td>12.93</td>\n",
       "      <td>2.70</td>\n",
       "      <td>30.91</td>\n",
       "      <td>0.51</td>\n",
       "      <td>0.00</td>\n",
       "      <td>0.10</td>\n",
       "      <td>2.84</td>\n",
       "      <td>0.67</td>\n",
       "    </tr>\n",
       "    <tr>\n",
       "      <th>27</th>\n",
       "      <td>Cameroon</td>\n",
       "      <td>1.41</td>\n",
       "      <td>1.67</td>\n",
       "      <td>0.57</td>\n",
       "      <td>0.51</td>\n",
       "      <td>1.11</td>\n",
       "      <td>0.11</td>\n",
       "      <td>4.58</td>\n",
       "      <td>8.54</td>\n",
       "      <td>4.05</td>\n",
       "      <td>4.71</td>\n",
       "      <td>0.00</td>\n",
       "      <td>0.07</td>\n",
       "      <td>12.94</td>\n",
       "      <td>4.62</td>\n",
       "    </tr>\n",
       "    <tr>\n",
       "      <th>28</th>\n",
       "      <td>Canada</td>\n",
       "      <td>13.22</td>\n",
       "      <td>11.17</td>\n",
       "      <td>0.35</td>\n",
       "      <td>6.45</td>\n",
       "      <td>13.14</td>\n",
       "      <td>3.74</td>\n",
       "      <td>5.55</td>\n",
       "      <td>2.49</td>\n",
       "      <td>2.07</td>\n",
       "      <td>20.12</td>\n",
       "      <td>0.37</td>\n",
       "      <td>0.00</td>\n",
       "      <td>7.56</td>\n",
       "      <td>3.27</td>\n",
       "    </tr>\n",
       "    <tr>\n",
       "      <th>29</th>\n",
       "      <td>Central African Republic</td>\n",
       "      <td>1.40</td>\n",
       "      <td>6.89</td>\n",
       "      <td>1.99</td>\n",
       "      <td>1.20</td>\n",
       "      <td>0.49</td>\n",
       "      <td>0.15</td>\n",
       "      <td>2.49</td>\n",
       "      <td>7.12</td>\n",
       "      <td>1.38</td>\n",
       "      <td>1.77</td>\n",
       "      <td>0.00</td>\n",
       "      <td>0.00</td>\n",
       "      <td>4.97</td>\n",
       "      <td>7.05</td>\n",
       "    </tr>\n",
       "    <tr>\n",
       "      <th>...</th>\n",
       "      <td>...</td>\n",
       "      <td>...</td>\n",
       "      <td>...</td>\n",
       "      <td>...</td>\n",
       "      <td>...</td>\n",
       "      <td>...</td>\n",
       "      <td>...</td>\n",
       "      <td>...</td>\n",
       "      <td>...</td>\n",
       "      <td>...</td>\n",
       "      <td>...</td>\n",
       "      <td>...</td>\n",
       "      <td>...</td>\n",
       "      <td>...</td>\n",
       "      <td>...</td>\n",
       "    </tr>\n",
       "    <tr>\n",
       "      <th>144</th>\n",
       "      <td>Spain</td>\n",
       "      <td>14.52</td>\n",
       "      <td>4.94</td>\n",
       "      <td>0.84</td>\n",
       "      <td>12.94</td>\n",
       "      <td>12.04</td>\n",
       "      <td>4.18</td>\n",
       "      <td>12.46</td>\n",
       "      <td>0.33</td>\n",
       "      <td>1.68</td>\n",
       "      <td>22.09</td>\n",
       "      <td>0.13</td>\n",
       "      <td>0.02</td>\n",
       "      <td>3.07</td>\n",
       "      <td>2.49</td>\n",
       "    </tr>\n",
       "    <tr>\n",
       "      <th>145</th>\n",
       "      <td>Sri Lanka</td>\n",
       "      <td>3.57</td>\n",
       "      <td>0.55</td>\n",
       "      <td>0.04</td>\n",
       "      <td>0.01</td>\n",
       "      <td>1.67</td>\n",
       "      <td>1.03</td>\n",
       "      <td>9.07</td>\n",
       "      <td>0.96</td>\n",
       "      <td>20.10</td>\n",
       "      <td>8.28</td>\n",
       "      <td>0.00</td>\n",
       "      <td>0.00</td>\n",
       "      <td>5.30</td>\n",
       "      <td>0.58</td>\n",
       "    </tr>\n",
       "    <tr>\n",
       "      <th>146</th>\n",
       "      <td>Sudan</td>\n",
       "      <td>20.35</td>\n",
       "      <td>12.72</td>\n",
       "      <td>12.33</td>\n",
       "      <td>0.00</td>\n",
       "      <td>10.07</td>\n",
       "      <td>9.97</td>\n",
       "      <td>0.36</td>\n",
       "      <td>0.10</td>\n",
       "      <td>0.30</td>\n",
       "      <td>7.38</td>\n",
       "      <td>0.00</td>\n",
       "      <td>0.00</td>\n",
       "      <td>6.40</td>\n",
       "      <td>23.41</td>\n",
       "    </tr>\n",
       "    <tr>\n",
       "      <th>147</th>\n",
       "      <td>Suriname</td>\n",
       "      <td>5.01</td>\n",
       "      <td>3.83</td>\n",
       "      <td>0.06</td>\n",
       "      <td>2.32</td>\n",
       "      <td>10.70</td>\n",
       "      <td>1.03</td>\n",
       "      <td>4.49</td>\n",
       "      <td>0.44</td>\n",
       "      <td>12.61</td>\n",
       "      <td>10.92</td>\n",
       "      <td>0.00</td>\n",
       "      <td>0.04</td>\n",
       "      <td>1.33</td>\n",
       "      <td>1.06</td>\n",
       "    </tr>\n",
       "    <tr>\n",
       "      <th>148</th>\n",
       "      <td>Eswatini</td>\n",
       "      <td>4.70</td>\n",
       "      <td>5.97</td>\n",
       "      <td>0.73</td>\n",
       "      <td>0.49</td>\n",
       "      <td>1.92</td>\n",
       "      <td>0.32</td>\n",
       "      <td>0.42</td>\n",
       "      <td>17.09</td>\n",
       "      <td>3.79</td>\n",
       "      <td>9.93</td>\n",
       "      <td>0.03</td>\n",
       "      <td>0.00</td>\n",
       "      <td>2.17</td>\n",
       "      <td>2.46</td>\n",
       "    </tr>\n",
       "    <tr>\n",
       "      <th>149</th>\n",
       "      <td>Sweden</td>\n",
       "      <td>26.95</td>\n",
       "      <td>9.34</td>\n",
       "      <td>0.46</td>\n",
       "      <td>11.96</td>\n",
       "      <td>6.87</td>\n",
       "      <td>4.12</td>\n",
       "      <td>8.21</td>\n",
       "      <td>0.22</td>\n",
       "      <td>1.14</td>\n",
       "      <td>18.27</td>\n",
       "      <td>2.22</td>\n",
       "      <td>0.30</td>\n",
       "      <td>1.12</td>\n",
       "      <td>2.36</td>\n",
       "    </tr>\n",
       "    <tr>\n",
       "      <th>150</th>\n",
       "      <td>Switzerland</td>\n",
       "      <td>24.47</td>\n",
       "      <td>7.36</td>\n",
       "      <td>0.51</td>\n",
       "      <td>8.47</td>\n",
       "      <td>6.64</td>\n",
       "      <td>3.22</td>\n",
       "      <td>4.41</td>\n",
       "      <td>0.12</td>\n",
       "      <td>0.58</td>\n",
       "      <td>20.23</td>\n",
       "      <td>0.23</td>\n",
       "      <td>0.21</td>\n",
       "      <td>1.13</td>\n",
       "      <td>1.85</td>\n",
       "    </tr>\n",
       "    <tr>\n",
       "      <th>151</th>\n",
       "      <td>Tajikistan</td>\n",
       "      <td>5.18</td>\n",
       "      <td>1.64</td>\n",
       "      <td>1.99</td>\n",
       "      <td>0.26</td>\n",
       "      <td>1.04</td>\n",
       "      <td>0.51</td>\n",
       "      <td>0.14</td>\n",
       "      <td>1.45</td>\n",
       "      <td>1.31</td>\n",
       "      <td>28.52</td>\n",
       "      <td>0.00</td>\n",
       "      <td>1.01</td>\n",
       "      <td>1.45</td>\n",
       "      <td>1.51</td>\n",
       "    </tr>\n",
       "    <tr>\n",
       "      <th>152</th>\n",
       "      <td>Thailand</td>\n",
       "      <td>2.46</td>\n",
       "      <td>1.04</td>\n",
       "      <td>0.02</td>\n",
       "      <td>3.91</td>\n",
       "      <td>4.19</td>\n",
       "      <td>3.85</td>\n",
       "      <td>8.38</td>\n",
       "      <td>2.46</td>\n",
       "      <td>19.82</td>\n",
       "      <td>2.31</td>\n",
       "      <td>0.00</td>\n",
       "      <td>0.00</td>\n",
       "      <td>1.65</td>\n",
       "      <td>0.54</td>\n",
       "    </tr>\n",
       "    <tr>\n",
       "      <th>153</th>\n",
       "      <td>North Macedonia</td>\n",
       "      <td>13.80</td>\n",
       "      <td>3.13</td>\n",
       "      <td>0.49</td>\n",
       "      <td>2.57</td>\n",
       "      <td>6.27</td>\n",
       "      <td>1.96</td>\n",
       "      <td>1.43</td>\n",
       "      <td>4.66</td>\n",
       "      <td>0.50</td>\n",
       "      <td>22.43</td>\n",
       "      <td>0.08</td>\n",
       "      <td>0.00</td>\n",
       "      <td>3.01</td>\n",
       "      <td>2.41</td>\n",
       "    </tr>\n",
       "    <tr>\n",
       "      <th>154</th>\n",
       "      <td>Timor-Leste</td>\n",
       "      <td>0.86</td>\n",
       "      <td>0.60</td>\n",
       "      <td>0.21</td>\n",
       "      <td>3.25</td>\n",
       "      <td>1.72</td>\n",
       "      <td>0.64</td>\n",
       "      <td>1.72</td>\n",
       "      <td>14.53</td>\n",
       "      <td>10.72</td>\n",
       "      <td>2.56</td>\n",
       "      <td>0.00</td>\n",
       "      <td>0.00</td>\n",
       "      <td>5.17</td>\n",
       "      <td>1.55</td>\n",
       "    </tr>\n",
       "    <tr>\n",
       "      <th>155</th>\n",
       "      <td>Togo</td>\n",
       "      <td>0.61</td>\n",
       "      <td>0.64</td>\n",
       "      <td>0.58</td>\n",
       "      <td>0.48</td>\n",
       "      <td>2.19</td>\n",
       "      <td>0.24</td>\n",
       "      <td>3.48</td>\n",
       "      <td>15.02</td>\n",
       "      <td>5.16</td>\n",
       "      <td>2.84</td>\n",
       "      <td>0.00</td>\n",
       "      <td>0.00</td>\n",
       "      <td>7.81</td>\n",
       "      <td>6.52</td>\n",
       "    </tr>\n",
       "    <tr>\n",
       "      <th>156</th>\n",
       "      <td>Trinidad and Tobago</td>\n",
       "      <td>9.57</td>\n",
       "      <td>2.40</td>\n",
       "      <td>1.18</td>\n",
       "      <td>2.32</td>\n",
       "      <td>16.79</td>\n",
       "      <td>0.95</td>\n",
       "      <td>6.99</td>\n",
       "      <td>1.77</td>\n",
       "      <td>3.98</td>\n",
       "      <td>18.69</td>\n",
       "      <td>0.03</td>\n",
       "      <td>0.02</td>\n",
       "      <td>5.70</td>\n",
       "      <td>1.96</td>\n",
       "    </tr>\n",
       "    <tr>\n",
       "      <th>157</th>\n",
       "      <td>Tunisia</td>\n",
       "      <td>9.86</td>\n",
       "      <td>2.21</td>\n",
       "      <td>2.01</td>\n",
       "      <td>0.00</td>\n",
       "      <td>6.11</td>\n",
       "      <td>2.18</td>\n",
       "      <td>3.87</td>\n",
       "      <td>0.03</td>\n",
       "      <td>0.23</td>\n",
       "      <td>48.73</td>\n",
       "      <td>0.00</td>\n",
       "      <td>1.11</td>\n",
       "      <td>5.26</td>\n",
       "      <td>1.23</td>\n",
       "    </tr>\n",
       "    <tr>\n",
       "      <th>158</th>\n",
       "      <td>Turkey</td>\n",
       "      <td>17.04</td>\n",
       "      <td>5.07</td>\n",
       "      <td>1.48</td>\n",
       "      <td>0.00</td>\n",
       "      <td>6.42</td>\n",
       "      <td>2.37</td>\n",
       "      <td>1.75</td>\n",
       "      <td>3.67</td>\n",
       "      <td>1.55</td>\n",
       "      <td>42.62</td>\n",
       "      <td>0.76</td>\n",
       "      <td>0.00</td>\n",
       "      <td>7.18</td>\n",
       "      <td>2.25</td>\n",
       "    </tr>\n",
       "    <tr>\n",
       "      <th>159</th>\n",
       "      <td>Turkmenistan</td>\n",
       "      <td>12.71</td>\n",
       "      <td>10.71</td>\n",
       "      <td>9.58</td>\n",
       "      <td>0.23</td>\n",
       "      <td>1.30</td>\n",
       "      <td>2.37</td>\n",
       "      <td>1.10</td>\n",
       "      <td>0.00</td>\n",
       "      <td>2.01</td>\n",
       "      <td>43.87</td>\n",
       "      <td>0.00</td>\n",
       "      <td>0.49</td>\n",
       "      <td>0.00</td>\n",
       "      <td>1.36</td>\n",
       "    </tr>\n",
       "    <tr>\n",
       "      <th>160</th>\n",
       "      <td>Uganda</td>\n",
       "      <td>3.19</td>\n",
       "      <td>2.08</td>\n",
       "      <td>0.51</td>\n",
       "      <td>0.96</td>\n",
       "      <td>0.58</td>\n",
       "      <td>0.28</td>\n",
       "      <td>3.84</td>\n",
       "      <td>9.05</td>\n",
       "      <td>0.96</td>\n",
       "      <td>2.83</td>\n",
       "      <td>0.00</td>\n",
       "      <td>0.01</td>\n",
       "      <td>14.47</td>\n",
       "      <td>3.74</td>\n",
       "    </tr>\n",
       "    <tr>\n",
       "      <th>161</th>\n",
       "      <td>Ukraine</td>\n",
       "      <td>13.80</td>\n",
       "      <td>3.47</td>\n",
       "      <td>0.16</td>\n",
       "      <td>5.78</td>\n",
       "      <td>7.96</td>\n",
       "      <td>5.26</td>\n",
       "      <td>4.18</td>\n",
       "      <td>1.89</td>\n",
       "      <td>0.54</td>\n",
       "      <td>24.62</td>\n",
       "      <td>1.98</td>\n",
       "      <td>0.52</td>\n",
       "      <td>0.91</td>\n",
       "      <td>6.08</td>\n",
       "    </tr>\n",
       "    <tr>\n",
       "      <th>162</th>\n",
       "      <td>United Arab Emirates</td>\n",
       "      <td>10.85</td>\n",
       "      <td>2.19</td>\n",
       "      <td>3.12</td>\n",
       "      <td>0.00</td>\n",
       "      <td>13.85</td>\n",
       "      <td>1.90</td>\n",
       "      <td>5.42</td>\n",
       "      <td>0.15</td>\n",
       "      <td>10.43</td>\n",
       "      <td>23.89</td>\n",
       "      <td>0.00</td>\n",
       "      <td>0.00</td>\n",
       "      <td>15.44</td>\n",
       "      <td>0.41</td>\n",
       "    </tr>\n",
       "    <tr>\n",
       "      <th>163</th>\n",
       "      <td>United Kingdom</td>\n",
       "      <td>19.19</td>\n",
       "      <td>6.61</td>\n",
       "      <td>1.51</td>\n",
       "      <td>7.27</td>\n",
       "      <td>12.71</td>\n",
       "      <td>3.36</td>\n",
       "      <td>5.49</td>\n",
       "      <td>0.58</td>\n",
       "      <td>1.36</td>\n",
       "      <td>24.33</td>\n",
       "      <td>0.07</td>\n",
       "      <td>0.14</td>\n",
       "      <td>1.84</td>\n",
       "      <td>4.15</td>\n",
       "    </tr>\n",
       "    <tr>\n",
       "      <th>164</th>\n",
       "      <td>United Republic of Tanzania</td>\n",
       "      <td>3.43</td>\n",
       "      <td>2.37</td>\n",
       "      <td>0.50</td>\n",
       "      <td>0.10</td>\n",
       "      <td>0.64</td>\n",
       "      <td>0.17</td>\n",
       "      <td>2.08</td>\n",
       "      <td>12.19</td>\n",
       "      <td>3.86</td>\n",
       "      <td>3.59</td>\n",
       "      <td>0.00</td>\n",
       "      <td>0.00</td>\n",
       "      <td>11.58</td>\n",
       "      <td>3.96</td>\n",
       "    </tr>\n",
       "    <tr>\n",
       "      <th>165</th>\n",
       "      <td>United States of America</td>\n",
       "      <td>21.86</td>\n",
       "      <td>12.43</td>\n",
       "      <td>0.15</td>\n",
       "      <td>7.29</td>\n",
       "      <td>18.06</td>\n",
       "      <td>4.18</td>\n",
       "      <td>5.06</td>\n",
       "      <td>1.68</td>\n",
       "      <td>1.32</td>\n",
       "      <td>19.22</td>\n",
       "      <td>0.07</td>\n",
       "      <td>0.14</td>\n",
       "      <td>2.34</td>\n",
       "      <td>2.47</td>\n",
       "    </tr>\n",
       "    <tr>\n",
       "      <th>166</th>\n",
       "      <td>Uruguay</td>\n",
       "      <td>20.76</td>\n",
       "      <td>9.99</td>\n",
       "      <td>2.99</td>\n",
       "      <td>3.95</td>\n",
       "      <td>7.07</td>\n",
       "      <td>3.49</td>\n",
       "      <td>2.02</td>\n",
       "      <td>3.78</td>\n",
       "      <td>2.29</td>\n",
       "      <td>20.46</td>\n",
       "      <td>0.00</td>\n",
       "      <td>0.09</td>\n",
       "      <td>1.81</td>\n",
       "      <td>1.98</td>\n",
       "    </tr>\n",
       "    <tr>\n",
       "      <th>167</th>\n",
       "      <td>Uzbekistan</td>\n",
       "      <td>12.01</td>\n",
       "      <td>11.02</td>\n",
       "      <td>1.52</td>\n",
       "      <td>0.29</td>\n",
       "      <td>0.56</td>\n",
       "      <td>1.47</td>\n",
       "      <td>0.21</td>\n",
       "      <td>0.84</td>\n",
       "      <td>0.69</td>\n",
       "      <td>39.65</td>\n",
       "      <td>0.00</td>\n",
       "      <td>0.46</td>\n",
       "      <td>0.02</td>\n",
       "      <td>2.30</td>\n",
       "    </tr>\n",
       "    <tr>\n",
       "      <th>168</th>\n",
       "      <td>Vanuatu</td>\n",
       "      <td>2.48</td>\n",
       "      <td>3.67</td>\n",
       "      <td>0.12</td>\n",
       "      <td>4.60</td>\n",
       "      <td>4.09</td>\n",
       "      <td>1.00</td>\n",
       "      <td>9.78</td>\n",
       "      <td>0.01</td>\n",
       "      <td>7.64</td>\n",
       "      <td>9.01</td>\n",
       "      <td>0.00</td>\n",
       "      <td>0.31</td>\n",
       "      <td>0.00</td>\n",
       "      <td>9.68</td>\n",
       "    </tr>\n",
       "    <tr>\n",
       "      <th>169</th>\n",
       "      <td>Venezuela (Bolivarian Republic of)</td>\n",
       "      <td>9.69</td>\n",
       "      <td>7.22</td>\n",
       "      <td>0.10</td>\n",
       "      <td>1.75</td>\n",
       "      <td>14.60</td>\n",
       "      <td>1.67</td>\n",
       "      <td>3.02</td>\n",
       "      <td>8.32</td>\n",
       "      <td>4.63</td>\n",
       "      <td>12.50</td>\n",
       "      <td>0.00</td>\n",
       "      <td>0.00</td>\n",
       "      <td>3.91</td>\n",
       "      <td>1.79</td>\n",
       "    </tr>\n",
       "    <tr>\n",
       "      <th>170</th>\n",
       "      <td>Viet Nam</td>\n",
       "      <td>1.65</td>\n",
       "      <td>2.49</td>\n",
       "      <td>0.05</td>\n",
       "      <td>10.51</td>\n",
       "      <td>4.41</td>\n",
       "      <td>1.17</td>\n",
       "      <td>8.55</td>\n",
       "      <td>2.09</td>\n",
       "      <td>28.20</td>\n",
       "      <td>2.37</td>\n",
       "      <td>0.00</td>\n",
       "      <td>0.00</td>\n",
       "      <td>1.78</td>\n",
       "      <td>0.47</td>\n",
       "    </tr>\n",
       "    <tr>\n",
       "      <th>171</th>\n",
       "      <td>Yemen</td>\n",
       "      <td>3.83</td>\n",
       "      <td>1.84</td>\n",
       "      <td>1.70</td>\n",
       "      <td>0.00</td>\n",
       "      <td>3.78</td>\n",
       "      <td>0.63</td>\n",
       "      <td>0.68</td>\n",
       "      <td>3.21</td>\n",
       "      <td>3.29</td>\n",
       "      <td>27.09</td>\n",
       "      <td>0.00</td>\n",
       "      <td>0.00</td>\n",
       "      <td>3.54</td>\n",
       "      <td>0.37</td>\n",
       "    </tr>\n",
       "    <tr>\n",
       "      <th>172</th>\n",
       "      <td>Zambia</td>\n",
       "      <td>0.79</td>\n",
       "      <td>1.95</td>\n",
       "      <td>0.26</td>\n",
       "      <td>0.54</td>\n",
       "      <td>1.10</td>\n",
       "      <td>0.97</td>\n",
       "      <td>1.85</td>\n",
       "      <td>25.88</td>\n",
       "      <td>0.55</td>\n",
       "      <td>2.86</td>\n",
       "      <td>0.00</td>\n",
       "      <td>0.00</td>\n",
       "      <td>1.12</td>\n",
       "      <td>2.25</td>\n",
       "    </tr>\n",
       "    <tr>\n",
       "      <th>173</th>\n",
       "      <td>Zimbabwe</td>\n",
       "      <td>2.69</td>\n",
       "      <td>2.99</td>\n",
       "      <td>0.38</td>\n",
       "      <td>0.87</td>\n",
       "      <td>2.08</td>\n",
       "      <td>0.51</td>\n",
       "      <td>0.87</td>\n",
       "      <td>21.19</td>\n",
       "      <td>1.80</td>\n",
       "      <td>6.64</td>\n",
       "      <td>0.00</td>\n",
       "      <td>0.04</td>\n",
       "      <td>2.39</td>\n",
       "      <td>0.55</td>\n",
       "    </tr>\n",
       "  </tbody>\n",
       "</table>\n",
       "<p>174 rows × 15 columns</p>\n",
       "</div>"
      ],
      "text/plain": [
       "                                Country   Milk  Bovine meat  \\\n",
       "0                           Afghanistan   6.02         2.01   \n",
       "1                               Albania  29.67         9.18   \n",
       "2                               Algeria  13.78         2.18   \n",
       "3                                Angola   1.02         3.27   \n",
       "4                   Antigua and Barbuda  12.22         5.39   \n",
       "5                             Argentina  14.70        27.16   \n",
       "6                               Armenia  19.04         7.72   \n",
       "7                             Australia  19.16        14.05   \n",
       "8                               Austria  21.55         6.90   \n",
       "9                            Azerbaijan  14.07         5.09   \n",
       "10                              Bahamas   9.09         9.52   \n",
       "11                           Bangladesh   2.01         0.54   \n",
       "12                             Barbados  10.08         6.63   \n",
       "13                              Belarus  14.12         7.69   \n",
       "14                              Belgium  23.38         5.60   \n",
       "15                               Belize   7.32         2.15   \n",
       "16                                Benin   0.78         1.25   \n",
       "17                              Bermuda   8.95        17.49   \n",
       "18     Bolivia (Plurinational State of)   4.17         7.16   \n",
       "19               Bosnia and Herzegovina  15.75         3.72   \n",
       "20                             Botswana   9.84         3.21   \n",
       "21                               Brazil  13.26        14.66   \n",
       "22                    Brunei Darussalam   6.19         4.17   \n",
       "23                             Bulgaria  14.28         1.55   \n",
       "24                         Burkina Faso   2.51         2.69   \n",
       "25                           Cabo Verde  10.55         0.94   \n",
       "26                             Cambodia   0.26         2.01   \n",
       "27                             Cameroon   1.41         1.67   \n",
       "28                               Canada  13.22        11.17   \n",
       "29             Central African Republic   1.40         6.89   \n",
       "..                                  ...    ...          ...   \n",
       "144                               Spain  14.52         4.94   \n",
       "145                           Sri Lanka   3.57         0.55   \n",
       "146                               Sudan  20.35        12.72   \n",
       "147                            Suriname   5.01         3.83   \n",
       "148                            Eswatini   4.70         5.97   \n",
       "149                              Sweden  26.95         9.34   \n",
       "150                         Switzerland  24.47         7.36   \n",
       "151                          Tajikistan   5.18         1.64   \n",
       "152                            Thailand   2.46         1.04   \n",
       "153                     North Macedonia  13.80         3.13   \n",
       "154                         Timor-Leste   0.86         0.60   \n",
       "155                                Togo   0.61         0.64   \n",
       "156                 Trinidad and Tobago   9.57         2.40   \n",
       "157                             Tunisia   9.86         2.21   \n",
       "158                              Turkey  17.04         5.07   \n",
       "159                        Turkmenistan  12.71        10.71   \n",
       "160                              Uganda   3.19         2.08   \n",
       "161                             Ukraine  13.80         3.47   \n",
       "162                United Arab Emirates  10.85         2.19   \n",
       "163                      United Kingdom  19.19         6.61   \n",
       "164         United Republic of Tanzania   3.43         2.37   \n",
       "165            United States of America  21.86        12.43   \n",
       "166                             Uruguay  20.76         9.99   \n",
       "167                          Uzbekistan  12.01        11.02   \n",
       "168                             Vanuatu   2.48         3.67   \n",
       "169  Venezuela (Bolivarian Republic of)   9.69         7.22   \n",
       "170                            Viet Nam   1.65         2.49   \n",
       "171                               Yemen   3.83         1.84   \n",
       "172                              Zambia   0.79         1.95   \n",
       "173                            Zimbabwe   2.69         2.99   \n",
       "\n",
       "     Sheep and goat meat  Pigmeat  Poultry  Eggs   Fish  Maize   Rice  Wheat  \\\n",
       "0                   2.02     0.00     0.79  0.32   0.02   0.57   2.89  37.12   \n",
       "1                   5.35     2.76     4.91  3.24   1.50   0.36   1.22  33.71   \n",
       "2                   2.70     0.00     2.30  2.09   1.23   3.09   0.50  43.03   \n",
       "3                   0.44     2.34     5.55  0.51   4.14   8.80   1.55   8.46   \n",
       "4                   0.60     3.26    18.59  1.30  13.11   0.39   2.15  13.39   \n",
       "5                   0.58     2.85    12.44  3.25   1.95   1.94   1.70  23.29   \n",
       "6                   1.08     2.11     4.71  3.44   1.09   0.01   0.67  30.16   \n",
       "7                   3.21     5.61    15.88  2.20   6.20   0.89   1.90  18.62   \n",
       "8                   0.40    14.66     7.85  4.39   3.99   2.35   0.70  20.91   \n",
       "9                   2.86     0.07     3.51  2.31   0.64   1.83   0.39  49.37   \n",
       "10                  1.88     8.82    17.14  1.92   7.47   0.70   4.61   7.32   \n",
       "11                  0.56     0.00     0.44  0.55   5.43   0.16  32.24   4.31   \n",
       "12                  1.49     1.63    14.64  2.22  11.67   2.34   3.46  14.62   \n",
       "13                  0.04    11.76     9.61  4.85   4.38   0.10   0.54  13.13   \n",
       "14                  0.50     9.23     4.52  3.88   6.54   0.32   1.62  23.88   \n",
       "15                  0.04     5.10     8.75  1.19   3.62   5.92   5.40  11.91   \n",
       "16                  0.33     0.27     6.71  0.23   3.51   9.12  10.70   2.49   \n",
       "17                  1.80     5.96    13.26  3.12  12.40   0.18   1.02  13.22   \n",
       "18                  0.71     2.24    11.15  1.41   0.65   6.35   5.59  10.92   \n",
       "19                  0.22     2.47     4.94  1.27   1.31  15.12   0.35  20.97   \n",
       "20                  1.47     0.21     1.67  0.59   1.08   8.86   1.73   9.17   \n",
       "21                  0.23     3.33    13.65  2.45   2.84   5.04   6.56  10.16   \n",
       "22                  0.76     1.70    21.40  4.98  10.63   2.73  13.57  10.33   \n",
       "23                  0.69     7.46     8.49  2.55   1.91   4.57   0.55  27.50   \n",
       "24                  1.21     0.62     0.79  0.76   2.20  14.97   3.88   2.24   \n",
       "25                  0.71     3.43     6.40  1.40   3.51   8.72   9.45   8.50   \n",
       "26                  0.00     2.15     0.58  0.41  12.93   2.70  30.91   0.51   \n",
       "27                  0.57     0.51     1.11  0.11   4.58   8.54   4.05   4.71   \n",
       "28                  0.35     6.45    13.14  3.74   5.55   2.49   2.07  20.12   \n",
       "29                  1.99     1.20     0.49  0.15   2.49   7.12   1.38   1.77   \n",
       "..                   ...      ...      ...   ...    ...    ...    ...    ...   \n",
       "144                 0.84    12.94    12.04  4.18  12.46   0.33   1.68  22.09   \n",
       "145                 0.04     0.01     1.67  1.03   9.07   0.96  20.10   8.28   \n",
       "146                12.33     0.00    10.07  9.97   0.36   0.10   0.30   7.38   \n",
       "147                 0.06     2.32    10.70  1.03   4.49   0.44  12.61  10.92   \n",
       "148                 0.73     0.49     1.92  0.32   0.42  17.09   3.79   9.93   \n",
       "149                 0.46    11.96     6.87  4.12   8.21   0.22   1.14  18.27   \n",
       "150                 0.51     8.47     6.64  3.22   4.41   0.12   0.58  20.23   \n",
       "151                 1.99     0.26     1.04  0.51   0.14   1.45   1.31  28.52   \n",
       "152                 0.02     3.91     4.19  3.85   8.38   2.46  19.82   2.31   \n",
       "153                 0.49     2.57     6.27  1.96   1.43   4.66   0.50  22.43   \n",
       "154                 0.21     3.25     1.72  0.64   1.72  14.53  10.72   2.56   \n",
       "155                 0.58     0.48     2.19  0.24   3.48  15.02   5.16   2.84   \n",
       "156                 1.18     2.32    16.79  0.95   6.99   1.77   3.98  18.69   \n",
       "157                 2.01     0.00     6.11  2.18   3.87   0.03   0.23  48.73   \n",
       "158                 1.48     0.00     6.42  2.37   1.75   3.67   1.55  42.62   \n",
       "159                 9.58     0.23     1.30  2.37   1.10   0.00   2.01  43.87   \n",
       "160                 0.51     0.96     0.58  0.28   3.84   9.05   0.96   2.83   \n",
       "161                 0.16     5.78     7.96  5.26   4.18   1.89   0.54  24.62   \n",
       "162                 3.12     0.00    13.85  1.90   5.42   0.15  10.43  23.89   \n",
       "163                 1.51     7.27    12.71  3.36   5.49   0.58   1.36  24.33   \n",
       "164                 0.50     0.10     0.64  0.17   2.08  12.19   3.86   3.59   \n",
       "165                 0.15     7.29    18.06  4.18   5.06   1.68   1.32  19.22   \n",
       "166                 2.99     3.95     7.07  3.49   2.02   3.78   2.29  20.46   \n",
       "167                 1.52     0.29     0.56  1.47   0.21   0.84   0.69  39.65   \n",
       "168                 0.12     4.60     4.09  1.00   9.78   0.01   7.64   9.01   \n",
       "169                 0.10     1.75    14.60  1.67   3.02   8.32   4.63  12.50   \n",
       "170                 0.05    10.51     4.41  1.17   8.55   2.09  28.20   2.37   \n",
       "171                 1.70     0.00     3.78  0.63   0.68   3.21   3.29  27.09   \n",
       "172                 0.26     0.54     1.10  0.97   1.85  25.88   0.55   2.86   \n",
       "173                 0.38     0.87     2.08  0.51   0.87  21.19   1.80   6.64   \n",
       "\n",
       "      Rye  Barley  Pulses  Starchy roots  \n",
       "0    0.00    0.72    1.56           0.22  \n",
       "1    0.13    0.03    3.06           1.86  \n",
       "2    0.00    2.61    4.55           2.67  \n",
       "3    0.00    0.00    5.23           7.13  \n",
       "4    0.00    0.00    1.66           0.86  \n",
       "5    0.00    0.00    0.31           2.57  \n",
       "6    0.02    0.25    0.00           1.93  \n",
       "7    0.31    0.06    0.62           2.25  \n",
       "8    2.28    0.01    0.45           2.25  \n",
       "9    0.04    0.61    0.59           3.18  \n",
       "10   0.12    0.00    0.74           0.62  \n",
       "11   0.00    0.00    2.88           2.19  \n",
       "12   0.00    0.74    4.16           2.34  \n",
       "13   6.34    0.04    0.02           8.15  \n",
       "14   0.15    0.00    1.50           3.90  \n",
       "15   0.00    0.00    8.82           0.64  \n",
       "16   0.00    0.06    5.19           9.64  \n",
       "17   0.00    0.00    0.56           0.80  \n",
       "18   0.00    0.65    2.48           4.57  \n",
       "19   0.23    0.12    3.92           3.11  \n",
       "20   0.22    0.00    3.10           2.38  \n",
       "21   0.01    0.02    9.84           1.78  \n",
       "22   0.00    0.13    0.73           0.59  \n",
       "23   0.10    0.00    1.36           1.09  \n",
       "24   0.00    0.00    8.69           0.53  \n",
       "25   0.00    0.02    8.10           1.90  \n",
       "26   0.00    0.10    2.84           0.67  \n",
       "27   0.00    0.07   12.94           4.62  \n",
       "28   0.37    0.00    7.56           3.27  \n",
       "29   0.00    0.00    4.97           7.05  \n",
       "..    ...     ...     ...            ...  \n",
       "144  0.13    0.02    3.07           2.49  \n",
       "145  0.00    0.00    5.30           0.58  \n",
       "146  0.00    0.00    6.40          23.41  \n",
       "147  0.00    0.04    1.33           1.06  \n",
       "148  0.03    0.00    2.17           2.46  \n",
       "149  2.22    0.30    1.12           2.36  \n",
       "150  0.23    0.21    1.13           1.85  \n",
       "151  0.00    1.01    1.45           1.51  \n",
       "152  0.00    0.00    1.65           0.54  \n",
       "153  0.08    0.00    3.01           2.41  \n",
       "154  0.00    0.00    5.17           1.55  \n",
       "155  0.00    0.00    7.81           6.52  \n",
       "156  0.03    0.02    5.70           1.96  \n",
       "157  0.00    1.11    5.26           1.23  \n",
       "158  0.76    0.00    7.18           2.25  \n",
       "159  0.00    0.49    0.00           1.36  \n",
       "160  0.00    0.01   14.47           3.74  \n",
       "161  1.98    0.52    0.91           6.08  \n",
       "162  0.00    0.00   15.44           0.41  \n",
       "163  0.07    0.14    1.84           4.15  \n",
       "164  0.00    0.00   11.58           3.96  \n",
       "165  0.07    0.14    2.34           2.47  \n",
       "166  0.00    0.09    1.81           1.98  \n",
       "167  0.00    0.46    0.02           2.30  \n",
       "168  0.00    0.31    0.00           9.68  \n",
       "169  0.00    0.00    3.91           1.79  \n",
       "170  0.00    0.00    1.78           0.47  \n",
       "171  0.00    0.00    3.54           0.37  \n",
       "172  0.00    0.00    1.12           2.25  \n",
       "173  0.00    0.04    2.39           0.55  \n",
       "\n",
       "[174 rows x 15 columns]"
      ]
     },
     "execution_count": 102,
     "metadata": {},
     "output_type": "execute_result"
    }
   ],
   "source": [
    "col_list = master_df.columns.tolist()\n",
    "protein_col_list = col_list[4:19]\n",
    "\n",
    "# Cereals is the total of others. No need to include it here \n",
    "protein_col_list.remove(\"Cereals\")\n",
    "protein_col_list_country = [\"Country\"]+protein_col_list\n",
    "\n",
    "protein_group_df = master_df[protein_col_list_country]\n",
    "\n",
    "# If Protein food group is empty. it is droped. \n",
    "df1 = protein_group_df[protein_group_df.isna().any(axis=1)]\n",
    "# print (\"Dropped Countries:{}\".format(df1[\"Country\"]))\n",
    "protein_group_df.dropna(inplace = True)\n",
    "\n",
    "protein_group_scaled = StandardScaler().fit_transform(protein_group_df[protein_col_list])\n",
    "protein_group_df"
   ]
  },
  {
   "cell_type": "markdown",
   "metadata": {},
   "source": [
    "PCA"
   ]
  },
  {
   "cell_type": "code",
   "execution_count": 103,
   "metadata": {},
   "outputs": [
    {
     "name": "stderr",
     "output_type": "stream",
     "text": [
      "C:\\Users\\XuP-intern\\AppData\\Local\\Continuum\\anaconda3\\lib\\site-packages\\ipykernel_launcher.py:4: SettingWithCopyWarning:\n",
      "\n",
      "\n",
      "A value is trying to be set on a copy of a slice from a DataFrame.\n",
      "Try using .loc[row_indexer,col_indexer] = value instead\n",
      "\n",
      "See the caveats in the documentation: http://pandas.pydata.org/pandas-docs/stable/indexing.html#indexing-view-versus-copy\n",
      "\n",
      "C:\\Users\\XuP-intern\\AppData\\Local\\Continuum\\anaconda3\\lib\\site-packages\\ipykernel_launcher.py:5: SettingWithCopyWarning:\n",
      "\n",
      "\n",
      "A value is trying to be set on a copy of a slice from a DataFrame.\n",
      "Try using .loc[row_indexer,col_indexer] = value instead\n",
      "\n",
      "See the caveats in the documentation: http://pandas.pydata.org/pandas-docs/stable/indexing.html#indexing-view-versus-copy\n",
      "\n"
     ]
    },
    {
     "data": {
      "text/html": [
       "<div>\n",
       "<style scoped>\n",
       "    .dataframe tbody tr th:only-of-type {\n",
       "        vertical-align: middle;\n",
       "    }\n",
       "\n",
       "    .dataframe tbody tr th {\n",
       "        vertical-align: top;\n",
       "    }\n",
       "\n",
       "    .dataframe thead th {\n",
       "        text-align: right;\n",
       "    }\n",
       "</style>\n",
       "<table border=\"1\" class=\"dataframe\">\n",
       "  <thead>\n",
       "    <tr style=\"text-align: right;\">\n",
       "      <th></th>\n",
       "      <th>Country</th>\n",
       "      <th>Milk</th>\n",
       "      <th>Bovine meat</th>\n",
       "      <th>Sheep and goat meat</th>\n",
       "      <th>Pigmeat</th>\n",
       "      <th>Poultry</th>\n",
       "      <th>Eggs</th>\n",
       "      <th>Fish</th>\n",
       "      <th>Maize</th>\n",
       "      <th>Rice</th>\n",
       "      <th>Wheat</th>\n",
       "      <th>Rye</th>\n",
       "      <th>Barley</th>\n",
       "      <th>Pulses</th>\n",
       "      <th>Starchy roots</th>\n",
       "      <th>principal component 1</th>\n",
       "      <th>principal component 2</th>\n",
       "    </tr>\n",
       "  </thead>\n",
       "  <tbody>\n",
       "    <tr>\n",
       "      <th>0</th>\n",
       "      <td>Afghanistan</td>\n",
       "      <td>6.02</td>\n",
       "      <td>2.01</td>\n",
       "      <td>2.02</td>\n",
       "      <td>0.00</td>\n",
       "      <td>0.79</td>\n",
       "      <td>0.32</td>\n",
       "      <td>0.02</td>\n",
       "      <td>0.57</td>\n",
       "      <td>2.89</td>\n",
       "      <td>37.12</td>\n",
       "      <td>0.00</td>\n",
       "      <td>0.72</td>\n",
       "      <td>1.56</td>\n",
       "      <td>0.22</td>\n",
       "      <td>-0.518736</td>\n",
       "      <td>-1.454621</td>\n",
       "    </tr>\n",
       "    <tr>\n",
       "      <th>1</th>\n",
       "      <td>Albania</td>\n",
       "      <td>29.67</td>\n",
       "      <td>9.18</td>\n",
       "      <td>5.35</td>\n",
       "      <td>2.76</td>\n",
       "      <td>4.91</td>\n",
       "      <td>3.24</td>\n",
       "      <td>1.50</td>\n",
       "      <td>0.36</td>\n",
       "      <td>1.22</td>\n",
       "      <td>33.71</td>\n",
       "      <td>0.13</td>\n",
       "      <td>0.03</td>\n",
       "      <td>3.06</td>\n",
       "      <td>1.86</td>\n",
       "      <td>2.440719</td>\n",
       "      <td>-2.200208</td>\n",
       "    </tr>\n",
       "    <tr>\n",
       "      <th>2</th>\n",
       "      <td>Algeria</td>\n",
       "      <td>13.78</td>\n",
       "      <td>2.18</td>\n",
       "      <td>2.70</td>\n",
       "      <td>0.00</td>\n",
       "      <td>2.30</td>\n",
       "      <td>2.09</td>\n",
       "      <td>1.23</td>\n",
       "      <td>3.09</td>\n",
       "      <td>0.50</td>\n",
       "      <td>43.03</td>\n",
       "      <td>0.00</td>\n",
       "      <td>2.61</td>\n",
       "      <td>4.55</td>\n",
       "      <td>2.67</td>\n",
       "      <td>0.596646</td>\n",
       "      <td>-2.699386</td>\n",
       "    </tr>\n",
       "    <tr>\n",
       "      <th>3</th>\n",
       "      <td>Angola</td>\n",
       "      <td>1.02</td>\n",
       "      <td>3.27</td>\n",
       "      <td>0.44</td>\n",
       "      <td>2.34</td>\n",
       "      <td>5.55</td>\n",
       "      <td>0.51</td>\n",
       "      <td>4.14</td>\n",
       "      <td>8.80</td>\n",
       "      <td>1.55</td>\n",
       "      <td>8.46</td>\n",
       "      <td>0.00</td>\n",
       "      <td>0.00</td>\n",
       "      <td>5.23</td>\n",
       "      <td>7.13</td>\n",
       "      <td>-1.686584</td>\n",
       "      <td>-0.548387</td>\n",
       "    </tr>\n",
       "    <tr>\n",
       "      <th>4</th>\n",
       "      <td>Antigua and Barbuda</td>\n",
       "      <td>12.22</td>\n",
       "      <td>5.39</td>\n",
       "      <td>0.60</td>\n",
       "      <td>3.26</td>\n",
       "      <td>18.59</td>\n",
       "      <td>1.30</td>\n",
       "      <td>13.11</td>\n",
       "      <td>0.39</td>\n",
       "      <td>2.15</td>\n",
       "      <td>13.39</td>\n",
       "      <td>0.00</td>\n",
       "      <td>0.00</td>\n",
       "      <td>1.66</td>\n",
       "      <td>0.86</td>\n",
       "      <td>0.845285</td>\n",
       "      <td>1.230920</td>\n",
       "    </tr>\n",
       "  </tbody>\n",
       "</table>\n",
       "</div>"
      ],
      "text/plain": [
       "               Country   Milk  Bovine meat  Sheep and goat meat  Pigmeat  \\\n",
       "0          Afghanistan   6.02         2.01                 2.02     0.00   \n",
       "1              Albania  29.67         9.18                 5.35     2.76   \n",
       "2              Algeria  13.78         2.18                 2.70     0.00   \n",
       "3               Angola   1.02         3.27                 0.44     2.34   \n",
       "4  Antigua and Barbuda  12.22         5.39                 0.60     3.26   \n",
       "\n",
       "   Poultry  Eggs   Fish  Maize  Rice  Wheat   Rye  Barley  Pulses  \\\n",
       "0     0.79  0.32   0.02   0.57  2.89  37.12  0.00    0.72    1.56   \n",
       "1     4.91  3.24   1.50   0.36  1.22  33.71  0.13    0.03    3.06   \n",
       "2     2.30  2.09   1.23   3.09  0.50  43.03  0.00    2.61    4.55   \n",
       "3     5.55  0.51   4.14   8.80  1.55   8.46  0.00    0.00    5.23   \n",
       "4    18.59  1.30  13.11   0.39  2.15  13.39  0.00    0.00    1.66   \n",
       "\n",
       "   Starchy roots  principal component 1  principal component 2  \n",
       "0           0.22              -0.518736              -1.454621  \n",
       "1           1.86               2.440719              -2.200208  \n",
       "2           2.67               0.596646              -2.699386  \n",
       "3           7.13              -1.686584              -0.548387  \n",
       "4           0.86               0.845285               1.230920  "
      ]
     },
     "execution_count": 103,
     "metadata": {},
     "output_type": "execute_result"
    }
   ],
   "source": [
    "principalComponents = pca.fit_transform(protein_group_scaled)\n",
    "\n",
    "pc_protein_1,pc_protein_2 = zip(*principalComponents)\n",
    "protein_group_df[\"principal component 1\"] = pc_protein_1\n",
    "protein_group_df[\"principal component 2\"] = pc_protein_2\n",
    "\n",
    "\n",
    "X = protein_group_df[[\"principal component 1\",\"principal component 2\"]].values\n",
    "protein_group_df.head()"
   ]
  },
  {
   "cell_type": "markdown",
   "metadata": {},
   "source": [
    "#### Continent Level"
   ]
  },
  {
   "cell_type": "markdown",
   "metadata": {},
   "source": [
    "###### Countries to Continent "
   ]
  },
  {
   "cell_type": "code",
   "execution_count": 104,
   "metadata": {},
   "outputs": [
    {
     "name": "stdout",
     "output_type": "stream",
     "text": [
      "Bolivia (Plurinational State of)\n",
      "China, Hong Kong SAR\n",
      "China, Macao SAR\n",
      "China, mainland\n",
      "China, Taiwan Province of\n",
      "Congo (note no data in Food suppley tables for DRC)\n",
      "CÃƒÂ´te d'Ivoire\n",
      "Iran (Islamic Republic of)\n",
      "Republic of Korea\n",
      "Eswatini\n",
      "North Macedonia\n",
      "Timor-Leste\n",
      "Venezuela (Bolivarian Republic of)\n"
     ]
    }
   ],
   "source": [
    "# Code adapated from https://stackoverflow.com/questions/55910004/get-continent-name-from-country-using-pycountry\n",
    "\n",
    "from pycountry_convert import country_alpha2_to_continent_code, country_name_to_country_alpha2,country_name_to_country_alpha3,country_alpha3_to_country_alpha2\n",
    "\n",
    "continents_dict = {\n",
    "    'NA': 'North America',\n",
    "    'SA': 'South America', \n",
    "    'AS': 'Asia',\n",
    "    'OC': 'Australia',\n",
    "    'AF': 'Africa',\n",
    "    'EU': 'Eurpoe'\n",
    "}\n",
    "countries = protein_group_df['Country'].tolist()\n",
    "\n",
    "def convert_continents(countries):\n",
    "    \"\"\"\n",
    "    This function tries to get the continent based on Country name.\n",
    "    Since some countries names are differnt in the library we are using here,\n",
    "    need to manually change those.\n",
    "    \n",
    "    This function also tries to rechieve an alpha 3 Country Code based on the name. \n",
    "    \"\"\"\n",
    "    continents = []\n",
    "    country_codes = []\n",
    "    for country in countries:\n",
    "        try:\n",
    "            country_code = country_name_to_country_alpha3(country)\n",
    "            continent = continents_dict[country_alpha2_to_continent_code(country_name_to_country_alpha2(country))]\n",
    "            continents.append(continent)\n",
    "            country_codes.append(country_code)\n",
    "        except KeyError:\n",
    "            print(country)\n",
    "            continents.append(country)\n",
    "            country_codes.append(country)\n",
    "    return continents,country_codes\n",
    "\n",
    "\n",
    "continents,country_codes = convert_continents(countries)"
   ]
  },
  {
   "cell_type": "code",
   "execution_count": 105,
   "metadata": {},
   "outputs": [
    {
     "name": "stderr",
     "output_type": "stream",
     "text": [
      "C:\\Users\\XuP-intern\\AppData\\Local\\Continuum\\anaconda3\\lib\\site-packages\\ipykernel_launcher.py:2: SettingWithCopyWarning:\n",
      "\n",
      "\n",
      "A value is trying to be set on a copy of a slice from a DataFrame.\n",
      "Try using .loc[row_indexer,col_indexer] = value instead\n",
      "\n",
      "See the caveats in the documentation: http://pandas.pydata.org/pandas-docs/stable/indexing.html#indexing-view-versus-copy\n",
      "\n",
      "C:\\Users\\XuP-intern\\AppData\\Local\\Continuum\\anaconda3\\lib\\site-packages\\ipykernel_launcher.py:37: SettingWithCopyWarning:\n",
      "\n",
      "\n",
      "A value is trying to be set on a copy of a slice from a DataFrame.\n",
      "Try using .loc[row_indexer,col_indexer] = value instead\n",
      "\n",
      "See the caveats in the documentation: http://pandas.pydata.org/pandas-docs/stable/indexing.html#indexing-view-versus-copy\n",
      "\n"
     ]
    }
   ],
   "source": [
    "# Make a new column called Continent using the continents information we just get. \n",
    "protein_group_df[\"Continent\"] = continents\n",
    "\n",
    "# A manually constructed country to contienent and country to country code list for those which have variation in names. \n",
    "manual_continent_dict = {\"Bolivia (Plurinational State of)\":\"South America\"\n",
    "                         ,\"China, Hong Kong SAR\":\"Asia\"\n",
    "                         ,\"China, mainland\":\"Asia\"\n",
    "                         ,\"China, Macao SAR\":\"Asia\"\n",
    "                         ,\"China, Taiwan Province of\":\"Asia\"\n",
    "                         ,\"Congo (note no data in Food suppley tables for DRC)\":\"Africa\"\n",
    "                         ,\"CÃƒÂ´te d'Ivoire\":\"Africa\"\n",
    "                        ,\"Iran (Islamic Republic of)\":\"Asia\"\n",
    "                        ,\"Republic of Korea\":\"Asia\"\n",
    "                        ,\"Eswatini\":\"Africa\"\n",
    "                        ,\"North Macedonia\":\"Europe\"\n",
    "                        ,\"Timor-Leste\":\"Asia\"\n",
    "                        ,\"Venezuela (Bolivarian Republic of)\":\"South America\"}\n",
    "\n",
    "manual_country_code_dict = {\"Bolivia (Plurinational State of)\":\"BOL\"\n",
    "                         ,\"China, Hong Kong SAR\":\"HKG\"\n",
    "                         ,\"China, mainland\":\"CHN\"\n",
    "                         ,\"China, Macao SAR\":\"MAC\"\n",
    "                         ,\"China, Taiwan Province of\":\"TWN\"\n",
    "                         ,\"Congo (note no data in Food suppley tables for DRC)\":\"COG\"\n",
    "                         ,\"CÃƒÂ´te d'Ivoire\":\"CIV\"\n",
    "                        ,\"Iran (Islamic Republic of)\":\"IRN\"\n",
    "                        ,\"Republic of Korea\":\"KOR\"\n",
    "                        ,\"Eswatini\":\"SWZ\"\n",
    "                        ,\"North Macedonia\":\"MKD\"\n",
    "                        ,\"Republic of North Macedonia\":\"MKD\"\n",
    "                        ,\"Timor-Leste\":\"TLS\"\n",
    "                        ,\"Venezuela (Bolivarian Republic of)\":\"VEN\"}\n",
    "\n",
    "# Replace missing ones with correct continents. \n",
    "protein_group_df[protein_group_df[\"Country\"].isna()]\n",
    "# principalDf.to_csv(\"test.csv\")\n",
    "protein_group_df[\"Continent\"] = protein_group_df[\"Continent\"].replace(manual_continent_dict)\n"
   ]
  },
  {
   "cell_type": "code",
   "execution_count": 106,
   "metadata": {},
   "outputs": [],
   "source": [
    "# Code adapted from https://github.com/mGalarnyk/Python_Tutorials/blob/master/Sklearn/PCA/PCA_Data_Visualization_Iris_Dataset_Blog.ipynb\n",
    "import matplotlib.pyplot as plt\n",
    "\n",
    "def pca_plot(colors,df,cluster_name):\n",
    "    \"\"\"\n",
    "    This function makes a plot using matplotlib, which uses Principal Component 1 as x and 2 as y.\n",
    "    Colors represent clusters. \n",
    "    In this case, cluster can be Continent, Region, and Income group.  \n",
    "    \"\"\"\n",
    "    fig = plt.figure(figsize = (8,8))\n",
    "    ax = fig.add_subplot(1,1,1) \n",
    "    ax.set_xlabel('Principal Component 1', fontsize = 10)\n",
    "    ax.set_ylabel('Principal Component 2', fontsize = 10)\n",
    "    ax.set_title('2 component PCA {}'.format(cluster_name), fontsize = 20)\n",
    "\n",
    "    \n",
    "    cluster_list = df[cluster_name].unique()\n",
    "    print(cluster_list)\n",
    "    for cluster,color in zip(cluster_list,colors):\n",
    "        indicesToKeep = df[cluster_name] == cluster\n",
    "        ax.scatter(df.loc[indicesToKeep, 'principal component 1']\n",
    "               , df.loc[indicesToKeep, 'principal component 2']\n",
    "               , c = color\n",
    "               , s = 50)\n",
    "    ax.legend(cluster_list)\n",
    "    ax.grid()"
   ]
  },
  {
   "cell_type": "code",
   "execution_count": 107,
   "metadata": {},
   "outputs": [
    {
     "name": "stdout",
     "output_type": "stream",
     "text": [
      "['Asia' 'Eurpoe' 'Africa' 'North America' 'South America' 'Australia'\n",
      " 'Europe']\n"
     ]
    },
    {
     "data": {
      "image/png": "[encoded data removed]",
      "text/plain": [
       "<Figure size 576x576 with 1 Axes>"
      ]
     },
     "metadata": {
      "needs_background": "light"
     },
     "output_type": "display_data"
    }
   ],
   "source": [
    "colors = ['r', 'g', 'b','c','m','y']\n",
    "pca_plot(colors,protein_group_df,\"Continent\")"
   ]
  },
  {
   "cell_type": "markdown",
   "metadata": {},
   "source": [
    "###### K means on Top of PCA (Unable to fix the legend here. Shape represents continent, and colors represent cluster)"
   ]
  },
  {
   "cell_type": "code",
   "execution_count": 108,
   "metadata": {},
   "outputs": [],
   "source": [
    "#K means Clustering \n",
    "# Code adapted from https://github.com/mGalarnyk/Python_Tutorials/blob/master/Sklearn/PCA/PCA_Data_Visualization_Iris_Dataset_Blog.ipynb\n",
    "from sklearn.cluster import KMeans\n",
    "\n",
    "def perform_kmeans(X, n_clust):\n",
    "    \"\"\"\n",
    "    This function handles K means clustering. \n",
    "    \"\"\"\n",
    "    model = KMeans(n_clust)\n",
    "    model.fit(X)\n",
    "    cluster_labels = model.predict(X)\n",
    "    cent = model.cluster_centers_\n",
    "    return (cluster_labels, cent)\n",
    "\n",
    "def pca_kmeans_plot(colors, mark_shapes,df,cluster_name,centers):\n",
    "    \"\"\"\n",
    "    This function makes a plot using matplotlib, which uses Principal Component 1 as x and 2 as y.\n",
    "    Shapes represent clusters. \n",
    "    In this case, cluster can be Continent, Region, and Income group.  \n",
    "    Colors represent the clusters kmeans assigns the point to. \n",
    "    \"\"\"\n",
    "    fig_k = plt.figure(figsize = (8,8))\n",
    "    ax = fig_k.add_subplot(1,1,1) \n",
    "    ax.set_xlabel('Principal Component 1', fontsize = 10)\n",
    "    ax.set_ylabel('Principal Component 2', fontsize = 10)\n",
    "    ax.set_title('2 component PCA Kmeans Clustering {}'.format(cluster_name), fontsize = 20)\n",
    "\n",
    "    cluster_list = df[cluster_name].unique()\n",
    "\n",
    "    for cluster, ms in zip(cluster_list,mark_shapes):\n",
    "        for kmeans_cluster,color in zip([i for i in range(len(colors))],colors):\n",
    "            indicesToKeep = (df[cluster_name] == cluster) & (df[\"{}_Cluster\".format(cluster_name)] == kmeans_cluster)\n",
    "            ax.scatter(df.loc[indicesToKeep, 'principal component 1']\n",
    "                   , df.loc[indicesToKeep, 'principal component 2']\n",
    "                   , c = color\n",
    "                   , marker = ms\n",
    "                   , s = 50)\n",
    "\n",
    "    ax.legend(mark_shapes,cluster_list)\n",
    "    ax.scatter(centers[:, 0], centers[:, 1], c='black', s=200, alpha=0.5)\n",
    "    ax.grid()"
   ]
  },
  {
   "cell_type": "code",
   "execution_count": 109,
   "metadata": {},
   "outputs": [
    {
     "name": "stderr",
     "output_type": "stream",
     "text": [
      "C:\\Users\\XuP-intern\\AppData\\Local\\Continuum\\anaconda3\\lib\\site-packages\\ipykernel_launcher.py:5: SettingWithCopyWarning:\n",
      "\n",
      "\n",
      "A value is trying to be set on a copy of a slice from a DataFrame.\n",
      "Try using .loc[row_indexer,col_indexer] = value instead\n",
      "\n",
      "See the caveats in the documentation: http://pandas.pydata.org/pandas-docs/stable/indexing.html#indexing-view-versus-copy\n",
      "\n",
      "C:\\Users\\XuP-intern\\AppData\\Local\\Continuum\\anaconda3\\lib\\site-packages\\matplotlib\\legend.py:798: UserWarning:\n",
      "\n",
      "Legend does not support 's' instances.\n",
      "A proxy artist may be used instead.\n",
      "See: http://matplotlib.org/users/legend_guide.html#creating-artists-specifically-for-adding-to-the-legend-aka-proxy-artists\n",
      "\n",
      "C:\\Users\\XuP-intern\\AppData\\Local\\Continuum\\anaconda3\\lib\\site-packages\\matplotlib\\legend.py:798: UserWarning:\n",
      "\n",
      "Legend does not support 'd' instances.\n",
      "A proxy artist may be used instead.\n",
      "See: http://matplotlib.org/users/legend_guide.html#creating-artists-specifically-for-adding-to-the-legend-aka-proxy-artists\n",
      "\n",
      "C:\\Users\\XuP-intern\\AppData\\Local\\Continuum\\anaconda3\\lib\\site-packages\\matplotlib\\legend.py:798: UserWarning:\n",
      "\n",
      "Legend does not support 'p' instances.\n",
      "A proxy artist may be used instead.\n",
      "See: http://matplotlib.org/users/legend_guide.html#creating-artists-specifically-for-adding-to-the-legend-aka-proxy-artists\n",
      "\n",
      "C:\\Users\\XuP-intern\\AppData\\Local\\Continuum\\anaconda3\\lib\\site-packages\\matplotlib\\legend.py:798: UserWarning:\n",
      "\n",
      "Legend does not support 'h' instances.\n",
      "A proxy artist may be used instead.\n",
      "See: http://matplotlib.org/users/legend_guide.html#creating-artists-specifically-for-adding-to-the-legend-aka-proxy-artists\n",
      "\n",
      "C:\\Users\\XuP-intern\\AppData\\Local\\Continuum\\anaconda3\\lib\\site-packages\\matplotlib\\legend.py:798: UserWarning:\n",
      "\n",
      "Legend does not support 'o' instances.\n",
      "A proxy artist may be used instead.\n",
      "See: http://matplotlib.org/users/legend_guide.html#creating-artists-specifically-for-adding-to-the-legend-aka-proxy-artists\n",
      "\n",
      "C:\\Users\\XuP-intern\\AppData\\Local\\Continuum\\anaconda3\\lib\\site-packages\\matplotlib\\legend.py:798: UserWarning:\n",
      "\n",
      "Legend does not support '*' instances.\n",
      "A proxy artist may be used instead.\n",
      "See: http://matplotlib.org/users/legend_guide.html#creating-artists-specifically-for-adding-to-the-legend-aka-proxy-artists\n",
      "\n"
     ]
    },
    {
     "data": {
      "image/png": "[encoded data removed]",
      "text/plain": [
       "<Figure size 576x576 with 1 Axes>"
      ]
     },
     "metadata": {
      "needs_background": "light"
     },
     "output_type": "display_data"
    }
   ],
   "source": [
    "\n",
    "# Plot Contienent level \n",
    "X = protein_group_df[[\"principal component 1\",\"principal component 2\"]].values\n",
    "continent_cluster_labels, continent_centers = perform_kmeans(X, 6)\n",
    "protein_group_df[\"Continent_Cluster\"] = continent_cluster_labels\n",
    "mark_shapes = ['s','d','p','h','o','*']\n",
    "colors = ['r', 'g', 'b','c','m','y']\n",
    "pca_kmeans_plot(colors,mark_shapes,principalDf,\"Continent\",continent_centers)"
   ]
  },
  {
   "cell_type": "code",
   "execution_count": 110,
   "metadata": {},
   "outputs": [],
   "source": [
    "\n",
    "\n",
    "def plot_plotly(df,cluster_name,centers,cluster_num,filename_prefix,additional):\n",
    "    \"\"\"\n",
    "    This function draws plots using plotly. \n",
    "    It draws different traces with different shape and color based on the cluster and kmeans cluster it belongs to.abs\n",
    "    In this case, cluster can be Continent, Region, and Income group. \n",
    "    \n",
    "    Shape represents it's original cluster, and color represents the cluster K means assigns it to. \n",
    "    \"\"\"\n",
    "    data = []\n",
    "    rainbow_colorscale =  [\n",
    "    'rgb(150,0,90)','rgb(0,0,200)',\n",
    "     'rgb(10,152,255)',\n",
    "    'rgb(44,255,150)', 'rgb(151,255,0)',\n",
    "    'rgb(255,234,0)','rgb(255,111,0)',\n",
    "    'rgb(255,0,0)'\n",
    "    ]\n",
    "    if additional:\n",
    "        kmeans_cluster_name = additional\n",
    "    else:\n",
    "        kmeans_cluster_name = \"{}_Cluster\".format(cluster_name)\n",
    "        \n",
    "    \n",
    "    cluster_list = df[cluster_name].unique()\n",
    "    for ms,cluster in enumerate(cluster_list):\n",
    "        for kmeans_cluster in range(cluster_num):\n",
    "            indicesToKeep = (df[cluster_name] == cluster) & (df[kmeans_cluster_name] == kmeans_cluster)\n",
    "            trace0 = go.Scatter(\n",
    "                x = df.loc[indicesToKeep, 'principal component 1'],\n",
    "                y = df.loc[indicesToKeep, 'principal component 2'],\n",
    "                name = str(cluster) + str(kmeans_cluster),\n",
    "                mode = 'markers',\n",
    "                marker = dict(\n",
    "                    size = 9, \n",
    "                    color = rainbow_colorscale[kmeans_cluster],\n",
    "                    line = dict(width = 1),\n",
    "                    symbol = ms,\n",
    "                ),\n",
    "                text = df.loc[indicesToKeep,\"Country\"],\n",
    "            )\n",
    "            data.append(trace0);\n",
    "    \n",
    "    trace1 = go.Scatter(\n",
    "        x = centers[:, 0],\n",
    "        y = centers[:, 1],\n",
    "        name = \"Center\",\n",
    "        mode = 'markers',\n",
    "        marker = dict(\n",
    "            size = 20, \n",
    "            color = 'rgba(220, 220, 220, .4)', \n",
    "            line = dict(width = 1),\n",
    "            ),\n",
    "            )\n",
    "    data.append(trace1)\n",
    "\n",
    "    layout= go.Layout(\n",
    "        title= '2 component PCA Kmeans Clustering {}'.format(cluster_name),\n",
    "        hovermode= 'closest',\n",
    "        xaxis= dict(\n",
    "            title= 'principal component 1',\n",
    "            ticklen= 5,\n",
    "            zeroline= False,\n",
    "            gridwidth= 2,\n",
    "        ),\n",
    "        yaxis=dict(\n",
    "            title= 'principal component 2',\n",
    "            ticklen= 5,\n",
    "            gridwidth= 2,\n",
    "        ),\n",
    "        showlegend= True\n",
    "        )\n",
    "\n",
    "    fig = dict(data=data, layout=layout)\n",
    "    iplot(fig)\n",
    "    py.iplot(fig, filename=\"{} {} Level Plot \".format(filename_prefix, cluster_name))"
   ]
  },
  {
   "cell_type": "code",
   "execution_count": 111,
   "metadata": {},
   "outputs": [
    {
     "data": {
      "application/vnd.plotly.v1+json": {
       "config": {
        "linkText": "Export to plot.ly",
        "plotlyServerURL": "https://plot.ly",
        "showLink": false
       },
       "data": [
        {
         "marker": {
          "color": "rgb(150,0,90)",
          "line": {
           "width": 1
          },
          "size": 9,
          "symbol": 0
         },
         "mode": "markers",
         "name": "Asia0",
         "text": [
          "Afghanistan",
          "Cyprus",
          "Georgia",
          "Iran (Islamic Republic of)",
          "Iraq",
          "Jordan",
          "Kuwait",
          "Lebanon",
          "Oman",
          "Pakistan",
          "Saudi Arabia",
          "Tajikistan",
          "United Arab Emirates",
          "Yemen"
         ],
         "type": "scatter",
         "uid": "04a1a091-a28c-4c42-a7b9-1022d0fc4c46",
         "x": [
          -0.5187362283538711,
          1.1096046128329815,
          0.370084776522889,
          -0.16505519369409327,
          -0.4843683929002223,
          0.026303719127126406,
          1.0325069333092165,
          -0.1268437004114436,
          0.21315145331967061,
          -0.34910348987113765,
          -0.10022053368297267,
          -0.6961485504562095,
          -0.8548938602509599,
          -1.070187389705512
         ],
         "y": [
          -1.4546206549531921,
          0.3705331865728239,
          -0.8716671846477674,
          -1.0994537944471696,
          -0.19942009811612305,
          -0.9124448305221925,
          -0.3313888080663412,
          -0.8536854812691493,
          -0.2612514010189037,
          -1.1896534489904644,
          -0.22418943164201058,
          -1.4259635833460693,
          -0.581094298947789,
          -0.9182385101701513
         ]
        },
        {
         "marker": {
          "color": "rgb(0,0,200)",
          "line": {
           "width": 1
          },
          "size": 9,
          "symbol": 0
         },
         "mode": "markers",
         "name": "Asia1",
         "text": [
          "Israel"
         ],
         "type": "scatter",
         "uid": "1879444f-7e6b-4164-82af-fbcf27b71807",
         "x": [
          2.4091805886740962
         ],
         "y": [
          -0.17670548022002946
         ]
        },
        {
         "marker": {
          "color": "rgb(10,152,255)",
          "line": {
           "width": 1
          },
          "size": 9,
          "symbol": 0
         },
         "mode": "markers",
         "name": "Asia2",
         "text": [
          "Armenia",
          "Azerbaijan",
          "Kazakhstan",
          "Kyrgyzstan",
          "Mongolia",
          "Turkey",
          "Turkmenistan",
          "Uzbekistan"
         ],
         "type": "scatter",
         "uid": "a363227f-b184-48cb-9a07-61b25659fa17",
         "x": [
          1.6741653766049829,
          1.271725220438081,
          2.001162515135617,
          0.6016375020744401,
          0.8852401981092998,
          0.8515084271113968,
          1.8159607067811956,
          1.014084698739387
         ],
         "y": [
          -1.0182527145102853,
          -2.2691708350668742,
          -1.6938835111056045,
          -2.1325228581750464,
          -4.0631784394527415,
          -1.8205513924393848,
          -3.1893678498892077,
          -1.8515767267611185
         ]
        },
        {
         "marker": {
          "color": "rgb(44,255,150)",
          "line": {
           "width": 1
          },
          "size": 9,
          "symbol": 0
         },
         "mode": "markers",
         "name": "Asia3",
         "text": [
          "Bangladesh",
          "Cambodia",
          "Indonesia",
          "Lao People's Democratic Republic",
          "Myanmar",
          "Philippines",
          "Sri Lanka",
          "Thailand",
          "Viet Nam"
         ],
         "type": "scatter",
         "uid": "02e1b3bd-5242-4484-9db6-7a0b61bdbd9a",
         "x": [
          -2.962684688345844,
          -2.8248081720444738,
          -2.2890441738492946,
          -2.8200792765449934,
          -2.0710873548630757,
          -1.5796232332802,
          -2.318022669366338,
          -1.1864198859602553,
          -1.50291321372396
         ],
         "y": [
          2.1555619555372973,
          2.99292814800493,
          2.1569054803508503,
          2.683118812916563,
          2.9179985639464845,
          2.3922639719170817,
          1.6227672996973552,
          2.373955824236931,
          3.1915220599529985
         ]
        },
        {
         "marker": {
          "color": "rgb(151,255,0)",
          "line": {
           "width": 1
          },
          "size": 9,
          "symbol": 0
         },
         "mode": "markers",
         "name": "Asia4",
         "text": [
          "Democratic People's Republic of Korea",
          "India",
          "Nepal",
          "Timor-Leste"
         ],
         "type": "scatter",
         "uid": "955dbac3-b0fb-49d4-a254-7d4beb02e9c1",
         "x": [
          -2.551465145811014,
          -2.0959486456016725,
          -2.523104044473208,
          -2.7522535994625725
         ],
         "y": [
          0.3474933616505065,
          0.0243895474006073,
          -0.2713983772673335,
          0.26068317493344
         ]
        },
        {
         "marker": {
          "color": "rgb(255,234,0)",
          "line": {
           "width": 1
          },
          "size": 9,
          "symbol": 0
         },
         "mode": "markers",
         "name": "Asia5",
         "text": [
          "Brunei Darussalam",
          "China, Hong Kong SAR",
          "China, Macao SAR",
          "China, mainland",
          "China, Taiwan Province of",
          "Japan",
          "Malaysia",
          "Maldives",
          "Republic of Korea"
         ],
         "type": "scatter",
         "uid": "95c3ed80-7070-41ba-bf35-7016ee37bf57",
         "x": [
          0.7641208189542725,
          2.870047899570383,
          1.7646290609427753,
          0.8072297762995769,
          0.691629866020365,
          0.9381204394351735,
          -0.006129132168770718,
          0.5844104968893692,
          0.23783212359766498
         ],
         "y": [
          2.1418284253898916,
          3.154522711023835,
          2.864548350865009,
          1.8109693101932656,
          2.0265428572880193,
          2.5507622434168384,
          2.6265081501172944,
          5.081512499687632,
          2.77895195187075
         ]
        },
        {
         "marker": {
          "color": "rgb(150,0,90)",
          "line": {
           "width": 1
          },
          "size": 9,
          "symbol": 1
         },
         "mode": "markers",
         "name": "Eurpoe0",
         "text": [
          "Bosnia and Herzegovina",
          "Bulgaria",
          "Republic of Moldova",
          "Serbia"
         ],
         "type": "scatter",
         "uid": "8c47e71c-799a-4c50-9344-5d93e9fca463",
         "x": [
          -0.4398346011607433,
          0.9603595886425655,
          -0.005577842751399327,
          0.6741377816947594
         ],
         "y": [
          -1.3164194982192274,
          -0.2495835333112877,
          -0.28227341661659644,
          -0.6026848118923438
         ]
        },
        {
         "marker": {
          "color": "rgb(0,0,200)",
          "line": {
           "width": 1
          },
          "size": 9,
          "symbol": 1
         },
         "mode": "markers",
         "name": "Eurpoe1",
         "text": [
          "Austria",
          "Belarus",
          "Belgium",
          "Croatia",
          "Czechia",
          "Denmark",
          "Estonia",
          "Finland",
          "France",
          "Germany",
          "Hungary",
          "Iceland",
          "Ireland",
          "Italy",
          "Latvia",
          "Lithuania",
          "Luxembourg",
          "Malta",
          "Montenegro",
          "Netherlands",
          "Norway",
          "Poland",
          "Portugal",
          "Russian Federation",
          "Slovakia",
          "Slovenia",
          "Spain",
          "Sweden",
          "Switzerland",
          "Ukraine",
          "United Kingdom"
         ],
         "type": "scatter",
         "uid": "3122c2bb-45cb-4301-99a0-3a187853668b",
         "x": [
          3.3451537380525913,
          3.952101321516853,
          2.141496741355391,
          1.5526797169539217,
          2.3811704471308577,
          3.3874266503644743,
          3.222693057242223,
          3.786106855774535,
          2.773769065781095,
          3.089898272216792,
          1.6727698593509053,
          3.0172152199619613,
          2.3765027634722533,
          2.3915610675356223,
          3.132676453592528,
          3.8115236663286813,
          3.2060386594436974,
          2.103834739403056,
          2.4095853816715658,
          3.5148356669276684,
          2.542642043227194,
          3.707157030307946,
          2.1590255284073163,
          2.6916004152646296,
          1.494982790778646,
          1.9170613822359488,
          2.298223716270315,
          3.535503969671228,
          2.202823498057272,
          2.203177829159169,
          2.11378405480431
         ],
         "y": [
          0.5540131898227856,
          0.7652031841385577,
          0.026996937229607693,
          0.15156332152787577,
          0.26324407740573563,
          0.5440564190807355,
          -0.9177897470307228,
          0.4882424064454831,
          0.05658213088382506,
          0.5125229128728598,
          0.255626578987079,
          0.30143631964830764,
          -0.39824712552996244,
          0.09001006767060105,
          -0.12420258660913074,
          0.9653492701738827,
          0.2744563450053484,
          0.21909700847705074,
          -0.5105181230874344,
          0.4291456232931485,
          0.20938069920308566,
          0.7167571156028768,
          1.0008000914223818,
          -0.029226643120699985,
          0.0948578157074419,
          -0.28960371098728915,
          1.1849802823914812,
          0.5399035395090552,
          -0.06720244423734019,
          -0.17146996591623148,
          -0.17652982403438944
         ]
        },
        {
         "marker": {
          "color": "rgb(10,152,255)",
          "line": {
           "width": 1
          },
          "size": 9,
          "symbol": 1
         },
         "mode": "markers",
         "name": "Eurpoe2",
         "text": [
          "Albania",
          "Greece",
          "Romania"
         ],
         "type": "scatter",
         "uid": "13e7e702-e723-4a37-a65b-2ba1579111dd",
         "x": [
          2.4407185523595496,
          2.1978078700150894,
          1.841996188386057
         ],
         "y": [
          -2.200207534746661,
          -1.4411654737196844,
          -1.0410906316902286
         ]
        },
        {
         "marker": {
          "color": "rgb(44,255,150)",
          "line": {
           "width": 1
          },
          "size": 9,
          "symbol": 1
         },
         "mode": "markers",
         "name": "Eurpoe3",
         "text": [],
         "type": "scatter",
         "uid": "c870a141-afea-48b5-859e-62475457714f",
         "x": [],
         "y": []
        },
        {
         "marker": {
          "color": "rgb(151,255,0)",
          "line": {
           "width": 1
          },
          "size": 9,
          "symbol": 1
         },
         "mode": "markers",
         "name": "Eurpoe4",
         "text": [],
         "type": "scatter",
         "uid": "691ae692-12ea-49f0-8649-2e1d8d084baf",
         "x": [],
         "y": []
        },
        {
         "marker": {
          "color": "rgb(255,234,0)",
          "line": {
           "width": 1
          },
          "size": 9,
          "symbol": 1
         },
         "mode": "markers",
         "name": "Eurpoe5",
         "text": [],
         "type": "scatter",
         "uid": "46c590c8-7e3e-444d-93bc-120b1dc30d3d",
         "x": [],
         "y": []
        },
        {
         "marker": {
          "color": "rgb(150,0,90)",
          "line": {
           "width": 1
          },
          "size": 9,
          "symbol": 2
         },
         "mode": "markers",
         "name": "Africa0",
         "text": [
          "Congo (note no data in Food suppley tables for DRC)",
          "Egypt",
          "Gabon",
          "Mauritania",
          "Mauritius",
          "Sao Tome and Principe",
          "South Africa"
         ],
         "type": "scatter",
         "uid": "3ef319ac-5f13-4062-8f29-e7c44873ab72",
         "x": [
          -1.4355195705850268,
          -0.9592394880665003,
          -0.7501484345551,
          -0.7789628774156595,
          -0.06328760979079437,
          -1.341408950540935,
          -0.5635236037496777
         ],
         "y": [
          0.17908308962674135,
          -0.8056313115859217,
          0.8738600726230518,
          -1.433441365667486,
          0.25425754449646304,
          0.22320346482443187,
          -0.6770766186458607
         ]
        },
        {
         "marker": {
          "color": "rgb(0,0,200)",
          "line": {
           "width": 1
          },
          "size": 9,
          "symbol": 2
         },
         "mode": "markers",
         "name": "Africa1",
         "text": [],
         "type": "scatter",
         "uid": "59fac63a-43a8-4031-a680-13932c30d5ef",
         "x": [],
         "y": []
        },
        {
         "marker": {
          "color": "rgb(10,152,255)",
          "line": {
           "width": 1
          },
          "size": 9,
          "symbol": 2
         },
         "mode": "markers",
         "name": "Africa2",
         "text": [
          "Algeria",
          "Morocco",
          "Sudan",
          "Tunisia"
         ],
         "type": "scatter",
         "uid": "aab82dd6-c614-48ec-84e9-33da9cb00c69",
         "x": [
          0.5966456068517741,
          0.8407176172830627,
          3.169512263823843,
          0.6763198048034671
         ],
         "y": [
          -2.699385861344075,
          -3.142643163782732,
          -4.164520272449868,
          -1.7991259280475613
         ]
        },
        {
         "marker": {
          "color": "rgb(44,255,150)",
          "line": {
           "width": 1
          },
          "size": 9,
          "symbol": 2
         },
         "mode": "markers",
         "name": "Africa3",
         "text": [
          "Gambia",
          "Guinea",
          "Guinea-Bissau",
          "Liberia",
          "Madagascar",
          "Senegal",
          "Sierra Leone"
         ],
         "type": "scatter",
         "uid": "37938af6-580a-427a-98ae-c352dc2fad90",
         "x": [
          -1.6761351320939937,
          -2.5425623708509315,
          -2.335524291743871,
          -2.31255466064299,
          -2.644709869455552,
          -2.127111850623701,
          -2.7516009915269657
         ],
         "y": [
          0.5278721787493851,
          1.0632374066055497,
          1.1193271346434503,
          1.255379695016391,
          1.1315436072078517,
          0.8147949210622493,
          1.4242765015759857
         ]
        },
        {
         "marker": {
          "color": "rgb(151,255,0)",
          "line": {
           "width": 1
          },
          "size": 9,
          "symbol": 2
         },
         "mode": "markers",
         "name": "Africa4",
         "text": [
          "Angola",
          "Benin",
          "Botswana",
          "Burkina Faso",
          "Cabo Verde",
          "Cameroon",
          "Central African Republic",
          "Chad",
          "CÃƒÂ´te d'Ivoire",
          "Djibouti",
          "Ethiopia",
          "Ghana",
          "Kenya",
          "Lesotho",
          "Malawi",
          "Mali",
          "Mozambique",
          "Namibia",
          "Niger",
          "Nigeria",
          "Rwanda",
          "Eswatini",
          "Togo",
          "Uganda",
          "United Republic of Tanzania",
          "Zambia",
          "Zimbabwe"
         ],
         "type": "scatter",
         "uid": "4997262a-4752-4295-8b64-0536236cb36c",
         "x": [
          -1.6865841077846788,
          -2.574306620188047,
          -1.322867563938104,
          -2.6988417531704827,
          -1.5124124266113383,
          -2.979352491177083,
          -1.8351398693733723,
          -2.069051170726937,
          -2.3357549227092353,
          -1.3334993036213825,
          -2.687635336603692,
          -2.449657985518813,
          -2.4517887410187043,
          -3.100653436584261,
          -3.5596959019966756,
          -2.307225376399263,
          -2.8953867774802333,
          -1.6367561245530655,
          -3.149529184881428,
          -2.423556029807336,
          -3.4872450543097906,
          -1.8127703845924166,
          -3.0254149402823947,
          -2.89415510149512,
          -2.9793875075126732,
          -2.579134510839204,
          -2.283532440881736
         ],
         "y": [
          -0.5483874268521277,
          -0.06101701118963632,
          -0.9707486883297664,
          -0.7570949947112842,
          0.07660305454844026,
          -0.8050963514459593,
          -1.0903321355223372,
          -0.5123436434042392,
          0.126773260462239,
          -1.3490331630606174,
          -1.430444596711728,
          -0.396385477297346,
          -1.5773014125796636,
          -2.0721781342363923,
          -1.7461269870501357,
          -0.7200140202193901,
          -0.798282907030655,
          -0.8965507201708295,
          -1.4970933413683776,
          -0.44953636835826344,
          -1.7553359290743493,
          -0.9804335025843446,
          -0.7302448694536048,
          -1.0593593659050677,
          -1.0558610947394138,
          -0.832077387647394,
          -0.7921952017482877
         ]
        },
        {
         "marker": {
          "color": "rgb(255,234,0)",
          "line": {
           "width": 1
          },
          "size": 9,
          "symbol": 2
         },
         "mode": "markers",
         "name": "Africa5",
         "text": [],
         "type": "scatter",
         "uid": "44c786d9-59f5-4a0a-bf13-12f54e6ada4d",
         "x": [],
         "y": []
        },
        {
         "marker": {
          "color": "rgb(150,0,90)",
          "line": {
           "width": 1
          },
          "size": 9,
          "symbol": 3
         },
         "mode": "markers",
         "name": "North America0",
         "text": [
          "Barbados",
          "Belize",
          "Costa Rica",
          "Cuba",
          "Dominica",
          "Dominican Republic",
          "Grenada",
          "Jamaica",
          "Mexico",
          "Panama",
          "Saint Kitts and Nevis",
          "Saint Lucia",
          "Saint Vincent and the Grenadines",
          "Trinidad and Tobago"
         ],
         "type": "scatter",
         "uid": "d77de7f7-6909-494b-a005-c7d674c14fb5",
         "x": [
          0.5605303471987559,
          -1.1199571355088507,
          -0.15258352565086195,
          -1.4018342736743556,
          0.1726721866601699,
          -1.0524901799530715,
          0.20559908990425566,
          -0.28268186127456346,
          -0.3952692241908524,
          -0.3891270001318538,
          -0.023066921248773586,
          0.4703950464845223,
          0.2579947359297983,
          -0.12369762184280132
         ],
         "y": [
          0.32922758607981684,
          0.20990102728536483,
          0.3032597367091397,
          0.11797398430783289,
          0.0020438627209608796,
          0.6810679744945526,
          0.8799489848709514,
          0.44687007464030665,
          -0.5807037427739751,
          0.939812046269748,
          1.0854970369702428,
          0.6694310548709408,
          0.8627360120375328,
          0.24504660332165237
         ]
        },
        {
         "marker": {
          "color": "rgb(0,0,200)",
          "line": {
           "width": 1
          },
          "size": 9,
          "symbol": 3
         },
         "mode": "markers",
         "name": "North America1",
         "text": [
          "Bermuda",
          "Canada",
          "United States of America"
         ],
         "type": "scatter",
         "uid": "55a4bef5-b47f-4197-8a2b-53e77b3c6dda",
         "x": [
          2.234471586735467,
          1.5742233909737213,
          2.874872528136872
         ],
         "y": [
          0.7769198557904577,
          -0.10009532386314264,
          0.25132400209083355
         ]
        },
        {
         "marker": {
          "color": "rgb(10,152,255)",
          "line": {
           "width": 1
          },
          "size": 9,
          "symbol": 3
         },
         "mode": "markers",
         "name": "North America2",
         "text": [],
         "type": "scatter",
         "uid": "145f439d-cdc9-4d63-a7ca-2ede75a8e49f",
         "x": [],
         "y": []
        },
        {
         "marker": {
          "color": "rgb(44,255,150)",
          "line": {
           "width": 1
          },
          "size": 9,
          "symbol": 3
         },
         "mode": "markers",
         "name": "North America3",
         "text": [],
         "type": "scatter",
         "uid": "e73cd3c1-6c29-4873-8053-3bd974d2dfc3",
         "x": [],
         "y": []
        },
        {
         "marker": {
          "color": "rgb(151,255,0)",
          "line": {
           "width": 1
          },
          "size": 9,
          "symbol": 3
         },
         "mode": "markers",
         "name": "North America4",
         "text": [
          "El Salvador",
          "Guatemala",
          "Haiti",
          "Honduras",
          "Nicaragua"
         ],
         "type": "scatter",
         "uid": "d9bfc68f-16ac-480d-b33f-8a7751712de3",
         "x": [
          -1.617280689424453,
          -1.7056440960682122,
          -2.8472925218127094,
          -1.6960868773779165,
          -2.7090098019227518
         ],
         "y": [
          -1.1221238428733848,
          -0.9489861197311756,
          -0.29324096737323624,
          -0.6803318527200171,
          -0.5538076283404966
         ]
        },
        {
         "marker": {
          "color": "rgb(255,234,0)",
          "line": {
           "width": 1
          },
          "size": 9,
          "symbol": 3
         },
         "mode": "markers",
         "name": "North America5",
         "text": [
          "Antigua and Barbuda",
          "Bahamas"
         ],
         "type": "scatter",
         "uid": "27d08eaa-079f-443c-8e79-ed6e8240ce75",
         "x": [
          0.8452852383786159,
          1.3400496560739759
         ],
         "y": [
          1.2309197452370453,
          1.2213046803542615
         ]
        },
        {
         "marker": {
          "color": "rgb(150,0,90)",
          "line": {
           "width": 1
          },
          "size": 9,
          "symbol": 4
         },
         "mode": "markers",
         "name": "South America0",
         "text": [
          "Bolivia (Plurinational State of)",
          "Brazil",
          "Chile",
          "Colombia",
          "Ecuador",
          "Paraguay",
          "Peru",
          "Venezuela (Bolivarian Republic of)"
         ],
         "type": "scatter",
         "uid": "278a8cd3-e013-446c-bed0-5f03d53f7965",
         "x": [
          -0.48434267721650154,
          0.45672615293435687,
          1.1204747533167934,
          -0.3074188087339174,
          0.013807238307056364,
          0.10619605779131586,
          -1.129846991570885,
          -0.16497447797393516
         ],
         "y": [
          -0.34767916363764706,
          -0.21022415008442458,
          -0.0420496705691412,
          -0.03674684736287171,
          0.6222351888067891,
          -0.23588755153081586,
          -0.003201503914810501,
          0.03305262898969059
         ]
        },
        {
         "marker": {
          "color": "rgb(0,0,200)",
          "line": {
           "width": 1
          },
          "size": 9,
          "symbol": 4
         },
         "mode": "markers",
         "name": "South America1",
         "text": [
          "Argentina"
         ],
         "type": "scatter",
         "uid": "c2fe365c-cd7f-4cd3-9680-bb3248c2d63b",
         "x": [
          3.0151047757423
         ],
         "y": [
          -0.812861737176926
         ]
        },
        {
         "marker": {
          "color": "rgb(10,152,255)",
          "line": {
           "width": 1
          },
          "size": 9,
          "symbol": 4
         },
         "mode": "markers",
         "name": "South America2",
         "text": [
          "Uruguay"
         ],
         "type": "scatter",
         "uid": "96475593-e680-4bdf-84d0-1c2ca9a29adc",
         "x": [
          1.695354784351359
         ],
         "y": [
          -1.0349388900555005
         ]
        },
        {
         "marker": {
          "color": "rgb(44,255,150)",
          "line": {
           "width": 1
          },
          "size": 9,
          "symbol": 4
         },
         "mode": "markers",
         "name": "South America3",
         "text": [
          "Guyana",
          "Suriname"
         ],
         "type": "scatter",
         "uid": "6b96f9e3-f407-4137-ab19-ef16dc807f18",
         "x": [
          -0.9919807882396773,
          -0.7798285826562018
         ],
         "y": [
          1.1995353456469375,
          1.2397112629276525
         ]
        },
        {
         "marker": {
          "color": "rgb(151,255,0)",
          "line": {
           "width": 1
          },
          "size": 9,
          "symbol": 4
         },
         "mode": "markers",
         "name": "South America4",
         "text": [],
         "type": "scatter",
         "uid": "9550a7fe-b191-4ec0-a370-37319082c98d",
         "x": [],
         "y": []
        },
        {
         "marker": {
          "color": "rgb(255,234,0)",
          "line": {
           "width": 1
          },
          "size": 9,
          "symbol": 4
         },
         "mode": "markers",
         "name": "South America5",
         "text": [],
         "type": "scatter",
         "uid": "47761f62-0de0-4ee5-bd33-0079ce546b33",
         "x": [],
         "y": []
        },
        {
         "marker": {
          "color": "rgb(150,0,90)",
          "line": {
           "width": 1
          },
          "size": 9,
          "symbol": 5
         },
         "mode": "markers",
         "name": "Australia0",
         "text": [
          "Fiji",
          "Vanuatu"
         ],
         "type": "scatter",
         "uid": "e9f5afa6-5ba6-4550-8d6d-d52da3a325ba",
         "x": [
          -0.6346587047438784,
          -0.703411362911452
         ],
         "y": [
          -0.07026351207310472,
          0.7782551003836053
         ]
        },
        {
         "marker": {
          "color": "rgb(0,0,200)",
          "line": {
           "width": 1
          },
          "size": 9,
          "symbol": 5
         },
         "mode": "markers",
         "name": "Australia1",
         "text": [
          "Australia",
          "New Caledonia"
         ],
         "type": "scatter",
         "uid": "fe19bada-f4c9-486f-8984-7a559035a63b",
         "x": [
          2.5062843650504147,
          1.2829898333175167
         ],
         "y": [
          -0.291688062312058,
          0.7574513420314004
         ]
        },
        {
         "marker": {
          "color": "rgb(10,152,255)",
          "line": {
           "width": 1
          },
          "size": 9,
          "symbol": 5
         },
         "mode": "markers",
         "name": "Australia2",
         "text": [
          "New Zealand"
         ],
         "type": "scatter",
         "uid": "4a9d47b6-4d66-4598-84e7-725c6fa139fc",
         "x": [
          1.5976076322251351
         ],
         "y": [
          -0.8673891526340163
         ]
        },
        {
         "marker": {
          "color": "rgb(44,255,150)",
          "line": {
           "width": 1
          },
          "size": 9,
          "symbol": 5
         },
         "mode": "markers",
         "name": "Australia3",
         "text": [
          "Kiribati"
         ],
         "type": "scatter",
         "uid": "ce6943a3-b434-42db-add5-756c0577a411",
         "x": [
          -0.8277764095090926
         ],
         "y": [
          2.3687447980423615
         ]
        },
        {
         "marker": {
          "color": "rgb(151,255,0)",
          "line": {
           "width": 1
          },
          "size": 9,
          "symbol": 5
         },
         "mode": "markers",
         "name": "Australia4",
         "text": [
          "Solomon Islands"
         ],
         "type": "scatter",
         "uid": "da07950d-3e0c-419a-a373-fff624e696e6",
         "x": [
          -2.053959275490055
         ],
         "y": [
          0.4198394061094373
         ]
        },
        {
         "marker": {
          "color": "rgb(255,234,0)",
          "line": {
           "width": 1
          },
          "size": 9,
          "symbol": 5
         },
         "mode": "markers",
         "name": "Australia5",
         "text": [
          "French Polynesia",
          "Samoa"
         ],
         "type": "scatter",
         "uid": "0290c1e8-6876-4f1c-98c1-494d4e98a22a",
         "x": [
          1.5412862767389222,
          0.7779518326263819
         ],
         "y": [
          1.173086006489949,
          1.1336625344557723
         ]
        },
        {
         "marker": {
          "color": "rgb(150,0,90)",
          "line": {
           "width": 1
          },
          "size": 9,
          "symbol": 6
         },
         "mode": "markers",
         "name": "Europe0",
         "text": [
          "North Macedonia"
         ],
         "type": "scatter",
         "uid": "dcfee6bf-5bc7-4b95-95ed-ab7486d15e8e",
         "x": [
          0.12494599807255044
         ],
         "y": [
          -0.754149283831443
         ]
        },
        {
         "marker": {
          "color": "rgb(0,0,200)",
          "line": {
           "width": 1
          },
          "size": 9,
          "symbol": 6
         },
         "mode": "markers",
         "name": "Europe1",
         "text": [],
         "type": "scatter",
         "uid": "ca5b08c1-4442-443b-b173-0cfc65192857",
         "x": [],
         "y": []
        },
        {
         "marker": {
          "color": "rgb(10,152,255)",
          "line": {
           "width": 1
          },
          "size": 9,
          "symbol": 6
         },
         "mode": "markers",
         "name": "Europe2",
         "text": [],
         "type": "scatter",
         "uid": "b527c3ec-6a8c-49c3-a750-2db5c4b155e7",
         "x": [],
         "y": []
        },
        {
         "marker": {
          "color": "rgb(44,255,150)",
          "line": {
           "width": 1
          },
          "size": 9,
          "symbol": 6
         },
         "mode": "markers",
         "name": "Europe3",
         "text": [],
         "type": "scatter",
         "uid": "2c5561d9-8fac-465f-a1e2-d82beb7affc2",
         "x": [],
         "y": []
        },
        {
         "marker": {
          "color": "rgb(151,255,0)",
          "line": {
           "width": 1
          },
          "size": 9,
          "symbol": 6
         },
         "mode": "markers",
         "name": "Europe4",
         "text": [],
         "type": "scatter",
         "uid": "db3e03d2-929e-444d-8d48-261232fe6870",
         "x": [],
         "y": []
        },
        {
         "marker": {
          "color": "rgb(255,234,0)",
          "line": {
           "width": 1
          },
          "size": 9,
          "symbol": 6
         },
         "mode": "markers",
         "name": "Europe5",
         "text": [],
         "type": "scatter",
         "uid": "95940a27-34ec-4272-b1b9-d04d8a530f79",
         "x": [],
         "y": []
        },
        {
         "marker": {
          "color": "rgba(220, 220, 220, .4)",
          "line": {
           "width": 1
          },
          "size": 20
         },
         "mode": "markers",
         "name": "Center",
         "type": "scatter",
         "uid": "fa9c9352-d156-4f10-9c2a-07c1f55262e5",
         "x": [
          -0.22385861225040057,
          2.632424965023448,
          1.4807155861819845,
          -2.028656190280074,
          -2.395226480040596,
          1.0120357194891312
         ],
         "y": [
          -0.1572758249390328,
          0.19378367795490897,
          -2.1428806609335638,
          1.8227076298967528,
          -0.743177884159248,
          2.2919322666453508
         ]
        }
       ],
       "layout": {
        "hovermode": "closest",
        "showlegend": true,
        "title": {
         "text": "2 component PCA Kmeans Clustering Continent"
        },
        "xaxis": {
         "gridwidth": 2,
         "ticklen": 5,
         "title": {
          "text": "principal component 1"
         },
         "zeroline": false
        },
        "yaxis": {
         "gridwidth": 2,
         "ticklen": 5,
         "title": {
          "text": "principal component 2"
         }
        }
       }
      },
      "text/html": [
       "<div>\n",
       "        \n",
       "        \n",
       "            <div id=\"cba40a90-7af4-4678-8dc6-b04c30944ec7\" class=\"plotly-graph-div\" style=\"height:525px; width:100%;\"></div>\n",
       "            <script type=\"text/javascript\">\n",
       "                require([\"plotly\"], function(Plotly) {\n",
       "                    window.PLOTLYENV=window.PLOTLYENV || {};\n",
       "                    window.PLOTLYENV.BASE_URL='https://plot.ly';\n",
       "                    \n",
       "                if (document.getElementById(\"cba40a90-7af4-4678-8dc6-b04c30944ec7\")) {\n",
       "                    Plotly.newPlot(\n",
       "                        'cba40a90-7af4-4678-8dc6-b04c30944ec7',\n",
       "                        [{\"marker\": {\"color\": \"rgb(150,0,90)\", \"line\": {\"width\": 1}, \"size\": 9, \"symbol\": 0}, \"mode\": \"markers\", \"name\": \"Asia0\", \"text\": [\"Afghanistan\", \"Cyprus\", \"Georgia\", \"Iran (Islamic Republic of)\", \"Iraq\", \"Jordan\", \"Kuwait\", \"Lebanon\", \"Oman\", \"Pakistan\", \"Saudi Arabia\", \"Tajikistan\", \"United Arab Emirates\", \"Yemen\"], \"type\": \"scatter\", \"uid\": \"04a1a091-a28c-4c42-a7b9-1022d0fc4c46\", \"x\": [-0.5187362283538711, 1.1096046128329815, 0.370084776522889, -0.16505519369409327, -0.4843683929002223, 0.026303719127126406, 1.0325069333092165, -0.1268437004114436, 0.21315145331967061, -0.34910348987113765, -0.10022053368297267, -0.6961485504562095, -0.8548938602509599, -1.070187389705512], \"y\": [-1.4546206549531921, 0.3705331865728239, -0.8716671846477674, -1.0994537944471696, -0.19942009811612305, -0.9124448305221925, -0.3313888080663412, -0.8536854812691493, -0.2612514010189037, -1.1896534489904644, -0.22418943164201058, -1.4259635833460693, -0.581094298947789, -0.9182385101701513]}, {\"marker\": {\"color\": \"rgb(0,0,200)\", \"line\": {\"width\": 1}, \"size\": 9, \"symbol\": 0}, \"mode\": \"markers\", \"name\": \"Asia1\", \"text\": [\"Israel\"], \"type\": \"scatter\", \"uid\": \"1879444f-7e6b-4164-82af-fbcf27b71807\", \"x\": [2.4091805886740962], \"y\": [-0.17670548022002946]}, {\"marker\": {\"color\": \"rgb(10,152,255)\", \"line\": {\"width\": 1}, \"size\": 9, \"symbol\": 0}, \"mode\": \"markers\", \"name\": \"Asia2\", \"text\": [\"Armenia\", \"Azerbaijan\", \"Kazakhstan\", \"Kyrgyzstan\", \"Mongolia\", \"Turkey\", \"Turkmenistan\", \"Uzbekistan\"], \"type\": \"scatter\", \"uid\": \"a363227f-b184-48cb-9a07-61b25659fa17\", \"x\": [1.6741653766049829, 1.271725220438081, 2.001162515135617, 0.6016375020744401, 0.8852401981092998, 0.8515084271113968, 1.8159607067811956, 1.014084698739387], \"y\": [-1.0182527145102853, -2.2691708350668742, -1.6938835111056045, -2.1325228581750464, -4.0631784394527415, -1.8205513924393848, -3.1893678498892077, -1.8515767267611185]}, {\"marker\": {\"color\": \"rgb(44,255,150)\", \"line\": {\"width\": 1}, \"size\": 9, \"symbol\": 0}, \"mode\": \"markers\", \"name\": \"Asia3\", \"text\": [\"Bangladesh\", \"Cambodia\", \"Indonesia\", \"Lao People's Democratic Republic\", \"Myanmar\", \"Philippines\", \"Sri Lanka\", \"Thailand\", \"Viet Nam\"], \"type\": \"scatter\", \"uid\": \"02e1b3bd-5242-4484-9db6-7a0b61bdbd9a\", \"x\": [-2.962684688345844, -2.8248081720444738, -2.2890441738492946, -2.8200792765449934, -2.0710873548630757, -1.5796232332802, -2.318022669366338, -1.1864198859602553, -1.50291321372396], \"y\": [2.1555619555372973, 2.99292814800493, 2.1569054803508503, 2.683118812916563, 2.9179985639464845, 2.3922639719170817, 1.6227672996973552, 2.373955824236931, 3.1915220599529985]}, {\"marker\": {\"color\": \"rgb(151,255,0)\", \"line\": {\"width\": 1}, \"size\": 9, \"symbol\": 0}, \"mode\": \"markers\", \"name\": \"Asia4\", \"text\": [\"Democratic People's Republic of Korea\", \"India\", \"Nepal\", \"Timor-Leste\"], \"type\": \"scatter\", \"uid\": \"955dbac3-b0fb-49d4-a254-7d4beb02e9c1\", \"x\": [-2.551465145811014, -2.0959486456016725, -2.523104044473208, -2.7522535994625725], \"y\": [0.3474933616505065, 0.0243895474006073, -0.2713983772673335, 0.26068317493344]}, {\"marker\": {\"color\": \"rgb(255,234,0)\", \"line\": {\"width\": 1}, \"size\": 9, \"symbol\": 0}, \"mode\": \"markers\", \"name\": \"Asia5\", \"text\": [\"Brunei Darussalam\", \"China, Hong Kong SAR\", \"China, Macao SAR\", \"China, mainland\", \"China, Taiwan Province of\", \"Japan\", \"Malaysia\", \"Maldives\", \"Republic of Korea\"], \"type\": \"scatter\", \"uid\": \"95c3ed80-7070-41ba-bf35-7016ee37bf57\", \"x\": [0.7641208189542725, 2.870047899570383, 1.7646290609427753, 0.8072297762995769, 0.691629866020365, 0.9381204394351735, -0.006129132168770718, 0.5844104968893692, 0.23783212359766498], \"y\": [2.1418284253898916, 3.154522711023835, 2.864548350865009, 1.8109693101932656, 2.0265428572880193, 2.5507622434168384, 2.6265081501172944, 5.081512499687632, 2.77895195187075]}, {\"marker\": {\"color\": \"rgb(150,0,90)\", \"line\": {\"width\": 1}, \"size\": 9, \"symbol\": 1}, \"mode\": \"markers\", \"name\": \"Eurpoe0\", \"text\": [\"Bosnia and Herzegovina\", \"Bulgaria\", \"Republic of Moldova\", \"Serbia\"], \"type\": \"scatter\", \"uid\": \"8c47e71c-799a-4c50-9344-5d93e9fca463\", \"x\": [-0.4398346011607433, 0.9603595886425655, -0.005577842751399327, 0.6741377816947594], \"y\": [-1.3164194982192274, -0.2495835333112877, -0.28227341661659644, -0.6026848118923438]}, {\"marker\": {\"color\": \"rgb(0,0,200)\", \"line\": {\"width\": 1}, \"size\": 9, \"symbol\": 1}, \"mode\": \"markers\", \"name\": \"Eurpoe1\", \"text\": [\"Austria\", \"Belarus\", \"Belgium\", \"Croatia\", \"Czechia\", \"Denmark\", \"Estonia\", \"Finland\", \"France\", \"Germany\", \"Hungary\", \"Iceland\", \"Ireland\", \"Italy\", \"Latvia\", \"Lithuania\", \"Luxembourg\", \"Malta\", \"Montenegro\", \"Netherlands\", \"Norway\", \"Poland\", \"Portugal\", \"Russian Federation\", \"Slovakia\", \"Slovenia\", \"Spain\", \"Sweden\", \"Switzerland\", \"Ukraine\", \"United Kingdom\"], \"type\": \"scatter\", \"uid\": \"3122c2bb-45cb-4301-99a0-3a187853668b\", \"x\": [3.3451537380525913, 3.952101321516853, 2.141496741355391, 1.5526797169539217, 2.3811704471308577, 3.3874266503644743, 3.222693057242223, 3.786106855774535, 2.773769065781095, 3.089898272216792, 1.6727698593509053, 3.0172152199619613, 2.3765027634722533, 2.3915610675356223, 3.132676453592528, 3.8115236663286813, 3.2060386594436974, 2.103834739403056, 2.4095853816715658, 3.5148356669276684, 2.542642043227194, 3.707157030307946, 2.1590255284073163, 2.6916004152646296, 1.494982790778646, 1.9170613822359488, 2.298223716270315, 3.535503969671228, 2.202823498057272, 2.203177829159169, 2.11378405480431], \"y\": [0.5540131898227856, 0.7652031841385577, 0.026996937229607693, 0.15156332152787577, 0.26324407740573563, 0.5440564190807355, -0.9177897470307228, 0.4882424064454831, 0.05658213088382506, 0.5125229128728598, 0.255626578987079, 0.30143631964830764, -0.39824712552996244, 0.09001006767060105, -0.12420258660913074, 0.9653492701738827, 0.2744563450053484, 0.21909700847705074, -0.5105181230874344, 0.4291456232931485, 0.20938069920308566, 0.7167571156028768, 1.0008000914223818, -0.029226643120699985, 0.0948578157074419, -0.28960371098728915, 1.1849802823914812, 0.5399035395090552, -0.06720244423734019, -0.17146996591623148, -0.17652982403438944]}, {\"marker\": {\"color\": \"rgb(10,152,255)\", \"line\": {\"width\": 1}, \"size\": 9, \"symbol\": 1}, \"mode\": \"markers\", \"name\": \"Eurpoe2\", \"text\": [\"Albania\", \"Greece\", \"Romania\"], \"type\": \"scatter\", \"uid\": \"13e7e702-e723-4a37-a65b-2ba1579111dd\", \"x\": [2.4407185523595496, 2.1978078700150894, 1.841996188386057], \"y\": [-2.200207534746661, -1.4411654737196844, -1.0410906316902286]}, {\"marker\": {\"color\": \"rgb(44,255,150)\", \"line\": {\"width\": 1}, \"size\": 9, \"symbol\": 1}, \"mode\": \"markers\", \"name\": \"Eurpoe3\", \"text\": [], \"type\": \"scatter\", \"uid\": \"c870a141-afea-48b5-859e-62475457714f\", \"x\": [], \"y\": []}, {\"marker\": {\"color\": \"rgb(151,255,0)\", \"line\": {\"width\": 1}, \"size\": 9, \"symbol\": 1}, \"mode\": \"markers\", \"name\": \"Eurpoe4\", \"text\": [], \"type\": \"scatter\", \"uid\": \"691ae692-12ea-49f0-8649-2e1d8d084baf\", \"x\": [], \"y\": []}, {\"marker\": {\"color\": \"rgb(255,234,0)\", \"line\": {\"width\": 1}, \"size\": 9, \"symbol\": 1}, \"mode\": \"markers\", \"name\": \"Eurpoe5\", \"text\": [], \"type\": \"scatter\", \"uid\": \"46c590c8-7e3e-444d-93bc-120b1dc30d3d\", \"x\": [], \"y\": []}, {\"marker\": {\"color\": \"rgb(150,0,90)\", \"line\": {\"width\": 1}, \"size\": 9, \"symbol\": 2}, \"mode\": \"markers\", \"name\": \"Africa0\", \"text\": [\"Congo (note no data in Food suppley tables for DRC)\", \"Egypt\", \"Gabon\", \"Mauritania\", \"Mauritius\", \"Sao Tome and Principe\", \"South Africa\"], \"type\": \"scatter\", \"uid\": \"3ef319ac-5f13-4062-8f29-e7c44873ab72\", \"x\": [-1.4355195705850268, -0.9592394880665003, -0.7501484345551, -0.7789628774156595, -0.06328760979079437, -1.341408950540935, -0.5635236037496777], \"y\": [0.17908308962674135, -0.8056313115859217, 0.8738600726230518, -1.433441365667486, 0.25425754449646304, 0.22320346482443187, -0.6770766186458607]}, {\"marker\": {\"color\": \"rgb(0,0,200)\", \"line\": {\"width\": 1}, \"size\": 9, \"symbol\": 2}, \"mode\": \"markers\", \"name\": \"Africa1\", \"text\": [], \"type\": \"scatter\", \"uid\": \"59fac63a-43a8-4031-a680-13932c30d5ef\", \"x\": [], \"y\": []}, {\"marker\": {\"color\": \"rgb(10,152,255)\", \"line\": {\"width\": 1}, \"size\": 9, \"symbol\": 2}, \"mode\": \"markers\", \"name\": \"Africa2\", \"text\": [\"Algeria\", \"Morocco\", \"Sudan\", \"Tunisia\"], \"type\": \"scatter\", \"uid\": \"aab82dd6-c614-48ec-84e9-33da9cb00c69\", \"x\": [0.5966456068517741, 0.8407176172830627, 3.169512263823843, 0.6763198048034671], \"y\": [-2.699385861344075, -3.142643163782732, -4.164520272449868, -1.7991259280475613]}, {\"marker\": {\"color\": \"rgb(44,255,150)\", \"line\": {\"width\": 1}, \"size\": 9, \"symbol\": 2}, \"mode\": \"markers\", \"name\": \"Africa3\", \"text\": [\"Gambia\", \"Guinea\", \"Guinea-Bissau\", \"Liberia\", \"Madagascar\", \"Senegal\", \"Sierra Leone\"], \"type\": \"scatter\", \"uid\": \"37938af6-580a-427a-98ae-c352dc2fad90\", \"x\": [-1.6761351320939937, -2.5425623708509315, -2.335524291743871, -2.31255466064299, -2.644709869455552, -2.127111850623701, -2.7516009915269657], \"y\": [0.5278721787493851, 1.0632374066055497, 1.1193271346434503, 1.255379695016391, 1.1315436072078517, 0.8147949210622493, 1.4242765015759857]}, {\"marker\": {\"color\": \"rgb(151,255,0)\", \"line\": {\"width\": 1}, \"size\": 9, \"symbol\": 2}, \"mode\": \"markers\", \"name\": \"Africa4\", \"text\": [\"Angola\", \"Benin\", \"Botswana\", \"Burkina Faso\", \"Cabo Verde\", \"Cameroon\", \"Central African Republic\", \"Chad\", \"C\\u00c3\\u0192\\u00c2\\u00b4te d'Ivoire\", \"Djibouti\", \"Ethiopia\", \"Ghana\", \"Kenya\", \"Lesotho\", \"Malawi\", \"Mali\", \"Mozambique\", \"Namibia\", \"Niger\", \"Nigeria\", \"Rwanda\", \"Eswatini\", \"Togo\", \"Uganda\", \"United Republic of Tanzania\", \"Zambia\", \"Zimbabwe\"], \"type\": \"scatter\", \"uid\": \"4997262a-4752-4295-8b64-0536236cb36c\", \"x\": [-1.6865841077846788, -2.574306620188047, -1.322867563938104, -2.6988417531704827, -1.5124124266113383, -2.979352491177083, -1.8351398693733723, -2.069051170726937, -2.3357549227092353, -1.3334993036213825, -2.687635336603692, -2.449657985518813, -2.4517887410187043, -3.100653436584261, -3.5596959019966756, -2.307225376399263, -2.8953867774802333, -1.6367561245530655, -3.149529184881428, -2.423556029807336, -3.4872450543097906, -1.8127703845924166, -3.0254149402823947, -2.89415510149512, -2.9793875075126732, -2.579134510839204, -2.283532440881736], \"y\": [-0.5483874268521277, -0.06101701118963632, -0.9707486883297664, -0.7570949947112842, 0.07660305454844026, -0.8050963514459593, -1.0903321355223372, -0.5123436434042392, 0.126773260462239, -1.3490331630606174, -1.430444596711728, -0.396385477297346, -1.5773014125796636, -2.0721781342363923, -1.7461269870501357, -0.7200140202193901, -0.798282907030655, -0.8965507201708295, -1.4970933413683776, -0.44953636835826344, -1.7553359290743493, -0.9804335025843446, -0.7302448694536048, -1.0593593659050677, -1.0558610947394138, -0.832077387647394, -0.7921952017482877]}, {\"marker\": {\"color\": \"rgb(255,234,0)\", \"line\": {\"width\": 1}, \"size\": 9, \"symbol\": 2}, \"mode\": \"markers\", \"name\": \"Africa5\", \"text\": [], \"type\": \"scatter\", \"uid\": \"44c786d9-59f5-4a0a-bf13-12f54e6ada4d\", \"x\": [], \"y\": []}, {\"marker\": {\"color\": \"rgb(150,0,90)\", \"line\": {\"width\": 1}, \"size\": 9, \"symbol\": 3}, \"mode\": \"markers\", \"name\": \"North America0\", \"text\": [\"Barbados\", \"Belize\", \"Costa Rica\", \"Cuba\", \"Dominica\", \"Dominican Republic\", \"Grenada\", \"Jamaica\", \"Mexico\", \"Panama\", \"Saint Kitts and Nevis\", \"Saint Lucia\", \"Saint Vincent and the Grenadines\", \"Trinidad and Tobago\"], \"type\": \"scatter\", \"uid\": \"d77de7f7-6909-494b-a005-c7d674c14fb5\", \"x\": [0.5605303471987559, -1.1199571355088507, -0.15258352565086195, -1.4018342736743556, 0.1726721866601699, -1.0524901799530715, 0.20559908990425566, -0.28268186127456346, -0.3952692241908524, -0.3891270001318538, -0.023066921248773586, 0.4703950464845223, 0.2579947359297983, -0.12369762184280132], \"y\": [0.32922758607981684, 0.20990102728536483, 0.3032597367091397, 0.11797398430783289, 0.0020438627209608796, 0.6810679744945526, 0.8799489848709514, 0.44687007464030665, -0.5807037427739751, 0.939812046269748, 1.0854970369702428, 0.6694310548709408, 0.8627360120375328, 0.24504660332165237]}, {\"marker\": {\"color\": \"rgb(0,0,200)\", \"line\": {\"width\": 1}, \"size\": 9, \"symbol\": 3}, \"mode\": \"markers\", \"name\": \"North America1\", \"text\": [\"Bermuda\", \"Canada\", \"United States of America\"], \"type\": \"scatter\", \"uid\": \"55a4bef5-b47f-4197-8a2b-53e77b3c6dda\", \"x\": [2.234471586735467, 1.5742233909737213, 2.874872528136872], \"y\": [0.7769198557904577, -0.10009532386314264, 0.25132400209083355]}, {\"marker\": {\"color\": \"rgb(10,152,255)\", \"line\": {\"width\": 1}, \"size\": 9, \"symbol\": 3}, \"mode\": \"markers\", \"name\": \"North America2\", \"text\": [], \"type\": \"scatter\", \"uid\": \"145f439d-cdc9-4d63-a7ca-2ede75a8e49f\", \"x\": [], \"y\": []}, {\"marker\": {\"color\": \"rgb(44,255,150)\", \"line\": {\"width\": 1}, \"size\": 9, \"symbol\": 3}, \"mode\": \"markers\", \"name\": \"North America3\", \"text\": [], \"type\": \"scatter\", \"uid\": \"e73cd3c1-6c29-4873-8053-3bd974d2dfc3\", \"x\": [], \"y\": []}, {\"marker\": {\"color\": \"rgb(151,255,0)\", \"line\": {\"width\": 1}, \"size\": 9, \"symbol\": 3}, \"mode\": \"markers\", \"name\": \"North America4\", \"text\": [\"El Salvador\", \"Guatemala\", \"Haiti\", \"Honduras\", \"Nicaragua\"], \"type\": \"scatter\", \"uid\": \"d9bfc68f-16ac-480d-b33f-8a7751712de3\", \"x\": [-1.617280689424453, -1.7056440960682122, -2.8472925218127094, -1.6960868773779165, -2.7090098019227518], \"y\": [-1.1221238428733848, -0.9489861197311756, -0.29324096737323624, -0.6803318527200171, -0.5538076283404966]}, {\"marker\": {\"color\": \"rgb(255,234,0)\", \"line\": {\"width\": 1}, \"size\": 9, \"symbol\": 3}, \"mode\": \"markers\", \"name\": \"North America5\", \"text\": [\"Antigua and Barbuda\", \"Bahamas\"], \"type\": \"scatter\", \"uid\": \"27d08eaa-079f-443c-8e79-ed6e8240ce75\", \"x\": [0.8452852383786159, 1.3400496560739759], \"y\": [1.2309197452370453, 1.2213046803542615]}, {\"marker\": {\"color\": \"rgb(150,0,90)\", \"line\": {\"width\": 1}, \"size\": 9, \"symbol\": 4}, \"mode\": \"markers\", \"name\": \"South America0\", \"text\": [\"Bolivia (Plurinational State of)\", \"Brazil\", \"Chile\", \"Colombia\", \"Ecuador\", \"Paraguay\", \"Peru\", \"Venezuela (Bolivarian Republic of)\"], \"type\": \"scatter\", \"uid\": \"278a8cd3-e013-446c-bed0-5f03d53f7965\", \"x\": [-0.48434267721650154, 0.45672615293435687, 1.1204747533167934, -0.3074188087339174, 0.013807238307056364, 0.10619605779131586, -1.129846991570885, -0.16497447797393516], \"y\": [-0.34767916363764706, -0.21022415008442458, -0.0420496705691412, -0.03674684736287171, 0.6222351888067891, -0.23588755153081586, -0.003201503914810501, 0.03305262898969059]}, {\"marker\": {\"color\": \"rgb(0,0,200)\", \"line\": {\"width\": 1}, \"size\": 9, \"symbol\": 4}, \"mode\": \"markers\", \"name\": \"South America1\", \"text\": [\"Argentina\"], \"type\": \"scatter\", \"uid\": \"c2fe365c-cd7f-4cd3-9680-bb3248c2d63b\", \"x\": [3.0151047757423], \"y\": [-0.812861737176926]}, {\"marker\": {\"color\": \"rgb(10,152,255)\", \"line\": {\"width\": 1}, \"size\": 9, \"symbol\": 4}, \"mode\": \"markers\", \"name\": \"South America2\", \"text\": [\"Uruguay\"], \"type\": \"scatter\", \"uid\": \"96475593-e680-4bdf-84d0-1c2ca9a29adc\", \"x\": [1.695354784351359], \"y\": [-1.0349388900555005]}, {\"marker\": {\"color\": \"rgb(44,255,150)\", \"line\": {\"width\": 1}, \"size\": 9, \"symbol\": 4}, \"mode\": \"markers\", \"name\": \"South America3\", \"text\": [\"Guyana\", \"Suriname\"], \"type\": \"scatter\", \"uid\": \"6b96f9e3-f407-4137-ab19-ef16dc807f18\", \"x\": [-0.9919807882396773, -0.7798285826562018], \"y\": [1.1995353456469375, 1.2397112629276525]}, {\"marker\": {\"color\": \"rgb(151,255,0)\", \"line\": {\"width\": 1}, \"size\": 9, \"symbol\": 4}, \"mode\": \"markers\", \"name\": \"South America4\", \"text\": [], \"type\": \"scatter\", \"uid\": \"9550a7fe-b191-4ec0-a370-37319082c98d\", \"x\": [], \"y\": []}, {\"marker\": {\"color\": \"rgb(255,234,0)\", \"line\": {\"width\": 1}, \"size\": 9, \"symbol\": 4}, \"mode\": \"markers\", \"name\": \"South America5\", \"text\": [], \"type\": \"scatter\", \"uid\": \"47761f62-0de0-4ee5-bd33-0079ce546b33\", \"x\": [], \"y\": []}, {\"marker\": {\"color\": \"rgb(150,0,90)\", \"line\": {\"width\": 1}, \"size\": 9, \"symbol\": 5}, \"mode\": \"markers\", \"name\": \"Australia0\", \"text\": [\"Fiji\", \"Vanuatu\"], \"type\": \"scatter\", \"uid\": \"e9f5afa6-5ba6-4550-8d6d-d52da3a325ba\", \"x\": [-0.6346587047438784, -0.703411362911452], \"y\": [-0.07026351207310472, 0.7782551003836053]}, {\"marker\": {\"color\": \"rgb(0,0,200)\", \"line\": {\"width\": 1}, \"size\": 9, \"symbol\": 5}, \"mode\": \"markers\", \"name\": \"Australia1\", \"text\": [\"Australia\", \"New Caledonia\"], \"type\": \"scatter\", \"uid\": \"fe19bada-f4c9-486f-8984-7a559035a63b\", \"x\": [2.5062843650504147, 1.2829898333175167], \"y\": [-0.291688062312058, 0.7574513420314004]}, {\"marker\": {\"color\": \"rgb(10,152,255)\", \"line\": {\"width\": 1}, \"size\": 9, \"symbol\": 5}, \"mode\": \"markers\", \"name\": \"Australia2\", \"text\": [\"New Zealand\"], \"type\": \"scatter\", \"uid\": \"4a9d47b6-4d66-4598-84e7-725c6fa139fc\", \"x\": [1.5976076322251351], \"y\": [-0.8673891526340163]}, {\"marker\": {\"color\": \"rgb(44,255,150)\", \"line\": {\"width\": 1}, \"size\": 9, \"symbol\": 5}, \"mode\": \"markers\", \"name\": \"Australia3\", \"text\": [\"Kiribati\"], \"type\": \"scatter\", \"uid\": \"ce6943a3-b434-42db-add5-756c0577a411\", \"x\": [-0.8277764095090926], \"y\": [2.3687447980423615]}, {\"marker\": {\"color\": \"rgb(151,255,0)\", \"line\": {\"width\": 1}, \"size\": 9, \"symbol\": 5}, \"mode\": \"markers\", \"name\": \"Australia4\", \"text\": [\"Solomon Islands\"], \"type\": \"scatter\", \"uid\": \"da07950d-3e0c-419a-a373-fff624e696e6\", \"x\": [-2.053959275490055], \"y\": [0.4198394061094373]}, {\"marker\": {\"color\": \"rgb(255,234,0)\", \"line\": {\"width\": 1}, \"size\": 9, \"symbol\": 5}, \"mode\": \"markers\", \"name\": \"Australia5\", \"text\": [\"French Polynesia\", \"Samoa\"], \"type\": \"scatter\", \"uid\": \"0290c1e8-6876-4f1c-98c1-494d4e98a22a\", \"x\": [1.5412862767389222, 0.7779518326263819], \"y\": [1.173086006489949, 1.1336625344557723]}, {\"marker\": {\"color\": \"rgb(150,0,90)\", \"line\": {\"width\": 1}, \"size\": 9, \"symbol\": 6}, \"mode\": \"markers\", \"name\": \"Europe0\", \"text\": [\"North Macedonia\"], \"type\": \"scatter\", \"uid\": \"dcfee6bf-5bc7-4b95-95ed-ab7486d15e8e\", \"x\": [0.12494599807255044], \"y\": [-0.754149283831443]}, {\"marker\": {\"color\": \"rgb(0,0,200)\", \"line\": {\"width\": 1}, \"size\": 9, \"symbol\": 6}, \"mode\": \"markers\", \"name\": \"Europe1\", \"text\": [], \"type\": \"scatter\", \"uid\": \"ca5b08c1-4442-443b-b173-0cfc65192857\", \"x\": [], \"y\": []}, {\"marker\": {\"color\": \"rgb(10,152,255)\", \"line\": {\"width\": 1}, \"size\": 9, \"symbol\": 6}, \"mode\": \"markers\", \"name\": \"Europe2\", \"text\": [], \"type\": \"scatter\", \"uid\": \"b527c3ec-6a8c-49c3-a750-2db5c4b155e7\", \"x\": [], \"y\": []}, {\"marker\": {\"color\": \"rgb(44,255,150)\", \"line\": {\"width\": 1}, \"size\": 9, \"symbol\": 6}, \"mode\": \"markers\", \"name\": \"Europe3\", \"text\": [], \"type\": \"scatter\", \"uid\": \"2c5561d9-8fac-465f-a1e2-d82beb7affc2\", \"x\": [], \"y\": []}, {\"marker\": {\"color\": \"rgb(151,255,0)\", \"line\": {\"width\": 1}, \"size\": 9, \"symbol\": 6}, \"mode\": \"markers\", \"name\": \"Europe4\", \"text\": [], \"type\": \"scatter\", \"uid\": \"db3e03d2-929e-444d-8d48-261232fe6870\", \"x\": [], \"y\": []}, {\"marker\": {\"color\": \"rgb(255,234,0)\", \"line\": {\"width\": 1}, \"size\": 9, \"symbol\": 6}, \"mode\": \"markers\", \"name\": \"Europe5\", \"text\": [], \"type\": \"scatter\", \"uid\": \"95940a27-34ec-4272-b1b9-d04d8a530f79\", \"x\": [], \"y\": []}, {\"marker\": {\"color\": \"rgba(220, 220, 220, .4)\", \"line\": {\"width\": 1}, \"size\": 20}, \"mode\": \"markers\", \"name\": \"Center\", \"type\": \"scatter\", \"uid\": \"fa9c9352-d156-4f10-9c2a-07c1f55262e5\", \"x\": [-0.22385861225040057, 2.632424965023448, 1.4807155861819845, -2.028656190280074, -2.395226480040596, 1.0120357194891312], \"y\": [-0.1572758249390328, 0.19378367795490897, -2.1428806609335638, 1.8227076298967528, -0.743177884159248, 2.2919322666453508]}],\n",
       "                        {\"hovermode\": \"closest\", \"showlegend\": true, \"title\": {\"text\": \"2 component PCA Kmeans Clustering Continent\"}, \"xaxis\": {\"gridwidth\": 2, \"ticklen\": 5, \"title\": {\"text\": \"principal component 1\"}, \"zeroline\": false}, \"yaxis\": {\"gridwidth\": 2, \"ticklen\": 5, \"title\": {\"text\": \"principal component 2\"}}},\n",
       "                        {\"showLink\": false, \"linkText\": \"Export to plot.ly\", \"plotlyServerURL\": \"https://plot.ly\", \"responsive\": true}\n",
       "                    ).then(function(){\n",
       "                            \n",
       "var gd = document.getElementById('cba40a90-7af4-4678-8dc6-b04c30944ec7');\n",
       "var x = new MutationObserver(function (mutations, observer) {{\n",
       "        var display = window.getComputedStyle(gd).display;\n",
       "        if (!display || display === 'none') {{\n",
       "            console.log([gd, 'removed!']);\n",
       "            Plotly.purge(gd);\n",
       "            observer.disconnect();\n",
       "        }}\n",
       "}});\n",
       "\n",
       "// Listen for the removal of the full notebook cells\n",
       "var notebookContainer = gd.closest('#notebook-container');\n",
       "if (notebookContainer) {{\n",
       "    x.observe(notebookContainer, {childList: true});\n",
       "}}\n",
       "\n",
       "// Listen for the clearing of the current output cell\n",
       "var outputEl = gd.closest('.output');\n",
       "if (outputEl) {{\n",
       "    x.observe(outputEl, {childList: true});\n",
       "}}\n",
       "\n",
       "                        })\n",
       "                };\n",
       "                });\n",
       "            </script>\n",
       "        </div>"
      ]
     },
     "metadata": {},
     "output_type": "display_data"
    },
    {
     "name": "stderr",
     "output_type": "stream",
     "text": [
      "C:\\Users\\XuP-intern\\AppData\\Local\\Continuum\\anaconda3\\lib\\site-packages\\IPython\\core\\display.py:689: UserWarning:\n",
      "\n",
      "Consider using IPython.display.IFrame instead\n",
      "\n"
     ]
    }
   ],
   "source": [
    "# Calling plotly function \n",
    "\n",
    "plot_plotly(protein_group_df,\"Continent\",continent_centers,6,\"Protein Foods\",'')"
   ]
  },
  {
   "cell_type": "markdown",
   "metadata": {},
   "source": [
    "#### Region Level"
   ]
  },
  {
   "cell_type": "markdown",
   "metadata": {},
   "source": [
    "###### Add Region and Development Level"
   ]
  },
  {
   "cell_type": "code",
   "execution_count": 112,
   "metadata": {},
   "outputs": [
    {
     "data": {
      "text/html": [
       "<div>\n",
       "<style scoped>\n",
       "    .dataframe tbody tr th:only-of-type {\n",
       "        vertical-align: middle;\n",
       "    }\n",
       "\n",
       "    .dataframe tbody tr th {\n",
       "        vertical-align: top;\n",
       "    }\n",
       "\n",
       "    .dataframe thead th {\n",
       "        text-align: right;\n",
       "    }\n",
       "</style>\n",
       "<table border=\"1\" class=\"dataframe\">\n",
       "  <thead>\n",
       "    <tr style=\"text-align: right;\">\n",
       "      <th></th>\n",
       "      <th>Code</th>\n",
       "      <th>Region</th>\n",
       "      <th>Income group</th>\n",
       "    </tr>\n",
       "  </thead>\n",
       "  <tbody>\n",
       "    <tr>\n",
       "      <th>0</th>\n",
       "      <td>x</td>\n",
       "      <td>x</td>\n",
       "      <td>x</td>\n",
       "    </tr>\n",
       "    <tr>\n",
       "      <th>1</th>\n",
       "      <td>AFG</td>\n",
       "      <td>South Asia</td>\n",
       "      <td>Low income</td>\n",
       "    </tr>\n",
       "    <tr>\n",
       "      <th>2</th>\n",
       "      <td>ALB</td>\n",
       "      <td>Europe &amp; Central Asia</td>\n",
       "      <td>Upper middle income</td>\n",
       "    </tr>\n",
       "    <tr>\n",
       "      <th>3</th>\n",
       "      <td>DZA</td>\n",
       "      <td>Middle East &amp; North Africa</td>\n",
       "      <td>Upper middle income</td>\n",
       "    </tr>\n",
       "    <tr>\n",
       "      <th>4</th>\n",
       "      <td>ASM</td>\n",
       "      <td>East Asia &amp; Pacific</td>\n",
       "      <td>Upper middle income</td>\n",
       "    </tr>\n",
       "  </tbody>\n",
       "</table>\n",
       "</div>"
      ],
      "text/plain": [
       "  Code                      Region         Income group\n",
       "0    x                           x                    x\n",
       "1  AFG                  South Asia           Low income\n",
       "2  ALB       Europe & Central Asia  Upper middle income\n",
       "3  DZA  Middle East & North Africa  Upper middle income\n",
       "4  ASM         East Asia & Pacific  Upper middle income"
      ]
     },
     "execution_count": 112,
     "metadata": {},
     "output_type": "execute_result"
    }
   ],
   "source": [
    "# Read in UN's country classification dataset. \n",
    "class_df = pd.read_excel(\"CLASS.xls\",skiprows = 4)\n",
    "class_df = class_df.drop([\"Lending category\",\"Other\",\"Economy\",\"x\",\"x.1\",\"X\"], axis = 1)\n",
    "class_df.head()"
   ]
  },
  {
   "cell_type": "code",
   "execution_count": 113,
   "metadata": {},
   "outputs": [
    {
     "name": "stderr",
     "output_type": "stream",
     "text": [
      "C:\\Users\\XuP-intern\\AppData\\Local\\Continuum\\anaconda3\\lib\\site-packages\\ipykernel_launcher.py:2: SettingWithCopyWarning:\n",
      "\n",
      "\n",
      "A value is trying to be set on a copy of a slice from a DataFrame.\n",
      "Try using .loc[row_indexer,col_indexer] = value instead\n",
      "\n",
      "See the caveats in the documentation: http://pandas.pydata.org/pandas-docs/stable/indexing.html#indexing-view-versus-copy\n",
      "\n",
      "C:\\Users\\XuP-intern\\AppData\\Local\\Continuum\\anaconda3\\lib\\site-packages\\pandas\\core\\generic.py:5890: SettingWithCopyWarning:\n",
      "\n",
      "\n",
      "A value is trying to be set on a copy of a slice from a DataFrame\n",
      "\n",
      "See the caveats in the documentation: http://pandas.pydata.org/pandas-docs/stable/indexing.html#indexing-view-versus-copy\n",
      "\n"
     ]
    },
    {
     "data": {
      "text/html": [
       "<div>\n",
       "<style scoped>\n",
       "    .dataframe tbody tr th:only-of-type {\n",
       "        vertical-align: middle;\n",
       "    }\n",
       "\n",
       "    .dataframe tbody tr th {\n",
       "        vertical-align: top;\n",
       "    }\n",
       "\n",
       "    .dataframe thead th {\n",
       "        text-align: right;\n",
       "    }\n",
       "</style>\n",
       "<table border=\"1\" class=\"dataframe\">\n",
       "  <thead>\n",
       "    <tr style=\"text-align: right;\">\n",
       "      <th></th>\n",
       "      <th>Country</th>\n",
       "      <th>Milk</th>\n",
       "      <th>Bovine meat</th>\n",
       "      <th>Sheep and goat meat</th>\n",
       "      <th>Pigmeat</th>\n",
       "      <th>Poultry</th>\n",
       "      <th>Eggs</th>\n",
       "      <th>Fish</th>\n",
       "      <th>Maize</th>\n",
       "      <th>Rice</th>\n",
       "      <th>Wheat</th>\n",
       "      <th>Rye</th>\n",
       "      <th>Barley</th>\n",
       "      <th>Pulses</th>\n",
       "      <th>Starchy roots</th>\n",
       "      <th>principal component 1</th>\n",
       "      <th>principal component 2</th>\n",
       "      <th>Continent</th>\n",
       "      <th>Continent_Cluster</th>\n",
       "      <th>Code</th>\n",
       "    </tr>\n",
       "  </thead>\n",
       "  <tbody>\n",
       "    <tr>\n",
       "      <th>0</th>\n",
       "      <td>Afghanistan</td>\n",
       "      <td>6.02</td>\n",
       "      <td>2.01</td>\n",
       "      <td>2.02</td>\n",
       "      <td>0.00</td>\n",
       "      <td>0.79</td>\n",
       "      <td>0.32</td>\n",
       "      <td>0.02</td>\n",
       "      <td>0.57</td>\n",
       "      <td>2.89</td>\n",
       "      <td>37.12</td>\n",
       "      <td>0.00</td>\n",
       "      <td>0.72</td>\n",
       "      <td>1.56</td>\n",
       "      <td>0.22</td>\n",
       "      <td>-0.518736</td>\n",
       "      <td>-1.454621</td>\n",
       "      <td>Asia</td>\n",
       "      <td>0</td>\n",
       "      <td>AFG</td>\n",
       "    </tr>\n",
       "    <tr>\n",
       "      <th>1</th>\n",
       "      <td>Albania</td>\n",
       "      <td>29.67</td>\n",
       "      <td>9.18</td>\n",
       "      <td>5.35</td>\n",
       "      <td>2.76</td>\n",
       "      <td>4.91</td>\n",
       "      <td>3.24</td>\n",
       "      <td>1.50</td>\n",
       "      <td>0.36</td>\n",
       "      <td>1.22</td>\n",
       "      <td>33.71</td>\n",
       "      <td>0.13</td>\n",
       "      <td>0.03</td>\n",
       "      <td>3.06</td>\n",
       "      <td>1.86</td>\n",
       "      <td>2.440719</td>\n",
       "      <td>-2.200208</td>\n",
       "      <td>Eurpoe</td>\n",
       "      <td>2</td>\n",
       "      <td>ALB</td>\n",
       "    </tr>\n",
       "    <tr>\n",
       "      <th>2</th>\n",
       "      <td>Algeria</td>\n",
       "      <td>13.78</td>\n",
       "      <td>2.18</td>\n",
       "      <td>2.70</td>\n",
       "      <td>0.00</td>\n",
       "      <td>2.30</td>\n",
       "      <td>2.09</td>\n",
       "      <td>1.23</td>\n",
       "      <td>3.09</td>\n",
       "      <td>0.50</td>\n",
       "      <td>43.03</td>\n",
       "      <td>0.00</td>\n",
       "      <td>2.61</td>\n",
       "      <td>4.55</td>\n",
       "      <td>2.67</td>\n",
       "      <td>0.596646</td>\n",
       "      <td>-2.699386</td>\n",
       "      <td>Africa</td>\n",
       "      <td>2</td>\n",
       "      <td>DZA</td>\n",
       "    </tr>\n",
       "    <tr>\n",
       "      <th>3</th>\n",
       "      <td>Angola</td>\n",
       "      <td>1.02</td>\n",
       "      <td>3.27</td>\n",
       "      <td>0.44</td>\n",
       "      <td>2.34</td>\n",
       "      <td>5.55</td>\n",
       "      <td>0.51</td>\n",
       "      <td>4.14</td>\n",
       "      <td>8.80</td>\n",
       "      <td>1.55</td>\n",
       "      <td>8.46</td>\n",
       "      <td>0.00</td>\n",
       "      <td>0.00</td>\n",
       "      <td>5.23</td>\n",
       "      <td>7.13</td>\n",
       "      <td>-1.686584</td>\n",
       "      <td>-0.548387</td>\n",
       "      <td>Africa</td>\n",
       "      <td>4</td>\n",
       "      <td>AGO</td>\n",
       "    </tr>\n",
       "    <tr>\n",
       "      <th>4</th>\n",
       "      <td>Antigua and Barbuda</td>\n",
       "      <td>12.22</td>\n",
       "      <td>5.39</td>\n",
       "      <td>0.60</td>\n",
       "      <td>3.26</td>\n",
       "      <td>18.59</td>\n",
       "      <td>1.30</td>\n",
       "      <td>13.11</td>\n",
       "      <td>0.39</td>\n",
       "      <td>2.15</td>\n",
       "      <td>13.39</td>\n",
       "      <td>0.00</td>\n",
       "      <td>0.00</td>\n",
       "      <td>1.66</td>\n",
       "      <td>0.86</td>\n",
       "      <td>0.845285</td>\n",
       "      <td>1.230920</td>\n",
       "      <td>North America</td>\n",
       "      <td>5</td>\n",
       "      <td>ATG</td>\n",
       "    </tr>\n",
       "  </tbody>\n",
       "</table>\n",
       "</div>"
      ],
      "text/plain": [
       "               Country   Milk  Bovine meat  Sheep and goat meat  Pigmeat  \\\n",
       "0          Afghanistan   6.02         2.01                 2.02     0.00   \n",
       "1              Albania  29.67         9.18                 5.35     2.76   \n",
       "2              Algeria  13.78         2.18                 2.70     0.00   \n",
       "3               Angola   1.02         3.27                 0.44     2.34   \n",
       "4  Antigua and Barbuda  12.22         5.39                 0.60     3.26   \n",
       "\n",
       "   Poultry  Eggs   Fish  Maize  Rice  Wheat   Rye  Barley  Pulses  \\\n",
       "0     0.79  0.32   0.02   0.57  2.89  37.12  0.00    0.72    1.56   \n",
       "1     4.91  3.24   1.50   0.36  1.22  33.71  0.13    0.03    3.06   \n",
       "2     2.30  2.09   1.23   3.09  0.50  43.03  0.00    2.61    4.55   \n",
       "3     5.55  0.51   4.14   8.80  1.55   8.46  0.00    0.00    5.23   \n",
       "4    18.59  1.30  13.11   0.39  2.15  13.39  0.00    0.00    1.66   \n",
       "\n",
       "   Starchy roots  principal component 1  principal component 2      Continent  \\\n",
       "0           0.22              -0.518736              -1.454621           Asia   \n",
       "1           1.86               2.440719              -2.200208         Eurpoe   \n",
       "2           2.67               0.596646              -2.699386         Africa   \n",
       "3           7.13              -1.686584              -0.548387         Africa   \n",
       "4           0.86               0.845285               1.230920  North America   \n",
       "\n",
       "   Continent_Cluster Code  \n",
       "0                  0  AFG  \n",
       "1                  2  ALB  \n",
       "2                  2  DZA  \n",
       "3                  4  AGO  \n",
       "4                  5  ATG  "
      ]
     },
     "execution_count": 113,
     "metadata": {},
     "output_type": "execute_result"
    }
   ],
   "source": [
    "# Convert to Country Code Alpha 3 for easier merging \n",
    "protein_group_df[\"Code\"] = country_codes\n",
    "protein_group_df[\"Code\"].replace(manual_country_code_dict, inplace = True)\n",
    "protein_group_df.head()"
   ]
  },
  {
   "cell_type": "code",
   "execution_count": 114,
   "metadata": {},
   "outputs": [
    {
     "data": {
      "text/html": [
       "<div>\n",
       "<style scoped>\n",
       "    .dataframe tbody tr th:only-of-type {\n",
       "        vertical-align: middle;\n",
       "    }\n",
       "\n",
       "    .dataframe tbody tr th {\n",
       "        vertical-align: top;\n",
       "    }\n",
       "\n",
       "    .dataframe thead th {\n",
       "        text-align: right;\n",
       "    }\n",
       "</style>\n",
       "<table border=\"1\" class=\"dataframe\">\n",
       "  <thead>\n",
       "    <tr style=\"text-align: right;\">\n",
       "      <th></th>\n",
       "      <th>Country</th>\n",
       "      <th>Milk</th>\n",
       "      <th>Bovine meat</th>\n",
       "      <th>Sheep and goat meat</th>\n",
       "      <th>Pigmeat</th>\n",
       "      <th>Poultry</th>\n",
       "      <th>Eggs</th>\n",
       "      <th>Fish</th>\n",
       "      <th>Maize</th>\n",
       "      <th>Rice</th>\n",
       "      <th>...</th>\n",
       "      <th>Barley</th>\n",
       "      <th>Pulses</th>\n",
       "      <th>Starchy roots</th>\n",
       "      <th>principal component 1</th>\n",
       "      <th>principal component 2</th>\n",
       "      <th>Continent</th>\n",
       "      <th>Continent_Cluster</th>\n",
       "      <th>Code</th>\n",
       "      <th>Region</th>\n",
       "      <th>Income group</th>\n",
       "    </tr>\n",
       "  </thead>\n",
       "  <tbody>\n",
       "    <tr>\n",
       "      <th>0</th>\n",
       "      <td>Afghanistan</td>\n",
       "      <td>6.02</td>\n",
       "      <td>2.01</td>\n",
       "      <td>2.02</td>\n",
       "      <td>0.00</td>\n",
       "      <td>0.79</td>\n",
       "      <td>0.32</td>\n",
       "      <td>0.02</td>\n",
       "      <td>0.57</td>\n",
       "      <td>2.89</td>\n",
       "      <td>...</td>\n",
       "      <td>0.72</td>\n",
       "      <td>1.56</td>\n",
       "      <td>0.22</td>\n",
       "      <td>-0.518736</td>\n",
       "      <td>-1.454621</td>\n",
       "      <td>Asia</td>\n",
       "      <td>0</td>\n",
       "      <td>AFG</td>\n",
       "      <td>South Asia</td>\n",
       "      <td>Low income</td>\n",
       "    </tr>\n",
       "    <tr>\n",
       "      <th>1</th>\n",
       "      <td>Albania</td>\n",
       "      <td>29.67</td>\n",
       "      <td>9.18</td>\n",
       "      <td>5.35</td>\n",
       "      <td>2.76</td>\n",
       "      <td>4.91</td>\n",
       "      <td>3.24</td>\n",
       "      <td>1.50</td>\n",
       "      <td>0.36</td>\n",
       "      <td>1.22</td>\n",
       "      <td>...</td>\n",
       "      <td>0.03</td>\n",
       "      <td>3.06</td>\n",
       "      <td>1.86</td>\n",
       "      <td>2.440719</td>\n",
       "      <td>-2.200208</td>\n",
       "      <td>Eurpoe</td>\n",
       "      <td>2</td>\n",
       "      <td>ALB</td>\n",
       "      <td>Europe &amp; Central Asia</td>\n",
       "      <td>Upper middle income</td>\n",
       "    </tr>\n",
       "    <tr>\n",
       "      <th>2</th>\n",
       "      <td>Algeria</td>\n",
       "      <td>13.78</td>\n",
       "      <td>2.18</td>\n",
       "      <td>2.70</td>\n",
       "      <td>0.00</td>\n",
       "      <td>2.30</td>\n",
       "      <td>2.09</td>\n",
       "      <td>1.23</td>\n",
       "      <td>3.09</td>\n",
       "      <td>0.50</td>\n",
       "      <td>...</td>\n",
       "      <td>2.61</td>\n",
       "      <td>4.55</td>\n",
       "      <td>2.67</td>\n",
       "      <td>0.596646</td>\n",
       "      <td>-2.699386</td>\n",
       "      <td>Africa</td>\n",
       "      <td>2</td>\n",
       "      <td>DZA</td>\n",
       "      <td>Middle East &amp; North Africa</td>\n",
       "      <td>Upper middle income</td>\n",
       "    </tr>\n",
       "    <tr>\n",
       "      <th>3</th>\n",
       "      <td>Angola</td>\n",
       "      <td>1.02</td>\n",
       "      <td>3.27</td>\n",
       "      <td>0.44</td>\n",
       "      <td>2.34</td>\n",
       "      <td>5.55</td>\n",
       "      <td>0.51</td>\n",
       "      <td>4.14</td>\n",
       "      <td>8.80</td>\n",
       "      <td>1.55</td>\n",
       "      <td>...</td>\n",
       "      <td>0.00</td>\n",
       "      <td>5.23</td>\n",
       "      <td>7.13</td>\n",
       "      <td>-1.686584</td>\n",
       "      <td>-0.548387</td>\n",
       "      <td>Africa</td>\n",
       "      <td>4</td>\n",
       "      <td>AGO</td>\n",
       "      <td>Sub-Saharan Africa</td>\n",
       "      <td>Lower middle income</td>\n",
       "    </tr>\n",
       "    <tr>\n",
       "      <th>4</th>\n",
       "      <td>Antigua and Barbuda</td>\n",
       "      <td>12.22</td>\n",
       "      <td>5.39</td>\n",
       "      <td>0.60</td>\n",
       "      <td>3.26</td>\n",
       "      <td>18.59</td>\n",
       "      <td>1.30</td>\n",
       "      <td>13.11</td>\n",
       "      <td>0.39</td>\n",
       "      <td>2.15</td>\n",
       "      <td>...</td>\n",
       "      <td>0.00</td>\n",
       "      <td>1.66</td>\n",
       "      <td>0.86</td>\n",
       "      <td>0.845285</td>\n",
       "      <td>1.230920</td>\n",
       "      <td>North America</td>\n",
       "      <td>5</td>\n",
       "      <td>ATG</td>\n",
       "      <td>Latin America &amp; Caribbean</td>\n",
       "      <td>High income</td>\n",
       "    </tr>\n",
       "  </tbody>\n",
       "</table>\n",
       "<p>5 rows × 22 columns</p>\n",
       "</div>"
      ],
      "text/plain": [
       "               Country   Milk  Bovine meat  Sheep and goat meat  Pigmeat  \\\n",
       "0          Afghanistan   6.02         2.01                 2.02     0.00   \n",
       "1              Albania  29.67         9.18                 5.35     2.76   \n",
       "2              Algeria  13.78         2.18                 2.70     0.00   \n",
       "3               Angola   1.02         3.27                 0.44     2.34   \n",
       "4  Antigua and Barbuda  12.22         5.39                 0.60     3.26   \n",
       "\n",
       "   Poultry  Eggs   Fish  Maize  Rice         ...           Barley  Pulses  \\\n",
       "0     0.79  0.32   0.02   0.57  2.89         ...             0.72    1.56   \n",
       "1     4.91  3.24   1.50   0.36  1.22         ...             0.03    3.06   \n",
       "2     2.30  2.09   1.23   3.09  0.50         ...             2.61    4.55   \n",
       "3     5.55  0.51   4.14   8.80  1.55         ...             0.00    5.23   \n",
       "4    18.59  1.30  13.11   0.39  2.15         ...             0.00    1.66   \n",
       "\n",
       "   Starchy roots  principal component 1  principal component 2      Continent  \\\n",
       "0           0.22              -0.518736              -1.454621           Asia   \n",
       "1           1.86               2.440719              -2.200208         Eurpoe   \n",
       "2           2.67               0.596646              -2.699386         Africa   \n",
       "3           7.13              -1.686584              -0.548387         Africa   \n",
       "4           0.86               0.845285               1.230920  North America   \n",
       "\n",
       "   Continent_Cluster Code                      Region         Income group  \n",
       "0                  0  AFG                  South Asia           Low income  \n",
       "1                  2  ALB       Europe & Central Asia  Upper middle income  \n",
       "2                  2  DZA  Middle East & North Africa  Upper middle income  \n",
       "3                  4  AGO          Sub-Saharan Africa  Lower middle income  \n",
       "4                  5  ATG   Latin America & Caribbean          High income  \n",
       "\n",
       "[5 rows x 22 columns]"
      ]
     },
     "execution_count": 114,
     "metadata": {},
     "output_type": "execute_result"
    }
   ],
   "source": [
    "# Intermediate dataset combined using Country Code, which gives us information on country classification. \n",
    "protein_group_merged_df = protein_group_df.merge(class_df,how= \"left\", on=\"Code\")\n",
    "protein_group_merged_df.head()"
   ]
  },
  {
   "cell_type": "code",
   "execution_count": 115,
   "metadata": {},
   "outputs": [
    {
     "name": "stdout",
     "output_type": "stream",
     "text": [
      "['South Asia' 'Europe & Central Asia' 'Middle East & North Africa'\n",
      " 'Sub-Saharan Africa' 'Latin America & Caribbean' 'East Asia & Pacific'\n",
      " 'North America']\n"
     ]
    },
    {
     "name": "stderr",
     "output_type": "stream",
     "text": [
      "C:\\Users\\XuP-intern\\AppData\\Local\\Continuum\\anaconda3\\lib\\site-packages\\matplotlib\\legend.py:798: UserWarning:\n",
      "\n",
      "Legend does not support 's' instances.\n",
      "A proxy artist may be used instead.\n",
      "See: http://matplotlib.org/users/legend_guide.html#creating-artists-specifically-for-adding-to-the-legend-aka-proxy-artists\n",
      "\n",
      "C:\\Users\\XuP-intern\\AppData\\Local\\Continuum\\anaconda3\\lib\\site-packages\\matplotlib\\legend.py:798: UserWarning:\n",
      "\n",
      "Legend does not support 'd' instances.\n",
      "A proxy artist may be used instead.\n",
      "See: http://matplotlib.org/users/legend_guide.html#creating-artists-specifically-for-adding-to-the-legend-aka-proxy-artists\n",
      "\n",
      "C:\\Users\\XuP-intern\\AppData\\Local\\Continuum\\anaconda3\\lib\\site-packages\\matplotlib\\legend.py:798: UserWarning:\n",
      "\n",
      "Legend does not support 'p' instances.\n",
      "A proxy artist may be used instead.\n",
      "See: http://matplotlib.org/users/legend_guide.html#creating-artists-specifically-for-adding-to-the-legend-aka-proxy-artists\n",
      "\n",
      "C:\\Users\\XuP-intern\\AppData\\Local\\Continuum\\anaconda3\\lib\\site-packages\\matplotlib\\legend.py:798: UserWarning:\n",
      "\n",
      "Legend does not support 'h' instances.\n",
      "A proxy artist may be used instead.\n",
      "See: http://matplotlib.org/users/legend_guide.html#creating-artists-specifically-for-adding-to-the-legend-aka-proxy-artists\n",
      "\n",
      "C:\\Users\\XuP-intern\\AppData\\Local\\Continuum\\anaconda3\\lib\\site-packages\\matplotlib\\legend.py:798: UserWarning:\n",
      "\n",
      "Legend does not support 'o' instances.\n",
      "A proxy artist may be used instead.\n",
      "See: http://matplotlib.org/users/legend_guide.html#creating-artists-specifically-for-adding-to-the-legend-aka-proxy-artists\n",
      "\n",
      "C:\\Users\\XuP-intern\\AppData\\Local\\Continuum\\anaconda3\\lib\\site-packages\\matplotlib\\legend.py:798: UserWarning:\n",
      "\n",
      "Legend does not support '*' instances.\n",
      "A proxy artist may be used instead.\n",
      "See: http://matplotlib.org/users/legend_guide.html#creating-artists-specifically-for-adding-to-the-legend-aka-proxy-artists\n",
      "\n",
      "C:\\Users\\XuP-intern\\AppData\\Local\\Continuum\\anaconda3\\lib\\site-packages\\matplotlib\\legend.py:798: UserWarning:\n",
      "\n",
      "Legend does not support 'x' instances.\n",
      "A proxy artist may be used instead.\n",
      "See: http://matplotlib.org/users/legend_guide.html#creating-artists-specifically-for-adding-to-the-legend-aka-proxy-artists\n",
      "\n"
     ]
    },
    {
     "data": {
      "image/png": "[encoded data removed]",
      "text/plain": [
       "<Figure size 576x576 with 1 Axes>"
      ]
     },
     "metadata": {
      "needs_background": "light"
     },
     "output_type": "display_data"
    },
    {
     "data": {
      "image/png": "[encoded data removed]",
      "text/plain": [
       "<Figure size 576x576 with 1 Axes>"
      ]
     },
     "metadata": {
      "needs_background": "light"
     },
     "output_type": "display_data"
    }
   ],
   "source": [
    "# Plot using matlablib on Region level.\n",
    "colors_region = ['r', 'g', 'b','c','m','y','k']\n",
    "pca_plot(colors_region,protein_group_merged_df,\"Region\")\n",
    "\n",
    "region_cluster_labels, region_centers = perform_kmeans(X, 7)\n",
    "protein_group_merged_df[\"Region_Cluster\"] = region_cluster_labels\n",
    "mark_shapes = ['s','d','p','h','o','*','x']\n",
    "\n",
    "pca_kmeans_plot(colors_region,mark_shapes,protein_group_merged_df,\"Region\",region_centers)"
   ]
  },
  {
   "cell_type": "code",
   "execution_count": 116,
   "metadata": {},
   "outputs": [
    {
     "data": {
      "application/vnd.plotly.v1+json": {
       "config": {
        "linkText": "Export to plot.ly",
        "plotlyServerURL": "https://plot.ly",
        "showLink": false
       },
       "data": [
        {
         "marker": {
          "color": "rgb(150,0,90)",
          "line": {
           "width": 1
          },
          "size": 9,
          "symbol": 0
         },
         "mode": "markers",
         "name": "South Asia0",
         "text": [],
         "type": "scatter",
         "uid": "f021a03c-1bf3-4927-82b1-c29add7b31ca",
         "x": [],
         "y": []
        },
        {
         "marker": {
          "color": "rgb(0,0,200)",
          "line": {
           "width": 1
          },
          "size": 9,
          "symbol": 0
         },
         "mode": "markers",
         "name": "South Asia1",
         "text": [
          "Bangladesh",
          "Sri Lanka"
         ],
         "type": "scatter",
         "uid": "b78042fb-62bb-41fd-bc7f-7c3b358bf135",
         "x": [
          -2.962684688345844,
          -2.318022669366338
         ],
         "y": [
          2.1555619555372973,
          1.6227672996973552
         ]
        },
        {
         "marker": {
          "color": "rgb(10,152,255)",
          "line": {
           "width": 1
          },
          "size": 9,
          "symbol": 0
         },
         "mode": "markers",
         "name": "South Asia2",
         "text": [],
         "type": "scatter",
         "uid": "5c4f1d82-6726-4759-9c57-b19a0bc172fa",
         "x": [],
         "y": []
        },
        {
         "marker": {
          "color": "rgb(44,255,150)",
          "line": {
           "width": 1
          },
          "size": 9,
          "symbol": 0
         },
         "mode": "markers",
         "name": "South Asia3",
         "text": [],
         "type": "scatter",
         "uid": "43355adf-0760-4ba2-be5e-cebf962b8e7c",
         "x": [],
         "y": []
        },
        {
         "marker": {
          "color": "rgb(151,255,0)",
          "line": {
           "width": 1
          },
          "size": 9,
          "symbol": 0
         },
         "mode": "markers",
         "name": "South Asia4",
         "text": [
          "Afghanistan",
          "Pakistan"
         ],
         "type": "scatter",
         "uid": "c657b93f-9293-4fd0-990a-891892fe7f2f",
         "x": [
          -0.5187362283538711,
          -0.34910348987113765
         ],
         "y": [
          -1.4546206549531921,
          -1.1896534489904644
         ]
        },
        {
         "marker": {
          "color": "rgb(255,234,0)",
          "line": {
           "width": 1
          },
          "size": 9,
          "symbol": 0
         },
         "mode": "markers",
         "name": "South Asia5",
         "text": [
          "Maldives"
         ],
         "type": "scatter",
         "uid": "82145021-0594-420c-b627-3e0de25110d7",
         "x": [
          0.5844104968893692
         ],
         "y": [
          5.081512499687632
         ]
        },
        {
         "marker": {
          "color": "rgb(255,111,0)",
          "line": {
           "width": 1
          },
          "size": 9,
          "symbol": 0
         },
         "mode": "markers",
         "name": "South Asia6",
         "text": [
          "India",
          "Nepal"
         ],
         "type": "scatter",
         "uid": "2326eff0-89f3-4f80-ba52-d38ef4445b27",
         "x": [
          -2.0959486456016725,
          -2.523104044473208
         ],
         "y": [
          0.0243895474006073,
          -0.2713983772673335
         ]
        },
        {
         "marker": {
          "color": "rgb(150,0,90)",
          "line": {
           "width": 1
          },
          "size": 9,
          "symbol": 1
         },
         "mode": "markers",
         "name": "Europe & Central Asia0",
         "text": [
          "Albania",
          "Armenia",
          "Azerbaijan",
          "Greece",
          "Kazakhstan",
          "Kyrgyzstan",
          "Romania",
          "Turkey",
          "Turkmenistan",
          "Uzbekistan"
         ],
         "type": "scatter",
         "uid": "5151b3b9-899b-4da7-b747-00cde107b3e7",
         "x": [
          2.4407185523595496,
          1.6741653766049829,
          1.271725220438081,
          2.1978078700150894,
          2.001162515135617,
          0.6016375020744401,
          1.841996188386057,
          0.8515084271113968,
          1.8159607067811956,
          1.014084698739387
         ],
         "y": [
          -2.200207534746661,
          -1.0182527145102853,
          -2.2691708350668742,
          -1.4411654737196844,
          -1.6938835111056045,
          -2.1325228581750464,
          -1.0410906316902286,
          -1.8205513924393848,
          -3.1893678498892077,
          -1.8515767267611185
         ]
        },
        {
         "marker": {
          "color": "rgb(0,0,200)",
          "line": {
           "width": 1
          },
          "size": 9,
          "symbol": 1
         },
         "mode": "markers",
         "name": "Europe & Central Asia1",
         "text": [],
         "type": "scatter",
         "uid": "9ed85cb5-5e0b-4910-9f3a-ea24bf97c25a",
         "x": [],
         "y": []
        },
        {
         "marker": {
          "color": "rgb(10,152,255)",
          "line": {
           "width": 1
          },
          "size": 9,
          "symbol": 1
         },
         "mode": "markers",
         "name": "Europe & Central Asia2",
         "text": [
          "Bulgaria",
          "Cyprus",
          "Georgia",
          "Republic of Moldova",
          "Serbia",
          "North Macedonia"
         ],
         "type": "scatter",
         "uid": "66a643fe-f671-4638-b57f-3dc085b0deba",
         "x": [
          0.9603595886425655,
          1.1096046128329815,
          0.370084776522889,
          -0.005577842751399327,
          0.6741377816947594,
          0.12494599807255044
         ],
         "y": [
          -0.2495835333112877,
          0.3705331865728239,
          -0.8716671846477674,
          -0.28227341661659644,
          -0.6026848118923438,
          -0.754149283831443
         ]
        },
        {
         "marker": {
          "color": "rgb(44,255,150)",
          "line": {
           "width": 1
          },
          "size": 9,
          "symbol": 1
         },
         "mode": "markers",
         "name": "Europe & Central Asia3",
         "text": [
          "Austria",
          "Belarus",
          "Belgium",
          "Croatia",
          "Czechia",
          "Denmark",
          "Estonia",
          "Finland",
          "France",
          "Germany",
          "Hungary",
          "Iceland",
          "Ireland",
          "Italy",
          "Latvia",
          "Lithuania",
          "Luxembourg",
          "Montenegro",
          "Netherlands",
          "Norway",
          "Poland",
          "Portugal",
          "Russian Federation",
          "Slovakia",
          "Slovenia",
          "Spain",
          "Sweden",
          "Switzerland",
          "Ukraine",
          "United Kingdom"
         ],
         "type": "scatter",
         "uid": "a34b8f7a-27e4-4d7d-89e2-e36c7daa88b6",
         "x": [
          3.3451537380525913,
          3.952101321516853,
          2.141496741355391,
          1.5526797169539217,
          2.3811704471308577,
          3.3874266503644743,
          3.222693057242223,
          3.786106855774535,
          2.773769065781095,
          3.089898272216792,
          1.6727698593509053,
          3.0172152199619613,
          2.3765027634722533,
          2.3915610675356223,
          3.132676453592528,
          3.8115236663286813,
          3.2060386594436974,
          2.4095853816715658,
          3.5148356669276684,
          2.542642043227194,
          3.707157030307946,
          2.1590255284073163,
          2.6916004152646296,
          1.494982790778646,
          1.9170613822359488,
          2.298223716270315,
          3.535503969671228,
          2.202823498057272,
          2.203177829159169,
          2.11378405480431
         ],
         "y": [
          0.5540131898227856,
          0.7652031841385577,
          0.026996937229607693,
          0.15156332152787577,
          0.26324407740573563,
          0.5440564190807355,
          -0.9177897470307228,
          0.4882424064454831,
          0.05658213088382506,
          0.5125229128728598,
          0.255626578987079,
          0.30143631964830764,
          -0.39824712552996244,
          0.09001006767060105,
          -0.12420258660913074,
          0.9653492701738827,
          0.2744563450053484,
          -0.5105181230874344,
          0.4291456232931485,
          0.20938069920308566,
          0.7167571156028768,
          1.0008000914223818,
          -0.029226643120699985,
          0.0948578157074419,
          -0.28960371098728915,
          1.1849802823914812,
          0.5399035395090552,
          -0.06720244423734019,
          -0.17146996591623148,
          -0.17652982403438944
         ]
        },
        {
         "marker": {
          "color": "rgb(151,255,0)",
          "line": {
           "width": 1
          },
          "size": 9,
          "symbol": 1
         },
         "mode": "markers",
         "name": "Europe & Central Asia4",
         "text": [
          "Bosnia and Herzegovina",
          "Tajikistan"
         ],
         "type": "scatter",
         "uid": "af5e7312-764b-4905-b62e-2a7a4dfbbb6e",
         "x": [
          -0.4398346011607433,
          -0.6961485504562095
         ],
         "y": [
          -1.3164194982192274,
          -1.4259635833460693
         ]
        },
        {
         "marker": {
          "color": "rgb(255,234,0)",
          "line": {
           "width": 1
          },
          "size": 9,
          "symbol": 1
         },
         "mode": "markers",
         "name": "Europe & Central Asia5",
         "text": [],
         "type": "scatter",
         "uid": "879feed2-a627-4323-bb1b-d9504ff9a882",
         "x": [],
         "y": []
        },
        {
         "marker": {
          "color": "rgb(255,111,0)",
          "line": {
           "width": 1
          },
          "size": 9,
          "symbol": 1
         },
         "mode": "markers",
         "name": "Europe & Central Asia6",
         "text": [],
         "type": "scatter",
         "uid": "ba534900-8905-43ca-b8a0-0b062ed71cdc",
         "x": [],
         "y": []
        },
        {
         "marker": {
          "color": "rgb(150,0,90)",
          "line": {
           "width": 1
          },
          "size": 9,
          "symbol": 2
         },
         "mode": "markers",
         "name": "Middle East & North Africa0",
         "text": [
          "Algeria",
          "Morocco",
          "Tunisia"
         ],
         "type": "scatter",
         "uid": "46ffffd9-c86a-4c99-ac31-03698899a25b",
         "x": [
          0.5966456068517741,
          0.8407176172830627,
          0.6763198048034671
         ],
         "y": [
          -2.699385861344075,
          -3.142643163782732,
          -1.7991259280475613
         ]
        },
        {
         "marker": {
          "color": "rgb(0,0,200)",
          "line": {
           "width": 1
          },
          "size": 9,
          "symbol": 2
         },
         "mode": "markers",
         "name": "Middle East & North Africa1",
         "text": [],
         "type": "scatter",
         "uid": "27a4b3ad-7048-4b16-ba28-f0919517505b",
         "x": [],
         "y": []
        },
        {
         "marker": {
          "color": "rgb(10,152,255)",
          "line": {
           "width": 1
          },
          "size": 9,
          "symbol": 2
         },
         "mode": "markers",
         "name": "Middle East & North Africa2",
         "text": [
          "Kuwait",
          "Oman",
          "Saudi Arabia"
         ],
         "type": "scatter",
         "uid": "b8a62a4a-34a2-4527-be7c-5d04a52fe617",
         "x": [
          1.0325069333092165,
          0.21315145331967061,
          -0.10022053368297267
         ],
         "y": [
          -0.3313888080663412,
          -0.2612514010189037,
          -0.22418943164201058
         ]
        },
        {
         "marker": {
          "color": "rgb(44,255,150)",
          "line": {
           "width": 1
          },
          "size": 9,
          "symbol": 2
         },
         "mode": "markers",
         "name": "Middle East & North Africa3",
         "text": [
          "Israel",
          "Malta"
         ],
         "type": "scatter",
         "uid": "13aa8273-6f9c-44a8-9d6e-3dda43269adc",
         "x": [
          2.4091805886740962,
          2.103834739403056
         ],
         "y": [
          -0.17670548022002946,
          0.21909700847705074
         ]
        },
        {
         "marker": {
          "color": "rgb(151,255,0)",
          "line": {
           "width": 1
          },
          "size": 9,
          "symbol": 2
         },
         "mode": "markers",
         "name": "Middle East & North Africa4",
         "text": [
          "Djibouti",
          "Egypt",
          "Iran (Islamic Republic of)",
          "Iraq",
          "Jordan",
          "Lebanon",
          "United Arab Emirates",
          "Yemen"
         ],
         "type": "scatter",
         "uid": "7e7f83c6-f0f7-49e6-b72f-22504849fed6",
         "x": [
          -1.3334993036213825,
          -0.9592394880665003,
          -0.16505519369409327,
          -0.4843683929002223,
          0.026303719127126406,
          -0.1268437004114436,
          -0.8548938602509599,
          -1.070187389705512
         ],
         "y": [
          -1.3490331630606174,
          -0.8056313115859217,
          -1.0994537944471696,
          -0.19942009811612305,
          -0.9124448305221925,
          -0.8536854812691493,
          -0.581094298947789,
          -0.9182385101701513
         ]
        },
        {
         "marker": {
          "color": "rgb(255,234,0)",
          "line": {
           "width": 1
          },
          "size": 9,
          "symbol": 2
         },
         "mode": "markers",
         "name": "Middle East & North Africa5",
         "text": [],
         "type": "scatter",
         "uid": "57f00e63-667a-41a2-8b71-cb76067795ee",
         "x": [],
         "y": []
        },
        {
         "marker": {
          "color": "rgb(255,111,0)",
          "line": {
           "width": 1
          },
          "size": 9,
          "symbol": 2
         },
         "mode": "markers",
         "name": "Middle East & North Africa6",
         "text": [],
         "type": "scatter",
         "uid": "1879837e-77b4-4f10-9e3b-321742fe9e50",
         "x": [],
         "y": []
        },
        {
         "marker": {
          "color": "rgb(150,0,90)",
          "line": {
           "width": 1
          },
          "size": 9,
          "symbol": 3
         },
         "mode": "markers",
         "name": "Sub-Saharan Africa0",
         "text": [
          "Sudan"
         ],
         "type": "scatter",
         "uid": "fe78e3c2-8da3-4015-a2b7-81262ec8f759",
         "x": [
          3.169512263823843
         ],
         "y": [
          -4.164520272449868
         ]
        },
        {
         "marker": {
          "color": "rgb(0,0,200)",
          "line": {
           "width": 1
          },
          "size": 9,
          "symbol": 3
         },
         "mode": "markers",
         "name": "Sub-Saharan Africa1",
         "text": [
          "Gambia",
          "Guinea",
          "Guinea-Bissau",
          "Liberia",
          "Madagascar",
          "Senegal",
          "Sierra Leone"
         ],
         "type": "scatter",
         "uid": "79ffed3f-03fd-46f8-ae46-2a628f5260ed",
         "x": [
          -1.6761351320939937,
          -2.5425623708509315,
          -2.335524291743871,
          -2.31255466064299,
          -2.644709869455552,
          -2.127111850623701,
          -2.7516009915269657
         ],
         "y": [
          0.5278721787493851,
          1.0632374066055497,
          1.1193271346434503,
          1.255379695016391,
          1.1315436072078517,
          0.8147949210622493,
          1.4242765015759857
         ]
        },
        {
         "marker": {
          "color": "rgb(10,152,255)",
          "line": {
           "width": 1
          },
          "size": 9,
          "symbol": 3
         },
         "mode": "markers",
         "name": "Sub-Saharan Africa2",
         "text": [
          "Gabon",
          "Mauritius"
         ],
         "type": "scatter",
         "uid": "d38cf27b-0bb4-4e65-a16e-1fc6672fc8d9",
         "x": [
          -0.7501484345551,
          -0.06328760979079437
         ],
         "y": [
          0.8738600726230518,
          0.25425754449646304
         ]
        },
        {
         "marker": {
          "color": "rgb(44,255,150)",
          "line": {
           "width": 1
          },
          "size": 9,
          "symbol": 3
         },
         "mode": "markers",
         "name": "Sub-Saharan Africa3",
         "text": [],
         "type": "scatter",
         "uid": "9a6e3701-16e6-4d8b-a2ee-03b973896237",
         "x": [],
         "y": []
        },
        {
         "marker": {
          "color": "rgb(151,255,0)",
          "line": {
           "width": 1
          },
          "size": 9,
          "symbol": 3
         },
         "mode": "markers",
         "name": "Sub-Saharan Africa4",
         "text": [
          "Angola",
          "Botswana",
          "Cabo Verde",
          "Central African Republic",
          "Congo (note no data in Food suppley tables for DRC)",
          "Mauritania",
          "Namibia",
          "Sao Tome and Principe",
          "South Africa",
          "Eswatini"
         ],
         "type": "scatter",
         "uid": "71487136-84cc-4abc-805d-43ac141436a8",
         "x": [
          -1.6865841077846788,
          -1.322867563938104,
          -1.5124124266113383,
          -1.8351398693733723,
          -1.4355195705850268,
          -0.7789628774156595,
          -1.6367561245530655,
          -1.341408950540935,
          -0.5635236037496777,
          -1.8127703845924166
         ],
         "y": [
          -0.5483874268521277,
          -0.9707486883297664,
          0.07660305454844026,
          -1.0903321355223372,
          0.17908308962674135,
          -1.433441365667486,
          -0.8965507201708295,
          0.22320346482443187,
          -0.6770766186458607,
          -0.9804335025843446
         ]
        },
        {
         "marker": {
          "color": "rgb(255,234,0)",
          "line": {
           "width": 1
          },
          "size": 9,
          "symbol": 3
         },
         "mode": "markers",
         "name": "Sub-Saharan Africa5",
         "text": [],
         "type": "scatter",
         "uid": "6f3fe6e0-db52-4b34-ba3d-bf79b8db0b53",
         "x": [],
         "y": []
        },
        {
         "marker": {
          "color": "rgb(255,111,0)",
          "line": {
           "width": 1
          },
          "size": 9,
          "symbol": 3
         },
         "mode": "markers",
         "name": "Sub-Saharan Africa6",
         "text": [
          "Benin",
          "Burkina Faso",
          "Cameroon",
          "Chad",
          "CÃƒÂ´te d'Ivoire",
          "Ethiopia",
          "Ghana",
          "Kenya",
          "Lesotho",
          "Malawi",
          "Mali",
          "Mozambique",
          "Niger",
          "Nigeria",
          "Rwanda",
          "Togo",
          "Uganda",
          "United Republic of Tanzania",
          "Zambia",
          "Zimbabwe"
         ],
         "type": "scatter",
         "uid": "65de2d7a-6434-4f96-be0f-2d1cb3b3de59",
         "x": [
          -2.574306620188047,
          -2.6988417531704827,
          -2.979352491177083,
          -2.069051170726937,
          -2.3357549227092353,
          -2.687635336603692,
          -2.449657985518813,
          -2.4517887410187043,
          -3.100653436584261,
          -3.5596959019966756,
          -2.307225376399263,
          -2.8953867774802333,
          -3.149529184881428,
          -2.423556029807336,
          -3.4872450543097906,
          -3.0254149402823947,
          -2.89415510149512,
          -2.9793875075126732,
          -2.579134510839204,
          -2.283532440881736
         ],
         "y": [
          -0.06101701118963632,
          -0.7570949947112842,
          -0.8050963514459593,
          -0.5123436434042392,
          0.126773260462239,
          -1.430444596711728,
          -0.396385477297346,
          -1.5773014125796636,
          -2.0721781342363923,
          -1.7461269870501357,
          -0.7200140202193901,
          -0.798282907030655,
          -1.4970933413683776,
          -0.44953636835826344,
          -1.7553359290743493,
          -0.7302448694536048,
          -1.0593593659050677,
          -1.0558610947394138,
          -0.832077387647394,
          -0.7921952017482877
         ]
        },
        {
         "marker": {
          "color": "rgb(150,0,90)",
          "line": {
           "width": 1
          },
          "size": 9,
          "symbol": 4
         },
         "mode": "markers",
         "name": "Latin America & Caribbean0",
         "text": [
          "Uruguay"
         ],
         "type": "scatter",
         "uid": "5b23476e-4dac-49b7-b35c-b6e7611bad5a",
         "x": [
          1.695354784351359
         ],
         "y": [
          -1.0349388900555005
         ]
        },
        {
         "marker": {
          "color": "rgb(0,0,200)",
          "line": {
           "width": 1
          },
          "size": 9,
          "symbol": 4
         },
         "mode": "markers",
         "name": "Latin America & Caribbean1",
         "text": [
          "Guyana"
         ],
         "type": "scatter",
         "uid": "909ab116-3fc5-4410-9108-a2864709cb53",
         "x": [
          -0.9919807882396773
         ],
         "y": [
          1.1995353456469375
         ]
        },
        {
         "marker": {
          "color": "rgb(10,152,255)",
          "line": {
           "width": 1
          },
          "size": 9,
          "symbol": 4
         },
         "mode": "markers",
         "name": "Latin America & Caribbean2",
         "text": [
          "Antigua and Barbuda",
          "Bahamas",
          "Barbados",
          "Brazil",
          "Chile",
          "Colombia",
          "Costa Rica",
          "Dominica",
          "Dominican Republic",
          "Ecuador",
          "Grenada",
          "Jamaica",
          "Panama",
          "Paraguay",
          "Saint Kitts and Nevis",
          "Saint Lucia",
          "Saint Vincent and the Grenadines",
          "Suriname",
          "Trinidad and Tobago",
          "Venezuela (Bolivarian Republic of)"
         ],
         "type": "scatter",
         "uid": "cb06d93a-a342-4edd-bbe8-09e16ce4af53",
         "x": [
          0.8452852383786159,
          1.3400496560739759,
          0.5605303471987559,
          0.45672615293435687,
          1.1204747533167934,
          -0.3074188087339174,
          -0.15258352565086195,
          0.1726721866601699,
          -1.0524901799530715,
          0.013807238307056364,
          0.20559908990425566,
          -0.28268186127456346,
          -0.3891270001318538,
          0.10619605779131586,
          -0.023066921248773586,
          0.4703950464845223,
          0.2579947359297983,
          -0.7798285826562018,
          -0.12369762184280132,
          -0.16497447797393516
         ],
         "y": [
          1.2309197452370453,
          1.2213046803542615,
          0.32922758607981684,
          -0.21022415008442458,
          -0.0420496705691412,
          -0.03674684736287171,
          0.3032597367091397,
          0.0020438627209608796,
          0.6810679744945526,
          0.6222351888067891,
          0.8799489848709514,
          0.44687007464030665,
          0.939812046269748,
          -0.23588755153081586,
          1.0854970369702428,
          0.6694310548709408,
          0.8627360120375328,
          1.2397112629276525,
          0.24504660332165237,
          0.03305262898969059
         ]
        },
        {
         "marker": {
          "color": "rgb(44,255,150)",
          "line": {
           "width": 1
          },
          "size": 9,
          "symbol": 4
         },
         "mode": "markers",
         "name": "Latin America & Caribbean3",
         "text": [
          "Argentina"
         ],
         "type": "scatter",
         "uid": "e71a9109-d65e-42d4-b6ca-a325bd76f0a3",
         "x": [
          3.0151047757423
         ],
         "y": [
          -0.812861737176926
         ]
        },
        {
         "marker": {
          "color": "rgb(151,255,0)",
          "line": {
           "width": 1
          },
          "size": 9,
          "symbol": 4
         },
         "mode": "markers",
         "name": "Latin America & Caribbean4",
         "text": [
          "Belize",
          "Bolivia (Plurinational State of)",
          "Cuba",
          "El Salvador",
          "Guatemala",
          "Honduras",
          "Mexico",
          "Peru"
         ],
         "type": "scatter",
         "uid": "a504fda3-3b84-4808-9380-72a68dd1985f",
         "x": [
          -1.1199571355088507,
          -0.48434267721650154,
          -1.4018342736743556,
          -1.617280689424453,
          -1.7056440960682122,
          -1.6960868773779165,
          -0.3952692241908524,
          -1.129846991570885
         ],
         "y": [
          0.20990102728536483,
          -0.34767916363764706,
          0.11797398430783289,
          -1.1221238428733848,
          -0.9489861197311756,
          -0.6803318527200171,
          -0.5807037427739751,
          -0.003201503914810501
         ]
        },
        {
         "marker": {
          "color": "rgb(255,234,0)",
          "line": {
           "width": 1
          },
          "size": 9,
          "symbol": 4
         },
         "mode": "markers",
         "name": "Latin America & Caribbean5",
         "text": [],
         "type": "scatter",
         "uid": "2adf9048-e919-4191-acaa-d774a6c61fe3",
         "x": [],
         "y": []
        },
        {
         "marker": {
          "color": "rgb(255,111,0)",
          "line": {
           "width": 1
          },
          "size": 9,
          "symbol": 4
         },
         "mode": "markers",
         "name": "Latin America & Caribbean6",
         "text": [
          "Haiti",
          "Nicaragua"
         ],
         "type": "scatter",
         "uid": "3ce4a2d8-a9b6-482d-8ea8-f681c7025aa4",
         "x": [
          -2.8472925218127094,
          -2.7090098019227518
         ],
         "y": [
          -0.29324096737323624,
          -0.5538076283404966
         ]
        },
        {
         "marker": {
          "color": "rgb(150,0,90)",
          "line": {
           "width": 1
          },
          "size": 9,
          "symbol": 5
         },
         "mode": "markers",
         "name": "East Asia & Pacific0",
         "text": [
          "Mongolia",
          "New Zealand"
         ],
         "type": "scatter",
         "uid": "8d80a630-b73b-4b64-82d5-26d8ff2e9c18",
         "x": [
          0.8852401981092998,
          1.5976076322251351
         ],
         "y": [
          -4.0631784394527415,
          -0.8673891526340163
         ]
        },
        {
         "marker": {
          "color": "rgb(0,0,200)",
          "line": {
           "width": 1
          },
          "size": 9,
          "symbol": 5
         },
         "mode": "markers",
         "name": "East Asia & Pacific1",
         "text": [
          "Cambodia",
          "Indonesia",
          "Kiribati",
          "Lao People's Democratic Republic",
          "Myanmar",
          "Philippines",
          "Thailand",
          "Viet Nam"
         ],
         "type": "scatter",
         "uid": "288c2ba0-4b57-4bbd-a8d7-55f95659b1e8",
         "x": [
          -2.8248081720444738,
          -2.2890441738492946,
          -0.8277764095090926,
          -2.8200792765449934,
          -2.0710873548630757,
          -1.5796232332802,
          -1.1864198859602553,
          -1.50291321372396
         ],
         "y": [
          2.99292814800493,
          2.1569054803508503,
          2.3687447980423615,
          2.683118812916563,
          2.9179985639464845,
          2.3922639719170817,
          2.373955824236931,
          3.1915220599529985
         ]
        },
        {
         "marker": {
          "color": "rgb(10,152,255)",
          "line": {
           "width": 1
          },
          "size": 9,
          "symbol": 5
         },
         "mode": "markers",
         "name": "East Asia & Pacific2",
         "text": [
          "New Caledonia",
          "Samoa",
          "Vanuatu"
         ],
         "type": "scatter",
         "uid": "24c1ed0a-017e-4826-9f39-0b20eee8b226",
         "x": [
          1.2829898333175167,
          0.7779518326263819,
          -0.703411362911452
         ],
         "y": [
          0.7574513420314004,
          1.1336625344557723,
          0.7782551003836053
         ]
        },
        {
         "marker": {
          "color": "rgb(44,255,150)",
          "line": {
           "width": 1
          },
          "size": 9,
          "symbol": 5
         },
         "mode": "markers",
         "name": "East Asia & Pacific3",
         "text": [
          "Australia",
          "French Polynesia"
         ],
         "type": "scatter",
         "uid": "c68e58cd-8bb4-4cb9-945c-88ecb8ee4eb4",
         "x": [
          2.5062843650504147,
          1.5412862767389222
         ],
         "y": [
          -0.291688062312058,
          1.173086006489949
         ]
        },
        {
         "marker": {
          "color": "rgb(151,255,0)",
          "line": {
           "width": 1
          },
          "size": 9,
          "symbol": 5
         },
         "mode": "markers",
         "name": "East Asia & Pacific4",
         "text": [
          "Fiji"
         ],
         "type": "scatter",
         "uid": "51617131-aeda-48b6-8e1f-ed23a9ebda01",
         "x": [
          -0.6346587047438784
         ],
         "y": [
          -0.07026351207310472
         ]
        },
        {
         "marker": {
          "color": "rgb(255,234,0)",
          "line": {
           "width": 1
          },
          "size": 9,
          "symbol": 5
         },
         "mode": "markers",
         "name": "East Asia & Pacific5",
         "text": [
          "Brunei Darussalam",
          "China, Hong Kong SAR",
          "China, Macao SAR",
          "China, mainland",
          "China, Taiwan Province of",
          "Japan",
          "Malaysia",
          "Republic of Korea"
         ],
         "type": "scatter",
         "uid": "efeba102-dd69-4d0b-92e9-d7086c06d296",
         "x": [
          0.7641208189542725,
          2.870047899570383,
          1.7646290609427753,
          0.8072297762995769,
          0.691629866020365,
          0.9381204394351735,
          -0.006129132168770718,
          0.23783212359766498
         ],
         "y": [
          2.1418284253898916,
          3.154522711023835,
          2.864548350865009,
          1.8109693101932656,
          2.0265428572880193,
          2.5507622434168384,
          2.6265081501172944,
          2.77895195187075
         ]
        },
        {
         "marker": {
          "color": "rgb(255,111,0)",
          "line": {
           "width": 1
          },
          "size": 9,
          "symbol": 5
         },
         "mode": "markers",
         "name": "East Asia & Pacific6",
         "text": [
          "Democratic People's Republic of Korea",
          "Solomon Islands",
          "Timor-Leste"
         ],
         "type": "scatter",
         "uid": "8b5181a0-1c50-4954-b53e-3e82a004cd4a",
         "x": [
          -2.551465145811014,
          -2.053959275490055,
          -2.7522535994625725
         ],
         "y": [
          0.3474933616505065,
          0.4198394061094373,
          0.26068317493344
         ]
        },
        {
         "marker": {
          "color": "rgb(150,0,90)",
          "line": {
           "width": 1
          },
          "size": 9,
          "symbol": 6
         },
         "mode": "markers",
         "name": "North America0",
         "text": [],
         "type": "scatter",
         "uid": "9a5ae162-23ad-4cf9-b68b-390e21b6d9d6",
         "x": [],
         "y": []
        },
        {
         "marker": {
          "color": "rgb(0,0,200)",
          "line": {
           "width": 1
          },
          "size": 9,
          "symbol": 6
         },
         "mode": "markers",
         "name": "North America1",
         "text": [],
         "type": "scatter",
         "uid": "a073d8b6-02ec-485f-9aef-f29c1349476e",
         "x": [],
         "y": []
        },
        {
         "marker": {
          "color": "rgb(10,152,255)",
          "line": {
           "width": 1
          },
          "size": 9,
          "symbol": 6
         },
         "mode": "markers",
         "name": "North America2",
         "text": [],
         "type": "scatter",
         "uid": "1503f402-3343-409d-8874-83b89cc4e30a",
         "x": [],
         "y": []
        },
        {
         "marker": {
          "color": "rgb(44,255,150)",
          "line": {
           "width": 1
          },
          "size": 9,
          "symbol": 6
         },
         "mode": "markers",
         "name": "North America3",
         "text": [
          "Bermuda",
          "Canada",
          "United States of America"
         ],
         "type": "scatter",
         "uid": "f0e66ddb-0f48-46a1-b96a-31915b3a8fee",
         "x": [
          2.234471586735467,
          1.5742233909737213,
          2.874872528136872
         ],
         "y": [
          0.7769198557904577,
          -0.10009532386314264,
          0.25132400209083355
         ]
        },
        {
         "marker": {
          "color": "rgb(151,255,0)",
          "line": {
           "width": 1
          },
          "size": 9,
          "symbol": 6
         },
         "mode": "markers",
         "name": "North America4",
         "text": [],
         "type": "scatter",
         "uid": "8e910618-ea38-4af3-945c-16b1433468f0",
         "x": [],
         "y": []
        },
        {
         "marker": {
          "color": "rgb(255,234,0)",
          "line": {
           "width": 1
          },
          "size": 9,
          "symbol": 6
         },
         "mode": "markers",
         "name": "North America5",
         "text": [],
         "type": "scatter",
         "uid": "f6c6fd9f-2157-4795-a3dc-e19ae70011c4",
         "x": [],
         "y": []
        },
        {
         "marker": {
          "color": "rgb(255,111,0)",
          "line": {
           "width": 1
          },
          "size": 9,
          "symbol": 6
         },
         "mode": "markers",
         "name": "North America6",
         "text": [],
         "type": "scatter",
         "uid": "5aa53194-a3d4-47f5-aa61-3557dc57e308",
         "x": [],
         "y": []
        },
        {
         "marker": {
          "color": "rgba(220, 220, 220, .4)",
          "line": {
           "width": 1
          },
          "size": 20
         },
         "mode": "markers",
         "name": "Center",
         "type": "scatter",
         "uid": "3dcdb9ab-fec0-4b4a-adb6-d15c24dfe28c",
         "x": [
          1.4807155861819845,
          -2.0980355018147336,
          0.21167495735766023,
          2.6392222398503273,
          -1.0026604073640364,
          0.96132126106009,
          -2.683864382153967
         ],
         "y": [
          -2.1428806609335638,
          1.8550963169505919,
          0.31935553439089565,
          0.20472143228276554,
          -0.6983598144687782,
          2.7817940555391703,
          -0.7032317524665195
         ]
        }
       ],
       "layout": {
        "hovermode": "closest",
        "showlegend": true,
        "title": {
         "text": "2 component PCA Kmeans Clustering Region"
        },
        "xaxis": {
         "gridwidth": 2,
         "ticklen": 5,
         "title": {
          "text": "principal component 1"
         },
         "zeroline": false
        },
        "yaxis": {
         "gridwidth": 2,
         "ticklen": 5,
         "title": {
          "text": "principal component 2"
         }
        }
       }
      },
      "text/html": [
       "<div>\n",
       "        \n",
       "        \n",
       "            <div id=\"96932f2d-f5e2-4dfb-a3e2-20a008a6851d\" class=\"plotly-graph-div\" style=\"height:525px; width:100%;\"></div>\n",
       "            <script type=\"text/javascript\">\n",
       "                require([\"plotly\"], function(Plotly) {\n",
       "                    window.PLOTLYENV=window.PLOTLYENV || {};\n",
       "                    window.PLOTLYENV.BASE_URL='https://plot.ly';\n",
       "                    \n",
       "                if (document.getElementById(\"96932f2d-f5e2-4dfb-a3e2-20a008a6851d\")) {\n",
       "                    Plotly.newPlot(\n",
       "                        '96932f2d-f5e2-4dfb-a3e2-20a008a6851d',\n",
       "                        [{\"marker\": {\"color\": \"rgb(150,0,90)\", \"line\": {\"width\": 1}, \"size\": 9, \"symbol\": 0}, \"mode\": \"markers\", \"name\": \"South Asia0\", \"text\": [], \"type\": \"scatter\", \"uid\": \"f021a03c-1bf3-4927-82b1-c29add7b31ca\", \"x\": [], \"y\": []}, {\"marker\": {\"color\": \"rgb(0,0,200)\", \"line\": {\"width\": 1}, \"size\": 9, \"symbol\": 0}, \"mode\": \"markers\", \"name\": \"South Asia1\", \"text\": [\"Bangladesh\", \"Sri Lanka\"], \"type\": \"scatter\", \"uid\": \"b78042fb-62bb-41fd-bc7f-7c3b358bf135\", \"x\": [-2.962684688345844, -2.318022669366338], \"y\": [2.1555619555372973, 1.6227672996973552]}, {\"marker\": {\"color\": \"rgb(10,152,255)\", \"line\": {\"width\": 1}, \"size\": 9, \"symbol\": 0}, \"mode\": \"markers\", \"name\": \"South Asia2\", \"text\": [], \"type\": \"scatter\", \"uid\": \"5c4f1d82-6726-4759-9c57-b19a0bc172fa\", \"x\": [], \"y\": []}, {\"marker\": {\"color\": \"rgb(44,255,150)\", \"line\": {\"width\": 1}, \"size\": 9, \"symbol\": 0}, \"mode\": \"markers\", \"name\": \"South Asia3\", \"text\": [], \"type\": \"scatter\", \"uid\": \"43355adf-0760-4ba2-be5e-cebf962b8e7c\", \"x\": [], \"y\": []}, {\"marker\": {\"color\": \"rgb(151,255,0)\", \"line\": {\"width\": 1}, \"size\": 9, \"symbol\": 0}, \"mode\": \"markers\", \"name\": \"South Asia4\", \"text\": [\"Afghanistan\", \"Pakistan\"], \"type\": \"scatter\", \"uid\": \"c657b93f-9293-4fd0-990a-891892fe7f2f\", \"x\": [-0.5187362283538711, -0.34910348987113765], \"y\": [-1.4546206549531921, -1.1896534489904644]}, {\"marker\": {\"color\": \"rgb(255,234,0)\", \"line\": {\"width\": 1}, \"size\": 9, \"symbol\": 0}, \"mode\": \"markers\", \"name\": \"South Asia5\", \"text\": [\"Maldives\"], \"type\": \"scatter\", \"uid\": \"82145021-0594-420c-b627-3e0de25110d7\", \"x\": [0.5844104968893692], \"y\": [5.081512499687632]}, {\"marker\": {\"color\": \"rgb(255,111,0)\", \"line\": {\"width\": 1}, \"size\": 9, \"symbol\": 0}, \"mode\": \"markers\", \"name\": \"South Asia6\", \"text\": [\"India\", \"Nepal\"], \"type\": \"scatter\", \"uid\": \"2326eff0-89f3-4f80-ba52-d38ef4445b27\", \"x\": [-2.0959486456016725, -2.523104044473208], \"y\": [0.0243895474006073, -0.2713983772673335]}, {\"marker\": {\"color\": \"rgb(150,0,90)\", \"line\": {\"width\": 1}, \"size\": 9, \"symbol\": 1}, \"mode\": \"markers\", \"name\": \"Europe & Central Asia0\", \"text\": [\"Albania\", \"Armenia\", \"Azerbaijan\", \"Greece\", \"Kazakhstan\", \"Kyrgyzstan\", \"Romania\", \"Turkey\", \"Turkmenistan\", \"Uzbekistan\"], \"type\": \"scatter\", \"uid\": \"5151b3b9-899b-4da7-b747-00cde107b3e7\", \"x\": [2.4407185523595496, 1.6741653766049829, 1.271725220438081, 2.1978078700150894, 2.001162515135617, 0.6016375020744401, 1.841996188386057, 0.8515084271113968, 1.8159607067811956, 1.014084698739387], \"y\": [-2.200207534746661, -1.0182527145102853, -2.2691708350668742, -1.4411654737196844, -1.6938835111056045, -2.1325228581750464, -1.0410906316902286, -1.8205513924393848, -3.1893678498892077, -1.8515767267611185]}, {\"marker\": {\"color\": \"rgb(0,0,200)\", \"line\": {\"width\": 1}, \"size\": 9, \"symbol\": 1}, \"mode\": \"markers\", \"name\": \"Europe & Central Asia1\", \"text\": [], \"type\": \"scatter\", \"uid\": \"9ed85cb5-5e0b-4910-9f3a-ea24bf97c25a\", \"x\": [], \"y\": []}, {\"marker\": {\"color\": \"rgb(10,152,255)\", \"line\": {\"width\": 1}, \"size\": 9, \"symbol\": 1}, \"mode\": \"markers\", \"name\": \"Europe & Central Asia2\", \"text\": [\"Bulgaria\", \"Cyprus\", \"Georgia\", \"Republic of Moldova\", \"Serbia\", \"North Macedonia\"], \"type\": \"scatter\", \"uid\": \"66a643fe-f671-4638-b57f-3dc085b0deba\", \"x\": [0.9603595886425655, 1.1096046128329815, 0.370084776522889, -0.005577842751399327, 0.6741377816947594, 0.12494599807255044], \"y\": [-0.2495835333112877, 0.3705331865728239, -0.8716671846477674, -0.28227341661659644, -0.6026848118923438, -0.754149283831443]}, {\"marker\": {\"color\": \"rgb(44,255,150)\", \"line\": {\"width\": 1}, \"size\": 9, \"symbol\": 1}, \"mode\": \"markers\", \"name\": \"Europe & Central Asia3\", \"text\": [\"Austria\", \"Belarus\", \"Belgium\", \"Croatia\", \"Czechia\", \"Denmark\", \"Estonia\", \"Finland\", \"France\", \"Germany\", \"Hungary\", \"Iceland\", \"Ireland\", \"Italy\", \"Latvia\", \"Lithuania\", \"Luxembourg\", \"Montenegro\", \"Netherlands\", \"Norway\", \"Poland\", \"Portugal\", \"Russian Federation\", \"Slovakia\", \"Slovenia\", \"Spain\", \"Sweden\", \"Switzerland\", \"Ukraine\", \"United Kingdom\"], \"type\": \"scatter\", \"uid\": \"a34b8f7a-27e4-4d7d-89e2-e36c7daa88b6\", \"x\": [3.3451537380525913, 3.952101321516853, 2.141496741355391, 1.5526797169539217, 2.3811704471308577, 3.3874266503644743, 3.222693057242223, 3.786106855774535, 2.773769065781095, 3.089898272216792, 1.6727698593509053, 3.0172152199619613, 2.3765027634722533, 2.3915610675356223, 3.132676453592528, 3.8115236663286813, 3.2060386594436974, 2.4095853816715658, 3.5148356669276684, 2.542642043227194, 3.707157030307946, 2.1590255284073163, 2.6916004152646296, 1.494982790778646, 1.9170613822359488, 2.298223716270315, 3.535503969671228, 2.202823498057272, 2.203177829159169, 2.11378405480431], \"y\": [0.5540131898227856, 0.7652031841385577, 0.026996937229607693, 0.15156332152787577, 0.26324407740573563, 0.5440564190807355, -0.9177897470307228, 0.4882424064454831, 0.05658213088382506, 0.5125229128728598, 0.255626578987079, 0.30143631964830764, -0.39824712552996244, 0.09001006767060105, -0.12420258660913074, 0.9653492701738827, 0.2744563450053484, -0.5105181230874344, 0.4291456232931485, 0.20938069920308566, 0.7167571156028768, 1.0008000914223818, -0.029226643120699985, 0.0948578157074419, -0.28960371098728915, 1.1849802823914812, 0.5399035395090552, -0.06720244423734019, -0.17146996591623148, -0.17652982403438944]}, {\"marker\": {\"color\": \"rgb(151,255,0)\", \"line\": {\"width\": 1}, \"size\": 9, \"symbol\": 1}, \"mode\": \"markers\", \"name\": \"Europe & Central Asia4\", \"text\": [\"Bosnia and Herzegovina\", \"Tajikistan\"], \"type\": \"scatter\", \"uid\": \"af5e7312-764b-4905-b62e-2a7a4dfbbb6e\", \"x\": [-0.4398346011607433, -0.6961485504562095], \"y\": [-1.3164194982192274, -1.4259635833460693]}, {\"marker\": {\"color\": \"rgb(255,234,0)\", \"line\": {\"width\": 1}, \"size\": 9, \"symbol\": 1}, \"mode\": \"markers\", \"name\": \"Europe & Central Asia5\", \"text\": [], \"type\": \"scatter\", \"uid\": \"879feed2-a627-4323-bb1b-d9504ff9a882\", \"x\": [], \"y\": []}, {\"marker\": {\"color\": \"rgb(255,111,0)\", \"line\": {\"width\": 1}, \"size\": 9, \"symbol\": 1}, \"mode\": \"markers\", \"name\": \"Europe & Central Asia6\", \"text\": [], \"type\": \"scatter\", \"uid\": \"ba534900-8905-43ca-b8a0-0b062ed71cdc\", \"x\": [], \"y\": []}, {\"marker\": {\"color\": \"rgb(150,0,90)\", \"line\": {\"width\": 1}, \"size\": 9, \"symbol\": 2}, \"mode\": \"markers\", \"name\": \"Middle East & North Africa0\", \"text\": [\"Algeria\", \"Morocco\", \"Tunisia\"], \"type\": \"scatter\", \"uid\": \"46ffffd9-c86a-4c99-ac31-03698899a25b\", \"x\": [0.5966456068517741, 0.8407176172830627, 0.6763198048034671], \"y\": [-2.699385861344075, -3.142643163782732, -1.7991259280475613]}, {\"marker\": {\"color\": \"rgb(0,0,200)\", \"line\": {\"width\": 1}, \"size\": 9, \"symbol\": 2}, \"mode\": \"markers\", \"name\": \"Middle East & North Africa1\", \"text\": [], \"type\": \"scatter\", \"uid\": \"27a4b3ad-7048-4b16-ba28-f0919517505b\", \"x\": [], \"y\": []}, {\"marker\": {\"color\": \"rgb(10,152,255)\", \"line\": {\"width\": 1}, \"size\": 9, \"symbol\": 2}, \"mode\": \"markers\", \"name\": \"Middle East & North Africa2\", \"text\": [\"Kuwait\", \"Oman\", \"Saudi Arabia\"], \"type\": \"scatter\", \"uid\": \"b8a62a4a-34a2-4527-be7c-5d04a52fe617\", \"x\": [1.0325069333092165, 0.21315145331967061, -0.10022053368297267], \"y\": [-0.3313888080663412, -0.2612514010189037, -0.22418943164201058]}, {\"marker\": {\"color\": \"rgb(44,255,150)\", \"line\": {\"width\": 1}, \"size\": 9, \"symbol\": 2}, \"mode\": \"markers\", \"name\": \"Middle East & North Africa3\", \"text\": [\"Israel\", \"Malta\"], \"type\": \"scatter\", \"uid\": \"13aa8273-6f9c-44a8-9d6e-3dda43269adc\", \"x\": [2.4091805886740962, 2.103834739403056], \"y\": [-0.17670548022002946, 0.21909700847705074]}, {\"marker\": {\"color\": \"rgb(151,255,0)\", \"line\": {\"width\": 1}, \"size\": 9, \"symbol\": 2}, \"mode\": \"markers\", \"name\": \"Middle East & North Africa4\", \"text\": [\"Djibouti\", \"Egypt\", \"Iran (Islamic Republic of)\", \"Iraq\", \"Jordan\", \"Lebanon\", \"United Arab Emirates\", \"Yemen\"], \"type\": \"scatter\", \"uid\": \"7e7f83c6-f0f7-49e6-b72f-22504849fed6\", \"x\": [-1.3334993036213825, -0.9592394880665003, -0.16505519369409327, -0.4843683929002223, 0.026303719127126406, -0.1268437004114436, -0.8548938602509599, -1.070187389705512], \"y\": [-1.3490331630606174, -0.8056313115859217, -1.0994537944471696, -0.19942009811612305, -0.9124448305221925, -0.8536854812691493, -0.581094298947789, -0.9182385101701513]}, {\"marker\": {\"color\": \"rgb(255,234,0)\", \"line\": {\"width\": 1}, \"size\": 9, \"symbol\": 2}, \"mode\": \"markers\", \"name\": \"Middle East & North Africa5\", \"text\": [], \"type\": \"scatter\", \"uid\": \"57f00e63-667a-41a2-8b71-cb76067795ee\", \"x\": [], \"y\": []}, {\"marker\": {\"color\": \"rgb(255,111,0)\", \"line\": {\"width\": 1}, \"size\": 9, \"symbol\": 2}, \"mode\": \"markers\", \"name\": \"Middle East & North Africa6\", \"text\": [], \"type\": \"scatter\", \"uid\": \"1879837e-77b4-4f10-9e3b-321742fe9e50\", \"x\": [], \"y\": []}, {\"marker\": {\"color\": \"rgb(150,0,90)\", \"line\": {\"width\": 1}, \"size\": 9, \"symbol\": 3}, \"mode\": \"markers\", \"name\": \"Sub-Saharan Africa0\", \"text\": [\"Sudan\"], \"type\": \"scatter\", \"uid\": \"fe78e3c2-8da3-4015-a2b7-81262ec8f759\", \"x\": [3.169512263823843], \"y\": [-4.164520272449868]}, {\"marker\": {\"color\": \"rgb(0,0,200)\", \"line\": {\"width\": 1}, \"size\": 9, \"symbol\": 3}, \"mode\": \"markers\", \"name\": \"Sub-Saharan Africa1\", \"text\": [\"Gambia\", \"Guinea\", \"Guinea-Bissau\", \"Liberia\", \"Madagascar\", \"Senegal\", \"Sierra Leone\"], \"type\": \"scatter\", \"uid\": \"79ffed3f-03fd-46f8-ae46-2a628f5260ed\", \"x\": [-1.6761351320939937, -2.5425623708509315, -2.335524291743871, -2.31255466064299, -2.644709869455552, -2.127111850623701, -2.7516009915269657], \"y\": [0.5278721787493851, 1.0632374066055497, 1.1193271346434503, 1.255379695016391, 1.1315436072078517, 0.8147949210622493, 1.4242765015759857]}, {\"marker\": {\"color\": \"rgb(10,152,255)\", \"line\": {\"width\": 1}, \"size\": 9, \"symbol\": 3}, \"mode\": \"markers\", \"name\": \"Sub-Saharan Africa2\", \"text\": [\"Gabon\", \"Mauritius\"], \"type\": \"scatter\", \"uid\": \"d38cf27b-0bb4-4e65-a16e-1fc6672fc8d9\", \"x\": [-0.7501484345551, -0.06328760979079437], \"y\": [0.8738600726230518, 0.25425754449646304]}, {\"marker\": {\"color\": \"rgb(44,255,150)\", \"line\": {\"width\": 1}, \"size\": 9, \"symbol\": 3}, \"mode\": \"markers\", \"name\": \"Sub-Saharan Africa3\", \"text\": [], \"type\": \"scatter\", \"uid\": \"9a6e3701-16e6-4d8b-a2ee-03b973896237\", \"x\": [], \"y\": []}, {\"marker\": {\"color\": \"rgb(151,255,0)\", \"line\": {\"width\": 1}, \"size\": 9, \"symbol\": 3}, \"mode\": \"markers\", \"name\": \"Sub-Saharan Africa4\", \"text\": [\"Angola\", \"Botswana\", \"Cabo Verde\", \"Central African Republic\", \"Congo (note no data in Food suppley tables for DRC)\", \"Mauritania\", \"Namibia\", \"Sao Tome and Principe\", \"South Africa\", \"Eswatini\"], \"type\": \"scatter\", \"uid\": \"71487136-84cc-4abc-805d-43ac141436a8\", \"x\": [-1.6865841077846788, -1.322867563938104, -1.5124124266113383, -1.8351398693733723, -1.4355195705850268, -0.7789628774156595, -1.6367561245530655, -1.341408950540935, -0.5635236037496777, -1.8127703845924166], \"y\": [-0.5483874268521277, -0.9707486883297664, 0.07660305454844026, -1.0903321355223372, 0.17908308962674135, -1.433441365667486, -0.8965507201708295, 0.22320346482443187, -0.6770766186458607, -0.9804335025843446]}, {\"marker\": {\"color\": \"rgb(255,234,0)\", \"line\": {\"width\": 1}, \"size\": 9, \"symbol\": 3}, \"mode\": \"markers\", \"name\": \"Sub-Saharan Africa5\", \"text\": [], \"type\": \"scatter\", \"uid\": \"6f3fe6e0-db52-4b34-ba3d-bf79b8db0b53\", \"x\": [], \"y\": []}, {\"marker\": {\"color\": \"rgb(255,111,0)\", \"line\": {\"width\": 1}, \"size\": 9, \"symbol\": 3}, \"mode\": \"markers\", \"name\": \"Sub-Saharan Africa6\", \"text\": [\"Benin\", \"Burkina Faso\", \"Cameroon\", \"Chad\", \"C\\u00c3\\u0192\\u00c2\\u00b4te d'Ivoire\", \"Ethiopia\", \"Ghana\", \"Kenya\", \"Lesotho\", \"Malawi\", \"Mali\", \"Mozambique\", \"Niger\", \"Nigeria\", \"Rwanda\", \"Togo\", \"Uganda\", \"United Republic of Tanzania\", \"Zambia\", \"Zimbabwe\"], \"type\": \"scatter\", \"uid\": \"65de2d7a-6434-4f96-be0f-2d1cb3b3de59\", \"x\": [-2.574306620188047, -2.6988417531704827, -2.979352491177083, -2.069051170726937, -2.3357549227092353, -2.687635336603692, -2.449657985518813, -2.4517887410187043, -3.100653436584261, -3.5596959019966756, -2.307225376399263, -2.8953867774802333, -3.149529184881428, -2.423556029807336, -3.4872450543097906, -3.0254149402823947, -2.89415510149512, -2.9793875075126732, -2.579134510839204, -2.283532440881736], \"y\": [-0.06101701118963632, -0.7570949947112842, -0.8050963514459593, -0.5123436434042392, 0.126773260462239, -1.430444596711728, -0.396385477297346, -1.5773014125796636, -2.0721781342363923, -1.7461269870501357, -0.7200140202193901, -0.798282907030655, -1.4970933413683776, -0.44953636835826344, -1.7553359290743493, -0.7302448694536048, -1.0593593659050677, -1.0558610947394138, -0.832077387647394, -0.7921952017482877]}, {\"marker\": {\"color\": \"rgb(150,0,90)\", \"line\": {\"width\": 1}, \"size\": 9, \"symbol\": 4}, \"mode\": \"markers\", \"name\": \"Latin America & Caribbean0\", \"text\": [\"Uruguay\"], \"type\": \"scatter\", \"uid\": \"5b23476e-4dac-49b7-b35c-b6e7611bad5a\", \"x\": [1.695354784351359], \"y\": [-1.0349388900555005]}, {\"marker\": {\"color\": \"rgb(0,0,200)\", \"line\": {\"width\": 1}, \"size\": 9, \"symbol\": 4}, \"mode\": \"markers\", \"name\": \"Latin America & Caribbean1\", \"text\": [\"Guyana\"], \"type\": \"scatter\", \"uid\": \"909ab116-3fc5-4410-9108-a2864709cb53\", \"x\": [-0.9919807882396773], \"y\": [1.1995353456469375]}, {\"marker\": {\"color\": \"rgb(10,152,255)\", \"line\": {\"width\": 1}, \"size\": 9, \"symbol\": 4}, \"mode\": \"markers\", \"name\": \"Latin America & Caribbean2\", \"text\": [\"Antigua and Barbuda\", \"Bahamas\", \"Barbados\", \"Brazil\", \"Chile\", \"Colombia\", \"Costa Rica\", \"Dominica\", \"Dominican Republic\", \"Ecuador\", \"Grenada\", \"Jamaica\", \"Panama\", \"Paraguay\", \"Saint Kitts and Nevis\", \"Saint Lucia\", \"Saint Vincent and the Grenadines\", \"Suriname\", \"Trinidad and Tobago\", \"Venezuela (Bolivarian Republic of)\"], \"type\": \"scatter\", \"uid\": \"cb06d93a-a342-4edd-bbe8-09e16ce4af53\", \"x\": [0.8452852383786159, 1.3400496560739759, 0.5605303471987559, 0.45672615293435687, 1.1204747533167934, -0.3074188087339174, -0.15258352565086195, 0.1726721866601699, -1.0524901799530715, 0.013807238307056364, 0.20559908990425566, -0.28268186127456346, -0.3891270001318538, 0.10619605779131586, -0.023066921248773586, 0.4703950464845223, 0.2579947359297983, -0.7798285826562018, -0.12369762184280132, -0.16497447797393516], \"y\": [1.2309197452370453, 1.2213046803542615, 0.32922758607981684, -0.21022415008442458, -0.0420496705691412, -0.03674684736287171, 0.3032597367091397, 0.0020438627209608796, 0.6810679744945526, 0.6222351888067891, 0.8799489848709514, 0.44687007464030665, 0.939812046269748, -0.23588755153081586, 1.0854970369702428, 0.6694310548709408, 0.8627360120375328, 1.2397112629276525, 0.24504660332165237, 0.03305262898969059]}, {\"marker\": {\"color\": \"rgb(44,255,150)\", \"line\": {\"width\": 1}, \"size\": 9, \"symbol\": 4}, \"mode\": \"markers\", \"name\": \"Latin America & Caribbean3\", \"text\": [\"Argentina\"], \"type\": \"scatter\", \"uid\": \"e71a9109-d65e-42d4-b6ca-a325bd76f0a3\", \"x\": [3.0151047757423], \"y\": [-0.812861737176926]}, {\"marker\": {\"color\": \"rgb(151,255,0)\", \"line\": {\"width\": 1}, \"size\": 9, \"symbol\": 4}, \"mode\": \"markers\", \"name\": \"Latin America & Caribbean4\", \"text\": [\"Belize\", \"Bolivia (Plurinational State of)\", \"Cuba\", \"El Salvador\", \"Guatemala\", \"Honduras\", \"Mexico\", \"Peru\"], \"type\": \"scatter\", \"uid\": \"a504fda3-3b84-4808-9380-72a68dd1985f\", \"x\": [-1.1199571355088507, -0.48434267721650154, -1.4018342736743556, -1.617280689424453, -1.7056440960682122, -1.6960868773779165, -0.3952692241908524, -1.129846991570885], \"y\": [0.20990102728536483, -0.34767916363764706, 0.11797398430783289, -1.1221238428733848, -0.9489861197311756, -0.6803318527200171, -0.5807037427739751, -0.003201503914810501]}, {\"marker\": {\"color\": \"rgb(255,234,0)\", \"line\": {\"width\": 1}, \"size\": 9, \"symbol\": 4}, \"mode\": \"markers\", \"name\": \"Latin America & Caribbean5\", \"text\": [], \"type\": \"scatter\", \"uid\": \"2adf9048-e919-4191-acaa-d774a6c61fe3\", \"x\": [], \"y\": []}, {\"marker\": {\"color\": \"rgb(255,111,0)\", \"line\": {\"width\": 1}, \"size\": 9, \"symbol\": 4}, \"mode\": \"markers\", \"name\": \"Latin America & Caribbean6\", \"text\": [\"Haiti\", \"Nicaragua\"], \"type\": \"scatter\", \"uid\": \"3ce4a2d8-a9b6-482d-8ea8-f681c7025aa4\", \"x\": [-2.8472925218127094, -2.7090098019227518], \"y\": [-0.29324096737323624, -0.5538076283404966]}, {\"marker\": {\"color\": \"rgb(150,0,90)\", \"line\": {\"width\": 1}, \"size\": 9, \"symbol\": 5}, \"mode\": \"markers\", \"name\": \"East Asia & Pacific0\", \"text\": [\"Mongolia\", \"New Zealand\"], \"type\": \"scatter\", \"uid\": \"8d80a630-b73b-4b64-82d5-26d8ff2e9c18\", \"x\": [0.8852401981092998, 1.5976076322251351], \"y\": [-4.0631784394527415, -0.8673891526340163]}, {\"marker\": {\"color\": \"rgb(0,0,200)\", \"line\": {\"width\": 1}, \"size\": 9, \"symbol\": 5}, \"mode\": \"markers\", \"name\": \"East Asia & Pacific1\", \"text\": [\"Cambodia\", \"Indonesia\", \"Kiribati\", \"Lao People's Democratic Republic\", \"Myanmar\", \"Philippines\", \"Thailand\", \"Viet Nam\"], \"type\": \"scatter\", \"uid\": \"288c2ba0-4b57-4bbd-a8d7-55f95659b1e8\", \"x\": [-2.8248081720444738, -2.2890441738492946, -0.8277764095090926, -2.8200792765449934, -2.0710873548630757, -1.5796232332802, -1.1864198859602553, -1.50291321372396], \"y\": [2.99292814800493, 2.1569054803508503, 2.3687447980423615, 2.683118812916563, 2.9179985639464845, 2.3922639719170817, 2.373955824236931, 3.1915220599529985]}, {\"marker\": {\"color\": \"rgb(10,152,255)\", \"line\": {\"width\": 1}, \"size\": 9, \"symbol\": 5}, \"mode\": \"markers\", \"name\": \"East Asia & Pacific2\", \"text\": [\"New Caledonia\", \"Samoa\", \"Vanuatu\"], \"type\": \"scatter\", \"uid\": \"24c1ed0a-017e-4826-9f39-0b20eee8b226\", \"x\": [1.2829898333175167, 0.7779518326263819, -0.703411362911452], \"y\": [0.7574513420314004, 1.1336625344557723, 0.7782551003836053]}, {\"marker\": {\"color\": \"rgb(44,255,150)\", \"line\": {\"width\": 1}, \"size\": 9, \"symbol\": 5}, \"mode\": \"markers\", \"name\": \"East Asia & Pacific3\", \"text\": [\"Australia\", \"French Polynesia\"], \"type\": \"scatter\", \"uid\": \"c68e58cd-8bb4-4cb9-945c-88ecb8ee4eb4\", \"x\": [2.5062843650504147, 1.5412862767389222], \"y\": [-0.291688062312058, 1.173086006489949]}, {\"marker\": {\"color\": \"rgb(151,255,0)\", \"line\": {\"width\": 1}, \"size\": 9, \"symbol\": 5}, \"mode\": \"markers\", \"name\": \"East Asia & Pacific4\", \"text\": [\"Fiji\"], \"type\": \"scatter\", \"uid\": \"51617131-aeda-48b6-8e1f-ed23a9ebda01\", \"x\": [-0.6346587047438784], \"y\": [-0.07026351207310472]}, {\"marker\": {\"color\": \"rgb(255,234,0)\", \"line\": {\"width\": 1}, \"size\": 9, \"symbol\": 5}, \"mode\": \"markers\", \"name\": \"East Asia & Pacific5\", \"text\": [\"Brunei Darussalam\", \"China, Hong Kong SAR\", \"China, Macao SAR\", \"China, mainland\", \"China, Taiwan Province of\", \"Japan\", \"Malaysia\", \"Republic of Korea\"], \"type\": \"scatter\", \"uid\": \"efeba102-dd69-4d0b-92e9-d7086c06d296\", \"x\": [0.7641208189542725, 2.870047899570383, 1.7646290609427753, 0.8072297762995769, 0.691629866020365, 0.9381204394351735, -0.006129132168770718, 0.23783212359766498], \"y\": [2.1418284253898916, 3.154522711023835, 2.864548350865009, 1.8109693101932656, 2.0265428572880193, 2.5507622434168384, 2.6265081501172944, 2.77895195187075]}, {\"marker\": {\"color\": \"rgb(255,111,0)\", \"line\": {\"width\": 1}, \"size\": 9, \"symbol\": 5}, \"mode\": \"markers\", \"name\": \"East Asia & Pacific6\", \"text\": [\"Democratic People's Republic of Korea\", \"Solomon Islands\", \"Timor-Leste\"], \"type\": \"scatter\", \"uid\": \"8b5181a0-1c50-4954-b53e-3e82a004cd4a\", \"x\": [-2.551465145811014, -2.053959275490055, -2.7522535994625725], \"y\": [0.3474933616505065, 0.4198394061094373, 0.26068317493344]}, {\"marker\": {\"color\": \"rgb(150,0,90)\", \"line\": {\"width\": 1}, \"size\": 9, \"symbol\": 6}, \"mode\": \"markers\", \"name\": \"North America0\", \"text\": [], \"type\": \"scatter\", \"uid\": \"9a5ae162-23ad-4cf9-b68b-390e21b6d9d6\", \"x\": [], \"y\": []}, {\"marker\": {\"color\": \"rgb(0,0,200)\", \"line\": {\"width\": 1}, \"size\": 9, \"symbol\": 6}, \"mode\": \"markers\", \"name\": \"North America1\", \"text\": [], \"type\": \"scatter\", \"uid\": \"a073d8b6-02ec-485f-9aef-f29c1349476e\", \"x\": [], \"y\": []}, {\"marker\": {\"color\": \"rgb(10,152,255)\", \"line\": {\"width\": 1}, \"size\": 9, \"symbol\": 6}, \"mode\": \"markers\", \"name\": \"North America2\", \"text\": [], \"type\": \"scatter\", \"uid\": \"1503f402-3343-409d-8874-83b89cc4e30a\", \"x\": [], \"y\": []}, {\"marker\": {\"color\": \"rgb(44,255,150)\", \"line\": {\"width\": 1}, \"size\": 9, \"symbol\": 6}, \"mode\": \"markers\", \"name\": \"North America3\", \"text\": [\"Bermuda\", \"Canada\", \"United States of America\"], \"type\": \"scatter\", \"uid\": \"f0e66ddb-0f48-46a1-b96a-31915b3a8fee\", \"x\": [2.234471586735467, 1.5742233909737213, 2.874872528136872], \"y\": [0.7769198557904577, -0.10009532386314264, 0.25132400209083355]}, {\"marker\": {\"color\": \"rgb(151,255,0)\", \"line\": {\"width\": 1}, \"size\": 9, \"symbol\": 6}, \"mode\": \"markers\", \"name\": \"North America4\", \"text\": [], \"type\": \"scatter\", \"uid\": \"8e910618-ea38-4af3-945c-16b1433468f0\", \"x\": [], \"y\": []}, {\"marker\": {\"color\": \"rgb(255,234,0)\", \"line\": {\"width\": 1}, \"size\": 9, \"symbol\": 6}, \"mode\": \"markers\", \"name\": \"North America5\", \"text\": [], \"type\": \"scatter\", \"uid\": \"f6c6fd9f-2157-4795-a3dc-e19ae70011c4\", \"x\": [], \"y\": []}, {\"marker\": {\"color\": \"rgb(255,111,0)\", \"line\": {\"width\": 1}, \"size\": 9, \"symbol\": 6}, \"mode\": \"markers\", \"name\": \"North America6\", \"text\": [], \"type\": \"scatter\", \"uid\": \"5aa53194-a3d4-47f5-aa61-3557dc57e308\", \"x\": [], \"y\": []}, {\"marker\": {\"color\": \"rgba(220, 220, 220, .4)\", \"line\": {\"width\": 1}, \"size\": 20}, \"mode\": \"markers\", \"name\": \"Center\", \"type\": \"scatter\", \"uid\": \"3dcdb9ab-fec0-4b4a-adb6-d15c24dfe28c\", \"x\": [1.4807155861819845, -2.0980355018147336, 0.21167495735766023, 2.6392222398503273, -1.0026604073640364, 0.96132126106009, -2.683864382153967], \"y\": [-2.1428806609335638, 1.8550963169505919, 0.31935553439089565, 0.20472143228276554, -0.6983598144687782, 2.7817940555391703, -0.7032317524665195]}],\n",
       "                        {\"hovermode\": \"closest\", \"showlegend\": true, \"title\": {\"text\": \"2 component PCA Kmeans Clustering Region\"}, \"xaxis\": {\"gridwidth\": 2, \"ticklen\": 5, \"title\": {\"text\": \"principal component 1\"}, \"zeroline\": false}, \"yaxis\": {\"gridwidth\": 2, \"ticklen\": 5, \"title\": {\"text\": \"principal component 2\"}}},\n",
       "                        {\"showLink\": false, \"linkText\": \"Export to plot.ly\", \"plotlyServerURL\": \"https://plot.ly\", \"responsive\": true}\n",
       "                    ).then(function(){\n",
       "                            \n",
       "var gd = document.getElementById('96932f2d-f5e2-4dfb-a3e2-20a008a6851d');\n",
       "var x = new MutationObserver(function (mutations, observer) {{\n",
       "        var display = window.getComputedStyle(gd).display;\n",
       "        if (!display || display === 'none') {{\n",
       "            console.log([gd, 'removed!']);\n",
       "            Plotly.purge(gd);\n",
       "            observer.disconnect();\n",
       "        }}\n",
       "}});\n",
       "\n",
       "// Listen for the removal of the full notebook cells\n",
       "var notebookContainer = gd.closest('#notebook-container');\n",
       "if (notebookContainer) {{\n",
       "    x.observe(notebookContainer, {childList: true});\n",
       "}}\n",
       "\n",
       "// Listen for the clearing of the current output cell\n",
       "var outputEl = gd.closest('.output');\n",
       "if (outputEl) {{\n",
       "    x.observe(outputEl, {childList: true});\n",
       "}}\n",
       "\n",
       "                        })\n",
       "                };\n",
       "                });\n",
       "            </script>\n",
       "        </div>"
      ]
     },
     "metadata": {},
     "output_type": "display_data"
    },
    {
     "name": "stderr",
     "output_type": "stream",
     "text": [
      "C:\\Users\\XuP-intern\\AppData\\Local\\Continuum\\anaconda3\\lib\\site-packages\\IPython\\core\\display.py:689: UserWarning:\n",
      "\n",
      "Consider using IPython.display.IFrame instead\n",
      "\n"
     ]
    }
   ],
   "source": [
    "# Plot using plotly on Region level.\n",
    "\n",
    "plot_plotly(protein_group_merged_df,\"Region\",region_centers,7,\"Protein Foods\",'')"
   ]
  },
  {
   "cell_type": "markdown",
   "metadata": {},
   "source": [
    "#### Income Level"
   ]
  },
  {
   "cell_type": "code",
   "execution_count": 117,
   "metadata": {
    "scrolled": true
   },
   "outputs": [
    {
     "name": "stdout",
     "output_type": "stream",
     "text": [
      "['Low income' 'Upper middle income' 'Lower middle income' 'High income']\n"
     ]
    },
    {
     "name": "stderr",
     "output_type": "stream",
     "text": [
      "C:\\Users\\XuP-intern\\AppData\\Local\\Continuum\\anaconda3\\lib\\site-packages\\matplotlib\\legend.py:798: UserWarning:\n",
      "\n",
      "Legend does not support 's' instances.\n",
      "A proxy artist may be used instead.\n",
      "See: http://matplotlib.org/users/legend_guide.html#creating-artists-specifically-for-adding-to-the-legend-aka-proxy-artists\n",
      "\n",
      "C:\\Users\\XuP-intern\\AppData\\Local\\Continuum\\anaconda3\\lib\\site-packages\\matplotlib\\legend.py:798: UserWarning:\n",
      "\n",
      "Legend does not support 'd' instances.\n",
      "A proxy artist may be used instead.\n",
      "See: http://matplotlib.org/users/legend_guide.html#creating-artists-specifically-for-adding-to-the-legend-aka-proxy-artists\n",
      "\n",
      "C:\\Users\\XuP-intern\\AppData\\Local\\Continuum\\anaconda3\\lib\\site-packages\\matplotlib\\legend.py:798: UserWarning:\n",
      "\n",
      "Legend does not support 'p' instances.\n",
      "A proxy artist may be used instead.\n",
      "See: http://matplotlib.org/users/legend_guide.html#creating-artists-specifically-for-adding-to-the-legend-aka-proxy-artists\n",
      "\n",
      "C:\\Users\\XuP-intern\\AppData\\Local\\Continuum\\anaconda3\\lib\\site-packages\\matplotlib\\legend.py:798: UserWarning:\n",
      "\n",
      "Legend does not support 'h' instances.\n",
      "A proxy artist may be used instead.\n",
      "See: http://matplotlib.org/users/legend_guide.html#creating-artists-specifically-for-adding-to-the-legend-aka-proxy-artists\n",
      "\n"
     ]
    },
    {
     "data": {
      "image/png": "[encoded data removed]",
      "text/plain": [
       "<Figure size 576x576 with 1 Axes>"
      ]
     },
     "metadata": {
      "needs_background": "light"
     },
     "output_type": "display_data"
    },
    {
     "data": {
      "image/png": "[encoded data removed]",
      "text/plain": [
       "<Figure size 576x576 with 1 Axes>"
      ]
     },
     "metadata": {
      "needs_background": "light"
     },
     "output_type": "display_data"
    }
   ],
   "source": [
    "# Plot using matlablib on Income level.\n",
    "\n",
    "colors_income = ['r', 'g', 'b','c']\n",
    "pca_plot(colors_income,protein_group_merged_df,\"Income group\")\n",
    "mark_shapes_income = ['s','d','p','h']\n",
    "income_cluster_labels, income_centers = perform_kmeans(X, 4)\n",
    "protein_group_merged_df[\"Income group_Cluster\"] = income_cluster_labels\n",
    "\n",
    "\n",
    "pca_kmeans_plot(colors_income,mark_shapes_income,protein_group_merged_df,\"Income group\",income_centers)\n",
    "\n",
    "# Output to csv \n",
    "protein_group_merged_df.to_csv(\"pca_protein.csv\")"
   ]
  },
  {
   "cell_type": "code",
   "execution_count": 118,
   "metadata": {},
   "outputs": [
    {
     "data": {
      "application/vnd.plotly.v1+json": {
       "config": {
        "linkText": "Export to plot.ly",
        "plotlyServerURL": "https://plot.ly",
        "showLink": false
       },
       "data": [
        {
         "marker": {
          "color": "rgb(150,0,90)",
          "line": {
           "width": 1
          },
          "size": 9,
          "symbol": 0
         },
         "mode": "markers",
         "name": "Low income0",
         "text": [],
         "type": "scatter",
         "uid": "d7140da7-3e31-477f-b7ad-3fae98405d9f",
         "x": [],
         "y": []
        },
        {
         "marker": {
          "color": "rgb(0,0,200)",
          "line": {
           "width": 1
          },
          "size": 9,
          "symbol": 0
         },
         "mode": "markers",
         "name": "Low income1",
         "text": [
          "Benin",
          "Burkina Faso",
          "Central African Republic",
          "Chad",
          "Democratic People's Republic of Korea",
          "Ethiopia",
          "Gambia",
          "Guinea",
          "Guinea-Bissau",
          "Haiti",
          "Liberia",
          "Madagascar",
          "Malawi",
          "Mali",
          "Mozambique",
          "Nepal",
          "Niger",
          "Rwanda",
          "Senegal",
          "Sierra Leone",
          "Togo",
          "Uganda",
          "United Republic of Tanzania",
          "Zimbabwe"
         ],
         "type": "scatter",
         "uid": "d8ed8412-5987-465d-b552-8be097906db2",
         "x": [
          -2.574306620188047,
          -2.6988417531704827,
          -1.8351398693733723,
          -2.069051170726937,
          -2.551465145811014,
          -2.687635336603692,
          -1.6761351320939937,
          -2.5425623708509315,
          -2.335524291743871,
          -2.8472925218127094,
          -2.31255466064299,
          -2.644709869455552,
          -3.5596959019966756,
          -2.307225376399263,
          -2.8953867774802333,
          -2.523104044473208,
          -3.149529184881428,
          -3.4872450543097906,
          -2.127111850623701,
          -2.7516009915269657,
          -3.0254149402823947,
          -2.89415510149512,
          -2.9793875075126732,
          -2.283532440881736
         ],
         "y": [
          -0.06101701118963632,
          -0.7570949947112842,
          -1.0903321355223372,
          -0.5123436434042392,
          0.3474933616505065,
          -1.430444596711728,
          0.5278721787493851,
          1.0632374066055497,
          1.1193271346434503,
          -0.29324096737323624,
          1.255379695016391,
          1.1315436072078517,
          -1.7461269870501357,
          -0.7200140202193901,
          -0.798282907030655,
          -0.2713983772673335,
          -1.4970933413683776,
          -1.7553359290743493,
          0.8147949210622493,
          1.4242765015759857,
          -0.7302448694536048,
          -1.0593593659050677,
          -1.0558610947394138,
          -0.7921952017482877
         ]
        },
        {
         "marker": {
          "color": "rgb(10,152,255)",
          "line": {
           "width": 1
          },
          "size": 9,
          "symbol": 0
         },
         "mode": "markers",
         "name": "Low income2",
         "text": [],
         "type": "scatter",
         "uid": "dd0c6ed3-45f3-4e1e-aa5d-fd239ff7d619",
         "x": [],
         "y": []
        },
        {
         "marker": {
          "color": "rgb(44,255,150)",
          "line": {
           "width": 1
          },
          "size": 9,
          "symbol": 0
         },
         "mode": "markers",
         "name": "Low income3",
         "text": [
          "Afghanistan",
          "Tajikistan",
          "Yemen"
         ],
         "type": "scatter",
         "uid": "ea9dbd6d-0104-4dd2-8d4b-0222ba6030be",
         "x": [
          -0.5187362283538711,
          -0.6961485504562095,
          -1.070187389705512
         ],
         "y": [
          -1.4546206549531921,
          -1.4259635833460693,
          -0.9182385101701513
         ]
        },
        {
         "marker": {
          "color": "rgb(150,0,90)",
          "line": {
           "width": 1
          },
          "size": 9,
          "symbol": 1
         },
         "mode": "markers",
         "name": "Upper middle income0",
         "text": [
          "China, mainland",
          "Dominican Republic",
          "Ecuador",
          "Gabon",
          "Grenada",
          "Guyana",
          "Jamaica",
          "Malaysia",
          "Maldives",
          "Saint Lucia",
          "Saint Vincent and the Grenadines",
          "Samoa",
          "Suriname",
          "Thailand"
         ],
         "type": "scatter",
         "uid": "d38e99a2-a2e9-40ba-bc92-df881aa4a780",
         "x": [
          0.8072297762995769,
          -1.0524901799530715,
          0.013807238307056364,
          -0.7501484345551,
          0.20559908990425566,
          -0.9919807882396773,
          -0.28268186127456346,
          -0.006129132168770718,
          0.5844104968893692,
          0.4703950464845223,
          0.2579947359297983,
          0.7779518326263819,
          -0.7798285826562018,
          -1.1864198859602553
         ],
         "y": [
          1.8109693101932656,
          0.6810679744945526,
          0.6222351888067891,
          0.8738600726230518,
          0.8799489848709514,
          1.1995353456469375,
          0.44687007464030665,
          2.6265081501172944,
          5.081512499687632,
          0.6694310548709408,
          0.8627360120375328,
          1.1336625344557723,
          1.2397112629276525,
          2.373955824236931
         ]
        },
        {
         "marker": {
          "color": "rgb(0,0,200)",
          "line": {
           "width": 1
          },
          "size": 9,
          "symbol": 1
         },
         "mode": "markers",
         "name": "Upper middle income1",
         "text": [
          "Belize",
          "Botswana",
          "Cuba",
          "Guatemala",
          "Namibia",
          "Peru"
         ],
         "type": "scatter",
         "uid": "33a677e0-64ef-4972-ad9a-75376546ece4",
         "x": [
          -1.1199571355088507,
          -1.322867563938104,
          -1.4018342736743556,
          -1.7056440960682122,
          -1.6367561245530655,
          -1.129846991570885
         ],
         "y": [
          0.20990102728536483,
          -0.9707486883297664,
          0.11797398430783289,
          -0.9489861197311756,
          -0.8965507201708295,
          -0.003201503914810501
         ]
        },
        {
         "marker": {
          "color": "rgb(10,152,255)",
          "line": {
           "width": 1
          },
          "size": 9,
          "symbol": 1
         },
         "mode": "markers",
         "name": "Upper middle income2",
         "text": [
          "Albania",
          "Armenia",
          "Belarus",
          "Kazakhstan",
          "Montenegro",
          "Romania",
          "Russian Federation"
         ],
         "type": "scatter",
         "uid": "56937efb-f2dd-4071-afea-9601ce87c3c6",
         "x": [
          2.4407185523595496,
          1.6741653766049829,
          3.952101321516853,
          2.001162515135617,
          2.4095853816715658,
          1.841996188386057,
          2.6916004152646296
         ],
         "y": [
          -2.200207534746661,
          -1.0182527145102853,
          0.7652031841385577,
          -1.6938835111056045,
          -0.5105181230874344,
          -1.0410906316902286,
          -0.029226643120699985
         ]
        },
        {
         "marker": {
          "color": "rgb(44,255,150)",
          "line": {
           "width": 1
          },
          "size": 9,
          "symbol": 1
         },
         "mode": "markers",
         "name": "Upper middle income3",
         "text": [
          "Algeria",
          "Azerbaijan",
          "Bosnia and Herzegovina",
          "Brazil",
          "Bulgaria",
          "Colombia",
          "Costa Rica",
          "Dominica",
          "Fiji",
          "Iran (Islamic Republic of)",
          "Iraq",
          "Jordan",
          "Lebanon",
          "Mauritius",
          "Mexico",
          "Paraguay",
          "Serbia",
          "South Africa",
          "North Macedonia",
          "Turkey",
          "Turkmenistan",
          "Venezuela (Bolivarian Republic of)"
         ],
         "type": "scatter",
         "uid": "631b0700-c9e8-49e2-aa61-02c89e2ca7c0",
         "x": [
          0.5966456068517741,
          1.271725220438081,
          -0.4398346011607433,
          0.45672615293435687,
          0.9603595886425655,
          -0.3074188087339174,
          -0.15258352565086195,
          0.1726721866601699,
          -0.6346587047438784,
          -0.16505519369409327,
          -0.4843683929002223,
          0.026303719127126406,
          -0.1268437004114436,
          -0.06328760979079437,
          -0.3952692241908524,
          0.10619605779131586,
          0.6741377816947594,
          -0.5635236037496777,
          0.12494599807255044,
          0.8515084271113968,
          1.8159607067811956,
          -0.16497447797393516
         ],
         "y": [
          -2.699385861344075,
          -2.2691708350668742,
          -1.3164194982192274,
          -0.21022415008442458,
          -0.2495835333112877,
          -0.03674684736287171,
          0.3032597367091397,
          0.0020438627209608796,
          -0.07026351207310472,
          -1.0994537944471696,
          -0.19942009811612305,
          -0.9124448305221925,
          -0.8536854812691493,
          0.25425754449646304,
          -0.5807037427739751,
          -0.23588755153081586,
          -0.6026848118923438,
          -0.6770766186458607,
          -0.754149283831443,
          -1.8205513924393848,
          -3.1893678498892077,
          0.03305262898969059
         ]
        },
        {
         "marker": {
          "color": "rgb(150,0,90)",
          "line": {
           "width": 1
          },
          "size": 9,
          "symbol": 2
         },
         "mode": "markers",
         "name": "Lower middle income0",
         "text": [
          "Cambodia",
          "Indonesia",
          "Kiribati",
          "Lao People's Democratic Republic",
          "Myanmar",
          "Philippines",
          "Vanuatu",
          "Viet Nam"
         ],
         "type": "scatter",
         "uid": "92dab1e3-3b37-46bd-b685-c2d005d9c8b0",
         "x": [
          -2.8248081720444738,
          -2.2890441738492946,
          -0.8277764095090926,
          -2.8200792765449934,
          -2.0710873548630757,
          -1.5796232332802,
          -0.703411362911452,
          -1.50291321372396
         ],
         "y": [
          2.99292814800493,
          2.1569054803508503,
          2.3687447980423615,
          2.683118812916563,
          2.9179985639464845,
          2.3922639719170817,
          0.7782551003836053,
          3.1915220599529985
         ]
        },
        {
         "marker": {
          "color": "rgb(0,0,200)",
          "line": {
           "width": 1
          },
          "size": 9,
          "symbol": 2
         },
         "mode": "markers",
         "name": "Lower middle income1",
         "text": [
          "Angola",
          "Bangladesh",
          "Cabo Verde",
          "Cameroon",
          "Congo (note no data in Food suppley tables for DRC)",
          "CÃƒÂ´te d'Ivoire",
          "Djibouti",
          "El Salvador",
          "Ghana",
          "Honduras",
          "India",
          "Kenya",
          "Lesotho",
          "Nicaragua",
          "Nigeria",
          "Sao Tome and Principe",
          "Solomon Islands",
          "Sri Lanka",
          "Eswatini",
          "Timor-Leste",
          "Zambia"
         ],
         "type": "scatter",
         "uid": "ad806f39-5531-4fcd-9bf5-80b3d1550056",
         "x": [
          -1.6865841077846788,
          -2.962684688345844,
          -1.5124124266113383,
          -2.979352491177083,
          -1.4355195705850268,
          -2.3357549227092353,
          -1.3334993036213825,
          -1.617280689424453,
          -2.449657985518813,
          -1.6960868773779165,
          -2.0959486456016725,
          -2.4517887410187043,
          -3.100653436584261,
          -2.7090098019227518,
          -2.423556029807336,
          -1.341408950540935,
          -2.053959275490055,
          -2.318022669366338,
          -1.8127703845924166,
          -2.7522535994625725,
          -2.579134510839204
         ],
         "y": [
          -0.5483874268521277,
          2.1555619555372973,
          0.07660305454844026,
          -0.8050963514459593,
          0.17908308962674135,
          0.126773260462239,
          -1.3490331630606174,
          -1.1221238428733848,
          -0.396385477297346,
          -0.6803318527200171,
          0.0243895474006073,
          -1.5773014125796636,
          -2.0721781342363923,
          -0.5538076283404966,
          -0.44953636835826344,
          0.22320346482443187,
          0.4198394061094373,
          1.6227672996973552,
          -0.9804335025843446,
          0.26068317493344,
          -0.832077387647394
         ]
        },
        {
         "marker": {
          "color": "rgb(10,152,255)",
          "line": {
           "width": 1
          },
          "size": 9,
          "symbol": 2
         },
         "mode": "markers",
         "name": "Lower middle income2",
         "text": [
          "Sudan",
          "Ukraine"
         ],
         "type": "scatter",
         "uid": "75ca69af-2ab0-4e66-8742-a7281fc2f862",
         "x": [
          3.169512263823843,
          2.203177829159169
         ],
         "y": [
          -4.164520272449868,
          -0.17146996591623148
         ]
        },
        {
         "marker": {
          "color": "rgb(44,255,150)",
          "line": {
           "width": 1
          },
          "size": 9,
          "symbol": 2
         },
         "mode": "markers",
         "name": "Lower middle income3",
         "text": [
          "Bolivia (Plurinational State of)",
          "Egypt",
          "Georgia",
          "Kyrgyzstan",
          "Mauritania",
          "Mongolia",
          "Morocco",
          "Pakistan",
          "Republic of Moldova",
          "Tunisia",
          "Uzbekistan"
         ],
         "type": "scatter",
         "uid": "70bc947d-9c3a-40e5-af77-700f156c8387",
         "x": [
          -0.48434267721650154,
          -0.9592394880665003,
          0.370084776522889,
          0.6016375020744401,
          -0.7789628774156595,
          0.8852401981092998,
          0.8407176172830627,
          -0.34910348987113765,
          -0.005577842751399327,
          0.6763198048034671,
          1.014084698739387
         ],
         "y": [
          -0.34767916363764706,
          -0.8056313115859217,
          -0.8716671846477674,
          -2.1325228581750464,
          -1.433441365667486,
          -4.0631784394527415,
          -3.142643163782732,
          -1.1896534489904644,
          -0.28227341661659644,
          -1.7991259280475613,
          -1.8515767267611185
         ]
        },
        {
         "marker": {
          "color": "rgb(150,0,90)",
          "line": {
           "width": 1
          },
          "size": 9,
          "symbol": 3
         },
         "mode": "markers",
         "name": "High income0",
         "text": [
          "Antigua and Barbuda",
          "Brunei Darussalam",
          "China, Macao SAR",
          "China, Taiwan Province of",
          "Japan",
          "Panama",
          "Republic of Korea",
          "Saint Kitts and Nevis"
         ],
         "type": "scatter",
         "uid": "b1344321-6dc1-4556-85b9-9d5c3edef883",
         "x": [
          0.8452852383786159,
          0.7641208189542725,
          1.7646290609427753,
          0.691629866020365,
          0.9381204394351735,
          -0.3891270001318538,
          0.23783212359766498,
          -0.023066921248773586
         ],
         "y": [
          1.2309197452370453,
          2.1418284253898916,
          2.864548350865009,
          2.0265428572880193,
          2.5507622434168384,
          0.939812046269748,
          2.77895195187075,
          1.0854970369702428
         ]
        },
        {
         "marker": {
          "color": "rgb(0,0,200)",
          "line": {
           "width": 1
          },
          "size": 9,
          "symbol": 3
         },
         "mode": "markers",
         "name": "High income1",
         "text": [],
         "type": "scatter",
         "uid": "d71ac3d8-5402-407b-8ebb-ca5fdfa4130f",
         "x": [],
         "y": []
        },
        {
         "marker": {
          "color": "rgb(10,152,255)",
          "line": {
           "width": 1
          },
          "size": 9,
          "symbol": 3
         },
         "mode": "markers",
         "name": "High income2",
         "text": [
          "Argentina",
          "Australia",
          "Austria",
          "Bahamas",
          "Belgium",
          "Bermuda",
          "Canada",
          "Chile",
          "China, Hong Kong SAR",
          "Croatia",
          "Cyprus",
          "Czechia",
          "Denmark",
          "Estonia",
          "Finland",
          "France",
          "French Polynesia",
          "Germany",
          "Greece",
          "Hungary",
          "Iceland",
          "Ireland",
          "Israel",
          "Italy",
          "Latvia",
          "Lithuania",
          "Luxembourg",
          "Malta",
          "Netherlands",
          "New Caledonia",
          "New Zealand",
          "Norway",
          "Poland",
          "Portugal",
          "Slovakia",
          "Slovenia",
          "Spain",
          "Sweden",
          "Switzerland",
          "United Kingdom",
          "United States of America",
          "Uruguay"
         ],
         "type": "scatter",
         "uid": "0022be71-de37-4e3f-90f1-819b5abc8df0",
         "x": [
          3.0151047757423,
          2.5062843650504147,
          3.3451537380525913,
          1.3400496560739759,
          2.141496741355391,
          2.234471586735467,
          1.5742233909737213,
          1.1204747533167934,
          2.870047899570383,
          1.5526797169539217,
          1.1096046128329815,
          2.3811704471308577,
          3.3874266503644743,
          3.222693057242223,
          3.786106855774535,
          2.773769065781095,
          1.5412862767389222,
          3.089898272216792,
          2.1978078700150894,
          1.6727698593509053,
          3.0172152199619613,
          2.3765027634722533,
          2.4091805886740962,
          2.3915610675356223,
          3.132676453592528,
          3.8115236663286813,
          3.2060386594436974,
          2.103834739403056,
          3.5148356669276684,
          1.2829898333175167,
          1.5976076322251351,
          2.542642043227194,
          3.707157030307946,
          2.1590255284073163,
          1.494982790778646,
          1.9170613822359488,
          2.298223716270315,
          3.535503969671228,
          2.202823498057272,
          2.11378405480431,
          2.874872528136872,
          1.695354784351359
         ],
         "y": [
          -0.812861737176926,
          -0.291688062312058,
          0.5540131898227856,
          1.2213046803542615,
          0.026996937229607693,
          0.7769198557904577,
          -0.10009532386314264,
          -0.0420496705691412,
          3.154522711023835,
          0.15156332152787577,
          0.3705331865728239,
          0.26324407740573563,
          0.5440564190807355,
          -0.9177897470307228,
          0.4882424064454831,
          0.05658213088382506,
          1.173086006489949,
          0.5125229128728598,
          -1.4411654737196844,
          0.255626578987079,
          0.30143631964830764,
          -0.39824712552996244,
          -0.17670548022002946,
          0.09001006767060105,
          -0.12420258660913074,
          0.9653492701738827,
          0.2744563450053484,
          0.21909700847705074,
          0.4291456232931485,
          0.7574513420314004,
          -0.8673891526340163,
          0.20938069920308566,
          0.7167571156028768,
          1.0008000914223818,
          0.0948578157074419,
          -0.28960371098728915,
          1.1849802823914812,
          0.5399035395090552,
          -0.06720244423734019,
          -0.17652982403438944,
          0.25132400209083355,
          -1.0349388900555005
         ]
        },
        {
         "marker": {
          "color": "rgb(44,255,150)",
          "line": {
           "width": 1
          },
          "size": 9,
          "symbol": 3
         },
         "mode": "markers",
         "name": "High income3",
         "text": [
          "Barbados",
          "Kuwait",
          "Oman",
          "Saudi Arabia",
          "Trinidad and Tobago",
          "United Arab Emirates"
         ],
         "type": "scatter",
         "uid": "99ffa0ae-188c-4e55-88b1-8bd638442d37",
         "x": [
          0.5605303471987559,
          1.0325069333092165,
          0.21315145331967061,
          -0.10022053368297267,
          -0.12369762184280132,
          -0.8548938602509599
         ],
         "y": [
          0.32922758607981684,
          -0.3313888080663412,
          -0.2612514010189037,
          -0.22418943164201058,
          0.24504660332165237,
          -0.581094298947789
         ]
        },
        {
         "marker": {
          "color": "rgba(220, 220, 220, .4)",
          "line": {
           "width": 1
          },
          "size": 20
         },
         "mode": "markers",
         "name": "Center",
         "type": "scatter",
         "uid": "817982cb-1aff-4b65-b43c-db903c5cf4ab",
         "x": [
          -0.39072034063816596,
          -2.2886833962359274,
          2.44376347161423,
          0.09077443749646515
         ],
         "y": [
          1.853420129414401,
          -0.3069776657189629,
          -0.004319049112815315,
          -0.9458683672859844
         ]
        }
       ],
       "layout": {
        "hovermode": "closest",
        "showlegend": true,
        "title": {
         "text": "2 component PCA Kmeans Clustering Income group"
        },
        "xaxis": {
         "gridwidth": 2,
         "ticklen": 5,
         "title": {
          "text": "principal component 1"
         },
         "zeroline": false
        },
        "yaxis": {
         "gridwidth": 2,
         "ticklen": 5,
         "title": {
          "text": "principal component 2"
         }
        }
       }
      },
      "text/html": [
       "<div>\n",
       "        \n",
       "        \n",
       "            <div id=\"93264f04-6bea-4699-82f4-9792bc0a8ede\" class=\"plotly-graph-div\" style=\"height:525px; width:100%;\"></div>\n",
       "            <script type=\"text/javascript\">\n",
       "                require([\"plotly\"], function(Plotly) {\n",
       "                    window.PLOTLYENV=window.PLOTLYENV || {};\n",
       "                    window.PLOTLYENV.BASE_URL='https://plot.ly';\n",
       "                    \n",
       "                if (document.getElementById(\"93264f04-6bea-4699-82f4-9792bc0a8ede\")) {\n",
       "                    Plotly.newPlot(\n",
       "                        '93264f04-6bea-4699-82f4-9792bc0a8ede',\n",
       "                        [{\"marker\": {\"color\": \"rgb(150,0,90)\", \"line\": {\"width\": 1}, \"size\": 9, \"symbol\": 0}, \"mode\": \"markers\", \"name\": \"Low income0\", \"text\": [], \"type\": \"scatter\", \"uid\": \"d7140da7-3e31-477f-b7ad-3fae98405d9f\", \"x\": [], \"y\": []}, {\"marker\": {\"color\": \"rgb(0,0,200)\", \"line\": {\"width\": 1}, \"size\": 9, \"symbol\": 0}, \"mode\": \"markers\", \"name\": \"Low income1\", \"text\": [\"Benin\", \"Burkina Faso\", \"Central African Republic\", \"Chad\", \"Democratic People's Republic of Korea\", \"Ethiopia\", \"Gambia\", \"Guinea\", \"Guinea-Bissau\", \"Haiti\", \"Liberia\", \"Madagascar\", \"Malawi\", \"Mali\", \"Mozambique\", \"Nepal\", \"Niger\", \"Rwanda\", \"Senegal\", \"Sierra Leone\", \"Togo\", \"Uganda\", \"United Republic of Tanzania\", \"Zimbabwe\"], \"type\": \"scatter\", \"uid\": \"d8ed8412-5987-465d-b552-8be097906db2\", \"x\": [-2.574306620188047, -2.6988417531704827, -1.8351398693733723, -2.069051170726937, -2.551465145811014, -2.687635336603692, -1.6761351320939937, -2.5425623708509315, -2.335524291743871, -2.8472925218127094, -2.31255466064299, -2.644709869455552, -3.5596959019966756, -2.307225376399263, -2.8953867774802333, -2.523104044473208, -3.149529184881428, -3.4872450543097906, -2.127111850623701, -2.7516009915269657, -3.0254149402823947, -2.89415510149512, -2.9793875075126732, -2.283532440881736], \"y\": [-0.06101701118963632, -0.7570949947112842, -1.0903321355223372, -0.5123436434042392, 0.3474933616505065, -1.430444596711728, 0.5278721787493851, 1.0632374066055497, 1.1193271346434503, -0.29324096737323624, 1.255379695016391, 1.1315436072078517, -1.7461269870501357, -0.7200140202193901, -0.798282907030655, -0.2713983772673335, -1.4970933413683776, -1.7553359290743493, 0.8147949210622493, 1.4242765015759857, -0.7302448694536048, -1.0593593659050677, -1.0558610947394138, -0.7921952017482877]}, {\"marker\": {\"color\": \"rgb(10,152,255)\", \"line\": {\"width\": 1}, \"size\": 9, \"symbol\": 0}, \"mode\": \"markers\", \"name\": \"Low income2\", \"text\": [], \"type\": \"scatter\", \"uid\": \"dd0c6ed3-45f3-4e1e-aa5d-fd239ff7d619\", \"x\": [], \"y\": []}, {\"marker\": {\"color\": \"rgb(44,255,150)\", \"line\": {\"width\": 1}, \"size\": 9, \"symbol\": 0}, \"mode\": \"markers\", \"name\": \"Low income3\", \"text\": [\"Afghanistan\", \"Tajikistan\", \"Yemen\"], \"type\": \"scatter\", \"uid\": \"ea9dbd6d-0104-4dd2-8d4b-0222ba6030be\", \"x\": [-0.5187362283538711, -0.6961485504562095, -1.070187389705512], \"y\": [-1.4546206549531921, -1.4259635833460693, -0.9182385101701513]}, {\"marker\": {\"color\": \"rgb(150,0,90)\", \"line\": {\"width\": 1}, \"size\": 9, \"symbol\": 1}, \"mode\": \"markers\", \"name\": \"Upper middle income0\", \"text\": [\"China, mainland\", \"Dominican Republic\", \"Ecuador\", \"Gabon\", \"Grenada\", \"Guyana\", \"Jamaica\", \"Malaysia\", \"Maldives\", \"Saint Lucia\", \"Saint Vincent and the Grenadines\", \"Samoa\", \"Suriname\", \"Thailand\"], \"type\": \"scatter\", \"uid\": \"d38e99a2-a2e9-40ba-bc92-df881aa4a780\", \"x\": [0.8072297762995769, -1.0524901799530715, 0.013807238307056364, -0.7501484345551, 0.20559908990425566, -0.9919807882396773, -0.28268186127456346, -0.006129132168770718, 0.5844104968893692, 0.4703950464845223, 0.2579947359297983, 0.7779518326263819, -0.7798285826562018, -1.1864198859602553], \"y\": [1.8109693101932656, 0.6810679744945526, 0.6222351888067891, 0.8738600726230518, 0.8799489848709514, 1.1995353456469375, 0.44687007464030665, 2.6265081501172944, 5.081512499687632, 0.6694310548709408, 0.8627360120375328, 1.1336625344557723, 1.2397112629276525, 2.373955824236931]}, {\"marker\": {\"color\": \"rgb(0,0,200)\", \"line\": {\"width\": 1}, \"size\": 9, \"symbol\": 1}, \"mode\": \"markers\", \"name\": \"Upper middle income1\", \"text\": [\"Belize\", \"Botswana\", \"Cuba\", \"Guatemala\", \"Namibia\", \"Peru\"], \"type\": \"scatter\", \"uid\": \"33a677e0-64ef-4972-ad9a-75376546ece4\", \"x\": [-1.1199571355088507, -1.322867563938104, -1.4018342736743556, -1.7056440960682122, -1.6367561245530655, -1.129846991570885], \"y\": [0.20990102728536483, -0.9707486883297664, 0.11797398430783289, -0.9489861197311756, -0.8965507201708295, -0.003201503914810501]}, {\"marker\": {\"color\": \"rgb(10,152,255)\", \"line\": {\"width\": 1}, \"size\": 9, \"symbol\": 1}, \"mode\": \"markers\", \"name\": \"Upper middle income2\", \"text\": [\"Albania\", \"Armenia\", \"Belarus\", \"Kazakhstan\", \"Montenegro\", \"Romania\", \"Russian Federation\"], \"type\": \"scatter\", \"uid\": \"56937efb-f2dd-4071-afea-9601ce87c3c6\", \"x\": [2.4407185523595496, 1.6741653766049829, 3.952101321516853, 2.001162515135617, 2.4095853816715658, 1.841996188386057, 2.6916004152646296], \"y\": [-2.200207534746661, -1.0182527145102853, 0.7652031841385577, -1.6938835111056045, -0.5105181230874344, -1.0410906316902286, -0.029226643120699985]}, {\"marker\": {\"color\": \"rgb(44,255,150)\", \"line\": {\"width\": 1}, \"size\": 9, \"symbol\": 1}, \"mode\": \"markers\", \"name\": \"Upper middle income3\", \"text\": [\"Algeria\", \"Azerbaijan\", \"Bosnia and Herzegovina\", \"Brazil\", \"Bulgaria\", \"Colombia\", \"Costa Rica\", \"Dominica\", \"Fiji\", \"Iran (Islamic Republic of)\", \"Iraq\", \"Jordan\", \"Lebanon\", \"Mauritius\", \"Mexico\", \"Paraguay\", \"Serbia\", \"South Africa\", \"North Macedonia\", \"Turkey\", \"Turkmenistan\", \"Venezuela (Bolivarian Republic of)\"], \"type\": \"scatter\", \"uid\": \"631b0700-c9e8-49e2-aa61-02c89e2ca7c0\", \"x\": [0.5966456068517741, 1.271725220438081, -0.4398346011607433, 0.45672615293435687, 0.9603595886425655, -0.3074188087339174, -0.15258352565086195, 0.1726721866601699, -0.6346587047438784, -0.16505519369409327, -0.4843683929002223, 0.026303719127126406, -0.1268437004114436, -0.06328760979079437, -0.3952692241908524, 0.10619605779131586, 0.6741377816947594, -0.5635236037496777, 0.12494599807255044, 0.8515084271113968, 1.8159607067811956, -0.16497447797393516], \"y\": [-2.699385861344075, -2.2691708350668742, -1.3164194982192274, -0.21022415008442458, -0.2495835333112877, -0.03674684736287171, 0.3032597367091397, 0.0020438627209608796, -0.07026351207310472, -1.0994537944471696, -0.19942009811612305, -0.9124448305221925, -0.8536854812691493, 0.25425754449646304, -0.5807037427739751, -0.23588755153081586, -0.6026848118923438, -0.6770766186458607, -0.754149283831443, -1.8205513924393848, -3.1893678498892077, 0.03305262898969059]}, {\"marker\": {\"color\": \"rgb(150,0,90)\", \"line\": {\"width\": 1}, \"size\": 9, \"symbol\": 2}, \"mode\": \"markers\", \"name\": \"Lower middle income0\", \"text\": [\"Cambodia\", \"Indonesia\", \"Kiribati\", \"Lao People's Democratic Republic\", \"Myanmar\", \"Philippines\", \"Vanuatu\", \"Viet Nam\"], \"type\": \"scatter\", \"uid\": \"92dab1e3-3b37-46bd-b685-c2d005d9c8b0\", \"x\": [-2.8248081720444738, -2.2890441738492946, -0.8277764095090926, -2.8200792765449934, -2.0710873548630757, -1.5796232332802, -0.703411362911452, -1.50291321372396], \"y\": [2.99292814800493, 2.1569054803508503, 2.3687447980423615, 2.683118812916563, 2.9179985639464845, 2.3922639719170817, 0.7782551003836053, 3.1915220599529985]}, {\"marker\": {\"color\": \"rgb(0,0,200)\", \"line\": {\"width\": 1}, \"size\": 9, \"symbol\": 2}, \"mode\": \"markers\", \"name\": \"Lower middle income1\", \"text\": [\"Angola\", \"Bangladesh\", \"Cabo Verde\", \"Cameroon\", \"Congo (note no data in Food suppley tables for DRC)\", \"C\\u00c3\\u0192\\u00c2\\u00b4te d'Ivoire\", \"Djibouti\", \"El Salvador\", \"Ghana\", \"Honduras\", \"India\", \"Kenya\", \"Lesotho\", \"Nicaragua\", \"Nigeria\", \"Sao Tome and Principe\", \"Solomon Islands\", \"Sri Lanka\", \"Eswatini\", \"Timor-Leste\", \"Zambia\"], \"type\": \"scatter\", \"uid\": \"ad806f39-5531-4fcd-9bf5-80b3d1550056\", \"x\": [-1.6865841077846788, -2.962684688345844, -1.5124124266113383, -2.979352491177083, -1.4355195705850268, -2.3357549227092353, -1.3334993036213825, -1.617280689424453, -2.449657985518813, -1.6960868773779165, -2.0959486456016725, -2.4517887410187043, -3.100653436584261, -2.7090098019227518, -2.423556029807336, -1.341408950540935, -2.053959275490055, -2.318022669366338, -1.8127703845924166, -2.7522535994625725, -2.579134510839204], \"y\": [-0.5483874268521277, 2.1555619555372973, 0.07660305454844026, -0.8050963514459593, 0.17908308962674135, 0.126773260462239, -1.3490331630606174, -1.1221238428733848, -0.396385477297346, -0.6803318527200171, 0.0243895474006073, -1.5773014125796636, -2.0721781342363923, -0.5538076283404966, -0.44953636835826344, 0.22320346482443187, 0.4198394061094373, 1.6227672996973552, -0.9804335025843446, 0.26068317493344, -0.832077387647394]}, {\"marker\": {\"color\": \"rgb(10,152,255)\", \"line\": {\"width\": 1}, \"size\": 9, \"symbol\": 2}, \"mode\": \"markers\", \"name\": \"Lower middle income2\", \"text\": [\"Sudan\", \"Ukraine\"], \"type\": \"scatter\", \"uid\": \"75ca69af-2ab0-4e66-8742-a7281fc2f862\", \"x\": [3.169512263823843, 2.203177829159169], \"y\": [-4.164520272449868, -0.17146996591623148]}, {\"marker\": {\"color\": \"rgb(44,255,150)\", \"line\": {\"width\": 1}, \"size\": 9, \"symbol\": 2}, \"mode\": \"markers\", \"name\": \"Lower middle income3\", \"text\": [\"Bolivia (Plurinational State of)\", \"Egypt\", \"Georgia\", \"Kyrgyzstan\", \"Mauritania\", \"Mongolia\", \"Morocco\", \"Pakistan\", \"Republic of Moldova\", \"Tunisia\", \"Uzbekistan\"], \"type\": \"scatter\", \"uid\": \"70bc947d-9c3a-40e5-af77-700f156c8387\", \"x\": [-0.48434267721650154, -0.9592394880665003, 0.370084776522889, 0.6016375020744401, -0.7789628774156595, 0.8852401981092998, 0.8407176172830627, -0.34910348987113765, -0.005577842751399327, 0.6763198048034671, 1.014084698739387], \"y\": [-0.34767916363764706, -0.8056313115859217, -0.8716671846477674, -2.1325228581750464, -1.433441365667486, -4.0631784394527415, -3.142643163782732, -1.1896534489904644, -0.28227341661659644, -1.7991259280475613, -1.8515767267611185]}, {\"marker\": {\"color\": \"rgb(150,0,90)\", \"line\": {\"width\": 1}, \"size\": 9, \"symbol\": 3}, \"mode\": \"markers\", \"name\": \"High income0\", \"text\": [\"Antigua and Barbuda\", \"Brunei Darussalam\", \"China, Macao SAR\", \"China, Taiwan Province of\", \"Japan\", \"Panama\", \"Republic of Korea\", \"Saint Kitts and Nevis\"], \"type\": \"scatter\", \"uid\": \"b1344321-6dc1-4556-85b9-9d5c3edef883\", \"x\": [0.8452852383786159, 0.7641208189542725, 1.7646290609427753, 0.691629866020365, 0.9381204394351735, -0.3891270001318538, 0.23783212359766498, -0.023066921248773586], \"y\": [1.2309197452370453, 2.1418284253898916, 2.864548350865009, 2.0265428572880193, 2.5507622434168384, 0.939812046269748, 2.77895195187075, 1.0854970369702428]}, {\"marker\": {\"color\": \"rgb(0,0,200)\", \"line\": {\"width\": 1}, \"size\": 9, \"symbol\": 3}, \"mode\": \"markers\", \"name\": \"High income1\", \"text\": [], \"type\": \"scatter\", \"uid\": \"d71ac3d8-5402-407b-8ebb-ca5fdfa4130f\", \"x\": [], \"y\": []}, {\"marker\": {\"color\": \"rgb(10,152,255)\", \"line\": {\"width\": 1}, \"size\": 9, \"symbol\": 3}, \"mode\": \"markers\", \"name\": \"High income2\", \"text\": [\"Argentina\", \"Australia\", \"Austria\", \"Bahamas\", \"Belgium\", \"Bermuda\", \"Canada\", \"Chile\", \"China, Hong Kong SAR\", \"Croatia\", \"Cyprus\", \"Czechia\", \"Denmark\", \"Estonia\", \"Finland\", \"France\", \"French Polynesia\", \"Germany\", \"Greece\", \"Hungary\", \"Iceland\", \"Ireland\", \"Israel\", \"Italy\", \"Latvia\", \"Lithuania\", \"Luxembourg\", \"Malta\", \"Netherlands\", \"New Caledonia\", \"New Zealand\", \"Norway\", \"Poland\", \"Portugal\", \"Slovakia\", \"Slovenia\", \"Spain\", \"Sweden\", \"Switzerland\", \"United Kingdom\", \"United States of America\", \"Uruguay\"], \"type\": \"scatter\", \"uid\": \"0022be71-de37-4e3f-90f1-819b5abc8df0\", \"x\": [3.0151047757423, 2.5062843650504147, 3.3451537380525913, 1.3400496560739759, 2.141496741355391, 2.234471586735467, 1.5742233909737213, 1.1204747533167934, 2.870047899570383, 1.5526797169539217, 1.1096046128329815, 2.3811704471308577, 3.3874266503644743, 3.222693057242223, 3.786106855774535, 2.773769065781095, 1.5412862767389222, 3.089898272216792, 2.1978078700150894, 1.6727698593509053, 3.0172152199619613, 2.3765027634722533, 2.4091805886740962, 2.3915610675356223, 3.132676453592528, 3.8115236663286813, 3.2060386594436974, 2.103834739403056, 3.5148356669276684, 1.2829898333175167, 1.5976076322251351, 2.542642043227194, 3.707157030307946, 2.1590255284073163, 1.494982790778646, 1.9170613822359488, 2.298223716270315, 3.535503969671228, 2.202823498057272, 2.11378405480431, 2.874872528136872, 1.695354784351359], \"y\": [-0.812861737176926, -0.291688062312058, 0.5540131898227856, 1.2213046803542615, 0.026996937229607693, 0.7769198557904577, -0.10009532386314264, -0.0420496705691412, 3.154522711023835, 0.15156332152787577, 0.3705331865728239, 0.26324407740573563, 0.5440564190807355, -0.9177897470307228, 0.4882424064454831, 0.05658213088382506, 1.173086006489949, 0.5125229128728598, -1.4411654737196844, 0.255626578987079, 0.30143631964830764, -0.39824712552996244, -0.17670548022002946, 0.09001006767060105, -0.12420258660913074, 0.9653492701738827, 0.2744563450053484, 0.21909700847705074, 0.4291456232931485, 0.7574513420314004, -0.8673891526340163, 0.20938069920308566, 0.7167571156028768, 1.0008000914223818, 0.0948578157074419, -0.28960371098728915, 1.1849802823914812, 0.5399035395090552, -0.06720244423734019, -0.17652982403438944, 0.25132400209083355, -1.0349388900555005]}, {\"marker\": {\"color\": \"rgb(44,255,150)\", \"line\": {\"width\": 1}, \"size\": 9, \"symbol\": 3}, \"mode\": \"markers\", \"name\": \"High income3\", \"text\": [\"Barbados\", \"Kuwait\", \"Oman\", \"Saudi Arabia\", \"Trinidad and Tobago\", \"United Arab Emirates\"], \"type\": \"scatter\", \"uid\": \"99ffa0ae-188c-4e55-88b1-8bd638442d37\", \"x\": [0.5605303471987559, 1.0325069333092165, 0.21315145331967061, -0.10022053368297267, -0.12369762184280132, -0.8548938602509599], \"y\": [0.32922758607981684, -0.3313888080663412, -0.2612514010189037, -0.22418943164201058, 0.24504660332165237, -0.581094298947789]}, {\"marker\": {\"color\": \"rgba(220, 220, 220, .4)\", \"line\": {\"width\": 1}, \"size\": 20}, \"mode\": \"markers\", \"name\": \"Center\", \"type\": \"scatter\", \"uid\": \"817982cb-1aff-4b65-b43c-db903c5cf4ab\", \"x\": [-0.39072034063816596, -2.2886833962359274, 2.44376347161423, 0.09077443749646515], \"y\": [1.853420129414401, -0.3069776657189629, -0.004319049112815315, -0.9458683672859844]}],\n",
       "                        {\"hovermode\": \"closest\", \"showlegend\": true, \"title\": {\"text\": \"2 component PCA Kmeans Clustering Income group\"}, \"xaxis\": {\"gridwidth\": 2, \"ticklen\": 5, \"title\": {\"text\": \"principal component 1\"}, \"zeroline\": false}, \"yaxis\": {\"gridwidth\": 2, \"ticklen\": 5, \"title\": {\"text\": \"principal component 2\"}}},\n",
       "                        {\"showLink\": false, \"linkText\": \"Export to plot.ly\", \"plotlyServerURL\": \"https://plot.ly\", \"responsive\": true}\n",
       "                    ).then(function(){\n",
       "                            \n",
       "var gd = document.getElementById('93264f04-6bea-4699-82f4-9792bc0a8ede');\n",
       "var x = new MutationObserver(function (mutations, observer) {{\n",
       "        var display = window.getComputedStyle(gd).display;\n",
       "        if (!display || display === 'none') {{\n",
       "            console.log([gd, 'removed!']);\n",
       "            Plotly.purge(gd);\n",
       "            observer.disconnect();\n",
       "        }}\n",
       "}});\n",
       "\n",
       "// Listen for the removal of the full notebook cells\n",
       "var notebookContainer = gd.closest('#notebook-container');\n",
       "if (notebookContainer) {{\n",
       "    x.observe(notebookContainer, {childList: true});\n",
       "}}\n",
       "\n",
       "// Listen for the clearing of the current output cell\n",
       "var outputEl = gd.closest('.output');\n",
       "if (outputEl) {{\n",
       "    x.observe(outputEl, {childList: true});\n",
       "}}\n",
       "\n",
       "                        })\n",
       "                };\n",
       "                });\n",
       "            </script>\n",
       "        </div>"
      ]
     },
     "metadata": {},
     "output_type": "display_data"
    },
    {
     "name": "stderr",
     "output_type": "stream",
     "text": [
      "C:\\Users\\XuP-intern\\AppData\\Local\\Continuum\\anaconda3\\lib\\site-packages\\IPython\\core\\display.py:689: UserWarning:\n",
      "\n",
      "Consider using IPython.display.IFrame instead\n",
      "\n"
     ]
    }
   ],
   "source": [
    "\n",
    "# Plotly on Income level\n",
    "plot_plotly(protein_group_merged_df,\"Income group\",income_centers,4,\"Protein Foods\",'')"
   ]
  },
  {
   "cell_type": "markdown",
   "metadata": {},
   "source": [
    "### Analysis 2: PCA on protein foods + GDP + Urban/Rural ratio + permanent crops ratio "
   ]
  },
  {
   "cell_type": "markdown",
   "metadata": {},
   "source": [
    "###### Prepare Dataset\n",
    "###### For this analysis, we groub bovine meat sheep goat pigmeat and poultry as a food group. Same for milk and egg.We then calculate a urban rural ration by dividing urban population with rural population. Last, we calculate a permanent crops ratio by dividing permanent crop area by total country area. \n",
    "\n",
    "###### This results in a dataset with Bovine_Sheep_Pigmeat_Poultry, Cereals, Milk_Egg, Fish_x, Av 2011+2012+2013 extracted from WDI (constant 2010 Us dollars)Urban_Rural_ratio  Permenent_Crops_Ratio, Country, Code, Income group, Region, and Continent as columns. \n"
   ]
  },
  {
   "cell_type": "code",
   "execution_count": 119,
   "metadata": {
    "code_folding": []
   },
   "outputs": [
    {
     "ename": "KeyError",
     "evalue": "\"['Continent'] not in index\"",
     "output_type": "error",
     "traceback": [
      "\u001b[1;31m---------------------------------------------------------------------------\u001b[0m",
      "\u001b[1;31mKeyError\u001b[0m                                  Traceback (most recent call last)",
      "\u001b[1;32m<ipython-input-119-8235d815e590>\u001b[0m in \u001b[0;36m<module>\u001b[1;34m\u001b[0m\n\u001b[0;32m     15\u001b[0m \u001b[0mdesired_cols\u001b[0m \u001b[1;33m=\u001b[0m \u001b[0msocio_cols\u001b[0m \u001b[1;33m+\u001b[0m \u001b[0mcountry_cols\u001b[0m\u001b[1;33m\u001b[0m\u001b[1;33m\u001b[0m\u001b[0m\n\u001b[0;32m     16\u001b[0m \u001b[1;33m\u001b[0m\u001b[0m\n\u001b[1;32m---> 17\u001b[1;33m \u001b[0msocio_pca_df\u001b[0m \u001b[1;33m=\u001b[0m \u001b[0mprotein_group_merged_final_master_df\u001b[0m\u001b[1;33m[\u001b[0m\u001b[0mdesired_cols\u001b[0m\u001b[1;33m]\u001b[0m\u001b[1;33m\u001b[0m\u001b[1;33m\u001b[0m\u001b[0m\n\u001b[0m\u001b[0;32m     18\u001b[0m \u001b[1;31m# socio_pca_df.rename({\"Income group_y\":\"Income group\",\"Fish_x\":\"Fish\",\"Region_y\":\"Region\"},axis = 1,inplace = True)\u001b[0m\u001b[1;33m\u001b[0m\u001b[1;33m\u001b[0m\u001b[1;33m\u001b[0m\u001b[0m\n\u001b[0;32m     19\u001b[0m \u001b[0msocio_pca_df\u001b[0m\u001b[1;33m.\u001b[0m\u001b[0mhead\u001b[0m\u001b[1;33m(\u001b[0m\u001b[1;33m)\u001b[0m\u001b[1;33m\u001b[0m\u001b[1;33m\u001b[0m\u001b[0m\n",
      "\u001b[1;32m~\\AppData\\Local\\Continuum\\anaconda3\\lib\\site-packages\\pandas\\core\\frame.py\u001b[0m in \u001b[0;36m__getitem__\u001b[1;34m(self, key)\u001b[0m\n\u001b[0;32m   2680\u001b[0m         \u001b[1;32mif\u001b[0m \u001b[0misinstance\u001b[0m\u001b[1;33m(\u001b[0m\u001b[0mkey\u001b[0m\u001b[1;33m,\u001b[0m \u001b[1;33m(\u001b[0m\u001b[0mSeries\u001b[0m\u001b[1;33m,\u001b[0m \u001b[0mnp\u001b[0m\u001b[1;33m.\u001b[0m\u001b[0mndarray\u001b[0m\u001b[1;33m,\u001b[0m \u001b[0mIndex\u001b[0m\u001b[1;33m,\u001b[0m \u001b[0mlist\u001b[0m\u001b[1;33m)\u001b[0m\u001b[1;33m)\u001b[0m\u001b[1;33m:\u001b[0m\u001b[1;33m\u001b[0m\u001b[1;33m\u001b[0m\u001b[0m\n\u001b[0;32m   2681\u001b[0m             \u001b[1;31m# either boolean or fancy integer index\u001b[0m\u001b[1;33m\u001b[0m\u001b[1;33m\u001b[0m\u001b[1;33m\u001b[0m\u001b[0m\n\u001b[1;32m-> 2682\u001b[1;33m             \u001b[1;32mreturn\u001b[0m \u001b[0mself\u001b[0m\u001b[1;33m.\u001b[0m\u001b[0m_getitem_array\u001b[0m\u001b[1;33m(\u001b[0m\u001b[0mkey\u001b[0m\u001b[1;33m)\u001b[0m\u001b[1;33m\u001b[0m\u001b[1;33m\u001b[0m\u001b[0m\n\u001b[0m\u001b[0;32m   2683\u001b[0m         \u001b[1;32melif\u001b[0m \u001b[0misinstance\u001b[0m\u001b[1;33m(\u001b[0m\u001b[0mkey\u001b[0m\u001b[1;33m,\u001b[0m \u001b[0mDataFrame\u001b[0m\u001b[1;33m)\u001b[0m\u001b[1;33m:\u001b[0m\u001b[1;33m\u001b[0m\u001b[1;33m\u001b[0m\u001b[0m\n\u001b[0;32m   2684\u001b[0m             \u001b[1;32mreturn\u001b[0m \u001b[0mself\u001b[0m\u001b[1;33m.\u001b[0m\u001b[0m_getitem_frame\u001b[0m\u001b[1;33m(\u001b[0m\u001b[0mkey\u001b[0m\u001b[1;33m)\u001b[0m\u001b[1;33m\u001b[0m\u001b[1;33m\u001b[0m\u001b[0m\n",
      "\u001b[1;32m~\\AppData\\Local\\Continuum\\anaconda3\\lib\\site-packages\\pandas\\core\\frame.py\u001b[0m in \u001b[0;36m_getitem_array\u001b[1;34m(self, key)\u001b[0m\n\u001b[0;32m   2724\u001b[0m             \u001b[1;32mreturn\u001b[0m \u001b[0mself\u001b[0m\u001b[1;33m.\u001b[0m\u001b[0m_take\u001b[0m\u001b[1;33m(\u001b[0m\u001b[0mindexer\u001b[0m\u001b[1;33m,\u001b[0m \u001b[0maxis\u001b[0m\u001b[1;33m=\u001b[0m\u001b[1;36m0\u001b[0m\u001b[1;33m)\u001b[0m\u001b[1;33m\u001b[0m\u001b[1;33m\u001b[0m\u001b[0m\n\u001b[0;32m   2725\u001b[0m         \u001b[1;32melse\u001b[0m\u001b[1;33m:\u001b[0m\u001b[1;33m\u001b[0m\u001b[1;33m\u001b[0m\u001b[0m\n\u001b[1;32m-> 2726\u001b[1;33m             \u001b[0mindexer\u001b[0m \u001b[1;33m=\u001b[0m \u001b[0mself\u001b[0m\u001b[1;33m.\u001b[0m\u001b[0mloc\u001b[0m\u001b[1;33m.\u001b[0m\u001b[0m_convert_to_indexer\u001b[0m\u001b[1;33m(\u001b[0m\u001b[0mkey\u001b[0m\u001b[1;33m,\u001b[0m \u001b[0maxis\u001b[0m\u001b[1;33m=\u001b[0m\u001b[1;36m1\u001b[0m\u001b[1;33m)\u001b[0m\u001b[1;33m\u001b[0m\u001b[1;33m\u001b[0m\u001b[0m\n\u001b[0m\u001b[0;32m   2727\u001b[0m             \u001b[1;32mreturn\u001b[0m \u001b[0mself\u001b[0m\u001b[1;33m.\u001b[0m\u001b[0m_take\u001b[0m\u001b[1;33m(\u001b[0m\u001b[0mindexer\u001b[0m\u001b[1;33m,\u001b[0m \u001b[0maxis\u001b[0m\u001b[1;33m=\u001b[0m\u001b[1;36m1\u001b[0m\u001b[1;33m)\u001b[0m\u001b[1;33m\u001b[0m\u001b[1;33m\u001b[0m\u001b[0m\n\u001b[0;32m   2728\u001b[0m \u001b[1;33m\u001b[0m\u001b[0m\n",
      "\u001b[1;32m~\\AppData\\Local\\Continuum\\anaconda3\\lib\\site-packages\\pandas\\core\\indexing.py\u001b[0m in \u001b[0;36m_convert_to_indexer\u001b[1;34m(self, obj, axis, is_setter)\u001b[0m\n\u001b[0;32m   1325\u001b[0m                 \u001b[1;32mif\u001b[0m \u001b[0mmask\u001b[0m\u001b[1;33m.\u001b[0m\u001b[0many\u001b[0m\u001b[1;33m(\u001b[0m\u001b[1;33m)\u001b[0m\u001b[1;33m:\u001b[0m\u001b[1;33m\u001b[0m\u001b[1;33m\u001b[0m\u001b[0m\n\u001b[0;32m   1326\u001b[0m                     raise KeyError('{mask} not in index'\n\u001b[1;32m-> 1327\u001b[1;33m                                    .format(mask=objarr[mask]))\n\u001b[0m\u001b[0;32m   1328\u001b[0m \u001b[1;33m\u001b[0m\u001b[0m\n\u001b[0;32m   1329\u001b[0m                 \u001b[1;32mreturn\u001b[0m \u001b[0mcom\u001b[0m\u001b[1;33m.\u001b[0m\u001b[0m_values_from_object\u001b[0m\u001b[1;33m(\u001b[0m\u001b[0mindexer\u001b[0m\u001b[1;33m)\u001b[0m\u001b[1;33m\u001b[0m\u001b[1;33m\u001b[0m\u001b[0m\n",
      "\u001b[1;31mKeyError\u001b[0m: \"['Continent'] not in index\""
     ]
    }
   ],
   "source": [
    "\n",
    "\n",
    "protein_group_merged_df['Bovine_Sheep_Pigmeat_Poultry'] = protein_group_merged_df['Bovine meat']+protein_group_merged_df['Sheep and goat meat']+protein_group_merged_df['Pigmeat']+protein_group_merged_df['Poultry']\n",
    "protein_group_merged_df['Milk_Egg'] = protein_group_merged_df['Milk']+protein_group_merged_df['Eggs']\n",
    "protein_group_merged_master_df = protein_group_merged_df.merge(master_df,how=\"left\",on=\"Country\")\n",
    "protein_group_merged_master_df['Urban_Rural_ratio'] = protein_group_merged_master_df[\"Urban population\"]/protein_group_merged_master_df[\"Rural population\"]\n",
    "protein_group_merged_master_df['Permenent_Crops_Ratio'] = protein_group_merged_master_df['Permanent crops area']/ protein_group_merged_master_df['Total area of the country (excl. coastal waters)']\n",
    "protein_group_merged_final_master_df = protein_group_merged_master_df.merge(principalDf,how=\"left\",on =\"Country\")\n",
    "socio_cols = ['Bovine_Sheep_Pigmeat_Poultry','Cereals','Milk_Egg','Fish_x'\n",
    "              ,' Av 2011+2012+2013 extracted from WDI (constant 2010 US$)'\n",
    "              ,'Urban_Rural_ratio','Permenent_Crops_Ratio']\n",
    "\n",
    "country_cols = ['Country','Code','Income group_y','Region_y','Continent']\n",
    "\n",
    "desired_cols = socio_cols + country_cols\n",
    "\n",
    "socio_pca_df = protein_group_merged_final_master_df[desired_cols]\n",
    "# socio_pca_df.rename({\"Income group_y\":\"Income group\",\"Fish_x\":\"Fish\",\"Region_y\":\"Region\"},axis = 1,inplace = True)\n",
    "socio_pca_df.head()\n"
   ]
  },
  {
   "cell_type": "code",
   "execution_count": null,
   "metadata": {},
   "outputs": [],
   "source": [
    "# Missing Values \n",
    "socio_pca_df[pd.isnull(socio_pca_df).any(axis=1)]"
   ]
  },
  {
   "cell_type": "code",
   "execution_count": null,
   "metadata": {},
   "outputs": [],
   "source": [
    "# Since missing values cannot be processing using pca, we will simply drop them.\n",
    "\n",
    "socio_pca_dropped_df = socio_pca_df.dropna()\n",
    "\n",
    "socio_scaled = StandardScaler().fit_transform(socio_pca_dropped_df[socio_cols])\n"
   ]
  },
  {
   "cell_type": "markdown",
   "metadata": {},
   "source": [
    "###### PCA"
   ]
  },
  {
   "cell_type": "code",
   "execution_count": null,
   "metadata": {},
   "outputs": [],
   "source": [
    "principalComponents_socio = pca.fit_transform(socio_scaled)\n",
    "\n",
    "# principalDf_socio = pd.DataFrame(data = principalComponents_socio\n",
    "#              , columns = ['principal component 1', 'principal component 2'])\n",
    "pc_socio_1,pc_socio_2 = zip(*principalComponents_socio)\n",
    "socio_pca_dropped_df[\"principal component 1\"] = pc_socio_1\n",
    "socio_pca_dropped_df[\"principal component 2\"] = pc_socio_2\n",
    "\n",
    "socio_pca_dropped_df = socio_pca_dropped_df.rename({\"Income group_y\":\"Income group\",\"Region_y\":\"Region\"}, axis = 1)\n",
    "X_socio = socio_pca_dropped_df[[\"principal component 1\",\"principal component 2\"]].values"
   ]
  },
  {
   "cell_type": "markdown",
   "metadata": {},
   "source": [
    "#### Continent Level"
   ]
  },
  {
   "cell_type": "code",
   "execution_count": null,
   "metadata": {
    "scrolled": true
   },
   "outputs": [],
   "source": [
    "colors_region = ['r', 'g', 'b','c','m','y']\n",
    "pca_plot(colors_region,socio_pca_dropped_df,\"Continent\")\n",
    "\n",
    "continent_cluster_labels_socio, continent_centers_socio = perform_kmeans(X_socio, 6)\n",
    "socio_pca_dropped_df[\"Continent_Cluster\"] = continent_cluster_labels_socio\n",
    "mark_shapes = ['s','d','p','h','o','*','x']\n",
    "\n",
    "pca_kmeans_plot(colors_region,mark_shapes,socio_pca_dropped_df,\"Continent\",continent_centers_socio)"
   ]
  },
  {
   "cell_type": "code",
   "execution_count": null,
   "metadata": {
    "scrolled": true
   },
   "outputs": [],
   "source": [
    "plot_plotly(socio_pca_dropped_df,\"Continent\",continent_centers_socio,6,\"Socioeconomic + Foods\",'')"
   ]
  },
  {
   "cell_type": "markdown",
   "metadata": {},
   "source": [
    "#### Region Level "
   ]
  },
  {
   "cell_type": "code",
   "execution_count": null,
   "metadata": {},
   "outputs": [],
   "source": [
    "colors_region = ['r', 'g', 'b','c','m','y','k']\n",
    "pca_plot(colors_region,socio_pca_dropped_df,\"Region\")\n",
    "\n",
    "region_cluster_labels_socio, region_centers_socio = perform_kmeans(X_socio, 7)\n",
    "socio_pca_dropped_df[\"Region_Cluster\"] = region_cluster_labels_socio\n",
    "mark_shapes = ['s','d','p','h','o','*','x']\n",
    "\n",
    "pca_kmeans_plot(colors_region,mark_shapes,socio_pca_dropped_df,\"Region\",region_centers_socio)"
   ]
  },
  {
   "cell_type": "code",
   "execution_count": null,
   "metadata": {},
   "outputs": [],
   "source": [
    "plot_plotly(principalDf_socio,\"Region\",region_centers_socio,7\"Socioeconomic + Foods\",'')"
   ]
  },
  {
   "cell_type": "markdown",
   "metadata": {},
   "source": [
    "#### Development Level"
   ]
  },
  {
   "cell_type": "code",
   "execution_count": null,
   "metadata": {},
   "outputs": [],
   "source": [
    "colors_region = ['r', 'g', 'b','c']\n",
    "pca_plot(colors_region,socio_pca_dropped_df,\"Income group\")\n",
    "\n",
    "income_cluster_labels_socio, income_centers_socio = perform_kmeans(X_socio, 4)\n",
    "socio_pca_dropped_df[\"Income group_Cluster\"] = income_cluster_labels_socio\n",
    "mark_shapes = ['s','d','p','h']\n",
    "\n",
    "pca_kmeans_plot(colors_region,mark_shapes,socio_pca_dropped_df,\"Income group\",income_centers_socio)\n",
    "\n",
    "socio_pca_dropped_df.to_csv(\"pca_socio.csv\")"
   ]
  },
  {
   "cell_type": "code",
   "execution_count": null,
   "metadata": {
    "scrolled": true
   },
   "outputs": [],
   "source": [
    "plot_plotly(socio_pca_dropped_df,\"Income group\",income_centers_socio,4,\"Socioeconomic + Foods\",'')"
   ]
  },
  {
   "cell_type": "markdown",
   "metadata": {},
   "source": [
    "### Analysis 3: PCA on protein foods + GDP + Urban/Rural ratio + permanent crops ratio "
   ]
  },
  {
   "cell_type": "markdown",
   "metadata": {},
   "source": [
    "###### Prepare the datasets"
   ]
  },
  {
   "cell_type": "code",
   "execution_count": null,
   "metadata": {},
   "outputs": [],
   "source": [
    "# http://apps.who.int/gho/data/node.main.CHILDSTUNTED?lang=en\n",
    "stunting_df = pd.read_csv(\"NUTRITION_HA_2.csv\", skiprows=1)\n",
    "overweight_df = pd.read_csv(\"NUTRITION_WH2.csv\",skiprows=1)"
   ]
  },
  {
   "cell_type": "code",
   "execution_count": null,
   "metadata": {},
   "outputs": [],
   "source": [
    "stunting_df.head()\n",
    "stunting_df[stunting_df[\"Country\"] == \"China\"]"
   ]
  },
  {
   "cell_type": "code",
   "execution_count": null,
   "metadata": {},
   "outputs": [],
   "source": [
    "overweight_df.head()"
   ]
  },
  {
   "cell_type": "code",
   "execution_count": null,
   "metadata": {},
   "outputs": [],
   "source": [
    "def get_nearest_year(df,name):\n",
    "    result_df = pd.DataFrame()\n",
    "    country_list = df[\"Country\"].unique().tolist()\n",
    "    country_code_new = []\n",
    "    df[[1,2]] = df['Year'].str.split('-',n=1, expand=True)\n",
    "    df = df.drop([\"Year\",2], axis = 1)\n",
    "    df = df.rename({1:\"year\",\" Both sexes\":name},axis = 1)\n",
    "    df[\"year\"] = df[\"year\"].astype(int)\n",
    "    for i in country_list:\n",
    "        try:\n",
    "            code = country_name_to_country_alpha3(i)\n",
    "            country_code_new.append(code)\n",
    "        except:\n",
    "            code = i \n",
    "            country_code_new.append(code)\n",
    "        result_df = result_df.append(df.loc[[df[df[\"Country\"] == i][\"year\"].idxmax()]])\n",
    "#     df[\"Code\"] = df['Country'].apply(lambda x: country_name_to_country_alpha3(x))\n",
    "    return result_df,country_code_new"
   ]
  },
  {
   "cell_type": "code",
   "execution_count": null,
   "metadata": {},
   "outputs": [],
   "source": [
    "result_stunting_df,country_code_new_stunting = get_nearest_year(stunting_df,\"stunting(percentage)\")\n",
    "result_overweight_df,country_code_new_overweight = get_nearest_year(overweight_df,\"overweight(percentage)\")\n",
    "result_stunting_df[\"Code\"] = country_code_new_stunting\n",
    "result_overweight_df[\"Code\"] = country_code_new_overweight\n",
    "result_stunting_df[\"Code\"] = result_stunting_df[\"Code\"].replace(manual_country_code_dict)\n",
    "result_overweight_df[\"Code\"] = result_overweight_df[\"Code\"].replace(manual_country_code_dict)"
   ]
  },
  {
   "cell_type": "code",
   "execution_count": null,
   "metadata": {},
   "outputs": [],
   "source": [
    "protein_group_merged_stunting_master_df = socio_pca_df.merge(result_stunting_df,how=\"left\", on=\"Code\")\n",
    "protein_group_merged_stunting_ow_master_df = protein_group_merged_stunting_master_df.merge(result_overweight_df,how=\"left\", on=\"Code\")"
   ]
  },
  {
   "cell_type": "code",
   "execution_count": null,
   "metadata": {},
   "outputs": [],
   "source": [
    "protein_group_merged_stunting_ow_master_df[protein_group_merged_stunting_ow_master_df[\"stunting(percentage)\"].isna()]"
   ]
  },
  {
   "cell_type": "code",
   "execution_count": null,
   "metadata": {},
   "outputs": [],
   "source": [
    "# We are going to drop the missing values for now. \n",
    "protein_group_merged_stunting_ow_master_df = protein_group_merged_stunting_ow_master_df.dropna(subset=['stunting(percentage)','overweight(percentage)']) "
   ]
  },
  {
   "cell_type": "code",
   "execution_count": null,
   "metadata": {},
   "outputs": [],
   "source": [
    "protein_group_merged_stunting_ow_master_df.columns"
   ]
  },
  {
   "cell_type": "code",
   "execution_count": null,
   "metadata": {},
   "outputs": [],
   "source": [
    "socio_health_cols = socio_cols+['stunting(percentage)','overweight(percentage)']\n",
    "socio_health_cols.remove(\" Av 2011+2012+2013 extracted from WDI (constant 2010 US$)\")\n",
    "socio_health_cols.remove(\"Urban_Rural_ratio\")\n",
    "socio_health_cols.remove(\"Permenent_Crops_Ratio\")\n",
    "protein_group_merged_stunting_ow_master_df = protein_group_merged_stunting_ow_master_df[socio_health_cols + country_cols]\n",
    "# protein_group_merged_stunting_ow_master_df.rename({\"Income group_y\":\"Income group\",\"Fish_x\":\"Fish\",\"Region_y\":\"Region\"},axis = 1,inplace = True)"
   ]
  },
  {
   "cell_type": "code",
   "execution_count": null,
   "metadata": {},
   "outputs": [],
   "source": [
    "protein_group_merged_stunting_ow_master_df.head()"
   ]
  },
  {
   "cell_type": "markdown",
   "metadata": {},
   "source": [
    "###### PCA "
   ]
  },
  {
   "cell_type": "code",
   "execution_count": null,
   "metadata": {},
   "outputs": [],
   "source": [
    "health_scaled = StandardScaler().fit_transform(protein_group_merged_stunting_ow_master_df[socio_health_cols])"
   ]
  },
  {
   "cell_type": "code",
   "execution_count": null,
   "metadata": {},
   "outputs": [],
   "source": [
    "principalComponents_health = pca.fit_transform(health_scaled)\n",
    "\n",
    "# principalDf_socio = pd.DataFrame(data = principalComponents_socio\n",
    "#              , columns = ['principal component 1', 'principal component 2'])\n",
    "pc_health_1,pc_health_2 = zip(*principalComponents_health)\n",
    "protein_group_merged_stunting_ow_master_df[\"principal component 1\"] = pc_health_1\n",
    "protein_group_merged_stunting_ow_master_df[\"principal component 2\"] = pc_health_2\n",
    "protein_group_merged_stunting_ow_master_df = protein_group_merged_stunting_ow_master_df.rename({\"Income group_y\":\"Income group\",\"Region_y\":\"Region\"}, axis = 1)\n",
    "X_health = protein_group_merged_stunting_ow_master_df[[\"principal component 1\",\"principal component 2\"]].values"
   ]
  },
  {
   "cell_type": "markdown",
   "metadata": {},
   "source": [
    "#### Continent Level"
   ]
  },
  {
   "cell_type": "code",
   "execution_count": null,
   "metadata": {
    "scrolled": true
   },
   "outputs": [],
   "source": [
    "colors_region = ['r', 'g', 'b','c','m','y']\n",
    "pca_plot(colors_region,protein_group_merged_stunting_ow_master_df,\"Continent\")\n",
    "\n",
    "continent_cluster_labels_health, continent_centers_health = perform_kmeans(X_health, 6)\n",
    "protein_group_merged_stunting_ow_master_df[\"Continent_Cluster\"] = continent_cluster_labels_health\n",
    "mark_shapes = ['s','d','p','h','o','*','x']\n",
    "\n",
    "pca_kmeans_plot(colors_region,mark_shapes,protein_group_merged_stunting_ow_master_df,\"Continent\",continent_centers_health)"
   ]
  },
  {
   "cell_type": "code",
   "execution_count": null,
   "metadata": {},
   "outputs": [],
   "source": [
    "plot_plotly(protein_group_merged_stunting_ow_master_df,\"Continent\",continent_centers_health,6,\"Health + Foods\",'')"
   ]
  },
  {
   "cell_type": "markdown",
   "metadata": {},
   "source": [
    "#### Region Level "
   ]
  },
  {
   "cell_type": "code",
   "execution_count": null,
   "metadata": {},
   "outputs": [],
   "source": [
    "colors_region = ['r', 'g', 'b','c','m','y','k']\n",
    "pca_plot(colors_region,protein_group_merged_stunting_ow_master_df,\"Region\")\n",
    "\n",
    "region_cluster_labels_health, region_centers_health = perform_kmeans(X_socio, 7)\n",
    "protein_group_merged_stunting_ow_master_df[\"Region_Cluster\"] = region_cluster_labels_health\n",
    "mark_shapes = ['s','d','p','h','o','*','x']\n",
    "\n",
    "pca_kmeans_plot(colors_region,mark_shapes,protein_group_merged_stunting_ow_master_df,\"Region\",region_centers_health)"
   ]
  },
  {
   "cell_type": "code",
   "execution_count": null,
   "metadata": {},
   "outputs": [],
   "source": [
    "plot_plotly(protein_group_merged_stunting_ow_master_df,\"Region\",region_centers_health,7,\"Health + Foods\",'')"
   ]
  },
  {
   "cell_type": "markdown",
   "metadata": {},
   "source": [
    "#### Development Level"
   ]
  },
  {
   "cell_type": "code",
   "execution_count": null,
   "metadata": {},
   "outputs": [],
   "source": [
    "colors_region = ['r', 'g', 'b','c']\n",
    "pca_plot(colors_region,protein_group_merged_stunting_ow_master_df,\"Income group\")\n",
    "\n",
    "income_cluster_labels_health, income_centers_health = perform_kmeans(X_health, 4)\n",
    "protein_group_merged_stunting_ow_master_df[\"Income group_Cluster\"] = income_cluster_labels_health\n",
    "mark_shapes = ['s','d','p','h']\n",
    "\n",
    "pca_kmeans_plot(colors_region,mark_shapes,protein_group_merged_stunting_ow_master_df,\"Income group\",income_centers_health)\n",
    "\n",
    "protein_group_merged_stunting_ow_master_df.to_csv(\"pca_health.csv\")"
   ]
  },
  {
   "cell_type": "code",
   "execution_count": null,
   "metadata": {},
   "outputs": [],
   "source": [
    "plot_plotly(protein_group_merged_stunting_ow_master_df,\"Income group\",income_centers_health,4,\"Health + Foods\",'')"
   ]
  },
  {
   "cell_type": "markdown",
   "metadata": {},
   "source": [
    "#### Additional Analysis K Means( Different Cluster Numbers)"
   ]
  },
  {
   "cell_type": "markdown",
   "metadata": {},
   "source": [
    "Based on the analyses we conducted above"
   ]
  },
  {
   "cell_type": "code",
   "execution_count": null,
   "metadata": {},
   "outputs": [],
   "source": [
    "cluster_labels_1_health, centers_1_health = perform_kmeans(X_health, 3)\n",
    "protein_group_merged_stunting_ow_master_df[\"additional_cluster_1\"] = cluster_labels_1_health"
   ]
  },
  {
   "cell_type": "code",
   "execution_count": null,
   "metadata": {},
   "outputs": [],
   "source": [
    "plot_plotly(protein_group_merged_stunting_ow_master_df,\"Income group\",income_centers_health,3,\"Health + Foods\",\"additional_cluster_1\")"
   ]
  },
  {
   "cell_type": "code",
   "execution_count": null,
   "metadata": {},
   "outputs": [],
   "source": []
  }
 ],
 "metadata": {
  "kernelspec": {
   "display_name": "Python 3",
   "language": "python",
   "name": "python3"
  },
  "language_info": {
   "codemirror_mode": {
    "name": "ipython",
    "version": 3
   },
   "file_extension": ".py",
   "mimetype": "text/x-python",
   "name": "python",
   "nbconvert_exporter": "python",
   "pygments_lexer": "ipython3",
   "version": "3.7.1"
  }
 },
 "nbformat": 4,
 "nbformat_minor": 2
}
