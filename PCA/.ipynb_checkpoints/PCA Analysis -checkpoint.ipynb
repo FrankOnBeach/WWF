{
 "cells": [
  {
   "cell_type": "code",
   "execution_count": null,
   "metadata": {},
   "outputs": [],
   "source": []
  },
  {
   "cell_type": "code",
   "execution_count": 4,
   "metadata": {},
   "outputs": [],
   "source": [
    "import pandas as pd\n",
    "from sklearn.decomposition import PCA\n",
    "pca = PCA(n_components=2)\n",
    "from sklearn.preprocessing import StandardScaler\n",
    "import numpy as np\n",
    "\n",
    "import plotly\n",
    "import plotly.plotly as py\n",
    "import plotly.graph_objs as go\n",
    "plotly.tools.set_credentials_file(username='xpeigang', api_key='lwQSZWto6kkYyDeNh8SM')\n",
    "from plotly.offline import download_plotlyjs, init_notebook_mode, plot, iplot"
   ]
  },
  {
   "cell_type": "code",
   "execution_count": 5,
   "metadata": {},
   "outputs": [],
   "source": [
    "master_df = pd.read_csv(\"master_final_merged_df_protein_gdp.csv\")"
   ]
  },
  {
   "cell_type": "code",
   "execution_count": 6,
   "metadata": {},
   "outputs": [
    {
     "data": {
      "text/html": [
       "        <script type=\"text/javascript\">\n",
       "        window.PlotlyConfig = {MathJaxConfig: 'local'};\n",
       "        if (window.MathJax) {MathJax.Hub.Config({SVG: {font: \"STIX-Web\"}});}\n",
       "        if (typeof require !== 'undefined') {\n",
       "        require.undef(\"plotly\");\n",
       "        requirejs.config({\n",
       "            paths: {\n",
       "                'plotly': ['https://cdn.plot.ly/plotly-latest.min']\n",
       "            }\n",
       "        });\n",
       "        require(['plotly'], function(Plotly) {\n",
       "            window._Plotly = Plotly;\n",
       "        });\n",
       "        }\n",
       "        </script>\n",
       "        "
      ]
     },
     "metadata": {},
     "output_type": "display_data"
    }
   ],
   "source": [
    "init_notebook_mode(connected=True)"
   ]
  },
  {
   "cell_type": "markdown",
   "metadata": {},
   "source": [
    "### Analysis 1: PCA on different food sources"
   ]
  },
  {
   "cell_type": "code",
   "execution_count": 7,
   "metadata": {},
   "outputs": [
    {
     "name": "stdout",
     "output_type": "stream",
     "text": [
      "Dropped Countries:174                             Aruba\n",
      "175                            Bhutan\n",
      "176                    Cayman Islands\n",
      "177                      Cook Islands\n",
      "178                    Czech Republic\n",
      "179                    CÃ´te d'Ivoire\n",
      "180       Falkland Islands (Malvinas)\n",
      "181                       Isle of Man\n",
      "182                            Jersey\n",
      "183                            Kosovo\n",
      "184                             Nauru\n",
      "185              Netherlands Antilles\n",
      "186    Occupied Palestinian Territory\n",
      "187                       Puerto Rico\n",
      "188                             Qatar\n",
      "189                          RÃ©union\n",
      "190                        Seychelles\n",
      "191                         Singapore\n",
      "192              Syrian Arab Republic\n",
      "193                         Greenland\n",
      "194                     Liechtenstein\n",
      "Name: Country, dtype: object\n"
     ]
    },
    {
     "name": "stderr",
     "output_type": "stream",
     "text": [
      "C:\\Users\\XuP-intern\\AppData\\Local\\Continuum\\anaconda3\\lib\\site-packages\\ipykernel_launcher.py:13: SettingWithCopyWarning:\n",
      "\n",
      "\n",
      "A value is trying to be set on a copy of a slice from a DataFrame\n",
      "\n",
      "See the caveats in the documentation: http://pandas.pydata.org/pandas-docs/stable/indexing.html#indexing-view-versus-copy\n",
      "\n"
     ]
    }
   ],
   "source": [
    "col_list = master_df.columns.tolist()\n",
    "protein_col_list = col_list[3:19]\n",
    "\n",
    "# Cereals is the total of others. No need to include it here \n",
    "protein_col_list.remove(\"Cereals\")\n",
    "protein_col_list_country = [\"Country\"]+protein_col_list\n",
    "\n",
    "protein_group_df = master_df[protein_col_list_country]\n",
    "\n",
    "# If Protein food group is empty. it is droped. \n",
    "df1 = protein_group_df[protein_group_df.isna().any(axis=1)]\n",
    "print (\"Dropped Countries:{}\".format(df1[\"Country\"]))\n",
    "protein_group_df.dropna(inplace = True)\n",
    "\n",
    "protein_group_scaled = StandardScaler().fit_transform(protein_group_df[protein_col_list])"
   ]
  },
  {
   "cell_type": "markdown",
   "metadata": {},
   "source": [
    "### PCA"
   ]
  },
  {
   "cell_type": "code",
   "execution_count": 8,
   "metadata": {},
   "outputs": [
    {
     "data": {
      "text/html": [
       "<div>\n",
       "<style scoped>\n",
       "    .dataframe tbody tr th:only-of-type {\n",
       "        vertical-align: middle;\n",
       "    }\n",
       "\n",
       "    .dataframe tbody tr th {\n",
       "        vertical-align: top;\n",
       "    }\n",
       "\n",
       "    .dataframe thead th {\n",
       "        text-align: right;\n",
       "    }\n",
       "</style>\n",
       "<table border=\"1\" class=\"dataframe\">\n",
       "  <thead>\n",
       "    <tr style=\"text-align: right;\">\n",
       "      <th></th>\n",
       "      <th>principal component 1</th>\n",
       "      <th>principal component 2</th>\n",
       "      <th>Country</th>\n",
       "    </tr>\n",
       "  </thead>\n",
       "  <tbody>\n",
       "    <tr>\n",
       "      <th>0</th>\n",
       "      <td>-0.806632</td>\n",
       "      <td>-1.454414</td>\n",
       "      <td>Afghanistan</td>\n",
       "    </tr>\n",
       "    <tr>\n",
       "      <th>1</th>\n",
       "      <td>2.880997</td>\n",
       "      <td>-2.200271</td>\n",
       "      <td>Albania</td>\n",
       "    </tr>\n",
       "    <tr>\n",
       "      <th>2</th>\n",
       "      <td>0.821704</td>\n",
       "      <td>-2.699422</td>\n",
       "      <td>Algeria</td>\n",
       "    </tr>\n",
       "    <tr>\n",
       "      <th>3</th>\n",
       "      <td>-1.997533</td>\n",
       "      <td>-0.548392</td>\n",
       "      <td>Angola</td>\n",
       "    </tr>\n",
       "    <tr>\n",
       "      <th>4</th>\n",
       "      <td>0.899908</td>\n",
       "      <td>1.230837</td>\n",
       "      <td>Antigua and Barbuda</td>\n",
       "    </tr>\n",
       "  </tbody>\n",
       "</table>\n",
       "</div>"
      ],
      "text/plain": [
       "   principal component 1  principal component 2              Country\n",
       "0              -0.806632              -1.454414          Afghanistan\n",
       "1               2.880997              -2.200271              Albania\n",
       "2               0.821704              -2.699422              Algeria\n",
       "3              -1.997533              -0.548392               Angola\n",
       "4               0.899908               1.230837  Antigua and Barbuda"
      ]
     },
     "execution_count": 8,
     "metadata": {},
     "output_type": "execute_result"
    }
   ],
   "source": [
    "principalComponents = pca.fit_transform(protein_group_scaled)\n",
    "\n",
    "principalDf = pd.DataFrame(data = principalComponents\n",
    "             , columns = ['principal component 1', 'principal component 2'])\n",
    "principalDf[\"Country\"] = protein_group_df[\"Country\"]\n",
    "principalDf.head()"
   ]
  },
  {
   "cell_type": "markdown",
   "metadata": {},
   "source": [
    "#### Continent Level"
   ]
  },
  {
   "cell_type": "markdown",
   "metadata": {},
   "source": [
    "###### Countries to Continent "
   ]
  },
  {
   "cell_type": "code",
   "execution_count": 9,
   "metadata": {},
   "outputs": [
    {
     "name": "stdout",
     "output_type": "stream",
     "text": [
      "Bolivia (Plurinational State of)\n",
      "China, Hong Kong SAR\n",
      "China, Macao SAR\n",
      "China, mainland\n",
      "China, Taiwan Province of\n",
      "Congo (note no data in Food suppley tables for DRC)\n",
      "CÃƒÂ´te d'Ivoire\n",
      "Iran (Islamic Republic of)\n",
      "Republic of Korea\n",
      "Eswatini\n",
      "North Macedonia\n",
      "Timor-Leste\n",
      "Venezuela (Bolivarian Republic of)\n"
     ]
    }
   ],
   "source": [
    "# Code adapated from https://stackoverflow.com/questions/55910004/get-continent-name-from-country-using-pycountry\n",
    "\n",
    "from pycountry_convert import country_alpha2_to_continent_code, country_name_to_country_alpha2,country_name_to_country_alpha3,country_alpha3_to_country_alpha2\n",
    "\n",
    "continents_dict = {\n",
    "    'NA': 'North America',\n",
    "    'SA': 'South America', \n",
    "    'AS': 'Asia',\n",
    "    'OC': 'Australia',\n",
    "    'AF': 'Africa',\n",
    "    'EU': 'Eurpoe'\n",
    "}\n",
    "countries = principalDf['Country'].tolist()\n",
    "\n",
    "def convert_continents(countries):\n",
    "    \"\"\"\n",
    "    This function tries to get the continent based on Country name.\n",
    "    Since some countries names are differnt in the library we are using here,\n",
    "    need to manually change those.\n",
    "    \n",
    "    This function also tries to rechieve an alpha 3 Country Code based on the name. \n",
    "    \"\"\"\n",
    "    continents = []\n",
    "    country_codes = []\n",
    "    for country in countries:\n",
    "        try:\n",
    "            country_code = country_name_to_country_alpha3(country)\n",
    "            continent = continents_dict[country_alpha2_to_continent_code(country_name_to_country_alpha2(country))]\n",
    "            continents.append(continent)\n",
    "            country_codes.append(country_code)\n",
    "        except KeyError:\n",
    "            print(country)\n",
    "            continents.append(country)\n",
    "            country_codes.append(country)\n",
    "    return continents,country_codes\n",
    "\n",
    "\n",
    "continents,country_codes = convert_continents(countries)"
   ]
  },
  {
   "cell_type": "code",
   "execution_count": 10,
   "metadata": {},
   "outputs": [
    {
     "data": {
      "text/html": [
       "<div>\n",
       "<style scoped>\n",
       "    .dataframe tbody tr th:only-of-type {\n",
       "        vertical-align: middle;\n",
       "    }\n",
       "\n",
       "    .dataframe tbody tr th {\n",
       "        vertical-align: top;\n",
       "    }\n",
       "\n",
       "    .dataframe thead th {\n",
       "        text-align: right;\n",
       "    }\n",
       "</style>\n",
       "<table border=\"1\" class=\"dataframe\">\n",
       "  <thead>\n",
       "    <tr style=\"text-align: right;\">\n",
       "      <th></th>\n",
       "      <th>principal component 1</th>\n",
       "      <th>principal component 2</th>\n",
       "      <th>Country</th>\n",
       "      <th>Continent</th>\n",
       "    </tr>\n",
       "  </thead>\n",
       "  <tbody>\n",
       "    <tr>\n",
       "      <th>0</th>\n",
       "      <td>-0.806632</td>\n",
       "      <td>-1.454414</td>\n",
       "      <td>Afghanistan</td>\n",
       "      <td>Asia</td>\n",
       "    </tr>\n",
       "    <tr>\n",
       "      <th>1</th>\n",
       "      <td>2.880997</td>\n",
       "      <td>-2.200271</td>\n",
       "      <td>Albania</td>\n",
       "      <td>Eurpoe</td>\n",
       "    </tr>\n",
       "    <tr>\n",
       "      <th>2</th>\n",
       "      <td>0.821704</td>\n",
       "      <td>-2.699422</td>\n",
       "      <td>Algeria</td>\n",
       "      <td>Africa</td>\n",
       "    </tr>\n",
       "    <tr>\n",
       "      <th>3</th>\n",
       "      <td>-1.997533</td>\n",
       "      <td>-0.548392</td>\n",
       "      <td>Angola</td>\n",
       "      <td>Africa</td>\n",
       "    </tr>\n",
       "    <tr>\n",
       "      <th>4</th>\n",
       "      <td>0.899908</td>\n",
       "      <td>1.230837</td>\n",
       "      <td>Antigua and Barbuda</td>\n",
       "      <td>North America</td>\n",
       "    </tr>\n",
       "  </tbody>\n",
       "</table>\n",
       "</div>"
      ],
      "text/plain": [
       "   principal component 1  principal component 2              Country  \\\n",
       "0              -0.806632              -1.454414          Afghanistan   \n",
       "1               2.880997              -2.200271              Albania   \n",
       "2               0.821704              -2.699422              Algeria   \n",
       "3              -1.997533              -0.548392               Angola   \n",
       "4               0.899908               1.230837  Antigua and Barbuda   \n",
       "\n",
       "       Continent  \n",
       "0           Asia  \n",
       "1         Eurpoe  \n",
       "2         Africa  \n",
       "3         Africa  \n",
       "4  North America  "
      ]
     },
     "execution_count": 10,
     "metadata": {},
     "output_type": "execute_result"
    }
   ],
   "source": [
    "# Make a new column called Continent using the continents information we just get. \n",
    "principalDf[\"Continent\"] = continents\n",
    "\n",
    "# A manually constructed country to contienent and country to country code list for those which have variation in names. \n",
    "manual_continent_dict = {\"Bolivia (Plurinational State of)\":\"South America\"\n",
    "                         ,\"China, Hong Kong SAR\":\"Asia\"\n",
    "                         ,\"China, mainland\":\"Asia\"\n",
    "                         ,\"China, Macao SAR\":\"Asia\"\n",
    "                         ,\"China, Taiwan Province of\":\"Asia\"\n",
    "                         ,\"Congo (note no data in Food suppley tables for DRC)\":\"Africa\"\n",
    "                         ,\"CÃƒÂ´te d'Ivoire\":\"Africa\"\n",
    "                        ,\"Iran (Islamic Republic of)\":\"Asia\"\n",
    "                        ,\"Republic of Korea\":\"Asia\"\n",
    "                        ,\"Eswatini\":\"Africa\"\n",
    "                        ,\"North Macedonia\":\"Europe\"\n",
    "                        ,\"Timor-Leste\":\"Asia\"\n",
    "                        ,\"Venezuela (Bolivarian Republic of)\":\"South America\"}\n",
    "\n",
    "manual_country_code_dict = {\"Bolivia (Plurinational State of)\":\"BOL\"\n",
    "                         ,\"China, Hong Kong SAR\":\"HKG\"\n",
    "                         ,\"China, mainland\":\"CHN\"\n",
    "                         ,\"China, Macao SAR\":\"MAC\"\n",
    "                         ,\"China, Taiwan Province of\":\"TWN\"\n",
    "                         ,\"Congo (note no data in Food suppley tables for DRC)\":\"COG\"\n",
    "                         ,\"CÃƒÂ´te d'Ivoire\":\"CIV\"\n",
    "                        ,\"Iran (Islamic Republic of)\":\"IRN\"\n",
    "                        ,\"Republic of Korea\":\"KOR\"\n",
    "                        ,\"Eswatini\":\"SWZ\"\n",
    "                        ,\"North Macedonia\":\"MKD\"\n",
    "                        ,\"Timor-Leste\":\"TLS\"\n",
    "                        ,\"Venezuela (Bolivarian Republic of)\":\"VEN\"}\n",
    "\n",
    "# Replace missing ones with correct continents. \n",
    "principalDf[\"Continent\"] = principalDf[\"Continent\"].replace(manual_continent_dict)\n",
    "principalDf.head()"
   ]
  },
  {
   "cell_type": "code",
   "execution_count": 11,
   "metadata": {},
   "outputs": [],
   "source": [
    "# Code adapted from https://github.com/mGalarnyk/Python_Tutorials/blob/master/Sklearn/PCA/PCA_Data_Visualization_Iris_Dataset_Blog.ipynb\n",
    "import matplotlib.pyplot as plt\n",
    "\n",
    "def pca_plot(colors,df,cluster_name):\n",
    "    \"\"\"\n",
    "    This function makes a plot using matplotlib, which uses Principal Component 1 as x and 2 as y.\n",
    "    Colors represent clusters. \n",
    "    In this case, cluster can be Continent, Region, and Income group.  \n",
    "    \"\"\"\n",
    "    fig = plt.figure(figsize = (8,8))\n",
    "    ax = fig.add_subplot(1,1,1) \n",
    "    ax.set_xlabel('Principal Component 1', fontsize = 10)\n",
    "    ax.set_ylabel('Principal Component 2', fontsize = 10)\n",
    "    ax.set_title('2 component PCA {}'.format(cluster_name), fontsize = 20)\n",
    "\n",
    "    \n",
    "    cluster_list = df[cluster_name].unique()\n",
    "    print(cluster_list)\n",
    "    for cluster, color in zip(cluster_list,colors):\n",
    "        indicesToKeep = df[cluster_name] == cluster\n",
    "        ax.scatter(df.loc[indicesToKeep, 'principal component 1']\n",
    "               , df.loc[indicesToKeep, 'principal component 2']\n",
    "               , c = color\n",
    "               , s = 50)\n",
    "    ax.legend(cluster_list)\n",
    "    ax.grid()"
   ]
  },
  {
   "cell_type": "code",
   "execution_count": 12,
   "metadata": {},
   "outputs": [
    {
     "name": "stdout",
     "output_type": "stream",
     "text": [
      "['Asia' 'Eurpoe' 'Africa' 'North America' 'South America' 'Australia'\n",
      " 'Europe']\n"
     ]
    },
    {
     "data": {
      "image/png": "[encoded data removed]",
      "text/plain": [
       "<Figure size 576x576 with 1 Axes>"
      ]
     },
     "metadata": {
      "needs_background": "light"
     },
     "output_type": "display_data"
    }
   ],
   "source": [
    "colors = ['r', 'g', 'b','c','m','y']\n",
    "pca_plot(colors,principalDf,\"Continent\")"
   ]
  },
  {
   "cell_type": "markdown",
   "metadata": {},
   "source": [
    "#### Continent Level"
   ]
  },
  {
   "cell_type": "markdown",
   "metadata": {},
   "source": [
    "###### K means on Top of PCA (Unable to fix the legend here. Shape represents continent, and colors represent cluster)"
   ]
  },
  {
   "cell_type": "code",
   "execution_count": 13,
   "metadata": {},
   "outputs": [],
   "source": [
    "#K means Clustering \n",
    "# Code adapted from https://github.com/mGalarnyk/Python_Tutorials/blob/master/Sklearn/PCA/PCA_Data_Visualization_Iris_Dataset_Blog.ipynb\n",
    "from sklearn.cluster import KMeans\n",
    "\n",
    "def perform_kmeans(X, n_clust):\n",
    "    \"\"\"\n",
    "    This function handles K means clustering. \n",
    "    \"\"\"\n",
    "    model = KMeans(n_clust)\n",
    "    model.fit(X)\n",
    "    cluster_labels = model.predict(X)\n",
    "    cent = model.cluster_centers_\n",
    "    return (cluster_labels, cent)\n",
    "\n",
    "def pca_kmeans_plot(colors, mark_shapes,df,cluster_name,centers):\n",
    "    \"\"\"\n",
    "    This function makes a plot using matplotlib, which uses Principal Component 1 as x and 2 as y.\n",
    "    Shapes represent clusters. \n",
    "    In this case, cluster can be Continent, Region, and Income group.  \n",
    "    Colors represent the clusters kmeans assigns the point to. \n",
    "    \"\"\"\n",
    "    fig_k = plt.figure(figsize = (8,8))\n",
    "    ax = fig_k.add_subplot(1,1,1) \n",
    "    ax.set_xlabel('Principal Component 1', fontsize = 10)\n",
    "    ax.set_ylabel('Principal Component 2', fontsize = 10)\n",
    "    ax.set_title('2 component PCA Kmeans Clustering {}'.format(cluster_name), fontsize = 20)\n",
    "\n",
    "    cluster_list = df[cluster_name].unique()\n",
    "\n",
    "    for cluster, ms in zip(cluster_list,mark_shapes):\n",
    "        for kmeans_cluster,color in zip([i for i in range(len(colors))],colors):\n",
    "            indicesToKeep = (df[cluster_name] == cluster) & (df[\"{}_Cluster\".format(cluster_name)] == kmeans_cluster)\n",
    "            ax.scatter(df.loc[indicesToKeep, 'principal component 1']\n",
    "                   , df.loc[indicesToKeep, 'principal component 2']\n",
    "                   , c = color\n",
    "                   , marker = ms\n",
    "                   , s = 50)\n",
    "\n",
    "    ax.legend(mark_shapes,cluster_list)\n",
    "    ax.scatter(centers[:, 0], centers[:, 1], c='black', s=200, alpha=0.5)\n",
    "    ax.grid()"
   ]
  },
  {
   "cell_type": "code",
   "execution_count": 14,
   "metadata": {},
   "outputs": [
    {
     "name": "stderr",
     "output_type": "stream",
     "text": [
      "C:\\Users\\XuP-intern\\AppData\\Local\\Continuum\\anaconda3\\lib\\site-packages\\matplotlib\\legend.py:798: UserWarning:\n",
      "\n",
      "Legend does not support 's' instances.\n",
      "A proxy artist may be used instead.\n",
      "See: http://matplotlib.org/users/legend_guide.html#creating-artists-specifically-for-adding-to-the-legend-aka-proxy-artists\n",
      "\n",
      "C:\\Users\\XuP-intern\\AppData\\Local\\Continuum\\anaconda3\\lib\\site-packages\\matplotlib\\legend.py:798: UserWarning:\n",
      "\n",
      "Legend does not support 'd' instances.\n",
      "A proxy artist may be used instead.\n",
      "See: http://matplotlib.org/users/legend_guide.html#creating-artists-specifically-for-adding-to-the-legend-aka-proxy-artists\n",
      "\n",
      "C:\\Users\\XuP-intern\\AppData\\Local\\Continuum\\anaconda3\\lib\\site-packages\\matplotlib\\legend.py:798: UserWarning:\n",
      "\n",
      "Legend does not support 'p' instances.\n",
      "A proxy artist may be used instead.\n",
      "See: http://matplotlib.org/users/legend_guide.html#creating-artists-specifically-for-adding-to-the-legend-aka-proxy-artists\n",
      "\n",
      "C:\\Users\\XuP-intern\\AppData\\Local\\Continuum\\anaconda3\\lib\\site-packages\\matplotlib\\legend.py:798: UserWarning:\n",
      "\n",
      "Legend does not support 'h' instances.\n",
      "A proxy artist may be used instead.\n",
      "See: http://matplotlib.org/users/legend_guide.html#creating-artists-specifically-for-adding-to-the-legend-aka-proxy-artists\n",
      "\n",
      "C:\\Users\\XuP-intern\\AppData\\Local\\Continuum\\anaconda3\\lib\\site-packages\\matplotlib\\legend.py:798: UserWarning:\n",
      "\n",
      "Legend does not support 'o' instances.\n",
      "A proxy artist may be used instead.\n",
      "See: http://matplotlib.org/users/legend_guide.html#creating-artists-specifically-for-adding-to-the-legend-aka-proxy-artists\n",
      "\n",
      "C:\\Users\\XuP-intern\\AppData\\Local\\Continuum\\anaconda3\\lib\\site-packages\\matplotlib\\legend.py:798: UserWarning:\n",
      "\n",
      "Legend does not support '*' instances.\n",
      "A proxy artist may be used instead.\n",
      "See: http://matplotlib.org/users/legend_guide.html#creating-artists-specifically-for-adding-to-the-legend-aka-proxy-artists\n",
      "\n"
     ]
    },
    {
     "data": {
      "image/png": "[encoded data removed]",
      "text/plain": [
       "<Figure size 576x576 with 1 Axes>"
      ]
     },
     "metadata": {
      "needs_background": "light"
     },
     "output_type": "display_data"
    }
   ],
   "source": [
    "\n",
    "# Plot Contienent level \n",
    "X = principalDf[[\"principal component 1\",\"principal component 2\"]].values\n",
    "continent_cluster_labels, continent_centers = perform_kmeans(X, 6)\n",
    "principalDf[\"Continent_Cluster\"] = continent_cluster_labels\n",
    "mark_shapes = ['s','d','p','h','o','*']\n",
    "colors = ['r', 'g', 'b','c','m','y']\n",
    "pca_kmeans_plot(colors,mark_shapes,principalDf,\"Continent\",continent_centers)"
   ]
  },
  {
   "cell_type": "code",
   "execution_count": 17,
   "metadata": {},
   "outputs": [],
   "source": [
    "\n",
    "\n",
    "def plot_plotly(df,cluster_name,centers,filename_prefix):\n",
    "    \"\"\"\n",
    "    This function draws plots using plotly. \n",
    "    It draws different traces with different shape and color based on the cluster and kmeans cluster it belongs to.abs\n",
    "    In this case, cluster can be Continent, Region, and Income group. \n",
    "    \n",
    "    Shape represents it's original cluster, and color represents the cluster K means assigns it to. \n",
    "    \"\"\"\n",
    "    data = []\n",
    "    cluster_list = df[cluster_name].unique()\n",
    "    for ms,cluster in enumerate(cluster_list):\n",
    "        for kmeans_cluster in [i for i in range(len(cluster_list))]:\n",
    "            indicesToKeep = (df[cluster_name] == cluster) & (df[\"{}_Cluster\".format(cluster_name)] == kmeans_cluster)\n",
    "            trace0 = go.Scatter(\n",
    "                x = df.loc[indicesToKeep, 'principal component 1'],\n",
    "                y = df.loc[indicesToKeep, 'principal component 2'],\n",
    "                name = str(cluster) + str(kmeans_cluster),\n",
    "                mode = 'markers',\n",
    "                marker = dict(\n",
    "                    size = 9, \n",
    "                    color = kmeans_cluster,\n",
    "                    line = dict(width = 1),\n",
    "                    symbol = ms,\n",
    "                ),\n",
    "                text = df.loc[indicesToKeep, 'Country'],\n",
    "            )\n",
    "            data.append(trace0);\n",
    "    \n",
    "    trace1 = go.Scatter(\n",
    "        x = centers[:, 0],\n",
    "        y = centers[:, 1],\n",
    "        name = \"Center\",\n",
    "        mode = 'markers',\n",
    "        marker = dict(\n",
    "            size = 20, \n",
    "            color = 'rgba(220, 220, 220, .4)', \n",
    "            line = dict(width = 1),\n",
    "            ),\n",
    "            )\n",
    "    data.append(trace1)\n",
    "\n",
    "    layout= go.Layout(\n",
    "        title= '2 component PCA Kmeans Clustering {}'.format(cluster_name),\n",
    "        hovermode= 'closest',\n",
    "        xaxis= dict(\n",
    "            title= 'principal component 1',\n",
    "            ticklen= 5,\n",
    "            zeroline= False,\n",
    "            gridwidth= 2,\n",
    "        ),\n",
    "        yaxis=dict(\n",
    "            title= 'principal component 2',\n",
    "            ticklen= 5,\n",
    "            gridwidth= 2,\n",
    "        ),\n",
    "        showlegend= True\n",
    "        )\n",
    "\n",
    "    fig = dict(data=data, layout=layout)\n",
    "    iplot(fig)\n",
    "    py.iplot(fig, filename=\"{} {} Level Plot \".format(filename_prefix, cluster_name))"
   ]
  },
  {
   "cell_type": "code",
   "execution_count": 18,
   "metadata": {},
   "outputs": [
    {
     "data": {
      "application/vnd.plotly.v1+json": {
       "config": {
        "linkText": "Export to plot.ly",
        "plotlyServerURL": "https://plot.ly",
        "showLink": false
       },
       "data": [
        {
         "marker": {
          "color": 0,
          "line": {
           "width": 1
          },
          "size": 9,
          "symbol": 0
         },
         "mode": "markers",
         "name": "Asia0",
         "text": [
          "Bangladesh",
          "Cambodia",
          "Indonesia",
          "Lao People's Democratic Republic",
          "Myanmar",
          "Philippines",
          "Sri Lanka",
          "Thailand",
          "Viet Nam"
         ],
         "type": "scatter",
         "uid": "895ba667-ea38-418d-a5b7-14397f39399d",
         "x": [
          -3.082010952446694,
          -2.8355714869961357,
          -2.4095844856330215,
          -2.917733350205966,
          -1.74754923203534,
          -1.8101488719435908,
          -2.482544315634908,
          -1.4849588344900313,
          -1.486709976093775
         ],
         "y": [
          2.1548578427627976,
          2.9920872154428455,
          2.156389974016497,
          2.682433834664434,
          2.9168226034916183,
          2.392118467754419,
          1.622242821220155,
          2.373991695285271,
          3.191136933741796
         ]
        },
        {
         "marker": {
          "color": 1,
          "line": {
           "width": 1
          },
          "size": 9,
          "symbol": 0
         },
         "mode": "markers",
         "name": "Asia1",
         "text": [
          "Afghanistan",
          "Cyprus",
          "Georgia",
          "Iran (Islamic Republic of)",
          "Iraq",
          "Jordan",
          "Lebanon",
          "Oman",
          "Pakistan",
          "Saudi Arabia",
          "United Arab Emirates"
         ],
         "type": "scatter",
         "uid": "f20dccff-cd0a-4de5-b03a-003463ea3a97",
         "x": [
          -0.8066318102487012,
          0.965733122678537,
          0.35666857849047995,
          0.0013358535558126428,
          -0.726120752370932,
          0.13986663089141155,
          -0.19409112265133685,
          0.33402168450884057,
          -0.5166755455683948,
          0.14124672322035267,
          -0.25868832803558145
         ],
         "y": [
          -1.454413756721853,
          0.3710092288989442,
          -0.8714945081911597,
          -1.0998001241338657,
          -0.19930197312281173,
          -0.9127853797687305,
          -0.8537796282486232,
          -0.2616667951178221,
          -1.1895660982971679,
          -0.22478873758997753,
          -0.5824782807505995
         ]
        },
        {
         "marker": {
          "color": 2,
          "line": {
           "width": 1
          },
          "size": 9,
          "symbol": 0
         },
         "mode": "markers",
         "name": "Asia2",
         "text": [
          "Armenia",
          "Azerbaijan",
          "Kazakhstan",
          "Kyrgyzstan",
          "Mongolia",
          "Turkey",
          "Turkmenistan",
          "Uzbekistan"
         ],
         "type": "scatter",
         "uid": "14999152-c661-4707-8a0a-b183ad3771c0",
         "x": [
          1.5912620185895445,
          1.5155433136152623,
          2.0860853256902323,
          0.7268788207090425,
          0.7811370198750561,
          1.3295368560324028,
          2.0606533099644886,
          0.9622774958157636
         ],
         "y": [
          -1.0177001140505753,
          -2.269156387364123,
          -1.6934105276682667,
          -2.13252446210261,
          -4.06325600364961,
          -1.820966701024357,
          -3.18950464341275,
          -1.8512726195433202
         ]
        },
        {
         "marker": {
          "color": 3,
          "line": {
           "width": 1
          },
          "size": 9,
          "symbol": 0
         },
         "mode": "markers",
         "name": "Asia3",
         "text": [
          "Democratic People's Republic of Korea",
          "India",
          "Nepal",
          "Tajikistan",
          "Timor-Leste",
          "Yemen"
         ],
         "type": "scatter",
         "uid": "bb7470d9-782e-4276-af9c-0b909503994e",
         "x": [
          -2.895933884702707,
          -2.3181216149344794,
          -2.5488498114495206,
          -1.163128867055314,
          -3.0698999232862696,
          -1.3906751138584383
         ],
         "y": [
          0.3473322584936175,
          0.024061078309389358,
          -0.27204518754834994,
          -1.4255223038956948,
          0.26038718774546854,
          -0.9182174333153971
         ]
        },
        {
         "marker": {
          "color": 4,
          "line": {
           "width": 1
          },
          "size": 9,
          "symbol": 0
         },
         "mode": "markers",
         "name": "Asia4",
         "text": [
          "Israel",
          "Kuwait"
         ],
         "type": "scatter",
         "uid": "bb8e1862-765e-4e41-add1-dd4f0e8ce915",
         "x": [
          3.172953055041278,
          1.4946064494434443
         ],
         "y": [
          -0.17741029486518783,
          -0.3320897028840272
         ]
        },
        {
         "marker": {
          "color": 5,
          "line": {
           "width": 1
          },
          "size": 9,
          "symbol": 0
         },
         "mode": "markers",
         "name": "Asia5",
         "text": [
          "Brunei Darussalam",
          "China, Hong Kong SAR",
          "China, Macao SAR",
          "China, mainland",
          "China, Taiwan Province of",
          "Japan",
          "Malaysia",
          "Maldives",
          "Republic of Korea"
         ],
         "type": "scatter",
         "uid": "11a1b8e6-3f91-48c1-9489-4d4ce7a92a42",
         "x": [
          0.9493427804385842,
          3.301781941735512,
          1.8417999997188168,
          0.8141520709320557,
          0.542450202773705,
          0.9249350282419273,
          0.08254012373454955,
          1.5297244600983222,
          0.29607687689076717
         ],
         "y": [
          2.141524597224632,
          3.154621130404117,
          2.8649784206143623,
          1.8113217317446082,
          2.0269602477105524,
          2.5509599450409275,
          2.6261783869138924,
          5.080015839206428,
          2.778920197121249
         ]
        },
        {
         "marker": {
          "color": 6,
          "line": {
           "width": 1
          },
          "size": 9,
          "symbol": 0
         },
         "mode": "markers",
         "name": "Asia6",
         "text": [],
         "type": "scatter",
         "uid": "de3d434f-aeef-45e0-a446-11d0a499105a",
         "x": [],
         "y": []
        },
        {
         "marker": {
          "color": 0,
          "line": {
           "width": 1
          },
          "size": 9,
          "symbol": 1
         },
         "mode": "markers",
         "name": "Eurpoe0",
         "text": [],
         "type": "scatter",
         "uid": "7ba9e62d-da0c-40de-b3c3-1bb3f106cd21",
         "x": [],
         "y": []
        },
        {
         "marker": {
          "color": 1,
          "line": {
           "width": 1
          },
          "size": 9,
          "symbol": 1
         },
         "mode": "markers",
         "name": "Eurpoe1",
         "text": [
          "Bosnia and Herzegovina",
          "Bulgaria",
          "Republic of Moldova",
          "Serbia",
          "Slovakia"
         ],
         "type": "scatter",
         "uid": "1c94dba4-87ed-409b-a75d-ca1567baa90d",
         "x": [
          -0.2865112683008687,
          0.9383780510212321,
          -0.13201174042736732,
          0.6384192934719156,
          1.1712101113029214
         ],
         "y": [
          -1.3166491240934244,
          -0.24921460505346935,
          -0.2818917074548535,
          -0.6023169299034161,
          0.09598456723959597
         ]
        },
        {
         "marker": {
          "color": 2,
          "line": {
           "width": 1
          },
          "size": 9,
          "symbol": 1
         },
         "mode": "markers",
         "name": "Eurpoe2",
         "text": [
          "Albania",
          "Greece",
          "Romania"
         ],
         "type": "scatter",
         "uid": "4ccd4f65-01fe-4931-b40a-933c3db8f9b6",
         "x": [
          2.880997010937838,
          2.544962047643226,
          2.176777040818596
         ],
         "y": [
          -2.200271348624619,
          -1.4410342268163416,
          -1.040822640016608
         ]
        },
        {
         "marker": {
          "color": 3,
          "line": {
           "width": 1
          },
          "size": 9,
          "symbol": 1
         },
         "mode": "markers",
         "name": "Eurpoe3",
         "text": [],
         "type": "scatter",
         "uid": "7bf4732c-8889-45a0-85c6-b2619f8fdbc7",
         "x": [],
         "y": []
        },
        {
         "marker": {
          "color": 4,
          "line": {
           "width": 1
          },
          "size": 9,
          "symbol": 1
         },
         "mode": "markers",
         "name": "Eurpoe4",
         "text": [
          "Austria",
          "Belarus",
          "Belgium",
          "Croatia",
          "Czechia",
          "Denmark",
          "Estonia",
          "Finland",
          "France",
          "Germany",
          "Hungary",
          "Iceland",
          "Ireland",
          "Italy",
          "Latvia",
          "Lithuania",
          "Luxembourg",
          "Malta",
          "Montenegro",
          "Netherlands",
          "Norway",
          "Poland",
          "Portugal",
          "Russian Federation",
          "Slovenia",
          "Spain",
          "Sweden",
          "Switzerland",
          "Ukraine",
          "United Kingdom"
         ],
         "type": "scatter",
         "uid": "962b0ebf-37d3-4e0c-8530-1a4624012147",
         "x": [
          3.429784707164056,
          3.727015690950966,
          2.2968281516748634,
          1.4817413475205174,
          2.262140771038658,
          3.504807928693892,
          3.3325712363062685,
          4.1188588596609526,
          3.169053843356343,
          3.1894889099375328,
          1.5703559804597171,
          3.8616723113499294,
          2.723542787742862,
          2.752216860789632,
          2.9749939802249656,
          4.383300887530981,
          3.5050312995510264,
          2.4393397624417057,
          2.7777922649033893,
          3.7082371049534113,
          2.921361627271437,
          3.757380361743879,
          2.6144073362894886,
          2.91679763259059,
          2.088311050755875,
          2.6161160429544137,
          3.7290882295353867,
          2.227111295079833,
          2.143820995874165,
          2.3740110641023042
         ],
         "y": [
          0.555266877567473,
          0.7675525563459799,
          0.027533723081726705,
          0.15223676768619857,
          0.2645022954602303,
          0.5450920113255161,
          -0.9162582864977895,
          0.48935195296993406,
          0.05682524479079521,
          0.5136882458139987,
          0.2563795405312364,
          0.3008469607060452,
          -0.3980260445066677,
          0.09022781952943736,
          -0.12228503600345081,
          0.9662738512933384,
          0.2750394384928398,
          0.21921484249835788,
          -0.5100823108586711,
          0.4302635451022588,
          0.2096665522520034,
          0.7187548723722688,
          1.0008698726733043,
          -0.028542696295247194,
          -0.28913432815623147,
          1.1852367702287456,
          0.5409868782211086,
          -0.0665368600229202,
          -0.17039279949742941,
          -0.17629378330116102
         ]
        },
        {
         "marker": {
          "color": 5,
          "line": {
           "width": 1
          },
          "size": 9,
          "symbol": 1
         },
         "mode": "markers",
         "name": "Eurpoe5",
         "text": [],
         "type": "scatter",
         "uid": "d4be596e-9a38-4a07-9258-797a8a319822",
         "x": [],
         "y": []
        },
        {
         "marker": {
          "color": 6,
          "line": {
           "width": 1
          },
          "size": 9,
          "symbol": 1
         },
         "mode": "markers",
         "name": "Eurpoe6",
         "text": [],
         "type": "scatter",
         "uid": "e754fdcd-ecad-4671-a9b1-96236304104a",
         "x": [],
         "y": []
        },
        {
         "marker": {
          "color": 0,
          "line": {
           "width": 1
          },
          "size": 9,
          "symbol": 2
         },
         "mode": "markers",
         "name": "Africa0",
         "text": [
          "Gambia",
          "Guinea",
          "Guinea-Bissau",
          "Liberia",
          "Madagascar",
          "Senegal",
          "Sierra Leone"
         ],
         "type": "scatter",
         "uid": "02ae1a6e-3816-402c-9d83-ea3e29725e03",
         "x": [
          -2.1345999920829977,
          -2.925708178187594,
          -2.935350814270425,
          -2.946725845549144,
          -2.9850134984784904,
          -2.4599302528379745,
          -3.0077393033131763
         ],
         "y": [
          0.5280548616635982,
          1.0630299322846903,
          1.119499120125993,
          1.2556138396324046,
          1.131278298136573,
          0.8145431306532148,
          1.4237834966771823
         ]
        },
        {
         "marker": {
          "color": 1,
          "line": {
           "width": 1
          },
          "size": 9,
          "symbol": 2
         },
         "mode": "markers",
         "name": "Africa1",
         "text": [
          "Egypt",
          "Gabon",
          "Mauritania",
          "Mauritius",
          "South Africa"
         ],
         "type": "scatter",
         "uid": "616f912c-7ea5-4c84-bbcd-28b155296de8",
         "x": [
          -0.3864755615347677,
          -0.8687569678466985,
          -0.6270796386142267,
          0.24700016018602544,
          -0.3151545166866382
         ],
         "y": [
          -0.8067319663341315,
          0.8737614560944854,
          -1.4340629614884106,
          0.2536283431917771,
          -0.6777028481548247
         ]
        },
        {
         "marker": {
          "color": 2,
          "line": {
           "width": 1
          },
          "size": 9,
          "symbol": 2
         },
         "mode": "markers",
         "name": "Africa2",
         "text": [
          "Algeria",
          "Morocco",
          "Sudan",
          "Tunisia"
         ],
         "type": "scatter",
         "uid": "03dff297-406b-426b-90ee-7871a33bcee4",
         "x": [
          0.8217038685302547,
          1.1923234152327322,
          3.682809045791822,
          0.9602258176780426
         ],
         "y": [
          -2.6994220708972794,
          -3.142560951270779,
          -4.1644246270513445,
          -1.7993847347041594
         ]
        },
        {
         "marker": {
          "color": 3,
          "line": {
           "width": 1
          },
          "size": 9,
          "symbol": 2
         },
         "mode": "markers",
         "name": "Africa3",
         "text": [
          "Angola",
          "Benin",
          "Botswana",
          "Burkina Faso",
          "Cabo Verde",
          "Cameroon",
          "Central African Republic",
          "Chad",
          "Congo (note no data in Food suppley tables for DRC)",
          "CÃƒÂ´te d'Ivoire",
          "Djibouti",
          "Ethiopia",
          "Ghana",
          "Kenya",
          "Lesotho",
          "Malawi",
          "Mali",
          "Mozambique",
          "Namibia",
          "Niger",
          "Nigeria",
          "Rwanda",
          "Sao Tome and Principe",
          "Eswatini",
          "Togo",
          "Uganda",
          "United Republic of Tanzania",
          "Zambia",
          "Zimbabwe"
         ],
         "type": "scatter",
         "uid": "1cfe7b39-68c5-4068-b82f-de960649d24a",
         "x": [
          -1.9975329968592799,
          -2.761455317023798,
          -1.7792654705076574,
          -3.0531927376026853,
          -1.4645592877306972,
          -3.2204231103451986,
          -2.401979374972313,
          -2.9355894252738213,
          -2.01846276687181,
          -2.7527383249003803,
          -1.420414712863716,
          -3.1011968415896316,
          -2.6905613884891864,
          -2.5091068920837585,
          -2.830942890597179,
          -3.531306127860811,
          -2.4060478163161014,
          -3.2569623202874736,
          -1.9842246079012047,
          -3.4730107364043326,
          -2.866285247913259,
          -3.745953670250634,
          -1.8088645670814154,
          -2.0710813723115873,
          -3.264362313297805,
          -3.1938600526728056,
          -3.2341507146364274,
          -2.992783479223148,
          -2.653619957088088
         ],
         "y": [
          -0.5483919739663026,
          -0.06139678513378594,
          -0.9705138064325136,
          -0.7574603720868167,
          0.07609062749291318,
          -0.8056383072822126,
          -1.0900950636624802,
          -0.51183894288515,
          0.17949074165162926,
          0.12687421076479874,
          -1.3493563849252779,
          -1.4306673502437717,
          -0.39658288880736475,
          -1.5779145532744323,
          -2.073344680607281,
          -1.7470280254152923,
          -0.7206866662188854,
          -0.7985039440496015,
          -0.8965211882048391,
          -1.4977831189512485,
          -0.4495771414678121,
          -1.7559551511325202,
          0.223523667334542,
          -0.9805951770948886,
          -0.7307053349465572,
          -1.059814464582445,
          -1.0563716516768524,
          -0.832173704620567,
          -0.7923323492134369
         ]
        },
        {
         "marker": {
          "color": 4,
          "line": {
           "width": 1
          },
          "size": 9,
          "symbol": 2
         },
         "mode": "markers",
         "name": "Africa4",
         "text": [],
         "type": "scatter",
         "uid": "c61a6a34-a129-49b7-a7be-6ea35d948032",
         "x": [],
         "y": []
        },
        {
         "marker": {
          "color": 5,
          "line": {
           "width": 1
          },
          "size": 9,
          "symbol": 2
         },
         "mode": "markers",
         "name": "Africa5",
         "text": [],
         "type": "scatter",
         "uid": "54aac511-8dab-49bf-b582-c554dbdf8835",
         "x": [],
         "y": []
        },
        {
         "marker": {
          "color": 6,
          "line": {
           "width": 1
          },
          "size": 9,
          "symbol": 2
         },
         "mode": "markers",
         "name": "Africa6",
         "text": [],
         "type": "scatter",
         "uid": "b7c962eb-da80-4da1-ab95-fe5d91f483e1",
         "x": [],
         "y": []
        },
        {
         "marker": {
          "color": 0,
          "line": {
           "width": 1
          },
          "size": 9,
          "symbol": 3
         },
         "mode": "markers",
         "name": "North America0",
         "text": [
          "Dominican Republic"
         ],
         "type": "scatter",
         "uid": "106b4f44-3c36-4fbe-83f0-e73d10ddcecd",
         "x": [
          -1.3861417486861718
         ],
         "y": [
          0.6811133733296519
         ]
        },
        {
         "marker": {
          "color": 1,
          "line": {
           "width": 1
          },
          "size": 9,
          "symbol": 3
         },
         "mode": "markers",
         "name": "North America1",
         "text": [
          "Barbados",
          "Belize",
          "Costa Rica",
          "Cuba",
          "Dominica",
          "Grenada",
          "Jamaica",
          "Mexico",
          "Panama",
          "Saint Kitts and Nevis",
          "Saint Lucia",
          "Saint Vincent and the Grenadines",
          "Trinidad and Tobago"
         ],
         "type": "scatter",
         "uid": "c0666822-7559-425b-bd21-7492a58ef7d9",
         "x": [
          0.7157320925378302,
          -1.1722156999569542,
          -0.1812186453425076,
          -1.2234992597932053,
          0.10986530004072252,
          0.03157813492704396,
          -0.30624698411249546,
          -0.12136034742416028,
          -0.38060831756682983,
          -0.13300246861019246,
          0.6469462304545903,
          0.49191793329995276,
          0.0074670162306179014
         ],
         "y": [
          0.3289711560555292,
          0.20959618861064058,
          0.3031543407273656,
          0.11734647472364686,
          0.002162899582244687,
          0.8800815226997114,
          0.44669426813884383,
          -0.5812149842884032,
          0.9395709343127172,
          1.0853968195691723,
          0.6691135439509076,
          0.8622746552420673,
          0.24464500852686083
         ]
        },
        {
         "marker": {
          "color": 2,
          "line": {
           "width": 1
          },
          "size": 9,
          "symbol": 3
         },
         "mode": "markers",
         "name": "North America2",
         "text": [],
         "type": "scatter",
         "uid": "f04a1d17-8ee8-4ab2-ac16-f40939b13338",
         "x": [],
         "y": []
        },
        {
         "marker": {
          "color": 3,
          "line": {
           "width": 1
          },
          "size": 9,
          "symbol": 3
         },
         "mode": "markers",
         "name": "North America3",
         "text": [
          "El Salvador",
          "Guatemala",
          "Haiti",
          "Honduras",
          "Nicaragua"
         ],
         "type": "scatter",
         "uid": "fe749d90-275b-412f-b6e7-0a9cf02ba531",
         "x": [
          -1.5702928403912042,
          -1.7679532474630102,
          -3.185198542897812,
          -1.7324156978701921,
          -2.578612963670199
         ],
         "y": [
          -1.1226454209654055,
          -0.9494186112117974,
          -0.2936333147623672,
          -0.6807962224467223,
          -0.5548063760005235
         ]
        },
        {
         "marker": {
          "color": 4,
          "line": {
           "width": 1
          },
          "size": 9,
          "symbol": 3
         },
         "mode": "markers",
         "name": "North America4",
         "text": [
          "Bermuda",
          "Canada",
          "United States of America"
         ],
         "type": "scatter",
         "uid": "ec485a32-1ed0-477d-a76e-cde3b3b7fd85",
         "x": [
          2.284301805268657,
          1.9253313062795252,
          3.2536410635146082
         ],
         "y": [
          0.7771684171803444,
          -0.10020090276356512,
          0.25151296869878453
         ]
        },
        {
         "marker": {
          "color": 5,
          "line": {
           "width": 1
          },
          "size": 9,
          "symbol": 3
         },
         "mode": "markers",
         "name": "North America5",
         "text": [
          "Antigua and Barbuda",
          "Bahamas"
         ],
         "type": "scatter",
         "uid": "140214d3-a35b-449c-851f-392144da0b27",
         "x": [
          0.8999083425697635,
          1.2550018435298482
         ],
         "y": [
          1.2308365143171462,
          1.2216089165593678
         ]
        },
        {
         "marker": {
          "color": 6,
          "line": {
           "width": 1
          },
          "size": 9,
          "symbol": 3
         },
         "mode": "markers",
         "name": "North America6",
         "text": [],
         "type": "scatter",
         "uid": "fd865454-2882-451d-8220-7857d1367705",
         "x": [],
         "y": []
        },
        {
         "marker": {
          "color": 0,
          "line": {
           "width": 1
          },
          "size": 9,
          "symbol": 4
         },
         "mode": "markers",
         "name": "South America0",
         "text": [
          "Guyana",
          "Suriname"
         ],
         "type": "scatter",
         "uid": "9562e375-8160-47be-a0e1-fe35e35b786d",
         "x": [
          -0.8992922046124754,
          -1.0422492676208412
         ],
         "y": [
          1.1989859355128962,
          1.2397310560020824
         ]
        },
        {
         "marker": {
          "color": 1,
          "line": {
           "width": 1
          },
          "size": 9,
          "symbol": 4
         },
         "mode": "markers",
         "name": "South America1",
         "text": [
          "Bolivia (Plurinational State of)",
          "Brazil",
          "Chile",
          "Colombia",
          "Ecuador",
          "Paraguay",
          "Peru",
          "Venezuela (Bolivarian Republic of)"
         ],
         "type": "scatter",
         "uid": "abd66a81-bf15-4c62-b33f-eba5ebed7582",
         "x": [
          -0.6850962521630208,
          0.8042786864509208,
          1.250954122339907,
          -0.5625445150612255,
          -0.311467675656889,
          -0.12176466123281933,
          -1.1759544256426786,
          -0.11242280909133386
         ],
         "y": [
          -0.34757712025202797,
          -0.2108007341465027,
          -0.0419202435200735,
          -0.03654495347007563,
          0.62261482357903,
          -0.23544380633626774,
          -0.00338404990565594,
          0.03278265803912569
         ]
        },
        {
         "marker": {
          "color": 2,
          "line": {
           "width": 1
          },
          "size": 9,
          "symbol": 4
         },
         "mode": "markers",
         "name": "South America2",
         "text": [
          "Uruguay"
         ],
         "type": "scatter",
         "uid": "eec24932-3de5-4ba6-8a64-73d602a35757",
         "x": [
          1.8221168640922374
         ],
         "y": [
          -1.0347514422303852
         ]
        },
        {
         "marker": {
          "color": 3,
          "line": {
           "width": 1
          },
          "size": 9,
          "symbol": 4
         },
         "mode": "markers",
         "name": "South America3",
         "text": [],
         "type": "scatter",
         "uid": "1a8d3b98-5863-40f8-84ca-b3450ac6a5e5",
         "x": [],
         "y": []
        },
        {
         "marker": {
          "color": 4,
          "line": {
           "width": 1
          },
          "size": 9,
          "symbol": 4
         },
         "mode": "markers",
         "name": "South America4",
         "text": [
          "Argentina"
         ],
         "type": "scatter",
         "uid": "e297d51b-0282-467e-9878-700ed9d84a48",
         "x": [
          3.2983498762122334
         ],
         "y": [
          -0.8126898482776399
         ]
        },
        {
         "marker": {
          "color": 5,
          "line": {
           "width": 1
          },
          "size": 9,
          "symbol": 4
         },
         "mode": "markers",
         "name": "South America5",
         "text": [],
         "type": "scatter",
         "uid": "6c15c07a-3ded-4806-a89f-047fbe42064c",
         "x": [],
         "y": []
        },
        {
         "marker": {
          "color": 6,
          "line": {
           "width": 1
          },
          "size": 9,
          "symbol": 4
         },
         "mode": "markers",
         "name": "South America6",
         "text": [],
         "type": "scatter",
         "uid": "351aa3b9-7a0f-4a9f-b393-b94c3ced1299",
         "x": [],
         "y": []
        },
        {
         "marker": {
          "color": 0,
          "line": {
           "width": 1
          },
          "size": 9,
          "symbol": 5
         },
         "mode": "markers",
         "name": "Australia0",
         "text": [
          "Kiribati"
         ],
         "type": "scatter",
         "uid": "b53c96d3-9f6a-4d18-9ea7-42dcf987f201",
         "x": [
          -0.8572704888558011
         ],
         "y": [
          2.368484099430268
         ]
        },
        {
         "marker": {
          "color": 1,
          "line": {
           "width": 1
          },
          "size": 9,
          "symbol": 5
         },
         "mode": "markers",
         "name": "Australia1",
         "text": [
          "Fiji",
          "Vanuatu"
         ],
         "type": "scatter",
         "uid": "a139d058-8dc4-4c1f-909b-9808b2d01391",
         "x": [
          -0.5450840832564462,
          -1.0442256241145356
         ],
         "y": [
          -0.0706567815501952,
          0.7786741081394595
         ]
        },
        {
         "marker": {
          "color": 2,
          "line": {
           "width": 1
          },
          "size": 9,
          "symbol": 5
         },
         "mode": "markers",
         "name": "Australia2",
         "text": [
          "New Zealand"
         ],
         "type": "scatter",
         "uid": "a2a8a53b-4ef0-4645-999f-b2988bbc4db7",
         "x": [
          1.711554120510259
         ],
         "y": [
          -0.8674287533440144
         ]
        },
        {
         "marker": {
          "color": 3,
          "line": {
           "width": 1
          },
          "size": 9,
          "symbol": 5
         },
         "mode": "markers",
         "name": "Australia3",
         "text": [
          "Solomon Islands"
         ],
         "type": "scatter",
         "uid": "6f07b899-40ca-42db-9c36-04de58673430",
         "x": [
          -2.250656687927032
         ],
         "y": [
          0.41966269122196426
         ]
        },
        {
         "marker": {
          "color": 4,
          "line": {
           "width": 1
          },
          "size": 9,
          "symbol": 5
         },
         "mode": "markers",
         "name": "Australia4",
         "text": [
          "Australia"
         ],
         "type": "scatter",
         "uid": "e2724b70-c3f4-4119-b525-3495c1bc7ce8",
         "x": [
          2.8002643010035624
         ],
         "y": [
          -0.2915935120730121
         ]
        },
        {
         "marker": {
          "color": 5,
          "line": {
           "width": 1
          },
          "size": 9,
          "symbol": 5
         },
         "mode": "markers",
         "name": "Australia5",
         "text": [
          "French Polynesia",
          "New Caledonia",
          "Samoa"
         ],
         "type": "scatter",
         "uid": "8e5fd488-338d-40ef-aec2-1071b7a940e6",
         "x": [
          1.7781222551987987,
          1.3047356152072567,
          0.7612759729551208
         ],
         "y": [
          1.1729280594109088,
          0.7576528154740066,
          1.1337714020958107
         ]
        },
        {
         "marker": {
          "color": 6,
          "line": {
           "width": 1
          },
          "size": 9,
          "symbol": 5
         },
         "mode": "markers",
         "name": "Australia6",
         "text": [],
         "type": "scatter",
         "uid": "b27ea4e8-6127-4584-8ba0-d22038ec60ae",
         "x": [],
         "y": []
        },
        {
         "marker": {
          "color": 0,
          "line": {
           "width": 1
          },
          "size": 9,
          "symbol": 6
         },
         "mode": "markers",
         "name": "Europe0",
         "text": [],
         "type": "scatter",
         "uid": "4ded3162-94e8-48ff-8b8e-10f53669ba5e",
         "x": [],
         "y": []
        },
        {
         "marker": {
          "color": 1,
          "line": {
           "width": 1
          },
          "size": 9,
          "symbol": 6
         },
         "mode": "markers",
         "name": "Europe1",
         "text": [
          "North Macedonia"
         ],
         "type": "scatter",
         "uid": "51a45595-7c81-4b71-8117-2617bd4a3c7d",
         "x": [
          -0.024522972625530534
         ],
         "y": [
          -0.75390354612768
         ]
        },
        {
         "marker": {
          "color": 2,
          "line": {
           "width": 1
          },
          "size": 9,
          "symbol": 6
         },
         "mode": "markers",
         "name": "Europe2",
         "text": [],
         "type": "scatter",
         "uid": "e8ec419f-d433-467a-a8dd-bfad006a573f",
         "x": [],
         "y": []
        },
        {
         "marker": {
          "color": 3,
          "line": {
           "width": 1
          },
          "size": 9,
          "symbol": 6
         },
         "mode": "markers",
         "name": "Europe3",
         "text": [],
         "type": "scatter",
         "uid": "57fb224b-4bf7-4c6e-97bc-902a0732d906",
         "x": [],
         "y": []
        },
        {
         "marker": {
          "color": 4,
          "line": {
           "width": 1
          },
          "size": 9,
          "symbol": 6
         },
         "mode": "markers",
         "name": "Europe4",
         "text": [],
         "type": "scatter",
         "uid": "0c24c97c-295b-4599-a448-943ae4e47f12",
         "x": [],
         "y": []
        },
        {
         "marker": {
          "color": 5,
          "line": {
           "width": 1
          },
          "size": 9,
          "symbol": 6
         },
         "mode": "markers",
         "name": "Europe5",
         "text": [],
         "type": "scatter",
         "uid": "7ee40931-833e-4712-b704-618f46c7104c",
         "x": [],
         "y": []
        },
        {
         "marker": {
          "color": 6,
          "line": {
           "width": 1
          },
          "size": 9,
          "symbol": 6
         },
         "mode": "markers",
         "name": "Europe6",
         "text": [],
         "type": "scatter",
         "uid": "f6f4217e-8804-46d8-b2db-67fbaff86049",
         "x": [],
         "y": []
        },
        {
         "marker": {
          "color": "rgba(220, 220, 220, .4)",
          "line": {
           "width": 1
          },
          "size": 20
         },
         "mode": "markers",
         "name": "Center",
         "type": "scatter",
         "uid": "18052e2d-ece6-4046-a7c3-bac6dac4cc03",
         "x": [
          -2.1918416549987274,
          -0.09392916151838271,
          1.696873140678047,
          -2.533943261377131,
          2.887206167005739,
          1.1629891081446448
         ],
         "y": [
          1.765309926591419,
          -0.13739174770444218,
          -2.142817191398303,
          -0.7183149130247382,
          0.16764744861672767,
          2.1823055859884293
         ]
        }
       ],
       "layout": {
        "hovermode": "closest",
        "showlegend": true,
        "title": {
         "text": "2 component PCA Kmeans Clustering Continent"
        },
        "xaxis": {
         "gridwidth": 2,
         "ticklen": 5,
         "title": {
          "text": "principal component 1"
         },
         "zeroline": false
        },
        "yaxis": {
         "gridwidth": 2,
         "ticklen": 5,
         "title": {
          "text": "principal component 2"
         }
        }
       }
      },
      "text/html": [
       "<div>\n",
       "        \n",
       "        \n",
       "            <div id=\"52763d11-2709-43f2-9f03-f0c417bd4996\" class=\"plotly-graph-div\" style=\"height:525px; width:100%;\"></div>\n",
       "            <script type=\"text/javascript\">\n",
       "                require([\"plotly\"], function(Plotly) {\n",
       "                    window.PLOTLYENV=window.PLOTLYENV || {};\n",
       "                    window.PLOTLYENV.BASE_URL='https://plot.ly';\n",
       "                    \n",
       "                if (document.getElementById(\"52763d11-2709-43f2-9f03-f0c417bd4996\")) {\n",
       "                    Plotly.newPlot(\n",
       "                        '52763d11-2709-43f2-9f03-f0c417bd4996',\n",
       "                        [{\"marker\": {\"color\": 0, \"line\": {\"width\": 1}, \"size\": 9, \"symbol\": 0}, \"mode\": \"markers\", \"name\": \"Asia0\", \"text\": [\"Bangladesh\", \"Cambodia\", \"Indonesia\", \"Lao People's Democratic Republic\", \"Myanmar\", \"Philippines\", \"Sri Lanka\", \"Thailand\", \"Viet Nam\"], \"type\": \"scatter\", \"uid\": \"895ba667-ea38-418d-a5b7-14397f39399d\", \"x\": [-3.082010952446694, -2.8355714869961357, -2.4095844856330215, -2.917733350205966, -1.74754923203534, -1.8101488719435908, -2.482544315634908, -1.4849588344900313, -1.486709976093775], \"y\": [2.1548578427627976, 2.9920872154428455, 2.156389974016497, 2.682433834664434, 2.9168226034916183, 2.392118467754419, 1.622242821220155, 2.373991695285271, 3.191136933741796]}, {\"marker\": {\"color\": 1, \"line\": {\"width\": 1}, \"size\": 9, \"symbol\": 0}, \"mode\": \"markers\", \"name\": \"Asia1\", \"text\": [\"Afghanistan\", \"Cyprus\", \"Georgia\", \"Iran (Islamic Republic of)\", \"Iraq\", \"Jordan\", \"Lebanon\", \"Oman\", \"Pakistan\", \"Saudi Arabia\", \"United Arab Emirates\"], \"type\": \"scatter\", \"uid\": \"f20dccff-cd0a-4de5-b03a-003463ea3a97\", \"x\": [-0.8066318102487012, 0.965733122678537, 0.35666857849047995, 0.0013358535558126428, -0.726120752370932, 0.13986663089141155, -0.19409112265133685, 0.33402168450884057, -0.5166755455683948, 0.14124672322035267, -0.25868832803558145], \"y\": [-1.454413756721853, 0.3710092288989442, -0.8714945081911597, -1.0998001241338657, -0.19930197312281173, -0.9127853797687305, -0.8537796282486232, -0.2616667951178221, -1.1895660982971679, -0.22478873758997753, -0.5824782807505995]}, {\"marker\": {\"color\": 2, \"line\": {\"width\": 1}, \"size\": 9, \"symbol\": 0}, \"mode\": \"markers\", \"name\": \"Asia2\", \"text\": [\"Armenia\", \"Azerbaijan\", \"Kazakhstan\", \"Kyrgyzstan\", \"Mongolia\", \"Turkey\", \"Turkmenistan\", \"Uzbekistan\"], \"type\": \"scatter\", \"uid\": \"14999152-c661-4707-8a0a-b183ad3771c0\", \"x\": [1.5912620185895445, 1.5155433136152623, 2.0860853256902323, 0.7268788207090425, 0.7811370198750561, 1.3295368560324028, 2.0606533099644886, 0.9622774958157636], \"y\": [-1.0177001140505753, -2.269156387364123, -1.6934105276682667, -2.13252446210261, -4.06325600364961, -1.820966701024357, -3.18950464341275, -1.8512726195433202]}, {\"marker\": {\"color\": 3, \"line\": {\"width\": 1}, \"size\": 9, \"symbol\": 0}, \"mode\": \"markers\", \"name\": \"Asia3\", \"text\": [\"Democratic People's Republic of Korea\", \"India\", \"Nepal\", \"Tajikistan\", \"Timor-Leste\", \"Yemen\"], \"type\": \"scatter\", \"uid\": \"bb7470d9-782e-4276-af9c-0b909503994e\", \"x\": [-2.895933884702707, -2.3181216149344794, -2.5488498114495206, -1.163128867055314, -3.0698999232862696, -1.3906751138584383], \"y\": [0.3473322584936175, 0.024061078309389358, -0.27204518754834994, -1.4255223038956948, 0.26038718774546854, -0.9182174333153971]}, {\"marker\": {\"color\": 4, \"line\": {\"width\": 1}, \"size\": 9, \"symbol\": 0}, \"mode\": \"markers\", \"name\": \"Asia4\", \"text\": [\"Israel\", \"Kuwait\"], \"type\": \"scatter\", \"uid\": \"bb8e1862-765e-4e41-add1-dd4f0e8ce915\", \"x\": [3.172953055041278, 1.4946064494434443], \"y\": [-0.17741029486518783, -0.3320897028840272]}, {\"marker\": {\"color\": 5, \"line\": {\"width\": 1}, \"size\": 9, \"symbol\": 0}, \"mode\": \"markers\", \"name\": \"Asia5\", \"text\": [\"Brunei Darussalam\", \"China, Hong Kong SAR\", \"China, Macao SAR\", \"China, mainland\", \"China, Taiwan Province of\", \"Japan\", \"Malaysia\", \"Maldives\", \"Republic of Korea\"], \"type\": \"scatter\", \"uid\": \"11a1b8e6-3f91-48c1-9489-4d4ce7a92a42\", \"x\": [0.9493427804385842, 3.301781941735512, 1.8417999997188168, 0.8141520709320557, 0.542450202773705, 0.9249350282419273, 0.08254012373454955, 1.5297244600983222, 0.29607687689076717], \"y\": [2.141524597224632, 3.154621130404117, 2.8649784206143623, 1.8113217317446082, 2.0269602477105524, 2.5509599450409275, 2.6261783869138924, 5.080015839206428, 2.778920197121249]}, {\"marker\": {\"color\": 6, \"line\": {\"width\": 1}, \"size\": 9, \"symbol\": 0}, \"mode\": \"markers\", \"name\": \"Asia6\", \"text\": [], \"type\": \"scatter\", \"uid\": \"de3d434f-aeef-45e0-a446-11d0a499105a\", \"x\": [], \"y\": []}, {\"marker\": {\"color\": 0, \"line\": {\"width\": 1}, \"size\": 9, \"symbol\": 1}, \"mode\": \"markers\", \"name\": \"Eurpoe0\", \"text\": [], \"type\": \"scatter\", \"uid\": \"7ba9e62d-da0c-40de-b3c3-1bb3f106cd21\", \"x\": [], \"y\": []}, {\"marker\": {\"color\": 1, \"line\": {\"width\": 1}, \"size\": 9, \"symbol\": 1}, \"mode\": \"markers\", \"name\": \"Eurpoe1\", \"text\": [\"Bosnia and Herzegovina\", \"Bulgaria\", \"Republic of Moldova\", \"Serbia\", \"Slovakia\"], \"type\": \"scatter\", \"uid\": \"1c94dba4-87ed-409b-a75d-ca1567baa90d\", \"x\": [-0.2865112683008687, 0.9383780510212321, -0.13201174042736732, 0.6384192934719156, 1.1712101113029214], \"y\": [-1.3166491240934244, -0.24921460505346935, -0.2818917074548535, -0.6023169299034161, 0.09598456723959597]}, {\"marker\": {\"color\": 2, \"line\": {\"width\": 1}, \"size\": 9, \"symbol\": 1}, \"mode\": \"markers\", \"name\": \"Eurpoe2\", \"text\": [\"Albania\", \"Greece\", \"Romania\"], \"type\": \"scatter\", \"uid\": \"4ccd4f65-01fe-4931-b40a-933c3db8f9b6\", \"x\": [2.880997010937838, 2.544962047643226, 2.176777040818596], \"y\": [-2.200271348624619, -1.4410342268163416, -1.040822640016608]}, {\"marker\": {\"color\": 3, \"line\": {\"width\": 1}, \"size\": 9, \"symbol\": 1}, \"mode\": \"markers\", \"name\": \"Eurpoe3\", \"text\": [], \"type\": \"scatter\", \"uid\": \"7bf4732c-8889-45a0-85c6-b2619f8fdbc7\", \"x\": [], \"y\": []}, {\"marker\": {\"color\": 4, \"line\": {\"width\": 1}, \"size\": 9, \"symbol\": 1}, \"mode\": \"markers\", \"name\": \"Eurpoe4\", \"text\": [\"Austria\", \"Belarus\", \"Belgium\", \"Croatia\", \"Czechia\", \"Denmark\", \"Estonia\", \"Finland\", \"France\", \"Germany\", \"Hungary\", \"Iceland\", \"Ireland\", \"Italy\", \"Latvia\", \"Lithuania\", \"Luxembourg\", \"Malta\", \"Montenegro\", \"Netherlands\", \"Norway\", \"Poland\", \"Portugal\", \"Russian Federation\", \"Slovenia\", \"Spain\", \"Sweden\", \"Switzerland\", \"Ukraine\", \"United Kingdom\"], \"type\": \"scatter\", \"uid\": \"962b0ebf-37d3-4e0c-8530-1a4624012147\", \"x\": [3.429784707164056, 3.727015690950966, 2.2968281516748634, 1.4817413475205174, 2.262140771038658, 3.504807928693892, 3.3325712363062685, 4.1188588596609526, 3.169053843356343, 3.1894889099375328, 1.5703559804597171, 3.8616723113499294, 2.723542787742862, 2.752216860789632, 2.9749939802249656, 4.383300887530981, 3.5050312995510264, 2.4393397624417057, 2.7777922649033893, 3.7082371049534113, 2.921361627271437, 3.757380361743879, 2.6144073362894886, 2.91679763259059, 2.088311050755875, 2.6161160429544137, 3.7290882295353867, 2.227111295079833, 2.143820995874165, 2.3740110641023042], \"y\": [0.555266877567473, 0.7675525563459799, 0.027533723081726705, 0.15223676768619857, 0.2645022954602303, 0.5450920113255161, -0.9162582864977895, 0.48935195296993406, 0.05682524479079521, 0.5136882458139987, 0.2563795405312364, 0.3008469607060452, -0.3980260445066677, 0.09022781952943736, -0.12228503600345081, 0.9662738512933384, 0.2750394384928398, 0.21921484249835788, -0.5100823108586711, 0.4302635451022588, 0.2096665522520034, 0.7187548723722688, 1.0008698726733043, -0.028542696295247194, -0.28913432815623147, 1.1852367702287456, 0.5409868782211086, -0.0665368600229202, -0.17039279949742941, -0.17629378330116102]}, {\"marker\": {\"color\": 5, \"line\": {\"width\": 1}, \"size\": 9, \"symbol\": 1}, \"mode\": \"markers\", \"name\": \"Eurpoe5\", \"text\": [], \"type\": \"scatter\", \"uid\": \"d4be596e-9a38-4a07-9258-797a8a319822\", \"x\": [], \"y\": []}, {\"marker\": {\"color\": 6, \"line\": {\"width\": 1}, \"size\": 9, \"symbol\": 1}, \"mode\": \"markers\", \"name\": \"Eurpoe6\", \"text\": [], \"type\": \"scatter\", \"uid\": \"e754fdcd-ecad-4671-a9b1-96236304104a\", \"x\": [], \"y\": []}, {\"marker\": {\"color\": 0, \"line\": {\"width\": 1}, \"size\": 9, \"symbol\": 2}, \"mode\": \"markers\", \"name\": \"Africa0\", \"text\": [\"Gambia\", \"Guinea\", \"Guinea-Bissau\", \"Liberia\", \"Madagascar\", \"Senegal\", \"Sierra Leone\"], \"type\": \"scatter\", \"uid\": \"02ae1a6e-3816-402c-9d83-ea3e29725e03\", \"x\": [-2.1345999920829977, -2.925708178187594, -2.935350814270425, -2.946725845549144, -2.9850134984784904, -2.4599302528379745, -3.0077393033131763], \"y\": [0.5280548616635982, 1.0630299322846903, 1.119499120125993, 1.2556138396324046, 1.131278298136573, 0.8145431306532148, 1.4237834966771823]}, {\"marker\": {\"color\": 1, \"line\": {\"width\": 1}, \"size\": 9, \"symbol\": 2}, \"mode\": \"markers\", \"name\": \"Africa1\", \"text\": [\"Egypt\", \"Gabon\", \"Mauritania\", \"Mauritius\", \"South Africa\"], \"type\": \"scatter\", \"uid\": \"616f912c-7ea5-4c84-bbcd-28b155296de8\", \"x\": [-0.3864755615347677, -0.8687569678466985, -0.6270796386142267, 0.24700016018602544, -0.3151545166866382], \"y\": [-0.8067319663341315, 0.8737614560944854, -1.4340629614884106, 0.2536283431917771, -0.6777028481548247]}, {\"marker\": {\"color\": 2, \"line\": {\"width\": 1}, \"size\": 9, \"symbol\": 2}, \"mode\": \"markers\", \"name\": \"Africa2\", \"text\": [\"Algeria\", \"Morocco\", \"Sudan\", \"Tunisia\"], \"type\": \"scatter\", \"uid\": \"03dff297-406b-426b-90ee-7871a33bcee4\", \"x\": [0.8217038685302547, 1.1923234152327322, 3.682809045791822, 0.9602258176780426], \"y\": [-2.6994220708972794, -3.142560951270779, -4.1644246270513445, -1.7993847347041594]}, {\"marker\": {\"color\": 3, \"line\": {\"width\": 1}, \"size\": 9, \"symbol\": 2}, \"mode\": \"markers\", \"name\": \"Africa3\", \"text\": [\"Angola\", \"Benin\", \"Botswana\", \"Burkina Faso\", \"Cabo Verde\", \"Cameroon\", \"Central African Republic\", \"Chad\", \"Congo (note no data in Food suppley tables for DRC)\", \"C\\u00c3\\u0192\\u00c2\\u00b4te d'Ivoire\", \"Djibouti\", \"Ethiopia\", \"Ghana\", \"Kenya\", \"Lesotho\", \"Malawi\", \"Mali\", \"Mozambique\", \"Namibia\", \"Niger\", \"Nigeria\", \"Rwanda\", \"Sao Tome and Principe\", \"Eswatini\", \"Togo\", \"Uganda\", \"United Republic of Tanzania\", \"Zambia\", \"Zimbabwe\"], \"type\": \"scatter\", \"uid\": \"1cfe7b39-68c5-4068-b82f-de960649d24a\", \"x\": [-1.9975329968592799, -2.761455317023798, -1.7792654705076574, -3.0531927376026853, -1.4645592877306972, -3.2204231103451986, -2.401979374972313, -2.9355894252738213, -2.01846276687181, -2.7527383249003803, -1.420414712863716, -3.1011968415896316, -2.6905613884891864, -2.5091068920837585, -2.830942890597179, -3.531306127860811, -2.4060478163161014, -3.2569623202874736, -1.9842246079012047, -3.4730107364043326, -2.866285247913259, -3.745953670250634, -1.8088645670814154, -2.0710813723115873, -3.264362313297805, -3.1938600526728056, -3.2341507146364274, -2.992783479223148, -2.653619957088088], \"y\": [-0.5483919739663026, -0.06139678513378594, -0.9705138064325136, -0.7574603720868167, 0.07609062749291318, -0.8056383072822126, -1.0900950636624802, -0.51183894288515, 0.17949074165162926, 0.12687421076479874, -1.3493563849252779, -1.4306673502437717, -0.39658288880736475, -1.5779145532744323, -2.073344680607281, -1.7470280254152923, -0.7206866662188854, -0.7985039440496015, -0.8965211882048391, -1.4977831189512485, -0.4495771414678121, -1.7559551511325202, 0.223523667334542, -0.9805951770948886, -0.7307053349465572, -1.059814464582445, -1.0563716516768524, -0.832173704620567, -0.7923323492134369]}, {\"marker\": {\"color\": 4, \"line\": {\"width\": 1}, \"size\": 9, \"symbol\": 2}, \"mode\": \"markers\", \"name\": \"Africa4\", \"text\": [], \"type\": \"scatter\", \"uid\": \"c61a6a34-a129-49b7-a7be-6ea35d948032\", \"x\": [], \"y\": []}, {\"marker\": {\"color\": 5, \"line\": {\"width\": 1}, \"size\": 9, \"symbol\": 2}, \"mode\": \"markers\", \"name\": \"Africa5\", \"text\": [], \"type\": \"scatter\", \"uid\": \"54aac511-8dab-49bf-b582-c554dbdf8835\", \"x\": [], \"y\": []}, {\"marker\": {\"color\": 6, \"line\": {\"width\": 1}, \"size\": 9, \"symbol\": 2}, \"mode\": \"markers\", \"name\": \"Africa6\", \"text\": [], \"type\": \"scatter\", \"uid\": \"b7c962eb-da80-4da1-ab95-fe5d91f483e1\", \"x\": [], \"y\": []}, {\"marker\": {\"color\": 0, \"line\": {\"width\": 1}, \"size\": 9, \"symbol\": 3}, \"mode\": \"markers\", \"name\": \"North America0\", \"text\": [\"Dominican Republic\"], \"type\": \"scatter\", \"uid\": \"106b4f44-3c36-4fbe-83f0-e73d10ddcecd\", \"x\": [-1.3861417486861718], \"y\": [0.6811133733296519]}, {\"marker\": {\"color\": 1, \"line\": {\"width\": 1}, \"size\": 9, \"symbol\": 3}, \"mode\": \"markers\", \"name\": \"North America1\", \"text\": [\"Barbados\", \"Belize\", \"Costa Rica\", \"Cuba\", \"Dominica\", \"Grenada\", \"Jamaica\", \"Mexico\", \"Panama\", \"Saint Kitts and Nevis\", \"Saint Lucia\", \"Saint Vincent and the Grenadines\", \"Trinidad and Tobago\"], \"type\": \"scatter\", \"uid\": \"c0666822-7559-425b-bd21-7492a58ef7d9\", \"x\": [0.7157320925378302, -1.1722156999569542, -0.1812186453425076, -1.2234992597932053, 0.10986530004072252, 0.03157813492704396, -0.30624698411249546, -0.12136034742416028, -0.38060831756682983, -0.13300246861019246, 0.6469462304545903, 0.49191793329995276, 0.0074670162306179014], \"y\": [0.3289711560555292, 0.20959618861064058, 0.3031543407273656, 0.11734647472364686, 0.002162899582244687, 0.8800815226997114, 0.44669426813884383, -0.5812149842884032, 0.9395709343127172, 1.0853968195691723, 0.6691135439509076, 0.8622746552420673, 0.24464500852686083]}, {\"marker\": {\"color\": 2, \"line\": {\"width\": 1}, \"size\": 9, \"symbol\": 3}, \"mode\": \"markers\", \"name\": \"North America2\", \"text\": [], \"type\": \"scatter\", \"uid\": \"f04a1d17-8ee8-4ab2-ac16-f40939b13338\", \"x\": [], \"y\": []}, {\"marker\": {\"color\": 3, \"line\": {\"width\": 1}, \"size\": 9, \"symbol\": 3}, \"mode\": \"markers\", \"name\": \"North America3\", \"text\": [\"El Salvador\", \"Guatemala\", \"Haiti\", \"Honduras\", \"Nicaragua\"], \"type\": \"scatter\", \"uid\": \"fe749d90-275b-412f-b6e7-0a9cf02ba531\", \"x\": [-1.5702928403912042, -1.7679532474630102, -3.185198542897812, -1.7324156978701921, -2.578612963670199], \"y\": [-1.1226454209654055, -0.9494186112117974, -0.2936333147623672, -0.6807962224467223, -0.5548063760005235]}, {\"marker\": {\"color\": 4, \"line\": {\"width\": 1}, \"size\": 9, \"symbol\": 3}, \"mode\": \"markers\", \"name\": \"North America4\", \"text\": [\"Bermuda\", \"Canada\", \"United States of America\"], \"type\": \"scatter\", \"uid\": \"ec485a32-1ed0-477d-a76e-cde3b3b7fd85\", \"x\": [2.284301805268657, 1.9253313062795252, 3.2536410635146082], \"y\": [0.7771684171803444, -0.10020090276356512, 0.25151296869878453]}, {\"marker\": {\"color\": 5, \"line\": {\"width\": 1}, \"size\": 9, \"symbol\": 3}, \"mode\": \"markers\", \"name\": \"North America5\", \"text\": [\"Antigua and Barbuda\", \"Bahamas\"], \"type\": \"scatter\", \"uid\": \"140214d3-a35b-449c-851f-392144da0b27\", \"x\": [0.8999083425697635, 1.2550018435298482], \"y\": [1.2308365143171462, 1.2216089165593678]}, {\"marker\": {\"color\": 6, \"line\": {\"width\": 1}, \"size\": 9, \"symbol\": 3}, \"mode\": \"markers\", \"name\": \"North America6\", \"text\": [], \"type\": \"scatter\", \"uid\": \"fd865454-2882-451d-8220-7857d1367705\", \"x\": [], \"y\": []}, {\"marker\": {\"color\": 0, \"line\": {\"width\": 1}, \"size\": 9, \"symbol\": 4}, \"mode\": \"markers\", \"name\": \"South America0\", \"text\": [\"Guyana\", \"Suriname\"], \"type\": \"scatter\", \"uid\": \"9562e375-8160-47be-a0e1-fe35e35b786d\", \"x\": [-0.8992922046124754, -1.0422492676208412], \"y\": [1.1989859355128962, 1.2397310560020824]}, {\"marker\": {\"color\": 1, \"line\": {\"width\": 1}, \"size\": 9, \"symbol\": 4}, \"mode\": \"markers\", \"name\": \"South America1\", \"text\": [\"Bolivia (Plurinational State of)\", \"Brazil\", \"Chile\", \"Colombia\", \"Ecuador\", \"Paraguay\", \"Peru\", \"Venezuela (Bolivarian Republic of)\"], \"type\": \"scatter\", \"uid\": \"abd66a81-bf15-4c62-b33f-eba5ebed7582\", \"x\": [-0.6850962521630208, 0.8042786864509208, 1.250954122339907, -0.5625445150612255, -0.311467675656889, -0.12176466123281933, -1.1759544256426786, -0.11242280909133386], \"y\": [-0.34757712025202797, -0.2108007341465027, -0.0419202435200735, -0.03654495347007563, 0.62261482357903, -0.23544380633626774, -0.00338404990565594, 0.03278265803912569]}, {\"marker\": {\"color\": 2, \"line\": {\"width\": 1}, \"size\": 9, \"symbol\": 4}, \"mode\": \"markers\", \"name\": \"South America2\", \"text\": [\"Uruguay\"], \"type\": \"scatter\", \"uid\": \"eec24932-3de5-4ba6-8a64-73d602a35757\", \"x\": [1.8221168640922374], \"y\": [-1.0347514422303852]}, {\"marker\": {\"color\": 3, \"line\": {\"width\": 1}, \"size\": 9, \"symbol\": 4}, \"mode\": \"markers\", \"name\": \"South America3\", \"text\": [], \"type\": \"scatter\", \"uid\": \"1a8d3b98-5863-40f8-84ca-b3450ac6a5e5\", \"x\": [], \"y\": []}, {\"marker\": {\"color\": 4, \"line\": {\"width\": 1}, \"size\": 9, \"symbol\": 4}, \"mode\": \"markers\", \"name\": \"South America4\", \"text\": [\"Argentina\"], \"type\": \"scatter\", \"uid\": \"e297d51b-0282-467e-9878-700ed9d84a48\", \"x\": [3.2983498762122334], \"y\": [-0.8126898482776399]}, {\"marker\": {\"color\": 5, \"line\": {\"width\": 1}, \"size\": 9, \"symbol\": 4}, \"mode\": \"markers\", \"name\": \"South America5\", \"text\": [], \"type\": \"scatter\", \"uid\": \"6c15c07a-3ded-4806-a89f-047fbe42064c\", \"x\": [], \"y\": []}, {\"marker\": {\"color\": 6, \"line\": {\"width\": 1}, \"size\": 9, \"symbol\": 4}, \"mode\": \"markers\", \"name\": \"South America6\", \"text\": [], \"type\": \"scatter\", \"uid\": \"351aa3b9-7a0f-4a9f-b393-b94c3ced1299\", \"x\": [], \"y\": []}, {\"marker\": {\"color\": 0, \"line\": {\"width\": 1}, \"size\": 9, \"symbol\": 5}, \"mode\": \"markers\", \"name\": \"Australia0\", \"text\": [\"Kiribati\"], \"type\": \"scatter\", \"uid\": \"b53c96d3-9f6a-4d18-9ea7-42dcf987f201\", \"x\": [-0.8572704888558011], \"y\": [2.368484099430268]}, {\"marker\": {\"color\": 1, \"line\": {\"width\": 1}, \"size\": 9, \"symbol\": 5}, \"mode\": \"markers\", \"name\": \"Australia1\", \"text\": [\"Fiji\", \"Vanuatu\"], \"type\": \"scatter\", \"uid\": \"a139d058-8dc4-4c1f-909b-9808b2d01391\", \"x\": [-0.5450840832564462, -1.0442256241145356], \"y\": [-0.0706567815501952, 0.7786741081394595]}, {\"marker\": {\"color\": 2, \"line\": {\"width\": 1}, \"size\": 9, \"symbol\": 5}, \"mode\": \"markers\", \"name\": \"Australia2\", \"text\": [\"New Zealand\"], \"type\": \"scatter\", \"uid\": \"a2a8a53b-4ef0-4645-999f-b2988bbc4db7\", \"x\": [1.711554120510259], \"y\": [-0.8674287533440144]}, {\"marker\": {\"color\": 3, \"line\": {\"width\": 1}, \"size\": 9, \"symbol\": 5}, \"mode\": \"markers\", \"name\": \"Australia3\", \"text\": [\"Solomon Islands\"], \"type\": \"scatter\", \"uid\": \"6f07b899-40ca-42db-9c36-04de58673430\", \"x\": [-2.250656687927032], \"y\": [0.41966269122196426]}, {\"marker\": {\"color\": 4, \"line\": {\"width\": 1}, \"size\": 9, \"symbol\": 5}, \"mode\": \"markers\", \"name\": \"Australia4\", \"text\": [\"Australia\"], \"type\": \"scatter\", \"uid\": \"e2724b70-c3f4-4119-b525-3495c1bc7ce8\", \"x\": [2.8002643010035624], \"y\": [-0.2915935120730121]}, {\"marker\": {\"color\": 5, \"line\": {\"width\": 1}, \"size\": 9, \"symbol\": 5}, \"mode\": \"markers\", \"name\": \"Australia5\", \"text\": [\"French Polynesia\", \"New Caledonia\", \"Samoa\"], \"type\": \"scatter\", \"uid\": \"8e5fd488-338d-40ef-aec2-1071b7a940e6\", \"x\": [1.7781222551987987, 1.3047356152072567, 0.7612759729551208], \"y\": [1.1729280594109088, 0.7576528154740066, 1.1337714020958107]}, {\"marker\": {\"color\": 6, \"line\": {\"width\": 1}, \"size\": 9, \"symbol\": 5}, \"mode\": \"markers\", \"name\": \"Australia6\", \"text\": [], \"type\": \"scatter\", \"uid\": \"b27ea4e8-6127-4584-8ba0-d22038ec60ae\", \"x\": [], \"y\": []}, {\"marker\": {\"color\": 0, \"line\": {\"width\": 1}, \"size\": 9, \"symbol\": 6}, \"mode\": \"markers\", \"name\": \"Europe0\", \"text\": [], \"type\": \"scatter\", \"uid\": \"4ded3162-94e8-48ff-8b8e-10f53669ba5e\", \"x\": [], \"y\": []}, {\"marker\": {\"color\": 1, \"line\": {\"width\": 1}, \"size\": 9, \"symbol\": 6}, \"mode\": \"markers\", \"name\": \"Europe1\", \"text\": [\"North Macedonia\"], \"type\": \"scatter\", \"uid\": \"51a45595-7c81-4b71-8117-2617bd4a3c7d\", \"x\": [-0.024522972625530534], \"y\": [-0.75390354612768]}, {\"marker\": {\"color\": 2, \"line\": {\"width\": 1}, \"size\": 9, \"symbol\": 6}, \"mode\": \"markers\", \"name\": \"Europe2\", \"text\": [], \"type\": \"scatter\", \"uid\": \"e8ec419f-d433-467a-a8dd-bfad006a573f\", \"x\": [], \"y\": []}, {\"marker\": {\"color\": 3, \"line\": {\"width\": 1}, \"size\": 9, \"symbol\": 6}, \"mode\": \"markers\", \"name\": \"Europe3\", \"text\": [], \"type\": \"scatter\", \"uid\": \"57fb224b-4bf7-4c6e-97bc-902a0732d906\", \"x\": [], \"y\": []}, {\"marker\": {\"color\": 4, \"line\": {\"width\": 1}, \"size\": 9, \"symbol\": 6}, \"mode\": \"markers\", \"name\": \"Europe4\", \"text\": [], \"type\": \"scatter\", \"uid\": \"0c24c97c-295b-4599-a448-943ae4e47f12\", \"x\": [], \"y\": []}, {\"marker\": {\"color\": 5, \"line\": {\"width\": 1}, \"size\": 9, \"symbol\": 6}, \"mode\": \"markers\", \"name\": \"Europe5\", \"text\": [], \"type\": \"scatter\", \"uid\": \"7ee40931-833e-4712-b704-618f46c7104c\", \"x\": [], \"y\": []}, {\"marker\": {\"color\": 6, \"line\": {\"width\": 1}, \"size\": 9, \"symbol\": 6}, \"mode\": \"markers\", \"name\": \"Europe6\", \"text\": [], \"type\": \"scatter\", \"uid\": \"f6f4217e-8804-46d8-b2db-67fbaff86049\", \"x\": [], \"y\": []}, {\"marker\": {\"color\": \"rgba(220, 220, 220, .4)\", \"line\": {\"width\": 1}, \"size\": 20}, \"mode\": \"markers\", \"name\": \"Center\", \"type\": \"scatter\", \"uid\": \"18052e2d-ece6-4046-a7c3-bac6dac4cc03\", \"x\": [-2.1918416549987274, -0.09392916151838271, 1.696873140678047, -2.533943261377131, 2.887206167005739, 1.1629891081446448], \"y\": [1.765309926591419, -0.13739174770444218, -2.142817191398303, -0.7183149130247382, 0.16764744861672767, 2.1823055859884293]}],\n",
       "                        {\"hovermode\": \"closest\", \"showlegend\": true, \"title\": {\"text\": \"2 component PCA Kmeans Clustering Continent\"}, \"xaxis\": {\"gridwidth\": 2, \"ticklen\": 5, \"title\": {\"text\": \"principal component 1\"}, \"zeroline\": false}, \"yaxis\": {\"gridwidth\": 2, \"ticklen\": 5, \"title\": {\"text\": \"principal component 2\"}}},\n",
       "                        {\"showLink\": false, \"linkText\": \"Export to plot.ly\", \"plotlyServerURL\": \"https://plot.ly\", \"responsive\": true}\n",
       "                    ).then(function(){\n",
       "                            \n",
       "var gd = document.getElementById('52763d11-2709-43f2-9f03-f0c417bd4996');\n",
       "var x = new MutationObserver(function (mutations, observer) {{\n",
       "        var display = window.getComputedStyle(gd).display;\n",
       "        if (!display || display === 'none') {{\n",
       "            console.log([gd, 'removed!']);\n",
       "            Plotly.purge(gd);\n",
       "            observer.disconnect();\n",
       "        }}\n",
       "}});\n",
       "\n",
       "// Listen for the removal of the full notebook cells\n",
       "var notebookContainer = gd.closest('#notebook-container');\n",
       "if (notebookContainer) {{\n",
       "    x.observe(notebookContainer, {childList: true});\n",
       "}}\n",
       "\n",
       "// Listen for the clearing of the current output cell\n",
       "var outputEl = gd.closest('.output');\n",
       "if (outputEl) {{\n",
       "    x.observe(outputEl, {childList: true});\n",
       "}}\n",
       "\n",
       "                        })\n",
       "                };\n",
       "                });\n",
       "            </script>\n",
       "        </div>"
      ]
     },
     "metadata": {},
     "output_type": "display_data"
    },
    {
     "name": "stderr",
     "output_type": "stream",
     "text": [
      "C:\\Users\\XuP-intern\\AppData\\Local\\Continuum\\anaconda3\\lib\\site-packages\\IPython\\core\\display.py:689: UserWarning:\n",
      "\n",
      "Consider using IPython.display.IFrame instead\n",
      "\n"
     ]
    }
   ],
   "source": [
    "# Calling plotly function \n",
    "plot_plotly(principalDf,\"Continent\",continent_centers,\"Protein Foods\")"
   ]
  },
  {
   "cell_type": "markdown",
   "metadata": {},
   "source": [
    "#### Region Level"
   ]
  },
  {
   "cell_type": "markdown",
   "metadata": {},
   "source": [
    "###### Add Region and Development Level"
   ]
  },
  {
   "cell_type": "code",
   "execution_count": 19,
   "metadata": {},
   "outputs": [
    {
     "data": {
      "text/html": [
       "<div>\n",
       "<style scoped>\n",
       "    .dataframe tbody tr th:only-of-type {\n",
       "        vertical-align: middle;\n",
       "    }\n",
       "\n",
       "    .dataframe tbody tr th {\n",
       "        vertical-align: top;\n",
       "    }\n",
       "\n",
       "    .dataframe thead th {\n",
       "        text-align: right;\n",
       "    }\n",
       "</style>\n",
       "<table border=\"1\" class=\"dataframe\">\n",
       "  <thead>\n",
       "    <tr style=\"text-align: right;\">\n",
       "      <th></th>\n",
       "      <th>x</th>\n",
       "      <th>x.1</th>\n",
       "      <th>Economy</th>\n",
       "      <th>Code</th>\n",
       "      <th>X</th>\n",
       "      <th>Region</th>\n",
       "      <th>Income group</th>\n",
       "      <th>Lending category</th>\n",
       "      <th>Other</th>\n",
       "    </tr>\n",
       "  </thead>\n",
       "  <tbody>\n",
       "    <tr>\n",
       "      <th>0</th>\n",
       "      <td>x</td>\n",
       "      <td>x</td>\n",
       "      <td>x</td>\n",
       "      <td>x</td>\n",
       "      <td>x</td>\n",
       "      <td>x</td>\n",
       "      <td>x</td>\n",
       "      <td>x</td>\n",
       "      <td>x</td>\n",
       "    </tr>\n",
       "    <tr>\n",
       "      <th>1</th>\n",
       "      <td>1</td>\n",
       "      <td>NaN</td>\n",
       "      <td>Afghanistan</td>\n",
       "      <td>AFG</td>\n",
       "      <td>NaN</td>\n",
       "      <td>South Asia</td>\n",
       "      <td>Low income</td>\n",
       "      <td>IDA</td>\n",
       "      <td>HIPC</td>\n",
       "    </tr>\n",
       "    <tr>\n",
       "      <th>2</th>\n",
       "      <td>2</td>\n",
       "      <td>NaN</td>\n",
       "      <td>Albania</td>\n",
       "      <td>ALB</td>\n",
       "      <td>NaN</td>\n",
       "      <td>Europe &amp; Central Asia</td>\n",
       "      <td>Upper middle income</td>\n",
       "      <td>IBRD</td>\n",
       "      <td>NaN</td>\n",
       "    </tr>\n",
       "    <tr>\n",
       "      <th>3</th>\n",
       "      <td>3</td>\n",
       "      <td>NaN</td>\n",
       "      <td>Algeria</td>\n",
       "      <td>DZA</td>\n",
       "      <td>NaN</td>\n",
       "      <td>Middle East &amp; North Africa</td>\n",
       "      <td>Upper middle income</td>\n",
       "      <td>IBRD</td>\n",
       "      <td>NaN</td>\n",
       "    </tr>\n",
       "    <tr>\n",
       "      <th>4</th>\n",
       "      <td>4</td>\n",
       "      <td>NaN</td>\n",
       "      <td>American Samoa</td>\n",
       "      <td>ASM</td>\n",
       "      <td>NaN</td>\n",
       "      <td>East Asia &amp; Pacific</td>\n",
       "      <td>Upper middle income</td>\n",
       "      <td>..</td>\n",
       "      <td>NaN</td>\n",
       "    </tr>\n",
       "  </tbody>\n",
       "</table>\n",
       "</div>"
      ],
      "text/plain": [
       "   x  x.1         Economy Code    X                      Region  \\\n",
       "0  x    x               x    x    x                           x   \n",
       "1  1  NaN     Afghanistan  AFG  NaN                  South Asia   \n",
       "2  2  NaN         Albania  ALB  NaN       Europe & Central Asia   \n",
       "3  3  NaN         Algeria  DZA  NaN  Middle East & North Africa   \n",
       "4  4  NaN  American Samoa  ASM  NaN         East Asia & Pacific   \n",
       "\n",
       "          Income group Lending category Other  \n",
       "0                    x                x     x  \n",
       "1           Low income              IDA  HIPC  \n",
       "2  Upper middle income             IBRD   NaN  \n",
       "3  Upper middle income             IBRD   NaN  \n",
       "4  Upper middle income               ..   NaN  "
      ]
     },
     "execution_count": 19,
     "metadata": {},
     "output_type": "execute_result"
    }
   ],
   "source": [
    "# Read in UN's country classification dataset. \n",
    "class_df = pd.read_excel(\"CLASS.xls\",skiprows = 4)\n",
    "class_df.head()"
   ]
  },
  {
   "cell_type": "code",
   "execution_count": 20,
   "metadata": {},
   "outputs": [
    {
     "name": "stderr",
     "output_type": "stream",
     "text": [
      "C:\\Users\\XuP-intern\\AppData\\Local\\Continuum\\anaconda3\\lib\\site-packages\\ipykernel_launcher.py:2: SettingWithCopyWarning:\n",
      "\n",
      "\n",
      "A value is trying to be set on a copy of a slice from a DataFrame.\n",
      "Try using .loc[row_indexer,col_indexer] = value instead\n",
      "\n",
      "See the caveats in the documentation: http://pandas.pydata.org/pandas-docs/stable/indexing.html#indexing-view-versus-copy\n",
      "\n",
      "C:\\Users\\XuP-intern\\AppData\\Local\\Continuum\\anaconda3\\lib\\site-packages\\pandas\\core\\generic.py:5890: SettingWithCopyWarning:\n",
      "\n",
      "\n",
      "A value is trying to be set on a copy of a slice from a DataFrame\n",
      "\n",
      "See the caveats in the documentation: http://pandas.pydata.org/pandas-docs/stable/indexing.html#indexing-view-versus-copy\n",
      "\n"
     ]
    },
    {
     "data": {
      "text/html": [
       "<div>\n",
       "<style scoped>\n",
       "    .dataframe tbody tr th:only-of-type {\n",
       "        vertical-align: middle;\n",
       "    }\n",
       "\n",
       "    .dataframe tbody tr th {\n",
       "        vertical-align: top;\n",
       "    }\n",
       "\n",
       "    .dataframe thead th {\n",
       "        text-align: right;\n",
       "    }\n",
       "</style>\n",
       "<table border=\"1\" class=\"dataframe\">\n",
       "  <thead>\n",
       "    <tr style=\"text-align: right;\">\n",
       "      <th></th>\n",
       "      <th>Country</th>\n",
       "      <th>Check is addition of all commodities to right except cereals</th>\n",
       "      <th>Milk</th>\n",
       "      <th>Bovine meat</th>\n",
       "      <th>Sheep and goat meat</th>\n",
       "      <th>Pigmeat</th>\n",
       "      <th>Poultry</th>\n",
       "      <th>Eggs</th>\n",
       "      <th>Fish</th>\n",
       "      <th>Maize</th>\n",
       "      <th>Rice</th>\n",
       "      <th>Wheat</th>\n",
       "      <th>Rye</th>\n",
       "      <th>Barley</th>\n",
       "      <th>Pulses</th>\n",
       "      <th>Starchy roots</th>\n",
       "      <th>Code</th>\n",
       "    </tr>\n",
       "  </thead>\n",
       "  <tbody>\n",
       "    <tr>\n",
       "      <th>0</th>\n",
       "      <td>Afghanistan</td>\n",
       "      <td>54.27</td>\n",
       "      <td>6.02</td>\n",
       "      <td>2.01</td>\n",
       "      <td>2.02</td>\n",
       "      <td>0.00</td>\n",
       "      <td>0.79</td>\n",
       "      <td>0.32</td>\n",
       "      <td>0.02</td>\n",
       "      <td>0.57</td>\n",
       "      <td>2.89</td>\n",
       "      <td>37.12</td>\n",
       "      <td>0.00</td>\n",
       "      <td>0.72</td>\n",
       "      <td>1.56</td>\n",
       "      <td>0.22</td>\n",
       "      <td>AFG</td>\n",
       "    </tr>\n",
       "    <tr>\n",
       "      <th>1</th>\n",
       "      <td>Albania</td>\n",
       "      <td>96.97</td>\n",
       "      <td>29.67</td>\n",
       "      <td>9.18</td>\n",
       "      <td>5.35</td>\n",
       "      <td>2.76</td>\n",
       "      <td>4.91</td>\n",
       "      <td>3.24</td>\n",
       "      <td>1.50</td>\n",
       "      <td>0.36</td>\n",
       "      <td>1.22</td>\n",
       "      <td>33.71</td>\n",
       "      <td>0.13</td>\n",
       "      <td>0.03</td>\n",
       "      <td>3.06</td>\n",
       "      <td>1.86</td>\n",
       "      <td>ALB</td>\n",
       "    </tr>\n",
       "    <tr>\n",
       "      <th>2</th>\n",
       "      <td>Algeria</td>\n",
       "      <td>80.74</td>\n",
       "      <td>13.78</td>\n",
       "      <td>2.18</td>\n",
       "      <td>2.70</td>\n",
       "      <td>0.00</td>\n",
       "      <td>2.30</td>\n",
       "      <td>2.09</td>\n",
       "      <td>1.23</td>\n",
       "      <td>3.09</td>\n",
       "      <td>0.50</td>\n",
       "      <td>43.03</td>\n",
       "      <td>0.00</td>\n",
       "      <td>2.61</td>\n",
       "      <td>4.55</td>\n",
       "      <td>2.67</td>\n",
       "      <td>DZA</td>\n",
       "    </tr>\n",
       "    <tr>\n",
       "      <th>3</th>\n",
       "      <td>Angola</td>\n",
       "      <td>48.44</td>\n",
       "      <td>1.02</td>\n",
       "      <td>3.27</td>\n",
       "      <td>0.44</td>\n",
       "      <td>2.34</td>\n",
       "      <td>5.55</td>\n",
       "      <td>0.51</td>\n",
       "      <td>4.14</td>\n",
       "      <td>8.80</td>\n",
       "      <td>1.55</td>\n",
       "      <td>8.46</td>\n",
       "      <td>0.00</td>\n",
       "      <td>0.00</td>\n",
       "      <td>5.23</td>\n",
       "      <td>7.13</td>\n",
       "      <td>AGO</td>\n",
       "    </tr>\n",
       "    <tr>\n",
       "      <th>4</th>\n",
       "      <td>Antigua and Barbuda</td>\n",
       "      <td>72.94</td>\n",
       "      <td>12.22</td>\n",
       "      <td>5.39</td>\n",
       "      <td>0.60</td>\n",
       "      <td>3.26</td>\n",
       "      <td>18.59</td>\n",
       "      <td>1.30</td>\n",
       "      <td>13.11</td>\n",
       "      <td>0.39</td>\n",
       "      <td>2.15</td>\n",
       "      <td>13.39</td>\n",
       "      <td>0.00</td>\n",
       "      <td>0.00</td>\n",
       "      <td>1.66</td>\n",
       "      <td>0.86</td>\n",
       "      <td>ATG</td>\n",
       "    </tr>\n",
       "  </tbody>\n",
       "</table>\n",
       "</div>"
      ],
      "text/plain": [
       "               Country  \\\n",
       "0          Afghanistan   \n",
       "1              Albania   \n",
       "2              Algeria   \n",
       "3               Angola   \n",
       "4  Antigua and Barbuda   \n",
       "\n",
       "   Check is addition of all commodities to right except cereals   Milk  \\\n",
       "0                                              54.27              6.02   \n",
       "1                                              96.97             29.67   \n",
       "2                                              80.74             13.78   \n",
       "3                                              48.44              1.02   \n",
       "4                                              72.94             12.22   \n",
       "\n",
       "   Bovine meat  Sheep and goat meat  Pigmeat  Poultry  Eggs   Fish  Maize  \\\n",
       "0         2.01                 2.02     0.00     0.79  0.32   0.02   0.57   \n",
       "1         9.18                 5.35     2.76     4.91  3.24   1.50   0.36   \n",
       "2         2.18                 2.70     0.00     2.30  2.09   1.23   3.09   \n",
       "3         3.27                 0.44     2.34     5.55  0.51   4.14   8.80   \n",
       "4         5.39                 0.60     3.26    18.59  1.30  13.11   0.39   \n",
       "\n",
       "   Rice  Wheat   Rye  Barley  Pulses  Starchy roots Code  \n",
       "0  2.89  37.12  0.00    0.72    1.56           0.22  AFG  \n",
       "1  1.22  33.71  0.13    0.03    3.06           1.86  ALB  \n",
       "2  0.50  43.03  0.00    2.61    4.55           2.67  DZA  \n",
       "3  1.55   8.46  0.00    0.00    5.23           7.13  AGO  \n",
       "4  2.15  13.39  0.00    0.00    1.66           0.86  ATG  "
      ]
     },
     "execution_count": 20,
     "metadata": {},
     "output_type": "execute_result"
    }
   ],
   "source": [
    "# Convert to Country Code Alpha 3 for easier merging \n",
    "protein_group_df[\"Code\"] = country_codes\n",
    "protein_group_df[\"Code\"].replace(manual_country_code_dict, inplace = True)\n",
    "protein_group_df.head()"
   ]
  },
  {
   "cell_type": "code",
   "execution_count": 21,
   "metadata": {},
   "outputs": [
    {
     "data": {
      "text/html": [
       "<div>\n",
       "<style scoped>\n",
       "    .dataframe tbody tr th:only-of-type {\n",
       "        vertical-align: middle;\n",
       "    }\n",
       "\n",
       "    .dataframe tbody tr th {\n",
       "        vertical-align: top;\n",
       "    }\n",
       "\n",
       "    .dataframe thead th {\n",
       "        text-align: right;\n",
       "    }\n",
       "</style>\n",
       "<table border=\"1\" class=\"dataframe\">\n",
       "  <thead>\n",
       "    <tr style=\"text-align: right;\">\n",
       "      <th></th>\n",
       "      <th>Country</th>\n",
       "      <th>Check is addition of all commodities to right except cereals</th>\n",
       "      <th>Milk</th>\n",
       "      <th>Bovine meat</th>\n",
       "      <th>Sheep and goat meat</th>\n",
       "      <th>Pigmeat</th>\n",
       "      <th>Poultry</th>\n",
       "      <th>Eggs</th>\n",
       "      <th>Fish</th>\n",
       "      <th>Maize</th>\n",
       "      <th>...</th>\n",
       "      <th>Starchy roots</th>\n",
       "      <th>Code</th>\n",
       "      <th>x</th>\n",
       "      <th>x.1</th>\n",
       "      <th>Economy</th>\n",
       "      <th>X</th>\n",
       "      <th>Region</th>\n",
       "      <th>Income group</th>\n",
       "      <th>Lending category</th>\n",
       "      <th>Other</th>\n",
       "    </tr>\n",
       "  </thead>\n",
       "  <tbody>\n",
       "    <tr>\n",
       "      <th>0</th>\n",
       "      <td>Afghanistan</td>\n",
       "      <td>54.27</td>\n",
       "      <td>6.02</td>\n",
       "      <td>2.01</td>\n",
       "      <td>2.02</td>\n",
       "      <td>0.00</td>\n",
       "      <td>0.79</td>\n",
       "      <td>0.32</td>\n",
       "      <td>0.02</td>\n",
       "      <td>0.57</td>\n",
       "      <td>...</td>\n",
       "      <td>0.22</td>\n",
       "      <td>AFG</td>\n",
       "      <td>1</td>\n",
       "      <td>NaN</td>\n",
       "      <td>Afghanistan</td>\n",
       "      <td>NaN</td>\n",
       "      <td>South Asia</td>\n",
       "      <td>Low income</td>\n",
       "      <td>IDA</td>\n",
       "      <td>HIPC</td>\n",
       "    </tr>\n",
       "    <tr>\n",
       "      <th>1</th>\n",
       "      <td>Albania</td>\n",
       "      <td>96.97</td>\n",
       "      <td>29.67</td>\n",
       "      <td>9.18</td>\n",
       "      <td>5.35</td>\n",
       "      <td>2.76</td>\n",
       "      <td>4.91</td>\n",
       "      <td>3.24</td>\n",
       "      <td>1.50</td>\n",
       "      <td>0.36</td>\n",
       "      <td>...</td>\n",
       "      <td>1.86</td>\n",
       "      <td>ALB</td>\n",
       "      <td>2</td>\n",
       "      <td>NaN</td>\n",
       "      <td>Albania</td>\n",
       "      <td>NaN</td>\n",
       "      <td>Europe &amp; Central Asia</td>\n",
       "      <td>Upper middle income</td>\n",
       "      <td>IBRD</td>\n",
       "      <td>NaN</td>\n",
       "    </tr>\n",
       "    <tr>\n",
       "      <th>2</th>\n",
       "      <td>Algeria</td>\n",
       "      <td>80.74</td>\n",
       "      <td>13.78</td>\n",
       "      <td>2.18</td>\n",
       "      <td>2.70</td>\n",
       "      <td>0.00</td>\n",
       "      <td>2.30</td>\n",
       "      <td>2.09</td>\n",
       "      <td>1.23</td>\n",
       "      <td>3.09</td>\n",
       "      <td>...</td>\n",
       "      <td>2.67</td>\n",
       "      <td>DZA</td>\n",
       "      <td>3</td>\n",
       "      <td>NaN</td>\n",
       "      <td>Algeria</td>\n",
       "      <td>NaN</td>\n",
       "      <td>Middle East &amp; North Africa</td>\n",
       "      <td>Upper middle income</td>\n",
       "      <td>IBRD</td>\n",
       "      <td>NaN</td>\n",
       "    </tr>\n",
       "    <tr>\n",
       "      <th>3</th>\n",
       "      <td>Angola</td>\n",
       "      <td>48.44</td>\n",
       "      <td>1.02</td>\n",
       "      <td>3.27</td>\n",
       "      <td>0.44</td>\n",
       "      <td>2.34</td>\n",
       "      <td>5.55</td>\n",
       "      <td>0.51</td>\n",
       "      <td>4.14</td>\n",
       "      <td>8.80</td>\n",
       "      <td>...</td>\n",
       "      <td>7.13</td>\n",
       "      <td>AGO</td>\n",
       "      <td>6</td>\n",
       "      <td>NaN</td>\n",
       "      <td>Angola</td>\n",
       "      <td>NaN</td>\n",
       "      <td>Sub-Saharan Africa</td>\n",
       "      <td>Lower middle income</td>\n",
       "      <td>IBRD</td>\n",
       "      <td>NaN</td>\n",
       "    </tr>\n",
       "    <tr>\n",
       "      <th>4</th>\n",
       "      <td>Antigua and Barbuda</td>\n",
       "      <td>72.94</td>\n",
       "      <td>12.22</td>\n",
       "      <td>5.39</td>\n",
       "      <td>0.60</td>\n",
       "      <td>3.26</td>\n",
       "      <td>18.59</td>\n",
       "      <td>1.30</td>\n",
       "      <td>13.11</td>\n",
       "      <td>0.39</td>\n",
       "      <td>...</td>\n",
       "      <td>0.86</td>\n",
       "      <td>ATG</td>\n",
       "      <td>7</td>\n",
       "      <td>NaN</td>\n",
       "      <td>Antigua and Barbuda</td>\n",
       "      <td>NaN</td>\n",
       "      <td>Latin America &amp; Caribbean</td>\n",
       "      <td>High income</td>\n",
       "      <td>IBRD</td>\n",
       "      <td>NaN</td>\n",
       "    </tr>\n",
       "  </tbody>\n",
       "</table>\n",
       "<p>5 rows × 25 columns</p>\n",
       "</div>"
      ],
      "text/plain": [
       "               Country  \\\n",
       "0          Afghanistan   \n",
       "1              Albania   \n",
       "2              Algeria   \n",
       "3               Angola   \n",
       "4  Antigua and Barbuda   \n",
       "\n",
       "   Check is addition of all commodities to right except cereals   Milk  \\\n",
       "0                                              54.27              6.02   \n",
       "1                                              96.97             29.67   \n",
       "2                                              80.74             13.78   \n",
       "3                                              48.44              1.02   \n",
       "4                                              72.94             12.22   \n",
       "\n",
       "   Bovine meat  Sheep and goat meat  Pigmeat  Poultry  Eggs   Fish  Maize  \\\n",
       "0         2.01                 2.02     0.00     0.79  0.32   0.02   0.57   \n",
       "1         9.18                 5.35     2.76     4.91  3.24   1.50   0.36   \n",
       "2         2.18                 2.70     0.00     2.30  2.09   1.23   3.09   \n",
       "3         3.27                 0.44     2.34     5.55  0.51   4.14   8.80   \n",
       "4         5.39                 0.60     3.26    18.59  1.30  13.11   0.39   \n",
       "\n",
       "   ...   Starchy roots  Code  x  x.1              Economy    X  \\\n",
       "0  ...            0.22   AFG  1  NaN          Afghanistan  NaN   \n",
       "1  ...            1.86   ALB  2  NaN              Albania  NaN   \n",
       "2  ...            2.67   DZA  3  NaN              Algeria  NaN   \n",
       "3  ...            7.13   AGO  6  NaN               Angola  NaN   \n",
       "4  ...            0.86   ATG  7  NaN  Antigua and Barbuda  NaN   \n",
       "\n",
       "                       Region         Income group Lending category Other  \n",
       "0                  South Asia           Low income              IDA  HIPC  \n",
       "1       Europe & Central Asia  Upper middle income             IBRD   NaN  \n",
       "2  Middle East & North Africa  Upper middle income             IBRD   NaN  \n",
       "3          Sub-Saharan Africa  Lower middle income             IBRD   NaN  \n",
       "4   Latin America & Caribbean          High income             IBRD   NaN  \n",
       "\n",
       "[5 rows x 25 columns]"
      ]
     },
     "execution_count": 21,
     "metadata": {},
     "output_type": "execute_result"
    }
   ],
   "source": [
    "protein_group_merged_df = protein_group_df.merge(class_df,how= \"left\", on=\"Code\")\n",
    "protein_group_merged_df.head()"
   ]
  },
  {
   "cell_type": "code",
   "execution_count": 22,
   "metadata": {},
   "outputs": [
    {
     "data": {
      "text/html": [
       "<div>\n",
       "<style scoped>\n",
       "    .dataframe tbody tr th:only-of-type {\n",
       "        vertical-align: middle;\n",
       "    }\n",
       "\n",
       "    .dataframe tbody tr th {\n",
       "        vertical-align: top;\n",
       "    }\n",
       "\n",
       "    .dataframe thead th {\n",
       "        text-align: right;\n",
       "    }\n",
       "</style>\n",
       "<table border=\"1\" class=\"dataframe\">\n",
       "  <thead>\n",
       "    <tr style=\"text-align: right;\">\n",
       "      <th></th>\n",
       "      <th>principal component 1</th>\n",
       "      <th>principal component 2</th>\n",
       "      <th>Country</th>\n",
       "      <th>Continent</th>\n",
       "      <th>Continent_Cluster</th>\n",
       "      <th>Income group</th>\n",
       "      <th>Region</th>\n",
       "    </tr>\n",
       "  </thead>\n",
       "  <tbody>\n",
       "    <tr>\n",
       "      <th>0</th>\n",
       "      <td>-0.806632</td>\n",
       "      <td>-1.454414</td>\n",
       "      <td>Afghanistan</td>\n",
       "      <td>Asia</td>\n",
       "      <td>1</td>\n",
       "      <td>Low income</td>\n",
       "      <td>South Asia</td>\n",
       "    </tr>\n",
       "    <tr>\n",
       "      <th>1</th>\n",
       "      <td>2.880997</td>\n",
       "      <td>-2.200271</td>\n",
       "      <td>Albania</td>\n",
       "      <td>Eurpoe</td>\n",
       "      <td>2</td>\n",
       "      <td>Upper middle income</td>\n",
       "      <td>Europe &amp; Central Asia</td>\n",
       "    </tr>\n",
       "    <tr>\n",
       "      <th>2</th>\n",
       "      <td>0.821704</td>\n",
       "      <td>-2.699422</td>\n",
       "      <td>Algeria</td>\n",
       "      <td>Africa</td>\n",
       "      <td>2</td>\n",
       "      <td>Upper middle income</td>\n",
       "      <td>Middle East &amp; North Africa</td>\n",
       "    </tr>\n",
       "    <tr>\n",
       "      <th>3</th>\n",
       "      <td>-1.997533</td>\n",
       "      <td>-0.548392</td>\n",
       "      <td>Angola</td>\n",
       "      <td>Africa</td>\n",
       "      <td>3</td>\n",
       "      <td>Lower middle income</td>\n",
       "      <td>Sub-Saharan Africa</td>\n",
       "    </tr>\n",
       "    <tr>\n",
       "      <th>4</th>\n",
       "      <td>0.899908</td>\n",
       "      <td>1.230837</td>\n",
       "      <td>Antigua and Barbuda</td>\n",
       "      <td>North America</td>\n",
       "      <td>5</td>\n",
       "      <td>High income</td>\n",
       "      <td>Latin America &amp; Caribbean</td>\n",
       "    </tr>\n",
       "  </tbody>\n",
       "</table>\n",
       "</div>"
      ],
      "text/plain": [
       "   principal component 1  principal component 2              Country  \\\n",
       "0              -0.806632              -1.454414          Afghanistan   \n",
       "1               2.880997              -2.200271              Albania   \n",
       "2               0.821704              -2.699422              Algeria   \n",
       "3              -1.997533              -0.548392               Angola   \n",
       "4               0.899908               1.230837  Antigua and Barbuda   \n",
       "\n",
       "       Continent  Continent_Cluster         Income group  \\\n",
       "0           Asia                  1           Low income   \n",
       "1         Eurpoe                  2  Upper middle income   \n",
       "2         Africa                  2  Upper middle income   \n",
       "3         Africa                  3  Lower middle income   \n",
       "4  North America                  5          High income   \n",
       "\n",
       "                       Region  \n",
       "0                  South Asia  \n",
       "1       Europe & Central Asia  \n",
       "2  Middle East & North Africa  \n",
       "3          Sub-Saharan Africa  \n",
       "4   Latin America & Caribbean  "
      ]
     },
     "execution_count": 22,
     "metadata": {},
     "output_type": "execute_result"
    }
   ],
   "source": [
    "principalDf[\"Income group\"] = protein_group_merged_df[\"Income group\"]\n",
    "principalDf[\"Region\"] = protein_group_merged_df[\"Region\"]\n",
    "# master_merged_df.head()\n",
    "principalDf.head()"
   ]
  },
  {
   "cell_type": "code",
   "execution_count": 23,
   "metadata": {},
   "outputs": [
    {
     "name": "stdout",
     "output_type": "stream",
     "text": [
      "['South Asia' 'Europe & Central Asia' 'Middle East & North Africa'\n",
      " 'Sub-Saharan Africa' 'Latin America & Caribbean' 'East Asia & Pacific'\n",
      " 'North America']\n"
     ]
    },
    {
     "name": "stderr",
     "output_type": "stream",
     "text": [
      "C:\\Users\\XuP-intern\\AppData\\Local\\Continuum\\anaconda3\\lib\\site-packages\\matplotlib\\legend.py:798: UserWarning:\n",
      "\n",
      "Legend does not support 's' instances.\n",
      "A proxy artist may be used instead.\n",
      "See: http://matplotlib.org/users/legend_guide.html#creating-artists-specifically-for-adding-to-the-legend-aka-proxy-artists\n",
      "\n",
      "C:\\Users\\XuP-intern\\AppData\\Local\\Continuum\\anaconda3\\lib\\site-packages\\matplotlib\\legend.py:798: UserWarning:\n",
      "\n",
      "Legend does not support 'd' instances.\n",
      "A proxy artist may be used instead.\n",
      "See: http://matplotlib.org/users/legend_guide.html#creating-artists-specifically-for-adding-to-the-legend-aka-proxy-artists\n",
      "\n",
      "C:\\Users\\XuP-intern\\AppData\\Local\\Continuum\\anaconda3\\lib\\site-packages\\matplotlib\\legend.py:798: UserWarning:\n",
      "\n",
      "Legend does not support 'p' instances.\n",
      "A proxy artist may be used instead.\n",
      "See: http://matplotlib.org/users/legend_guide.html#creating-artists-specifically-for-adding-to-the-legend-aka-proxy-artists\n",
      "\n",
      "C:\\Users\\XuP-intern\\AppData\\Local\\Continuum\\anaconda3\\lib\\site-packages\\matplotlib\\legend.py:798: UserWarning:\n",
      "\n",
      "Legend does not support 'h' instances.\n",
      "A proxy artist may be used instead.\n",
      "See: http://matplotlib.org/users/legend_guide.html#creating-artists-specifically-for-adding-to-the-legend-aka-proxy-artists\n",
      "\n",
      "C:\\Users\\XuP-intern\\AppData\\Local\\Continuum\\anaconda3\\lib\\site-packages\\matplotlib\\legend.py:798: UserWarning:\n",
      "\n",
      "Legend does not support 'o' instances.\n",
      "A proxy artist may be used instead.\n",
      "See: http://matplotlib.org/users/legend_guide.html#creating-artists-specifically-for-adding-to-the-legend-aka-proxy-artists\n",
      "\n",
      "C:\\Users\\XuP-intern\\AppData\\Local\\Continuum\\anaconda3\\lib\\site-packages\\matplotlib\\legend.py:798: UserWarning:\n",
      "\n",
      "Legend does not support '*' instances.\n",
      "A proxy artist may be used instead.\n",
      "See: http://matplotlib.org/users/legend_guide.html#creating-artists-specifically-for-adding-to-the-legend-aka-proxy-artists\n",
      "\n",
      "C:\\Users\\XuP-intern\\AppData\\Local\\Continuum\\anaconda3\\lib\\site-packages\\matplotlib\\legend.py:798: UserWarning:\n",
      "\n",
      "Legend does not support 'x' instances.\n",
      "A proxy artist may be used instead.\n",
      "See: http://matplotlib.org/users/legend_guide.html#creating-artists-specifically-for-adding-to-the-legend-aka-proxy-artists\n",
      "\n"
     ]
    },
    {
     "data": {
      "image/png": "[encoded data removed]",
      "text/plain": [
       "<Figure size 576x576 with 1 Axes>"
      ]
     },
     "metadata": {
      "needs_background": "light"
     },
     "output_type": "display_data"
    },
    {
     "data": {
      "image/png": "[encoded data removed]",
      "text/plain": [
       "<Figure size 576x576 with 1 Axes>"
      ]
     },
     "metadata": {
      "needs_background": "light"
     },
     "output_type": "display_data"
    }
   ],
   "source": [
    "# Plot using matlablib on Region level.\n",
    "colors_region = ['r', 'g', 'b','c','m','y','k']\n",
    "pca_plot(colors_region,principalDf,\"Region\")\n",
    "\n",
    "region_cluster_labels, region_centers = perform_kmeans(X, 7)\n",
    "principalDf[\"Region_Cluster\"] = region_cluster_labels\n",
    "mark_shapes = ['s','d','p','h','o','*','x']\n",
    "\n",
    "pca_kmeans_plot(colors_region,mark_shapes,principalDf,\"Region\",region_centers)"
   ]
  },
  {
   "cell_type": "code",
   "execution_count": 24,
   "metadata": {},
   "outputs": [
    {
     "data": {
      "application/vnd.plotly.v1+json": {
       "config": {
        "linkText": "Export to plot.ly",
        "plotlyServerURL": "https://plot.ly",
        "showLink": false
       },
       "data": [
        {
         "marker": {
          "color": 0,
          "line": {
           "width": 1
          },
          "size": 9,
          "symbol": 0
         },
         "mode": "markers",
         "name": "South Asia0",
         "text": [
          "Afghanistan",
          "Pakistan"
         ],
         "type": "scatter",
         "uid": "4295f444-3a94-4651-8237-b8e5b5fb0b4c",
         "x": [
          -0.8066318102487012,
          -0.5166755455683948
         ],
         "y": [
          -1.454413756721853,
          -1.1895660982971679
         ]
        },
        {
         "marker": {
          "color": 1,
          "line": {
           "width": 1
          },
          "size": 9,
          "symbol": 0
         },
         "mode": "markers",
         "name": "South Asia1",
         "text": [
          "Bangladesh",
          "Sri Lanka"
         ],
         "type": "scatter",
         "uid": "c3d0c7e1-1a49-44e2-803c-a72f40d68ab0",
         "x": [
          -3.082010952446694,
          -2.482544315634908
         ],
         "y": [
          2.1548578427627976,
          1.622242821220155
         ]
        },
        {
         "marker": {
          "color": 2,
          "line": {
           "width": 1
          },
          "size": 9,
          "symbol": 0
         },
         "mode": "markers",
         "name": "South Asia2",
         "text": [],
         "type": "scatter",
         "uid": "d2b3f7b2-7f4a-4c65-86d2-22656c0f0a35",
         "x": [],
         "y": []
        },
        {
         "marker": {
          "color": 3,
          "line": {
           "width": 1
          },
          "size": 9,
          "symbol": 0
         },
         "mode": "markers",
         "name": "South Asia3",
         "text": [
          "India",
          "Nepal"
         ],
         "type": "scatter",
         "uid": "3e430083-66cb-455d-b94b-1fcb45cfae66",
         "x": [
          -2.3181216149344794,
          -2.5488498114495206
         ],
         "y": [
          0.024061078309389358,
          -0.27204518754834994
         ]
        },
        {
         "marker": {
          "color": 4,
          "line": {
           "width": 1
          },
          "size": 9,
          "symbol": 0
         },
         "mode": "markers",
         "name": "South Asia4",
         "text": [
          "Maldives"
         ],
         "type": "scatter",
         "uid": "729c660e-8880-4b64-8608-a36f58354b12",
         "x": [
          1.5297244600983222
         ],
         "y": [
          5.080015839206428
         ]
        },
        {
         "marker": {
          "color": 5,
          "line": {
           "width": 1
          },
          "size": 9,
          "symbol": 0
         },
         "mode": "markers",
         "name": "South Asia5",
         "text": [],
         "type": "scatter",
         "uid": "8fe36cf3-0b94-4817-8999-348e1beb74f9",
         "x": [],
         "y": []
        },
        {
         "marker": {
          "color": 6,
          "line": {
           "width": 1
          },
          "size": 9,
          "symbol": 0
         },
         "mode": "markers",
         "name": "South Asia6",
         "text": [],
         "type": "scatter",
         "uid": "f6c67992-c8c1-4955-a83e-de3d138c6007",
         "x": [],
         "y": []
        },
        {
         "marker": {
          "color": 0,
          "line": {
           "width": 1
          },
          "size": 9,
          "symbol": 1
         },
         "mode": "markers",
         "name": "Europe & Central Asia0",
         "text": [
          "Bosnia and Herzegovina",
          "Georgia",
          "Republic of Moldova",
          "Serbia",
          "Tajikistan",
          "North Macedonia"
         ],
         "type": "scatter",
         "uid": "f091ec41-b4e7-49f2-87d0-0f64bf931895",
         "x": [
          -0.2865112683008687,
          0.35666857849047995,
          -0.13201174042736732,
          0.6384192934719156,
          -1.163128867055314,
          -0.024522972625530534
         ],
         "y": [
          -1.3166491240934244,
          -0.8714945081911597,
          -0.2818917074548535,
          -0.6023169299034161,
          -1.4255223038956948,
          -0.75390354612768
         ]
        },
        {
         "marker": {
          "color": 1,
          "line": {
           "width": 1
          },
          "size": 9,
          "symbol": 1
         },
         "mode": "markers",
         "name": "Europe & Central Asia1",
         "text": [],
         "type": "scatter",
         "uid": "b90a6bd2-3236-4033-aa1b-d4354e99bd55",
         "x": [],
         "y": []
        },
        {
         "marker": {
          "color": 2,
          "line": {
           "width": 1
          },
          "size": 9,
          "symbol": 1
         },
         "mode": "markers",
         "name": "Europe & Central Asia2",
         "text": [
          "Bulgaria",
          "Croatia",
          "Cyprus",
          "Hungary",
          "Slovakia"
         ],
         "type": "scatter",
         "uid": "7dfd88a6-7218-46ea-a56f-84d1aa2149a6",
         "x": [
          0.9383780510212321,
          1.4817413475205174,
          0.965733122678537,
          1.5703559804597171,
          1.1712101113029214
         ],
         "y": [
          -0.24921460505346935,
          0.15223676768619857,
          0.3710092288989442,
          0.2563795405312364,
          0.09598456723959597
         ]
        },
        {
         "marker": {
          "color": 3,
          "line": {
           "width": 1
          },
          "size": 9,
          "symbol": 1
         },
         "mode": "markers",
         "name": "Europe & Central Asia3",
         "text": [],
         "type": "scatter",
         "uid": "d689fd6d-9f5b-4cc1-b498-6ef752717f25",
         "x": [],
         "y": []
        },
        {
         "marker": {
          "color": 4,
          "line": {
           "width": 1
          },
          "size": 9,
          "symbol": 1
         },
         "mode": "markers",
         "name": "Europe & Central Asia4",
         "text": [],
         "type": "scatter",
         "uid": "295d5b90-d093-4849-9c3e-73021f27bdc2",
         "x": [],
         "y": []
        },
        {
         "marker": {
          "color": 5,
          "line": {
           "width": 1
          },
          "size": 9,
          "symbol": 1
         },
         "mode": "markers",
         "name": "Europe & Central Asia5",
         "text": [
          "Austria",
          "Belarus",
          "Belgium",
          "Czechia",
          "Denmark",
          "Estonia",
          "Finland",
          "France",
          "Germany",
          "Iceland",
          "Ireland",
          "Italy",
          "Latvia",
          "Lithuania",
          "Luxembourg",
          "Montenegro",
          "Netherlands",
          "Norway",
          "Poland",
          "Portugal",
          "Russian Federation",
          "Slovenia",
          "Spain",
          "Sweden",
          "Switzerland",
          "Ukraine",
          "United Kingdom"
         ],
         "type": "scatter",
         "uid": "cff352b8-775b-4d32-8e1a-0a1d03213f5e",
         "x": [
          3.429784707164056,
          3.727015690950966,
          2.2968281516748634,
          2.262140771038658,
          3.504807928693892,
          3.3325712363062685,
          4.1188588596609526,
          3.169053843356343,
          3.1894889099375328,
          3.8616723113499294,
          2.723542787742862,
          2.752216860789632,
          2.9749939802249656,
          4.383300887530981,
          3.5050312995510264,
          2.7777922649033893,
          3.7082371049534113,
          2.921361627271437,
          3.757380361743879,
          2.6144073362894886,
          2.91679763259059,
          2.088311050755875,
          2.6161160429544137,
          3.7290882295353867,
          2.227111295079833,
          2.143820995874165,
          2.3740110641023042
         ],
         "y": [
          0.555266877567473,
          0.7675525563459799,
          0.027533723081726705,
          0.2645022954602303,
          0.5450920113255161,
          -0.9162582864977895,
          0.48935195296993406,
          0.05682524479079521,
          0.5136882458139987,
          0.3008469607060452,
          -0.3980260445066677,
          0.09022781952943736,
          -0.12228503600345081,
          0.9662738512933384,
          0.2750394384928398,
          -0.5100823108586711,
          0.4302635451022588,
          0.2096665522520034,
          0.7187548723722688,
          1.0008698726733043,
          -0.028542696295247194,
          -0.28913432815623147,
          1.1852367702287456,
          0.5409868782211086,
          -0.0665368600229202,
          -0.17039279949742941,
          -0.17629378330116102
         ]
        },
        {
         "marker": {
          "color": 6,
          "line": {
           "width": 1
          },
          "size": 9,
          "symbol": 1
         },
         "mode": "markers",
         "name": "Europe & Central Asia6",
         "text": [
          "Albania",
          "Armenia",
          "Azerbaijan",
          "Greece",
          "Kazakhstan",
          "Kyrgyzstan",
          "Romania",
          "Turkey",
          "Turkmenistan",
          "Uzbekistan"
         ],
         "type": "scatter",
         "uid": "af421753-b05d-424f-bc20-79fe82dbfb57",
         "x": [
          2.880997010937838,
          1.5912620185895445,
          1.5155433136152623,
          2.544962047643226,
          2.0860853256902323,
          0.7268788207090425,
          2.176777040818596,
          1.3295368560324028,
          2.0606533099644886,
          0.9622774958157636
         ],
         "y": [
          -2.200271348624619,
          -1.0177001140505753,
          -2.269156387364123,
          -1.4410342268163416,
          -1.6934105276682667,
          -2.13252446210261,
          -1.040822640016608,
          -1.820966701024357,
          -3.18950464341275,
          -1.8512726195433202
         ]
        },
        {
         "marker": {
          "color": 0,
          "line": {
           "width": 1
          },
          "size": 9,
          "symbol": 2
         },
         "mode": "markers",
         "name": "Middle East & North Africa0",
         "text": [
          "Egypt",
          "Iran (Islamic Republic of)",
          "Iraq",
          "Jordan",
          "Lebanon",
          "Oman",
          "Saudi Arabia",
          "United Arab Emirates",
          "Yemen"
         ],
         "type": "scatter",
         "uid": "c46315ac-2515-4bc1-8264-c5247e5e26e9",
         "x": [
          -0.3864755615347677,
          0.0013358535558126428,
          -0.726120752370932,
          0.13986663089141155,
          -0.19409112265133685,
          0.33402168450884057,
          0.14124672322035267,
          -0.25868832803558145,
          -1.3906751138584383
         ],
         "y": [
          -0.8067319663341315,
          -1.0998001241338657,
          -0.19930197312281173,
          -0.9127853797687305,
          -0.8537796282486232,
          -0.2616667951178221,
          -0.22478873758997753,
          -0.5824782807505995,
          -0.9182174333153971
         ]
        },
        {
         "marker": {
          "color": 1,
          "line": {
           "width": 1
          },
          "size": 9,
          "symbol": 2
         },
         "mode": "markers",
         "name": "Middle East & North Africa1",
         "text": [],
         "type": "scatter",
         "uid": "0d09cdc9-68fd-4efe-a4d4-82227f321289",
         "x": [],
         "y": []
        },
        {
         "marker": {
          "color": 2,
          "line": {
           "width": 1
          },
          "size": 9,
          "symbol": 2
         },
         "mode": "markers",
         "name": "Middle East & North Africa2",
         "text": [
          "Kuwait"
         ],
         "type": "scatter",
         "uid": "34af606c-49ad-46d1-82ca-73965ae90356",
         "x": [
          1.4946064494434443
         ],
         "y": [
          -0.3320897028840272
         ]
        },
        {
         "marker": {
          "color": 3,
          "line": {
           "width": 1
          },
          "size": 9,
          "symbol": 2
         },
         "mode": "markers",
         "name": "Middle East & North Africa3",
         "text": [
          "Djibouti"
         ],
         "type": "scatter",
         "uid": "895bd7ed-e1bb-4be5-9b59-5170088577dd",
         "x": [
          -1.420414712863716
         ],
         "y": [
          -1.3493563849252779
         ]
        },
        {
         "marker": {
          "color": 4,
          "line": {
           "width": 1
          },
          "size": 9,
          "symbol": 2
         },
         "mode": "markers",
         "name": "Middle East & North Africa4",
         "text": [],
         "type": "scatter",
         "uid": "152c823f-0e0e-4844-8834-e71c41f796d8",
         "x": [],
         "y": []
        },
        {
         "marker": {
          "color": 5,
          "line": {
           "width": 1
          },
          "size": 9,
          "symbol": 2
         },
         "mode": "markers",
         "name": "Middle East & North Africa5",
         "text": [
          "Israel",
          "Malta"
         ],
         "type": "scatter",
         "uid": "1ad56afa-f447-4a00-b335-68282bf24e86",
         "x": [
          3.172953055041278,
          2.4393397624417057
         ],
         "y": [
          -0.17741029486518783,
          0.21921484249835788
         ]
        },
        {
         "marker": {
          "color": 6,
          "line": {
           "width": 1
          },
          "size": 9,
          "symbol": 2
         },
         "mode": "markers",
         "name": "Middle East & North Africa6",
         "text": [
          "Algeria",
          "Morocco",
          "Tunisia"
         ],
         "type": "scatter",
         "uid": "d758b6c8-84c6-49c5-b1da-ec177d3a9483",
         "x": [
          0.8217038685302547,
          1.1923234152327322,
          0.9602258176780426
         ],
         "y": [
          -2.6994220708972794,
          -3.142560951270779,
          -1.7993847347041594
         ]
        },
        {
         "marker": {
          "color": 0,
          "line": {
           "width": 1
          },
          "size": 9,
          "symbol": 3
         },
         "mode": "markers",
         "name": "Sub-Saharan Africa0",
         "text": [
          "Cabo Verde",
          "Gabon",
          "Mauritania",
          "South Africa"
         ],
         "type": "scatter",
         "uid": "012e3d9a-6e68-48c2-8469-6745aa5a0eda",
         "x": [
          -1.4645592877306972,
          -0.8687569678466985,
          -0.6270796386142267,
          -0.3151545166866382
         ],
         "y": [
          0.07609062749291318,
          0.8737614560944854,
          -1.4340629614884106,
          -0.6777028481548247
         ]
        },
        {
         "marker": {
          "color": 1,
          "line": {
           "width": 1
          },
          "size": 9,
          "symbol": 3
         },
         "mode": "markers",
         "name": "Sub-Saharan Africa1",
         "text": [
          "Gambia",
          "Guinea",
          "Guinea-Bissau",
          "Liberia",
          "Madagascar",
          "Senegal",
          "Sierra Leone"
         ],
         "type": "scatter",
         "uid": "6474a1fb-9940-4ac9-a234-317b1dd11f69",
         "x": [
          -2.1345999920829977,
          -2.925708178187594,
          -2.935350814270425,
          -2.946725845549144,
          -2.9850134984784904,
          -2.4599302528379745,
          -3.0077393033131763
         ],
         "y": [
          0.5280548616635982,
          1.0630299322846903,
          1.119499120125993,
          1.2556138396324046,
          1.131278298136573,
          0.8145431306532148,
          1.4237834966771823
         ]
        },
        {
         "marker": {
          "color": 2,
          "line": {
           "width": 1
          },
          "size": 9,
          "symbol": 3
         },
         "mode": "markers",
         "name": "Sub-Saharan Africa2",
         "text": [
          "Mauritius"
         ],
         "type": "scatter",
         "uid": "70511c97-f3fc-496e-8870-c9201310187b",
         "x": [
          0.24700016018602544
         ],
         "y": [
          0.2536283431917771
         ]
        },
        {
         "marker": {
          "color": 3,
          "line": {
           "width": 1
          },
          "size": 9,
          "symbol": 3
         },
         "mode": "markers",
         "name": "Sub-Saharan Africa3",
         "text": [
          "Angola",
          "Benin",
          "Botswana",
          "Burkina Faso",
          "Cameroon",
          "Central African Republic",
          "Chad",
          "Congo (note no data in Food suppley tables for DRC)",
          "CÃƒÂ´te d'Ivoire",
          "Ethiopia",
          "Ghana",
          "Kenya",
          "Lesotho",
          "Malawi",
          "Mali",
          "Mozambique",
          "Namibia",
          "Niger",
          "Nigeria",
          "Rwanda",
          "Sao Tome and Principe",
          "Eswatini",
          "Togo",
          "Uganda",
          "United Republic of Tanzania",
          "Zambia",
          "Zimbabwe"
         ],
         "type": "scatter",
         "uid": "1aa5d3ae-b392-4297-839f-709084161ec8",
         "x": [
          -1.9975329968592799,
          -2.761455317023798,
          -1.7792654705076574,
          -3.0531927376026853,
          -3.2204231103451986,
          -2.401979374972313,
          -2.9355894252738213,
          -2.01846276687181,
          -2.7527383249003803,
          -3.1011968415896316,
          -2.6905613884891864,
          -2.5091068920837585,
          -2.830942890597179,
          -3.531306127860811,
          -2.4060478163161014,
          -3.2569623202874736,
          -1.9842246079012047,
          -3.4730107364043326,
          -2.866285247913259,
          -3.745953670250634,
          -1.8088645670814154,
          -2.0710813723115873,
          -3.264362313297805,
          -3.1938600526728056,
          -3.2341507146364274,
          -2.992783479223148,
          -2.653619957088088
         ],
         "y": [
          -0.5483919739663026,
          -0.06139678513378594,
          -0.9705138064325136,
          -0.7574603720868167,
          -0.8056383072822126,
          -1.0900950636624802,
          -0.51183894288515,
          0.17949074165162926,
          0.12687421076479874,
          -1.4306673502437717,
          -0.39658288880736475,
          -1.5779145532744323,
          -2.073344680607281,
          -1.7470280254152923,
          -0.7206866662188854,
          -0.7985039440496015,
          -0.8965211882048391,
          -1.4977831189512485,
          -0.4495771414678121,
          -1.7559551511325202,
          0.223523667334542,
          -0.9805951770948886,
          -0.7307053349465572,
          -1.059814464582445,
          -1.0563716516768524,
          -0.832173704620567,
          -0.7923323492134369
         ]
        },
        {
         "marker": {
          "color": 4,
          "line": {
           "width": 1
          },
          "size": 9,
          "symbol": 3
         },
         "mode": "markers",
         "name": "Sub-Saharan Africa4",
         "text": [],
         "type": "scatter",
         "uid": "7c7f1c3c-b0fd-49f7-b853-ff70c9967a9a",
         "x": [],
         "y": []
        },
        {
         "marker": {
          "color": 5,
          "line": {
           "width": 1
          },
          "size": 9,
          "symbol": 3
         },
         "mode": "markers",
         "name": "Sub-Saharan Africa5",
         "text": [],
         "type": "scatter",
         "uid": "17b6f2cd-e338-45c1-9a43-d7a0faf84c32",
         "x": [],
         "y": []
        },
        {
         "marker": {
          "color": 6,
          "line": {
           "width": 1
          },
          "size": 9,
          "symbol": 3
         },
         "mode": "markers",
         "name": "Sub-Saharan Africa6",
         "text": [
          "Sudan"
         ],
         "type": "scatter",
         "uid": "a04abdf6-4c66-4297-9925-e03b4415ddbb",
         "x": [
          3.682809045791822
         ],
         "y": [
          -4.1644246270513445
         ]
        },
        {
         "marker": {
          "color": 0,
          "line": {
           "width": 1
          },
          "size": 9,
          "symbol": 4
         },
         "mode": "markers",
         "name": "Latin America & Caribbean0",
         "text": [
          "Belize",
          "Bolivia (Plurinational State of)",
          "Colombia",
          "Costa Rica",
          "Cuba",
          "Dominica",
          "Ecuador",
          "Jamaica",
          "Mexico",
          "Panama",
          "Paraguay",
          "Peru",
          "Trinidad and Tobago",
          "Venezuela (Bolivarian Republic of)"
         ],
         "type": "scatter",
         "uid": "fa28f1d3-425a-42bf-95a5-c049ca292fe7",
         "x": [
          -1.1722156999569542,
          -0.6850962521630208,
          -0.5625445150612255,
          -0.1812186453425076,
          -1.2234992597932053,
          0.10986530004072252,
          -0.311467675656889,
          -0.30624698411249546,
          -0.12136034742416028,
          -0.38060831756682983,
          -0.12176466123281933,
          -1.1759544256426786,
          0.0074670162306179014,
          -0.11242280909133386
         ],
         "y": [
          0.20959618861064058,
          -0.34757712025202797,
          -0.03654495347007563,
          0.3031543407273656,
          0.11734647472364686,
          0.002162899582244687,
          0.62261482357903,
          0.44669426813884383,
          -0.5812149842884032,
          0.9395709343127172,
          -0.23544380633626774,
          -0.00338404990565594,
          0.24464500852686083,
          0.03278265803912569
         ]
        },
        {
         "marker": {
          "color": 1,
          "line": {
           "width": 1
          },
          "size": 9,
          "symbol": 4
         },
         "mode": "markers",
         "name": "Latin America & Caribbean1",
         "text": [
          "Dominican Republic",
          "Guyana",
          "Suriname"
         ],
         "type": "scatter",
         "uid": "b7ac9c2a-7cee-44ee-8b8b-029dc8176c9e",
         "x": [
          -1.3861417486861718,
          -0.8992922046124754,
          -1.0422492676208412
         ],
         "y": [
          0.6811133733296519,
          1.1989859355128962,
          1.2397310560020824
         ]
        },
        {
         "marker": {
          "color": 2,
          "line": {
           "width": 1
          },
          "size": 9,
          "symbol": 4
         },
         "mode": "markers",
         "name": "Latin America & Caribbean2",
         "text": [
          "Antigua and Barbuda",
          "Bahamas",
          "Barbados",
          "Brazil",
          "Chile",
          "Grenada",
          "Saint Kitts and Nevis",
          "Saint Lucia",
          "Saint Vincent and the Grenadines"
         ],
         "type": "scatter",
         "uid": "2721e34c-b064-454a-8695-e82bf6ed546d",
         "x": [
          0.8999083425697635,
          1.2550018435298482,
          0.7157320925378302,
          0.8042786864509208,
          1.250954122339907,
          0.03157813492704396,
          -0.13300246861019246,
          0.6469462304545903,
          0.49191793329995276
         ],
         "y": [
          1.2308365143171462,
          1.2216089165593678,
          0.3289711560555292,
          -0.2108007341465027,
          -0.0419202435200735,
          0.8800815226997114,
          1.0853968195691723,
          0.6691135439509076,
          0.8622746552420673
         ]
        },
        {
         "marker": {
          "color": 3,
          "line": {
           "width": 1
          },
          "size": 9,
          "symbol": 4
         },
         "mode": "markers",
         "name": "Latin America & Caribbean3",
         "text": [
          "El Salvador",
          "Guatemala",
          "Haiti",
          "Honduras",
          "Nicaragua"
         ],
         "type": "scatter",
         "uid": "a31562f2-59a3-47e5-aeb2-3b59aff62039",
         "x": [
          -1.5702928403912042,
          -1.7679532474630102,
          -3.185198542897812,
          -1.7324156978701921,
          -2.578612963670199
         ],
         "y": [
          -1.1226454209654055,
          -0.9494186112117974,
          -0.2936333147623672,
          -0.6807962224467223,
          -0.5548063760005235
         ]
        },
        {
         "marker": {
          "color": 4,
          "line": {
           "width": 1
          },
          "size": 9,
          "symbol": 4
         },
         "mode": "markers",
         "name": "Latin America & Caribbean4",
         "text": [],
         "type": "scatter",
         "uid": "474b11d9-f129-4d7c-9f97-e524fe070317",
         "x": [],
         "y": []
        },
        {
         "marker": {
          "color": 5,
          "line": {
           "width": 1
          },
          "size": 9,
          "symbol": 4
         },
         "mode": "markers",
         "name": "Latin America & Caribbean5",
         "text": [
          "Argentina"
         ],
         "type": "scatter",
         "uid": "1351db0a-4e5f-45c1-b396-447383306d2f",
         "x": [
          3.2983498762122334
         ],
         "y": [
          -0.8126898482776399
         ]
        },
        {
         "marker": {
          "color": 6,
          "line": {
           "width": 1
          },
          "size": 9,
          "symbol": 4
         },
         "mode": "markers",
         "name": "Latin America & Caribbean6",
         "text": [
          "Uruguay"
         ],
         "type": "scatter",
         "uid": "9c09e476-8c59-4124-b493-07007e886f04",
         "x": [
          1.8221168640922374
         ],
         "y": [
          -1.0347514422303852
         ]
        },
        {
         "marker": {
          "color": 0,
          "line": {
           "width": 1
          },
          "size": 9,
          "symbol": 5
         },
         "mode": "markers",
         "name": "East Asia & Pacific0",
         "text": [
          "Fiji",
          "Vanuatu"
         ],
         "type": "scatter",
         "uid": "e36a1e3e-55a1-4c7e-b2fd-3c0270110cae",
         "x": [
          -0.5450840832564462,
          -1.0442256241145356
         ],
         "y": [
          -0.0706567815501952,
          0.7786741081394595
         ]
        },
        {
         "marker": {
          "color": 1,
          "line": {
           "width": 1
          },
          "size": 9,
          "symbol": 5
         },
         "mode": "markers",
         "name": "East Asia & Pacific1",
         "text": [
          "Cambodia",
          "Indonesia",
          "Kiribati",
          "Lao People's Democratic Republic",
          "Myanmar",
          "Philippines",
          "Thailand",
          "Viet Nam"
         ],
         "type": "scatter",
         "uid": "44457ad1-67a1-41f3-9ef3-fd4c19a2b1b1",
         "x": [
          -2.8355714869961357,
          -2.4095844856330215,
          -0.8572704888558011,
          -2.917733350205966,
          -1.74754923203534,
          -1.8101488719435908,
          -1.4849588344900313,
          -1.486709976093775
         ],
         "y": [
          2.9920872154428455,
          2.156389974016497,
          2.368484099430268,
          2.682433834664434,
          2.9168226034916183,
          2.392118467754419,
          2.373991695285271,
          3.191136933741796
         ]
        },
        {
         "marker": {
          "color": 2,
          "line": {
           "width": 1
          },
          "size": 9,
          "symbol": 5
         },
         "mode": "markers",
         "name": "East Asia & Pacific2",
         "text": [
          "French Polynesia",
          "New Caledonia",
          "Samoa"
         ],
         "type": "scatter",
         "uid": "608802c9-522e-4565-b52c-ed848da875e4",
         "x": [
          1.7781222551987987,
          1.3047356152072567,
          0.7612759729551208
         ],
         "y": [
          1.1729280594109088,
          0.7576528154740066,
          1.1337714020958107
         ]
        },
        {
         "marker": {
          "color": 3,
          "line": {
           "width": 1
          },
          "size": 9,
          "symbol": 5
         },
         "mode": "markers",
         "name": "East Asia & Pacific3",
         "text": [
          "Democratic People's Republic of Korea",
          "Solomon Islands",
          "Timor-Leste"
         ],
         "type": "scatter",
         "uid": "9b2fb0e2-19fb-4a38-869f-cb4697d65c18",
         "x": [
          -2.895933884702707,
          -2.250656687927032,
          -3.0698999232862696
         ],
         "y": [
          0.3473322584936175,
          0.41966269122196426,
          0.26038718774546854
         ]
        },
        {
         "marker": {
          "color": 4,
          "line": {
           "width": 1
          },
          "size": 9,
          "symbol": 5
         },
         "mode": "markers",
         "name": "East Asia & Pacific4",
         "text": [
          "Brunei Darussalam",
          "China, Hong Kong SAR",
          "China, Macao SAR",
          "China, mainland",
          "China, Taiwan Province of",
          "Japan",
          "Malaysia",
          "Republic of Korea"
         ],
         "type": "scatter",
         "uid": "457a3881-5c64-48fd-9c5e-aa559df3659a",
         "x": [
          0.9493427804385842,
          3.301781941735512,
          1.8417999997188168,
          0.8141520709320557,
          0.542450202773705,
          0.9249350282419273,
          0.08254012373454955,
          0.29607687689076717
         ],
         "y": [
          2.141524597224632,
          3.154621130404117,
          2.8649784206143623,
          1.8113217317446082,
          2.0269602477105524,
          2.5509599450409275,
          2.6261783869138924,
          2.778920197121249
         ]
        },
        {
         "marker": {
          "color": 5,
          "line": {
           "width": 1
          },
          "size": 9,
          "symbol": 5
         },
         "mode": "markers",
         "name": "East Asia & Pacific5",
         "text": [
          "Australia"
         ],
         "type": "scatter",
         "uid": "2e7af5db-9e26-40c9-b153-f321cb3fddab",
         "x": [
          2.8002643010035624
         ],
         "y": [
          -0.2915935120730121
         ]
        },
        {
         "marker": {
          "color": 6,
          "line": {
           "width": 1
          },
          "size": 9,
          "symbol": 5
         },
         "mode": "markers",
         "name": "East Asia & Pacific6",
         "text": [
          "Mongolia",
          "New Zealand"
         ],
         "type": "scatter",
         "uid": "bb062dc4-719d-4635-98f7-5ef5d5cefcf2",
         "x": [
          0.7811370198750561,
          1.711554120510259
         ],
         "y": [
          -4.06325600364961,
          -0.8674287533440144
         ]
        },
        {
         "marker": {
          "color": 0,
          "line": {
           "width": 1
          },
          "size": 9,
          "symbol": 6
         },
         "mode": "markers",
         "name": "North America0",
         "text": [],
         "type": "scatter",
         "uid": "0029237c-e066-427e-9fcb-7d62ab7fd1ce",
         "x": [],
         "y": []
        },
        {
         "marker": {
          "color": 1,
          "line": {
           "width": 1
          },
          "size": 9,
          "symbol": 6
         },
         "mode": "markers",
         "name": "North America1",
         "text": [],
         "type": "scatter",
         "uid": "dfee5436-08e3-428a-be5e-6dcd792b65f2",
         "x": [],
         "y": []
        },
        {
         "marker": {
          "color": 2,
          "line": {
           "width": 1
          },
          "size": 9,
          "symbol": 6
         },
         "mode": "markers",
         "name": "North America2",
         "text": [
          "Canada"
         ],
         "type": "scatter",
         "uid": "8a7ae84d-4354-46ff-a72d-ef408e8fa0bc",
         "x": [
          1.9253313062795252
         ],
         "y": [
          -0.10020090276356512
         ]
        },
        {
         "marker": {
          "color": 3,
          "line": {
           "width": 1
          },
          "size": 9,
          "symbol": 6
         },
         "mode": "markers",
         "name": "North America3",
         "text": [],
         "type": "scatter",
         "uid": "4fe5b3a0-e8b1-4c8e-befc-6b24ace3365e",
         "x": [],
         "y": []
        },
        {
         "marker": {
          "color": 4,
          "line": {
           "width": 1
          },
          "size": 9,
          "symbol": 6
         },
         "mode": "markers",
         "name": "North America4",
         "text": [],
         "type": "scatter",
         "uid": "86b8ec1d-6f06-4524-a3be-f7a063627bea",
         "x": [],
         "y": []
        },
        {
         "marker": {
          "color": 5,
          "line": {
           "width": 1
          },
          "size": 9,
          "symbol": 6
         },
         "mode": "markers",
         "name": "North America5",
         "text": [
          "Bermuda",
          "United States of America"
         ],
         "type": "scatter",
         "uid": "5c734bb8-eb67-483e-b9aa-46764fa74c62",
         "x": [
          2.284301805268657,
          3.2536410635146082
         ],
         "y": [
          0.7771684171803444,
          0.25151296869878453
         ]
        },
        {
         "marker": {
          "color": 6,
          "line": {
           "width": 1
          },
          "size": 9,
          "symbol": 6
         },
         "mode": "markers",
         "name": "North America6",
         "text": [],
         "type": "scatter",
         "uid": "d2f7ba98-032e-4468-8225-b6742aa6a38d",
         "x": [],
         "y": []
        },
        {
         "marker": {
          "color": "rgba(220, 220, 220, .4)",
          "line": {
           "width": 1
          },
          "size": 20
         },
         "mode": "markers",
         "name": "Center",
         "type": "scatter",
         "uid": "38e6afa3-150f-4e8c-ad6b-5f4feabc1931",
         "x": [
          -0.41556491117730937,
          -2.1918416549987274,
          0.980090264487638,
          -2.628245011784682,
          1.142533720507138,
          3.0410482756214896,
          1.696873140678047
         ],
         "y": [
          -0.33769735163637127,
          1.765309926591419,
          0.4768823832277372,
          -0.7153490085341075,
          2.7817200551089747,
          0.18868575443179034,
          -2.142817191398303
         ]
        }
       ],
       "layout": {
        "hovermode": "closest",
        "showlegend": true,
        "title": {
         "text": "2 component PCA Kmeans Clustering Region"
        },
        "xaxis": {
         "gridwidth": 2,
         "ticklen": 5,
         "title": {
          "text": "principal component 1"
         },
         "zeroline": false
        },
        "yaxis": {
         "gridwidth": 2,
         "ticklen": 5,
         "title": {
          "text": "principal component 2"
         }
        }
       }
      },
      "text/html": [
       "<div>\n",
       "        \n",
       "        \n",
       "            <div id=\"8f881643-6a4e-4707-9611-b150a80d4794\" class=\"plotly-graph-div\" style=\"height:525px; width:100%;\"></div>\n",
       "            <script type=\"text/javascript\">\n",
       "                require([\"plotly\"], function(Plotly) {\n",
       "                    window.PLOTLYENV=window.PLOTLYENV || {};\n",
       "                    window.PLOTLYENV.BASE_URL='https://plot.ly';\n",
       "                    \n",
       "                if (document.getElementById(\"8f881643-6a4e-4707-9611-b150a80d4794\")) {\n",
       "                    Plotly.newPlot(\n",
       "                        '8f881643-6a4e-4707-9611-b150a80d4794',\n",
       "                        [{\"marker\": {\"color\": 0, \"line\": {\"width\": 1}, \"size\": 9, \"symbol\": 0}, \"mode\": \"markers\", \"name\": \"South Asia0\", \"text\": [\"Afghanistan\", \"Pakistan\"], \"type\": \"scatter\", \"uid\": \"4295f444-3a94-4651-8237-b8e5b5fb0b4c\", \"x\": [-0.8066318102487012, -0.5166755455683948], \"y\": [-1.454413756721853, -1.1895660982971679]}, {\"marker\": {\"color\": 1, \"line\": {\"width\": 1}, \"size\": 9, \"symbol\": 0}, \"mode\": \"markers\", \"name\": \"South Asia1\", \"text\": [\"Bangladesh\", \"Sri Lanka\"], \"type\": \"scatter\", \"uid\": \"c3d0c7e1-1a49-44e2-803c-a72f40d68ab0\", \"x\": [-3.082010952446694, -2.482544315634908], \"y\": [2.1548578427627976, 1.622242821220155]}, {\"marker\": {\"color\": 2, \"line\": {\"width\": 1}, \"size\": 9, \"symbol\": 0}, \"mode\": \"markers\", \"name\": \"South Asia2\", \"text\": [], \"type\": \"scatter\", \"uid\": \"d2b3f7b2-7f4a-4c65-86d2-22656c0f0a35\", \"x\": [], \"y\": []}, {\"marker\": {\"color\": 3, \"line\": {\"width\": 1}, \"size\": 9, \"symbol\": 0}, \"mode\": \"markers\", \"name\": \"South Asia3\", \"text\": [\"India\", \"Nepal\"], \"type\": \"scatter\", \"uid\": \"3e430083-66cb-455d-b94b-1fcb45cfae66\", \"x\": [-2.3181216149344794, -2.5488498114495206], \"y\": [0.024061078309389358, -0.27204518754834994]}, {\"marker\": {\"color\": 4, \"line\": {\"width\": 1}, \"size\": 9, \"symbol\": 0}, \"mode\": \"markers\", \"name\": \"South Asia4\", \"text\": [\"Maldives\"], \"type\": \"scatter\", \"uid\": \"729c660e-8880-4b64-8608-a36f58354b12\", \"x\": [1.5297244600983222], \"y\": [5.080015839206428]}, {\"marker\": {\"color\": 5, \"line\": {\"width\": 1}, \"size\": 9, \"symbol\": 0}, \"mode\": \"markers\", \"name\": \"South Asia5\", \"text\": [], \"type\": \"scatter\", \"uid\": \"8fe36cf3-0b94-4817-8999-348e1beb74f9\", \"x\": [], \"y\": []}, {\"marker\": {\"color\": 6, \"line\": {\"width\": 1}, \"size\": 9, \"symbol\": 0}, \"mode\": \"markers\", \"name\": \"South Asia6\", \"text\": [], \"type\": \"scatter\", \"uid\": \"f6c67992-c8c1-4955-a83e-de3d138c6007\", \"x\": [], \"y\": []}, {\"marker\": {\"color\": 0, \"line\": {\"width\": 1}, \"size\": 9, \"symbol\": 1}, \"mode\": \"markers\", \"name\": \"Europe & Central Asia0\", \"text\": [\"Bosnia and Herzegovina\", \"Georgia\", \"Republic of Moldova\", \"Serbia\", \"Tajikistan\", \"North Macedonia\"], \"type\": \"scatter\", \"uid\": \"f091ec41-b4e7-49f2-87d0-0f64bf931895\", \"x\": [-0.2865112683008687, 0.35666857849047995, -0.13201174042736732, 0.6384192934719156, -1.163128867055314, -0.024522972625530534], \"y\": [-1.3166491240934244, -0.8714945081911597, -0.2818917074548535, -0.6023169299034161, -1.4255223038956948, -0.75390354612768]}, {\"marker\": {\"color\": 1, \"line\": {\"width\": 1}, \"size\": 9, \"symbol\": 1}, \"mode\": \"markers\", \"name\": \"Europe & Central Asia1\", \"text\": [], \"type\": \"scatter\", \"uid\": \"b90a6bd2-3236-4033-aa1b-d4354e99bd55\", \"x\": [], \"y\": []}, {\"marker\": {\"color\": 2, \"line\": {\"width\": 1}, \"size\": 9, \"symbol\": 1}, \"mode\": \"markers\", \"name\": \"Europe & Central Asia2\", \"text\": [\"Bulgaria\", \"Croatia\", \"Cyprus\", \"Hungary\", \"Slovakia\"], \"type\": \"scatter\", \"uid\": \"7dfd88a6-7218-46ea-a56f-84d1aa2149a6\", \"x\": [0.9383780510212321, 1.4817413475205174, 0.965733122678537, 1.5703559804597171, 1.1712101113029214], \"y\": [-0.24921460505346935, 0.15223676768619857, 0.3710092288989442, 0.2563795405312364, 0.09598456723959597]}, {\"marker\": {\"color\": 3, \"line\": {\"width\": 1}, \"size\": 9, \"symbol\": 1}, \"mode\": \"markers\", \"name\": \"Europe & Central Asia3\", \"text\": [], \"type\": \"scatter\", \"uid\": \"d689fd6d-9f5b-4cc1-b498-6ef752717f25\", \"x\": [], \"y\": []}, {\"marker\": {\"color\": 4, \"line\": {\"width\": 1}, \"size\": 9, \"symbol\": 1}, \"mode\": \"markers\", \"name\": \"Europe & Central Asia4\", \"text\": [], \"type\": \"scatter\", \"uid\": \"295d5b90-d093-4849-9c3e-73021f27bdc2\", \"x\": [], \"y\": []}, {\"marker\": {\"color\": 5, \"line\": {\"width\": 1}, \"size\": 9, \"symbol\": 1}, \"mode\": \"markers\", \"name\": \"Europe & Central Asia5\", \"text\": [\"Austria\", \"Belarus\", \"Belgium\", \"Czechia\", \"Denmark\", \"Estonia\", \"Finland\", \"France\", \"Germany\", \"Iceland\", \"Ireland\", \"Italy\", \"Latvia\", \"Lithuania\", \"Luxembourg\", \"Montenegro\", \"Netherlands\", \"Norway\", \"Poland\", \"Portugal\", \"Russian Federation\", \"Slovenia\", \"Spain\", \"Sweden\", \"Switzerland\", \"Ukraine\", \"United Kingdom\"], \"type\": \"scatter\", \"uid\": \"cff352b8-775b-4d32-8e1a-0a1d03213f5e\", \"x\": [3.429784707164056, 3.727015690950966, 2.2968281516748634, 2.262140771038658, 3.504807928693892, 3.3325712363062685, 4.1188588596609526, 3.169053843356343, 3.1894889099375328, 3.8616723113499294, 2.723542787742862, 2.752216860789632, 2.9749939802249656, 4.383300887530981, 3.5050312995510264, 2.7777922649033893, 3.7082371049534113, 2.921361627271437, 3.757380361743879, 2.6144073362894886, 2.91679763259059, 2.088311050755875, 2.6161160429544137, 3.7290882295353867, 2.227111295079833, 2.143820995874165, 2.3740110641023042], \"y\": [0.555266877567473, 0.7675525563459799, 0.027533723081726705, 0.2645022954602303, 0.5450920113255161, -0.9162582864977895, 0.48935195296993406, 0.05682524479079521, 0.5136882458139987, 0.3008469607060452, -0.3980260445066677, 0.09022781952943736, -0.12228503600345081, 0.9662738512933384, 0.2750394384928398, -0.5100823108586711, 0.4302635451022588, 0.2096665522520034, 0.7187548723722688, 1.0008698726733043, -0.028542696295247194, -0.28913432815623147, 1.1852367702287456, 0.5409868782211086, -0.0665368600229202, -0.17039279949742941, -0.17629378330116102]}, {\"marker\": {\"color\": 6, \"line\": {\"width\": 1}, \"size\": 9, \"symbol\": 1}, \"mode\": \"markers\", \"name\": \"Europe & Central Asia6\", \"text\": [\"Albania\", \"Armenia\", \"Azerbaijan\", \"Greece\", \"Kazakhstan\", \"Kyrgyzstan\", \"Romania\", \"Turkey\", \"Turkmenistan\", \"Uzbekistan\"], \"type\": \"scatter\", \"uid\": \"af421753-b05d-424f-bc20-79fe82dbfb57\", \"x\": [2.880997010937838, 1.5912620185895445, 1.5155433136152623, 2.544962047643226, 2.0860853256902323, 0.7268788207090425, 2.176777040818596, 1.3295368560324028, 2.0606533099644886, 0.9622774958157636], \"y\": [-2.200271348624619, -1.0177001140505753, -2.269156387364123, -1.4410342268163416, -1.6934105276682667, -2.13252446210261, -1.040822640016608, -1.820966701024357, -3.18950464341275, -1.8512726195433202]}, {\"marker\": {\"color\": 0, \"line\": {\"width\": 1}, \"size\": 9, \"symbol\": 2}, \"mode\": \"markers\", \"name\": \"Middle East & North Africa0\", \"text\": [\"Egypt\", \"Iran (Islamic Republic of)\", \"Iraq\", \"Jordan\", \"Lebanon\", \"Oman\", \"Saudi Arabia\", \"United Arab Emirates\", \"Yemen\"], \"type\": \"scatter\", \"uid\": \"c46315ac-2515-4bc1-8264-c5247e5e26e9\", \"x\": [-0.3864755615347677, 0.0013358535558126428, -0.726120752370932, 0.13986663089141155, -0.19409112265133685, 0.33402168450884057, 0.14124672322035267, -0.25868832803558145, -1.3906751138584383], \"y\": [-0.8067319663341315, -1.0998001241338657, -0.19930197312281173, -0.9127853797687305, -0.8537796282486232, -0.2616667951178221, -0.22478873758997753, -0.5824782807505995, -0.9182174333153971]}, {\"marker\": {\"color\": 1, \"line\": {\"width\": 1}, \"size\": 9, \"symbol\": 2}, \"mode\": \"markers\", \"name\": \"Middle East & North Africa1\", \"text\": [], \"type\": \"scatter\", \"uid\": \"0d09cdc9-68fd-4efe-a4d4-82227f321289\", \"x\": [], \"y\": []}, {\"marker\": {\"color\": 2, \"line\": {\"width\": 1}, \"size\": 9, \"symbol\": 2}, \"mode\": \"markers\", \"name\": \"Middle East & North Africa2\", \"text\": [\"Kuwait\"], \"type\": \"scatter\", \"uid\": \"34af606c-49ad-46d1-82ca-73965ae90356\", \"x\": [1.4946064494434443], \"y\": [-0.3320897028840272]}, {\"marker\": {\"color\": 3, \"line\": {\"width\": 1}, \"size\": 9, \"symbol\": 2}, \"mode\": \"markers\", \"name\": \"Middle East & North Africa3\", \"text\": [\"Djibouti\"], \"type\": \"scatter\", \"uid\": \"895bd7ed-e1bb-4be5-9b59-5170088577dd\", \"x\": [-1.420414712863716], \"y\": [-1.3493563849252779]}, {\"marker\": {\"color\": 4, \"line\": {\"width\": 1}, \"size\": 9, \"symbol\": 2}, \"mode\": \"markers\", \"name\": \"Middle East & North Africa4\", \"text\": [], \"type\": \"scatter\", \"uid\": \"152c823f-0e0e-4844-8834-e71c41f796d8\", \"x\": [], \"y\": []}, {\"marker\": {\"color\": 5, \"line\": {\"width\": 1}, \"size\": 9, \"symbol\": 2}, \"mode\": \"markers\", \"name\": \"Middle East & North Africa5\", \"text\": [\"Israel\", \"Malta\"], \"type\": \"scatter\", \"uid\": \"1ad56afa-f447-4a00-b335-68282bf24e86\", \"x\": [3.172953055041278, 2.4393397624417057], \"y\": [-0.17741029486518783, 0.21921484249835788]}, {\"marker\": {\"color\": 6, \"line\": {\"width\": 1}, \"size\": 9, \"symbol\": 2}, \"mode\": \"markers\", \"name\": \"Middle East & North Africa6\", \"text\": [\"Algeria\", \"Morocco\", \"Tunisia\"], \"type\": \"scatter\", \"uid\": \"d758b6c8-84c6-49c5-b1da-ec177d3a9483\", \"x\": [0.8217038685302547, 1.1923234152327322, 0.9602258176780426], \"y\": [-2.6994220708972794, -3.142560951270779, -1.7993847347041594]}, {\"marker\": {\"color\": 0, \"line\": {\"width\": 1}, \"size\": 9, \"symbol\": 3}, \"mode\": \"markers\", \"name\": \"Sub-Saharan Africa0\", \"text\": [\"Cabo Verde\", \"Gabon\", \"Mauritania\", \"South Africa\"], \"type\": \"scatter\", \"uid\": \"012e3d9a-6e68-48c2-8469-6745aa5a0eda\", \"x\": [-1.4645592877306972, -0.8687569678466985, -0.6270796386142267, -0.3151545166866382], \"y\": [0.07609062749291318, 0.8737614560944854, -1.4340629614884106, -0.6777028481548247]}, {\"marker\": {\"color\": 1, \"line\": {\"width\": 1}, \"size\": 9, \"symbol\": 3}, \"mode\": \"markers\", \"name\": \"Sub-Saharan Africa1\", \"text\": [\"Gambia\", \"Guinea\", \"Guinea-Bissau\", \"Liberia\", \"Madagascar\", \"Senegal\", \"Sierra Leone\"], \"type\": \"scatter\", \"uid\": \"6474a1fb-9940-4ac9-a234-317b1dd11f69\", \"x\": [-2.1345999920829977, -2.925708178187594, -2.935350814270425, -2.946725845549144, -2.9850134984784904, -2.4599302528379745, -3.0077393033131763], \"y\": [0.5280548616635982, 1.0630299322846903, 1.119499120125993, 1.2556138396324046, 1.131278298136573, 0.8145431306532148, 1.4237834966771823]}, {\"marker\": {\"color\": 2, \"line\": {\"width\": 1}, \"size\": 9, \"symbol\": 3}, \"mode\": \"markers\", \"name\": \"Sub-Saharan Africa2\", \"text\": [\"Mauritius\"], \"type\": \"scatter\", \"uid\": \"70511c97-f3fc-496e-8870-c9201310187b\", \"x\": [0.24700016018602544], \"y\": [0.2536283431917771]}, {\"marker\": {\"color\": 3, \"line\": {\"width\": 1}, \"size\": 9, \"symbol\": 3}, \"mode\": \"markers\", \"name\": \"Sub-Saharan Africa3\", \"text\": [\"Angola\", \"Benin\", \"Botswana\", \"Burkina Faso\", \"Cameroon\", \"Central African Republic\", \"Chad\", \"Congo (note no data in Food suppley tables for DRC)\", \"C\\u00c3\\u0192\\u00c2\\u00b4te d'Ivoire\", \"Ethiopia\", \"Ghana\", \"Kenya\", \"Lesotho\", \"Malawi\", \"Mali\", \"Mozambique\", \"Namibia\", \"Niger\", \"Nigeria\", \"Rwanda\", \"Sao Tome and Principe\", \"Eswatini\", \"Togo\", \"Uganda\", \"United Republic of Tanzania\", \"Zambia\", \"Zimbabwe\"], \"type\": \"scatter\", \"uid\": \"1aa5d3ae-b392-4297-839f-709084161ec8\", \"x\": [-1.9975329968592799, -2.761455317023798, -1.7792654705076574, -3.0531927376026853, -3.2204231103451986, -2.401979374972313, -2.9355894252738213, -2.01846276687181, -2.7527383249003803, -3.1011968415896316, -2.6905613884891864, -2.5091068920837585, -2.830942890597179, -3.531306127860811, -2.4060478163161014, -3.2569623202874736, -1.9842246079012047, -3.4730107364043326, -2.866285247913259, -3.745953670250634, -1.8088645670814154, -2.0710813723115873, -3.264362313297805, -3.1938600526728056, -3.2341507146364274, -2.992783479223148, -2.653619957088088], \"y\": [-0.5483919739663026, -0.06139678513378594, -0.9705138064325136, -0.7574603720868167, -0.8056383072822126, -1.0900950636624802, -0.51183894288515, 0.17949074165162926, 0.12687421076479874, -1.4306673502437717, -0.39658288880736475, -1.5779145532744323, -2.073344680607281, -1.7470280254152923, -0.7206866662188854, -0.7985039440496015, -0.8965211882048391, -1.4977831189512485, -0.4495771414678121, -1.7559551511325202, 0.223523667334542, -0.9805951770948886, -0.7307053349465572, -1.059814464582445, -1.0563716516768524, -0.832173704620567, -0.7923323492134369]}, {\"marker\": {\"color\": 4, \"line\": {\"width\": 1}, \"size\": 9, \"symbol\": 3}, \"mode\": \"markers\", \"name\": \"Sub-Saharan Africa4\", \"text\": [], \"type\": \"scatter\", \"uid\": \"7c7f1c3c-b0fd-49f7-b853-ff70c9967a9a\", \"x\": [], \"y\": []}, {\"marker\": {\"color\": 5, \"line\": {\"width\": 1}, \"size\": 9, \"symbol\": 3}, \"mode\": \"markers\", \"name\": \"Sub-Saharan Africa5\", \"text\": [], \"type\": \"scatter\", \"uid\": \"17b6f2cd-e338-45c1-9a43-d7a0faf84c32\", \"x\": [], \"y\": []}, {\"marker\": {\"color\": 6, \"line\": {\"width\": 1}, \"size\": 9, \"symbol\": 3}, \"mode\": \"markers\", \"name\": \"Sub-Saharan Africa6\", \"text\": [\"Sudan\"], \"type\": \"scatter\", \"uid\": \"a04abdf6-4c66-4297-9925-e03b4415ddbb\", \"x\": [3.682809045791822], \"y\": [-4.1644246270513445]}, {\"marker\": {\"color\": 0, \"line\": {\"width\": 1}, \"size\": 9, \"symbol\": 4}, \"mode\": \"markers\", \"name\": \"Latin America & Caribbean0\", \"text\": [\"Belize\", \"Bolivia (Plurinational State of)\", \"Colombia\", \"Costa Rica\", \"Cuba\", \"Dominica\", \"Ecuador\", \"Jamaica\", \"Mexico\", \"Panama\", \"Paraguay\", \"Peru\", \"Trinidad and Tobago\", \"Venezuela (Bolivarian Republic of)\"], \"type\": \"scatter\", \"uid\": \"fa28f1d3-425a-42bf-95a5-c049ca292fe7\", \"x\": [-1.1722156999569542, -0.6850962521630208, -0.5625445150612255, -0.1812186453425076, -1.2234992597932053, 0.10986530004072252, -0.311467675656889, -0.30624698411249546, -0.12136034742416028, -0.38060831756682983, -0.12176466123281933, -1.1759544256426786, 0.0074670162306179014, -0.11242280909133386], \"y\": [0.20959618861064058, -0.34757712025202797, -0.03654495347007563, 0.3031543407273656, 0.11734647472364686, 0.002162899582244687, 0.62261482357903, 0.44669426813884383, -0.5812149842884032, 0.9395709343127172, -0.23544380633626774, -0.00338404990565594, 0.24464500852686083, 0.03278265803912569]}, {\"marker\": {\"color\": 1, \"line\": {\"width\": 1}, \"size\": 9, \"symbol\": 4}, \"mode\": \"markers\", \"name\": \"Latin America & Caribbean1\", \"text\": [\"Dominican Republic\", \"Guyana\", \"Suriname\"], \"type\": \"scatter\", \"uid\": \"b7ac9c2a-7cee-44ee-8b8b-029dc8176c9e\", \"x\": [-1.3861417486861718, -0.8992922046124754, -1.0422492676208412], \"y\": [0.6811133733296519, 1.1989859355128962, 1.2397310560020824]}, {\"marker\": {\"color\": 2, \"line\": {\"width\": 1}, \"size\": 9, \"symbol\": 4}, \"mode\": \"markers\", \"name\": \"Latin America & Caribbean2\", \"text\": [\"Antigua and Barbuda\", \"Bahamas\", \"Barbados\", \"Brazil\", \"Chile\", \"Grenada\", \"Saint Kitts and Nevis\", \"Saint Lucia\", \"Saint Vincent and the Grenadines\"], \"type\": \"scatter\", \"uid\": \"2721e34c-b064-454a-8695-e82bf6ed546d\", \"x\": [0.8999083425697635, 1.2550018435298482, 0.7157320925378302, 0.8042786864509208, 1.250954122339907, 0.03157813492704396, -0.13300246861019246, 0.6469462304545903, 0.49191793329995276], \"y\": [1.2308365143171462, 1.2216089165593678, 0.3289711560555292, -0.2108007341465027, -0.0419202435200735, 0.8800815226997114, 1.0853968195691723, 0.6691135439509076, 0.8622746552420673]}, {\"marker\": {\"color\": 3, \"line\": {\"width\": 1}, \"size\": 9, \"symbol\": 4}, \"mode\": \"markers\", \"name\": \"Latin America & Caribbean3\", \"text\": [\"El Salvador\", \"Guatemala\", \"Haiti\", \"Honduras\", \"Nicaragua\"], \"type\": \"scatter\", \"uid\": \"a31562f2-59a3-47e5-aeb2-3b59aff62039\", \"x\": [-1.5702928403912042, -1.7679532474630102, -3.185198542897812, -1.7324156978701921, -2.578612963670199], \"y\": [-1.1226454209654055, -0.9494186112117974, -0.2936333147623672, -0.6807962224467223, -0.5548063760005235]}, {\"marker\": {\"color\": 4, \"line\": {\"width\": 1}, \"size\": 9, \"symbol\": 4}, \"mode\": \"markers\", \"name\": \"Latin America & Caribbean4\", \"text\": [], \"type\": \"scatter\", \"uid\": \"474b11d9-f129-4d7c-9f97-e524fe070317\", \"x\": [], \"y\": []}, {\"marker\": {\"color\": 5, \"line\": {\"width\": 1}, \"size\": 9, \"symbol\": 4}, \"mode\": \"markers\", \"name\": \"Latin America & Caribbean5\", \"text\": [\"Argentina\"], \"type\": \"scatter\", \"uid\": \"1351db0a-4e5f-45c1-b396-447383306d2f\", \"x\": [3.2983498762122334], \"y\": [-0.8126898482776399]}, {\"marker\": {\"color\": 6, \"line\": {\"width\": 1}, \"size\": 9, \"symbol\": 4}, \"mode\": \"markers\", \"name\": \"Latin America & Caribbean6\", \"text\": [\"Uruguay\"], \"type\": \"scatter\", \"uid\": \"9c09e476-8c59-4124-b493-07007e886f04\", \"x\": [1.8221168640922374], \"y\": [-1.0347514422303852]}, {\"marker\": {\"color\": 0, \"line\": {\"width\": 1}, \"size\": 9, \"symbol\": 5}, \"mode\": \"markers\", \"name\": \"East Asia & Pacific0\", \"text\": [\"Fiji\", \"Vanuatu\"], \"type\": \"scatter\", \"uid\": \"e36a1e3e-55a1-4c7e-b2fd-3c0270110cae\", \"x\": [-0.5450840832564462, -1.0442256241145356], \"y\": [-0.0706567815501952, 0.7786741081394595]}, {\"marker\": {\"color\": 1, \"line\": {\"width\": 1}, \"size\": 9, \"symbol\": 5}, \"mode\": \"markers\", \"name\": \"East Asia & Pacific1\", \"text\": [\"Cambodia\", \"Indonesia\", \"Kiribati\", \"Lao People's Democratic Republic\", \"Myanmar\", \"Philippines\", \"Thailand\", \"Viet Nam\"], \"type\": \"scatter\", \"uid\": \"44457ad1-67a1-41f3-9ef3-fd4c19a2b1b1\", \"x\": [-2.8355714869961357, -2.4095844856330215, -0.8572704888558011, -2.917733350205966, -1.74754923203534, -1.8101488719435908, -1.4849588344900313, -1.486709976093775], \"y\": [2.9920872154428455, 2.156389974016497, 2.368484099430268, 2.682433834664434, 2.9168226034916183, 2.392118467754419, 2.373991695285271, 3.191136933741796]}, {\"marker\": {\"color\": 2, \"line\": {\"width\": 1}, \"size\": 9, \"symbol\": 5}, \"mode\": \"markers\", \"name\": \"East Asia & Pacific2\", \"text\": [\"French Polynesia\", \"New Caledonia\", \"Samoa\"], \"type\": \"scatter\", \"uid\": \"608802c9-522e-4565-b52c-ed848da875e4\", \"x\": [1.7781222551987987, 1.3047356152072567, 0.7612759729551208], \"y\": [1.1729280594109088, 0.7576528154740066, 1.1337714020958107]}, {\"marker\": {\"color\": 3, \"line\": {\"width\": 1}, \"size\": 9, \"symbol\": 5}, \"mode\": \"markers\", \"name\": \"East Asia & Pacific3\", \"text\": [\"Democratic People's Republic of Korea\", \"Solomon Islands\", \"Timor-Leste\"], \"type\": \"scatter\", \"uid\": \"9b2fb0e2-19fb-4a38-869f-cb4697d65c18\", \"x\": [-2.895933884702707, -2.250656687927032, -3.0698999232862696], \"y\": [0.3473322584936175, 0.41966269122196426, 0.26038718774546854]}, {\"marker\": {\"color\": 4, \"line\": {\"width\": 1}, \"size\": 9, \"symbol\": 5}, \"mode\": \"markers\", \"name\": \"East Asia & Pacific4\", \"text\": [\"Brunei Darussalam\", \"China, Hong Kong SAR\", \"China, Macao SAR\", \"China, mainland\", \"China, Taiwan Province of\", \"Japan\", \"Malaysia\", \"Republic of Korea\"], \"type\": \"scatter\", \"uid\": \"457a3881-5c64-48fd-9c5e-aa559df3659a\", \"x\": [0.9493427804385842, 3.301781941735512, 1.8417999997188168, 0.8141520709320557, 0.542450202773705, 0.9249350282419273, 0.08254012373454955, 0.29607687689076717], \"y\": [2.141524597224632, 3.154621130404117, 2.8649784206143623, 1.8113217317446082, 2.0269602477105524, 2.5509599450409275, 2.6261783869138924, 2.778920197121249]}, {\"marker\": {\"color\": 5, \"line\": {\"width\": 1}, \"size\": 9, \"symbol\": 5}, \"mode\": \"markers\", \"name\": \"East Asia & Pacific5\", \"text\": [\"Australia\"], \"type\": \"scatter\", \"uid\": \"2e7af5db-9e26-40c9-b153-f321cb3fddab\", \"x\": [2.8002643010035624], \"y\": [-0.2915935120730121]}, {\"marker\": {\"color\": 6, \"line\": {\"width\": 1}, \"size\": 9, \"symbol\": 5}, \"mode\": \"markers\", \"name\": \"East Asia & Pacific6\", \"text\": [\"Mongolia\", \"New Zealand\"], \"type\": \"scatter\", \"uid\": \"bb062dc4-719d-4635-98f7-5ef5d5cefcf2\", \"x\": [0.7811370198750561, 1.711554120510259], \"y\": [-4.06325600364961, -0.8674287533440144]}, {\"marker\": {\"color\": 0, \"line\": {\"width\": 1}, \"size\": 9, \"symbol\": 6}, \"mode\": \"markers\", \"name\": \"North America0\", \"text\": [], \"type\": \"scatter\", \"uid\": \"0029237c-e066-427e-9fcb-7d62ab7fd1ce\", \"x\": [], \"y\": []}, {\"marker\": {\"color\": 1, \"line\": {\"width\": 1}, \"size\": 9, \"symbol\": 6}, \"mode\": \"markers\", \"name\": \"North America1\", \"text\": [], \"type\": \"scatter\", \"uid\": \"dfee5436-08e3-428a-be5e-6dcd792b65f2\", \"x\": [], \"y\": []}, {\"marker\": {\"color\": 2, \"line\": {\"width\": 1}, \"size\": 9, \"symbol\": 6}, \"mode\": \"markers\", \"name\": \"North America2\", \"text\": [\"Canada\"], \"type\": \"scatter\", \"uid\": \"8a7ae84d-4354-46ff-a72d-ef408e8fa0bc\", \"x\": [1.9253313062795252], \"y\": [-0.10020090276356512]}, {\"marker\": {\"color\": 3, \"line\": {\"width\": 1}, \"size\": 9, \"symbol\": 6}, \"mode\": \"markers\", \"name\": \"North America3\", \"text\": [], \"type\": \"scatter\", \"uid\": \"4fe5b3a0-e8b1-4c8e-befc-6b24ace3365e\", \"x\": [], \"y\": []}, {\"marker\": {\"color\": 4, \"line\": {\"width\": 1}, \"size\": 9, \"symbol\": 6}, \"mode\": \"markers\", \"name\": \"North America4\", \"text\": [], \"type\": \"scatter\", \"uid\": \"86b8ec1d-6f06-4524-a3be-f7a063627bea\", \"x\": [], \"y\": []}, {\"marker\": {\"color\": 5, \"line\": {\"width\": 1}, \"size\": 9, \"symbol\": 6}, \"mode\": \"markers\", \"name\": \"North America5\", \"text\": [\"Bermuda\", \"United States of America\"], \"type\": \"scatter\", \"uid\": \"5c734bb8-eb67-483e-b9aa-46764fa74c62\", \"x\": [2.284301805268657, 3.2536410635146082], \"y\": [0.7771684171803444, 0.25151296869878453]}, {\"marker\": {\"color\": 6, \"line\": {\"width\": 1}, \"size\": 9, \"symbol\": 6}, \"mode\": \"markers\", \"name\": \"North America6\", \"text\": [], \"type\": \"scatter\", \"uid\": \"d2f7ba98-032e-4468-8225-b6742aa6a38d\", \"x\": [], \"y\": []}, {\"marker\": {\"color\": \"rgba(220, 220, 220, .4)\", \"line\": {\"width\": 1}, \"size\": 20}, \"mode\": \"markers\", \"name\": \"Center\", \"type\": \"scatter\", \"uid\": \"38e6afa3-150f-4e8c-ad6b-5f4feabc1931\", \"x\": [-0.41556491117730937, -2.1918416549987274, 0.980090264487638, -2.628245011784682, 1.142533720507138, 3.0410482756214896, 1.696873140678047], \"y\": [-0.33769735163637127, 1.765309926591419, 0.4768823832277372, -0.7153490085341075, 2.7817200551089747, 0.18868575443179034, -2.142817191398303]}],\n",
       "                        {\"hovermode\": \"closest\", \"showlegend\": true, \"title\": {\"text\": \"2 component PCA Kmeans Clustering Region\"}, \"xaxis\": {\"gridwidth\": 2, \"ticklen\": 5, \"title\": {\"text\": \"principal component 1\"}, \"zeroline\": false}, \"yaxis\": {\"gridwidth\": 2, \"ticklen\": 5, \"title\": {\"text\": \"principal component 2\"}}},\n",
       "                        {\"showLink\": false, \"linkText\": \"Export to plot.ly\", \"plotlyServerURL\": \"https://plot.ly\", \"responsive\": true}\n",
       "                    ).then(function(){\n",
       "                            \n",
       "var gd = document.getElementById('8f881643-6a4e-4707-9611-b150a80d4794');\n",
       "var x = new MutationObserver(function (mutations, observer) {{\n",
       "        var display = window.getComputedStyle(gd).display;\n",
       "        if (!display || display === 'none') {{\n",
       "            console.log([gd, 'removed!']);\n",
       "            Plotly.purge(gd);\n",
       "            observer.disconnect();\n",
       "        }}\n",
       "}});\n",
       "\n",
       "// Listen for the removal of the full notebook cells\n",
       "var notebookContainer = gd.closest('#notebook-container');\n",
       "if (notebookContainer) {{\n",
       "    x.observe(notebookContainer, {childList: true});\n",
       "}}\n",
       "\n",
       "// Listen for the clearing of the current output cell\n",
       "var outputEl = gd.closest('.output');\n",
       "if (outputEl) {{\n",
       "    x.observe(outputEl, {childList: true});\n",
       "}}\n",
       "\n",
       "                        })\n",
       "                };\n",
       "                });\n",
       "            </script>\n",
       "        </div>"
      ]
     },
     "metadata": {},
     "output_type": "display_data"
    },
    {
     "name": "stderr",
     "output_type": "stream",
     "text": [
      "C:\\Users\\XuP-intern\\AppData\\Local\\Continuum\\anaconda3\\lib\\site-packages\\IPython\\core\\display.py:689: UserWarning:\n",
      "\n",
      "Consider using IPython.display.IFrame instead\n",
      "\n"
     ]
    }
   ],
   "source": [
    "# Plot using plotly on Region level.\n",
    "\n",
    "plot_plotly(principalDf,\"Region\",region_centers,\"Protein Foods\")"
   ]
  },
  {
   "cell_type": "markdown",
   "metadata": {},
   "source": [
    "#### Income Level"
   ]
  },
  {
   "cell_type": "code",
   "execution_count": 27,
   "metadata": {
    "scrolled": true
   },
   "outputs": [
    {
     "name": "stdout",
     "output_type": "stream",
     "text": [
      "['Low income' 'Upper middle income' 'Lower middle income' 'High income']\n"
     ]
    },
    {
     "name": "stderr",
     "output_type": "stream",
     "text": [
      "C:\\Users\\XuP-intern\\AppData\\Local\\Continuum\\anaconda3\\lib\\site-packages\\matplotlib\\legend.py:798: UserWarning:\n",
      "\n",
      "Legend does not support 's' instances.\n",
      "A proxy artist may be used instead.\n",
      "See: http://matplotlib.org/users/legend_guide.html#creating-artists-specifically-for-adding-to-the-legend-aka-proxy-artists\n",
      "\n",
      "C:\\Users\\XuP-intern\\AppData\\Local\\Continuum\\anaconda3\\lib\\site-packages\\matplotlib\\legend.py:798: UserWarning:\n",
      "\n",
      "Legend does not support 'd' instances.\n",
      "A proxy artist may be used instead.\n",
      "See: http://matplotlib.org/users/legend_guide.html#creating-artists-specifically-for-adding-to-the-legend-aka-proxy-artists\n",
      "\n",
      "C:\\Users\\XuP-intern\\AppData\\Local\\Continuum\\anaconda3\\lib\\site-packages\\matplotlib\\legend.py:798: UserWarning:\n",
      "\n",
      "Legend does not support 'p' instances.\n",
      "A proxy artist may be used instead.\n",
      "See: http://matplotlib.org/users/legend_guide.html#creating-artists-specifically-for-adding-to-the-legend-aka-proxy-artists\n",
      "\n",
      "C:\\Users\\XuP-intern\\AppData\\Local\\Continuum\\anaconda3\\lib\\site-packages\\matplotlib\\legend.py:798: UserWarning:\n",
      "\n",
      "Legend does not support 'h' instances.\n",
      "A proxy artist may be used instead.\n",
      "See: http://matplotlib.org/users/legend_guide.html#creating-artists-specifically-for-adding-to-the-legend-aka-proxy-artists\n",
      "\n"
     ]
    },
    {
     "data": {
      "image/png": "[encoded data removed]",
      "text/plain": [
       "<Figure size 576x576 with 1 Axes>"
      ]
     },
     "metadata": {
      "needs_background": "light"
     },
     "output_type": "display_data"
    },
    {
     "data": {
      "image/png": "[encoded data removed]",
      "text/plain": [
       "<Figure size 576x576 with 1 Axes>"
      ]
     },
     "metadata": {
      "needs_background": "light"
     },
     "output_type": "display_data"
    }
   ],
   "source": [
    "# Plot using matlablib on Income level.\n",
    "\n",
    "colors_income = ['r', 'g', 'b','c']\n",
    "pca_plot(colors_income,principalDf,\"Income group\")\n",
    "mark_shapes_income = ['s','d','p','h']\n",
    "income_cluster_labels, income_centers = perform_kmeans(X, 4)\n",
    "principalDf[\"Income group_Cluster\"] = income_cluster_labels\n",
    "\n",
    "\n",
    "pca_kmeans_plot(colors_income,mark_shapes_income,principalDf,\"Income group\",income_centers)\n",
    "\n",
    "principalDf.to_csv(\"pca_socio.csv\")"
   ]
  },
  {
   "cell_type": "code",
   "execution_count": 26,
   "metadata": {},
   "outputs": [
    {
     "data": {
      "application/vnd.plotly.v1+json": {
       "config": {
        "linkText": "Export to plot.ly",
        "plotlyServerURL": "https://plot.ly",
        "showLink": false
       },
       "data": [
        {
         "marker": {
          "color": 0,
          "line": {
           "width": 1
          },
          "size": 9,
          "symbol": 0
         },
         "mode": "markers",
         "name": "Low income0",
         "text": [],
         "type": "scatter",
         "uid": "dc306353-3a2e-4005-b0ca-da3552ca6a87",
         "x": [],
         "y": []
        },
        {
         "marker": {
          "color": 1,
          "line": {
           "width": 1
          },
          "size": 9,
          "symbol": 0
         },
         "mode": "markers",
         "name": "Low income1",
         "text": [
          "Afghanistan",
          "Tajikistan"
         ],
         "type": "scatter",
         "uid": "09c5dc84-f5a4-46e7-8f09-9d2ab214cbf0",
         "x": [
          -0.8066318102487012,
          -1.163128867055314
         ],
         "y": [
          -1.454413756721853,
          -1.4255223038956948
         ]
        },
        {
         "marker": {
          "color": 2,
          "line": {
           "width": 1
          },
          "size": 9,
          "symbol": 0
         },
         "mode": "markers",
         "name": "Low income2",
         "text": [
          "Benin",
          "Burkina Faso",
          "Central African Republic",
          "Chad",
          "Democratic People's Republic of Korea",
          "Ethiopia",
          "Gambia",
          "Guinea",
          "Guinea-Bissau",
          "Haiti",
          "Liberia",
          "Madagascar",
          "Malawi",
          "Mali",
          "Mozambique",
          "Nepal",
          "Niger",
          "Rwanda",
          "Senegal",
          "Sierra Leone",
          "Togo",
          "Uganda",
          "United Republic of Tanzania",
          "Yemen",
          "Zimbabwe"
         ],
         "type": "scatter",
         "uid": "ab173177-382e-4eeb-824b-cc37e835bda8",
         "x": [
          -2.761455317023798,
          -3.0531927376026853,
          -2.401979374972313,
          -2.9355894252738213,
          -2.895933884702707,
          -3.1011968415896316,
          -2.1345999920829977,
          -2.925708178187594,
          -2.935350814270425,
          -3.185198542897812,
          -2.946725845549144,
          -2.9850134984784904,
          -3.531306127860811,
          -2.4060478163161014,
          -3.2569623202874736,
          -2.5488498114495206,
          -3.4730107364043326,
          -3.745953670250634,
          -2.4599302528379745,
          -3.0077393033131763,
          -3.264362313297805,
          -3.1938600526728056,
          -3.2341507146364274,
          -1.3906751138584383,
          -2.653619957088088
         ],
         "y": [
          -0.06139678513378594,
          -0.7574603720868167,
          -1.0900950636624802,
          -0.51183894288515,
          0.3473322584936175,
          -1.4306673502437717,
          0.5280548616635982,
          1.0630299322846903,
          1.119499120125993,
          -0.2936333147623672,
          1.2556138396324046,
          1.131278298136573,
          -1.7470280254152923,
          -0.7206866662188854,
          -0.7985039440496015,
          -0.27204518754834994,
          -1.4977831189512485,
          -1.7559551511325202,
          0.8145431306532148,
          1.4237834966771823,
          -0.7307053349465572,
          -1.059814464582445,
          -1.0563716516768524,
          -0.9182174333153971,
          -0.7923323492134369
         ]
        },
        {
         "marker": {
          "color": 3,
          "line": {
           "width": 1
          },
          "size": 9,
          "symbol": 0
         },
         "mode": "markers",
         "name": "Low income3",
         "text": [],
         "type": "scatter",
         "uid": "d2c7db1a-37bc-4ef8-80e3-cf830fa81418",
         "x": [],
         "y": []
        },
        {
         "marker": {
          "color": 0,
          "line": {
           "width": 1
          },
          "size": 9,
          "symbol": 1
         },
         "mode": "markers",
         "name": "Upper middle income0",
         "text": [
          "China, mainland",
          "Ecuador",
          "Gabon",
          "Grenada",
          "Guyana",
          "Malaysia",
          "Maldives",
          "Saint Vincent and the Grenadines",
          "Samoa",
          "Suriname",
          "Thailand"
         ],
         "type": "scatter",
         "uid": "43a26ee5-91c8-4a53-8638-70f8653fe145",
         "x": [
          0.8141520709320557,
          -0.311467675656889,
          -0.8687569678466985,
          0.03157813492704396,
          -0.8992922046124754,
          0.08254012373454955,
          1.5297244600983222,
          0.49191793329995276,
          0.7612759729551208,
          -1.0422492676208412,
          -1.4849588344900313
         ],
         "y": [
          1.8113217317446082,
          0.62261482357903,
          0.8737614560944854,
          0.8800815226997114,
          1.1989859355128962,
          2.6261783869138924,
          5.080015839206428,
          0.8622746552420673,
          1.1337714020958107,
          1.2397310560020824,
          2.373991695285271
         ]
        },
        {
         "marker": {
          "color": 1,
          "line": {
           "width": 1
          },
          "size": 9,
          "symbol": 1
         },
         "mode": "markers",
         "name": "Upper middle income1",
         "text": [
          "Algeria",
          "Armenia",
          "Azerbaijan",
          "Bosnia and Herzegovina",
          "Brazil",
          "Bulgaria",
          "Colombia",
          "Costa Rica",
          "Dominica",
          "Fiji",
          "Iran (Islamic Republic of)",
          "Iraq",
          "Jamaica",
          "Jordan",
          "Lebanon",
          "Mauritius",
          "Mexico",
          "Paraguay",
          "Saint Lucia",
          "Serbia",
          "South Africa",
          "North Macedonia",
          "Turkey",
          "Turkmenistan",
          "Venezuela (Bolivarian Republic of)"
         ],
         "type": "scatter",
         "uid": "d19cdb0d-31ef-4b2e-8a24-4dbe68839dec",
         "x": [
          0.8217038685302547,
          1.5912620185895445,
          1.5155433136152623,
          -0.2865112683008687,
          0.8042786864509208,
          0.9383780510212321,
          -0.5625445150612255,
          -0.1812186453425076,
          0.10986530004072252,
          -0.5450840832564462,
          0.0013358535558126428,
          -0.726120752370932,
          -0.30624698411249546,
          0.13986663089141155,
          -0.19409112265133685,
          0.24700016018602544,
          -0.12136034742416028,
          -0.12176466123281933,
          0.6469462304545903,
          0.6384192934719156,
          -0.3151545166866382,
          -0.024522972625530534,
          1.3295368560324028,
          2.0606533099644886,
          -0.11242280909133386
         ],
         "y": [
          -2.6994220708972794,
          -1.0177001140505753,
          -2.269156387364123,
          -1.3166491240934244,
          -0.2108007341465027,
          -0.24921460505346935,
          -0.03654495347007563,
          0.3031543407273656,
          0.002162899582244687,
          -0.0706567815501952,
          -1.0998001241338657,
          -0.19930197312281173,
          0.44669426813884383,
          -0.9127853797687305,
          -0.8537796282486232,
          0.2536283431917771,
          -0.5812149842884032,
          -0.23544380633626774,
          0.6691135439509076,
          -0.6023169299034161,
          -0.6777028481548247,
          -0.75390354612768,
          -1.820966701024357,
          -3.18950464341275,
          0.03278265803912569
         ]
        },
        {
         "marker": {
          "color": 2,
          "line": {
           "width": 1
          },
          "size": 9,
          "symbol": 1
         },
         "mode": "markers",
         "name": "Upper middle income2",
         "text": [
          "Belize",
          "Botswana",
          "Cuba",
          "Dominican Republic",
          "Guatemala",
          "Namibia",
          "Peru"
         ],
         "type": "scatter",
         "uid": "b5a7e2c6-eb28-4924-9983-3ae3825f0e81",
         "x": [
          -1.1722156999569542,
          -1.7792654705076574,
          -1.2234992597932053,
          -1.3861417486861718,
          -1.7679532474630102,
          -1.9842246079012047,
          -1.1759544256426786
         ],
         "y": [
          0.20959618861064058,
          -0.9705138064325136,
          0.11734647472364686,
          0.6811133733296519,
          -0.9494186112117974,
          -0.8965211882048391,
          -0.00338404990565594
         ]
        },
        {
         "marker": {
          "color": 3,
          "line": {
           "width": 1
          },
          "size": 9,
          "symbol": 1
         },
         "mode": "markers",
         "name": "Upper middle income3",
         "text": [
          "Albania",
          "Belarus",
          "Kazakhstan",
          "Montenegro",
          "Romania",
          "Russian Federation"
         ],
         "type": "scatter",
         "uid": "1585278c-62ea-4b7e-88d9-da2192424bdf",
         "x": [
          2.880997010937838,
          3.727015690950966,
          2.0860853256902323,
          2.7777922649033893,
          2.176777040818596,
          2.91679763259059
         ],
         "y": [
          -2.200271348624619,
          0.7675525563459799,
          -1.6934105276682667,
          -0.5100823108586711,
          -1.040822640016608,
          -0.028542696295247194
         ]
        },
        {
         "marker": {
          "color": 0,
          "line": {
           "width": 1
          },
          "size": 9,
          "symbol": 2
         },
         "mode": "markers",
         "name": "Lower middle income0",
         "text": [
          "Cambodia",
          "Indonesia",
          "Kiribati",
          "Lao People's Democratic Republic",
          "Myanmar",
          "Philippines",
          "Vanuatu",
          "Viet Nam"
         ],
         "type": "scatter",
         "uid": "47a73387-4c26-4da1-873f-6b9c69f78737",
         "x": [
          -2.8355714869961357,
          -2.4095844856330215,
          -0.8572704888558011,
          -2.917733350205966,
          -1.74754923203534,
          -1.8101488719435908,
          -1.0442256241145356,
          -1.486709976093775
         ],
         "y": [
          2.9920872154428455,
          2.156389974016497,
          2.368484099430268,
          2.682433834664434,
          2.9168226034916183,
          2.392118467754419,
          0.7786741081394595,
          3.191136933741796
         ]
        },
        {
         "marker": {
          "color": 1,
          "line": {
           "width": 1
          },
          "size": 9,
          "symbol": 2
         },
         "mode": "markers",
         "name": "Lower middle income1",
         "text": [
          "Bolivia (Plurinational State of)",
          "Egypt",
          "Georgia",
          "Kyrgyzstan",
          "Mauritania",
          "Mongolia",
          "Morocco",
          "Pakistan",
          "Republic of Moldova",
          "Tunisia",
          "Uzbekistan"
         ],
         "type": "scatter",
         "uid": "12b9a6ea-657e-49ec-ae98-6bcb1d432024",
         "x": [
          -0.6850962521630208,
          -0.3864755615347677,
          0.35666857849047995,
          0.7268788207090425,
          -0.6270796386142267,
          0.7811370198750561,
          1.1923234152327322,
          -0.5166755455683948,
          -0.13201174042736732,
          0.9602258176780426,
          0.9622774958157636
         ],
         "y": [
          -0.34757712025202797,
          -0.8067319663341315,
          -0.8714945081911597,
          -2.13252446210261,
          -1.4340629614884106,
          -4.06325600364961,
          -3.142560951270779,
          -1.1895660982971679,
          -0.2818917074548535,
          -1.7993847347041594,
          -1.8512726195433202
         ]
        },
        {
         "marker": {
          "color": 2,
          "line": {
           "width": 1
          },
          "size": 9,
          "symbol": 2
         },
         "mode": "markers",
         "name": "Lower middle income2",
         "text": [
          "Angola",
          "Bangladesh",
          "Cabo Verde",
          "Cameroon",
          "Congo (note no data in Food suppley tables for DRC)",
          "CÃƒÂ´te d'Ivoire",
          "Djibouti",
          "El Salvador",
          "Ghana",
          "Honduras",
          "India",
          "Kenya",
          "Lesotho",
          "Nicaragua",
          "Nigeria",
          "Sao Tome and Principe",
          "Solomon Islands",
          "Sri Lanka",
          "Eswatini",
          "Timor-Leste",
          "Zambia"
         ],
         "type": "scatter",
         "uid": "1b581220-25df-437c-a198-7a87ef112ec5",
         "x": [
          -1.9975329968592799,
          -3.082010952446694,
          -1.4645592877306972,
          -3.2204231103451986,
          -2.01846276687181,
          -2.7527383249003803,
          -1.420414712863716,
          -1.5702928403912042,
          -2.6905613884891864,
          -1.7324156978701921,
          -2.3181216149344794,
          -2.5091068920837585,
          -2.830942890597179,
          -2.578612963670199,
          -2.866285247913259,
          -1.8088645670814154,
          -2.250656687927032,
          -2.482544315634908,
          -2.0710813723115873,
          -3.0698999232862696,
          -2.992783479223148
         ],
         "y": [
          -0.5483919739663026,
          2.1548578427627976,
          0.07609062749291318,
          -0.8056383072822126,
          0.17949074165162926,
          0.12687421076479874,
          -1.3493563849252779,
          -1.1226454209654055,
          -0.39658288880736475,
          -0.6807962224467223,
          0.024061078309389358,
          -1.5779145532744323,
          -2.073344680607281,
          -0.5548063760005235,
          -0.4495771414678121,
          0.223523667334542,
          0.41966269122196426,
          1.622242821220155,
          -0.9805951770948886,
          0.26038718774546854,
          -0.832173704620567
         ]
        },
        {
         "marker": {
          "color": 3,
          "line": {
           "width": 1
          },
          "size": 9,
          "symbol": 2
         },
         "mode": "markers",
         "name": "Lower middle income3",
         "text": [
          "Sudan",
          "Ukraine"
         ],
         "type": "scatter",
         "uid": "e79cc95b-dac9-4c58-8b1f-96aa1ae62a26",
         "x": [
          3.682809045791822,
          2.143820995874165
         ],
         "y": [
          -4.1644246270513445,
          -0.17039279949742941
         ]
        },
        {
         "marker": {
          "color": 0,
          "line": {
           "width": 1
          },
          "size": 9,
          "symbol": 3
         },
         "mode": "markers",
         "name": "High income0",
         "text": [
          "Antigua and Barbuda",
          "Bahamas",
          "Brunei Darussalam",
          "China, Macao SAR",
          "China, Taiwan Province of",
          "Japan",
          "Panama",
          "Republic of Korea",
          "Saint Kitts and Nevis"
         ],
         "type": "scatter",
         "uid": "446ece89-27b5-4d71-afc6-448a670c1be2",
         "x": [
          0.8999083425697635,
          1.2550018435298482,
          0.9493427804385842,
          1.8417999997188168,
          0.542450202773705,
          0.9249350282419273,
          -0.38060831756682983,
          0.29607687689076717,
          -0.13300246861019246
         ],
         "y": [
          1.2308365143171462,
          1.2216089165593678,
          2.141524597224632,
          2.8649784206143623,
          2.0269602477105524,
          2.5509599450409275,
          0.9395709343127172,
          2.778920197121249,
          1.0853968195691723
         ]
        },
        {
         "marker": {
          "color": 1,
          "line": {
           "width": 1
          },
          "size": 9,
          "symbol": 3
         },
         "mode": "markers",
         "name": "High income1",
         "text": [
          "Barbados",
          "Chile",
          "Cyprus",
          "Oman",
          "Saudi Arabia",
          "Slovakia",
          "Trinidad and Tobago",
          "United Arab Emirates"
         ],
         "type": "scatter",
         "uid": "c2a8a145-6158-4cfe-85c2-e35ca459001d",
         "x": [
          0.7157320925378302,
          1.250954122339907,
          0.965733122678537,
          0.33402168450884057,
          0.14124672322035267,
          1.1712101113029214,
          0.0074670162306179014,
          -0.25868832803558145
         ],
         "y": [
          0.3289711560555292,
          -0.0419202435200735,
          0.3710092288989442,
          -0.2616667951178221,
          -0.22478873758997753,
          0.09598456723959597,
          0.24464500852686083,
          -0.5824782807505995
         ]
        },
        {
         "marker": {
          "color": 2,
          "line": {
           "width": 1
          },
          "size": 9,
          "symbol": 3
         },
         "mode": "markers",
         "name": "High income2",
         "text": [],
         "type": "scatter",
         "uid": "aa4e1e05-2376-46d7-ac6a-7709abdd529d",
         "x": [],
         "y": []
        },
        {
         "marker": {
          "color": 3,
          "line": {
           "width": 1
          },
          "size": 9,
          "symbol": 3
         },
         "mode": "markers",
         "name": "High income3",
         "text": [
          "Argentina",
          "Australia",
          "Austria",
          "Belgium",
          "Bermuda",
          "Canada",
          "China, Hong Kong SAR",
          "Croatia",
          "Czechia",
          "Denmark",
          "Estonia",
          "Finland",
          "France",
          "French Polynesia",
          "Germany",
          "Greece",
          "Hungary",
          "Iceland",
          "Ireland",
          "Israel",
          "Italy",
          "Kuwait",
          "Latvia",
          "Lithuania",
          "Luxembourg",
          "Malta",
          "Netherlands",
          "New Caledonia",
          "New Zealand",
          "Norway",
          "Poland",
          "Portugal",
          "Slovenia",
          "Spain",
          "Sweden",
          "Switzerland",
          "United Kingdom",
          "United States of America",
          "Uruguay"
         ],
         "type": "scatter",
         "uid": "1b5eca2b-e3b2-4c31-a056-8335910d4004",
         "x": [
          3.2983498762122334,
          2.8002643010035624,
          3.429784707164056,
          2.2968281516748634,
          2.284301805268657,
          1.9253313062795252,
          3.301781941735512,
          1.4817413475205174,
          2.262140771038658,
          3.504807928693892,
          3.3325712363062685,
          4.1188588596609526,
          3.169053843356343,
          1.7781222551987987,
          3.1894889099375328,
          2.544962047643226,
          1.5703559804597171,
          3.8616723113499294,
          2.723542787742862,
          3.172953055041278,
          2.752216860789632,
          1.4946064494434443,
          2.9749939802249656,
          4.383300887530981,
          3.5050312995510264,
          2.4393397624417057,
          3.7082371049534113,
          1.3047356152072567,
          1.711554120510259,
          2.921361627271437,
          3.757380361743879,
          2.6144073362894886,
          2.088311050755875,
          2.6161160429544137,
          3.7290882295353867,
          2.227111295079833,
          2.3740110641023042,
          3.2536410635146082,
          1.8221168640922374
         ],
         "y": [
          -0.8126898482776399,
          -0.2915935120730121,
          0.555266877567473,
          0.027533723081726705,
          0.7771684171803444,
          -0.10020090276356512,
          3.154621130404117,
          0.15223676768619857,
          0.2645022954602303,
          0.5450920113255161,
          -0.9162582864977895,
          0.48935195296993406,
          0.05682524479079521,
          1.1729280594109088,
          0.5136882458139987,
          -1.4410342268163416,
          0.2563795405312364,
          0.3008469607060452,
          -0.3980260445066677,
          -0.17741029486518783,
          0.09022781952943736,
          -0.3320897028840272,
          -0.12228503600345081,
          0.9662738512933384,
          0.2750394384928398,
          0.21921484249835788,
          0.4302635451022588,
          0.7576528154740066,
          -0.8674287533440144,
          0.2096665522520034,
          0.7187548723722688,
          1.0008698726733043,
          -0.28913432815623147,
          1.1852367702287456,
          0.5409868782211086,
          -0.0665368600229202,
          -0.17629378330116102,
          0.25151296869878453,
          -1.0347514422303852
         ]
        },
        {
         "marker": {
          "color": "rgba(220, 220, 220, .4)",
          "line": {
           "width": 1
          },
          "size": 20
         },
         "mode": "markers",
         "name": "Center",
         "type": "scatter",
         "uid": "204e75d0-3c22-430e-bcea-bda50b5829be",
         "x": [
          -0.35030091007755954,
          0.2682138080787182,
          -2.5027543233261786,
          2.7684376478050665
         ],
         "y": [
          1.9650582976259912,
          -0.8252137515582704,
          -0.30014743019252227,
          -0.024552892800928136
         ]
        }
       ],
       "layout": {
        "hovermode": "closest",
        "showlegend": true,
        "title": {
         "text": "2 component PCA Kmeans Clustering Income group"
        },
        "xaxis": {
         "gridwidth": 2,
         "ticklen": 5,
         "title": {
          "text": "principal component 1"
         },
         "zeroline": false
        },
        "yaxis": {
         "gridwidth": 2,
         "ticklen": 5,
         "title": {
          "text": "principal component 2"
         }
        }
       }
      },
      "text/html": [
       "<div>\n",
       "        \n",
       "        \n",
       "            <div id=\"8d32838e-5f40-4de4-8ff4-1807b47c3d52\" class=\"plotly-graph-div\" style=\"height:525px; width:100%;\"></div>\n",
       "            <script type=\"text/javascript\">\n",
       "                require([\"plotly\"], function(Plotly) {\n",
       "                    window.PLOTLYENV=window.PLOTLYENV || {};\n",
       "                    window.PLOTLYENV.BASE_URL='https://plot.ly';\n",
       "                    \n",
       "                if (document.getElementById(\"8d32838e-5f40-4de4-8ff4-1807b47c3d52\")) {\n",
       "                    Plotly.newPlot(\n",
       "                        '8d32838e-5f40-4de4-8ff4-1807b47c3d52',\n",
       "                        [{\"marker\": {\"color\": 0, \"line\": {\"width\": 1}, \"size\": 9, \"symbol\": 0}, \"mode\": \"markers\", \"name\": \"Low income0\", \"text\": [], \"type\": \"scatter\", \"uid\": \"dc306353-3a2e-4005-b0ca-da3552ca6a87\", \"x\": [], \"y\": []}, {\"marker\": {\"color\": 1, \"line\": {\"width\": 1}, \"size\": 9, \"symbol\": 0}, \"mode\": \"markers\", \"name\": \"Low income1\", \"text\": [\"Afghanistan\", \"Tajikistan\"], \"type\": \"scatter\", \"uid\": \"09c5dc84-f5a4-46e7-8f09-9d2ab214cbf0\", \"x\": [-0.8066318102487012, -1.163128867055314], \"y\": [-1.454413756721853, -1.4255223038956948]}, {\"marker\": {\"color\": 2, \"line\": {\"width\": 1}, \"size\": 9, \"symbol\": 0}, \"mode\": \"markers\", \"name\": \"Low income2\", \"text\": [\"Benin\", \"Burkina Faso\", \"Central African Republic\", \"Chad\", \"Democratic People's Republic of Korea\", \"Ethiopia\", \"Gambia\", \"Guinea\", \"Guinea-Bissau\", \"Haiti\", \"Liberia\", \"Madagascar\", \"Malawi\", \"Mali\", \"Mozambique\", \"Nepal\", \"Niger\", \"Rwanda\", \"Senegal\", \"Sierra Leone\", \"Togo\", \"Uganda\", \"United Republic of Tanzania\", \"Yemen\", \"Zimbabwe\"], \"type\": \"scatter\", \"uid\": \"ab173177-382e-4eeb-824b-cc37e835bda8\", \"x\": [-2.761455317023798, -3.0531927376026853, -2.401979374972313, -2.9355894252738213, -2.895933884702707, -3.1011968415896316, -2.1345999920829977, -2.925708178187594, -2.935350814270425, -3.185198542897812, -2.946725845549144, -2.9850134984784904, -3.531306127860811, -2.4060478163161014, -3.2569623202874736, -2.5488498114495206, -3.4730107364043326, -3.745953670250634, -2.4599302528379745, -3.0077393033131763, -3.264362313297805, -3.1938600526728056, -3.2341507146364274, -1.3906751138584383, -2.653619957088088], \"y\": [-0.06139678513378594, -0.7574603720868167, -1.0900950636624802, -0.51183894288515, 0.3473322584936175, -1.4306673502437717, 0.5280548616635982, 1.0630299322846903, 1.119499120125993, -0.2936333147623672, 1.2556138396324046, 1.131278298136573, -1.7470280254152923, -0.7206866662188854, -0.7985039440496015, -0.27204518754834994, -1.4977831189512485, -1.7559551511325202, 0.8145431306532148, 1.4237834966771823, -0.7307053349465572, -1.059814464582445, -1.0563716516768524, -0.9182174333153971, -0.7923323492134369]}, {\"marker\": {\"color\": 3, \"line\": {\"width\": 1}, \"size\": 9, \"symbol\": 0}, \"mode\": \"markers\", \"name\": \"Low income3\", \"text\": [], \"type\": \"scatter\", \"uid\": \"d2c7db1a-37bc-4ef8-80e3-cf830fa81418\", \"x\": [], \"y\": []}, {\"marker\": {\"color\": 0, \"line\": {\"width\": 1}, \"size\": 9, \"symbol\": 1}, \"mode\": \"markers\", \"name\": \"Upper middle income0\", \"text\": [\"China, mainland\", \"Ecuador\", \"Gabon\", \"Grenada\", \"Guyana\", \"Malaysia\", \"Maldives\", \"Saint Vincent and the Grenadines\", \"Samoa\", \"Suriname\", \"Thailand\"], \"type\": \"scatter\", \"uid\": \"43a26ee5-91c8-4a53-8638-70f8653fe145\", \"x\": [0.8141520709320557, -0.311467675656889, -0.8687569678466985, 0.03157813492704396, -0.8992922046124754, 0.08254012373454955, 1.5297244600983222, 0.49191793329995276, 0.7612759729551208, -1.0422492676208412, -1.4849588344900313], \"y\": [1.8113217317446082, 0.62261482357903, 0.8737614560944854, 0.8800815226997114, 1.1989859355128962, 2.6261783869138924, 5.080015839206428, 0.8622746552420673, 1.1337714020958107, 1.2397310560020824, 2.373991695285271]}, {\"marker\": {\"color\": 1, \"line\": {\"width\": 1}, \"size\": 9, \"symbol\": 1}, \"mode\": \"markers\", \"name\": \"Upper middle income1\", \"text\": [\"Algeria\", \"Armenia\", \"Azerbaijan\", \"Bosnia and Herzegovina\", \"Brazil\", \"Bulgaria\", \"Colombia\", \"Costa Rica\", \"Dominica\", \"Fiji\", \"Iran (Islamic Republic of)\", \"Iraq\", \"Jamaica\", \"Jordan\", \"Lebanon\", \"Mauritius\", \"Mexico\", \"Paraguay\", \"Saint Lucia\", \"Serbia\", \"South Africa\", \"North Macedonia\", \"Turkey\", \"Turkmenistan\", \"Venezuela (Bolivarian Republic of)\"], \"type\": \"scatter\", \"uid\": \"d19cdb0d-31ef-4b2e-8a24-4dbe68839dec\", \"x\": [0.8217038685302547, 1.5912620185895445, 1.5155433136152623, -0.2865112683008687, 0.8042786864509208, 0.9383780510212321, -0.5625445150612255, -0.1812186453425076, 0.10986530004072252, -0.5450840832564462, 0.0013358535558126428, -0.726120752370932, -0.30624698411249546, 0.13986663089141155, -0.19409112265133685, 0.24700016018602544, -0.12136034742416028, -0.12176466123281933, 0.6469462304545903, 0.6384192934719156, -0.3151545166866382, -0.024522972625530534, 1.3295368560324028, 2.0606533099644886, -0.11242280909133386], \"y\": [-2.6994220708972794, -1.0177001140505753, -2.269156387364123, -1.3166491240934244, -0.2108007341465027, -0.24921460505346935, -0.03654495347007563, 0.3031543407273656, 0.002162899582244687, -0.0706567815501952, -1.0998001241338657, -0.19930197312281173, 0.44669426813884383, -0.9127853797687305, -0.8537796282486232, 0.2536283431917771, -0.5812149842884032, -0.23544380633626774, 0.6691135439509076, -0.6023169299034161, -0.6777028481548247, -0.75390354612768, -1.820966701024357, -3.18950464341275, 0.03278265803912569]}, {\"marker\": {\"color\": 2, \"line\": {\"width\": 1}, \"size\": 9, \"symbol\": 1}, \"mode\": \"markers\", \"name\": \"Upper middle income2\", \"text\": [\"Belize\", \"Botswana\", \"Cuba\", \"Dominican Republic\", \"Guatemala\", \"Namibia\", \"Peru\"], \"type\": \"scatter\", \"uid\": \"b5a7e2c6-eb28-4924-9983-3ae3825f0e81\", \"x\": [-1.1722156999569542, -1.7792654705076574, -1.2234992597932053, -1.3861417486861718, -1.7679532474630102, -1.9842246079012047, -1.1759544256426786], \"y\": [0.20959618861064058, -0.9705138064325136, 0.11734647472364686, 0.6811133733296519, -0.9494186112117974, -0.8965211882048391, -0.00338404990565594]}, {\"marker\": {\"color\": 3, \"line\": {\"width\": 1}, \"size\": 9, \"symbol\": 1}, \"mode\": \"markers\", \"name\": \"Upper middle income3\", \"text\": [\"Albania\", \"Belarus\", \"Kazakhstan\", \"Montenegro\", \"Romania\", \"Russian Federation\"], \"type\": \"scatter\", \"uid\": \"1585278c-62ea-4b7e-88d9-da2192424bdf\", \"x\": [2.880997010937838, 3.727015690950966, 2.0860853256902323, 2.7777922649033893, 2.176777040818596, 2.91679763259059], \"y\": [-2.200271348624619, 0.7675525563459799, -1.6934105276682667, -0.5100823108586711, -1.040822640016608, -0.028542696295247194]}, {\"marker\": {\"color\": 0, \"line\": {\"width\": 1}, \"size\": 9, \"symbol\": 2}, \"mode\": \"markers\", \"name\": \"Lower middle income0\", \"text\": [\"Cambodia\", \"Indonesia\", \"Kiribati\", \"Lao People's Democratic Republic\", \"Myanmar\", \"Philippines\", \"Vanuatu\", \"Viet Nam\"], \"type\": \"scatter\", \"uid\": \"47a73387-4c26-4da1-873f-6b9c69f78737\", \"x\": [-2.8355714869961357, -2.4095844856330215, -0.8572704888558011, -2.917733350205966, -1.74754923203534, -1.8101488719435908, -1.0442256241145356, -1.486709976093775], \"y\": [2.9920872154428455, 2.156389974016497, 2.368484099430268, 2.682433834664434, 2.9168226034916183, 2.392118467754419, 0.7786741081394595, 3.191136933741796]}, {\"marker\": {\"color\": 1, \"line\": {\"width\": 1}, \"size\": 9, \"symbol\": 2}, \"mode\": \"markers\", \"name\": \"Lower middle income1\", \"text\": [\"Bolivia (Plurinational State of)\", \"Egypt\", \"Georgia\", \"Kyrgyzstan\", \"Mauritania\", \"Mongolia\", \"Morocco\", \"Pakistan\", \"Republic of Moldova\", \"Tunisia\", \"Uzbekistan\"], \"type\": \"scatter\", \"uid\": \"12b9a6ea-657e-49ec-ae98-6bcb1d432024\", \"x\": [-0.6850962521630208, -0.3864755615347677, 0.35666857849047995, 0.7268788207090425, -0.6270796386142267, 0.7811370198750561, 1.1923234152327322, -0.5166755455683948, -0.13201174042736732, 0.9602258176780426, 0.9622774958157636], \"y\": [-0.34757712025202797, -0.8067319663341315, -0.8714945081911597, -2.13252446210261, -1.4340629614884106, -4.06325600364961, -3.142560951270779, -1.1895660982971679, -0.2818917074548535, -1.7993847347041594, -1.8512726195433202]}, {\"marker\": {\"color\": 2, \"line\": {\"width\": 1}, \"size\": 9, \"symbol\": 2}, \"mode\": \"markers\", \"name\": \"Lower middle income2\", \"text\": [\"Angola\", \"Bangladesh\", \"Cabo Verde\", \"Cameroon\", \"Congo (note no data in Food suppley tables for DRC)\", \"C\\u00c3\\u0192\\u00c2\\u00b4te d'Ivoire\", \"Djibouti\", \"El Salvador\", \"Ghana\", \"Honduras\", \"India\", \"Kenya\", \"Lesotho\", \"Nicaragua\", \"Nigeria\", \"Sao Tome and Principe\", \"Solomon Islands\", \"Sri Lanka\", \"Eswatini\", \"Timor-Leste\", \"Zambia\"], \"type\": \"scatter\", \"uid\": \"1b581220-25df-437c-a198-7a87ef112ec5\", \"x\": [-1.9975329968592799, -3.082010952446694, -1.4645592877306972, -3.2204231103451986, -2.01846276687181, -2.7527383249003803, -1.420414712863716, -1.5702928403912042, -2.6905613884891864, -1.7324156978701921, -2.3181216149344794, -2.5091068920837585, -2.830942890597179, -2.578612963670199, -2.866285247913259, -1.8088645670814154, -2.250656687927032, -2.482544315634908, -2.0710813723115873, -3.0698999232862696, -2.992783479223148], \"y\": [-0.5483919739663026, 2.1548578427627976, 0.07609062749291318, -0.8056383072822126, 0.17949074165162926, 0.12687421076479874, -1.3493563849252779, -1.1226454209654055, -0.39658288880736475, -0.6807962224467223, 0.024061078309389358, -1.5779145532744323, -2.073344680607281, -0.5548063760005235, -0.4495771414678121, 0.223523667334542, 0.41966269122196426, 1.622242821220155, -0.9805951770948886, 0.26038718774546854, -0.832173704620567]}, {\"marker\": {\"color\": 3, \"line\": {\"width\": 1}, \"size\": 9, \"symbol\": 2}, \"mode\": \"markers\", \"name\": \"Lower middle income3\", \"text\": [\"Sudan\", \"Ukraine\"], \"type\": \"scatter\", \"uid\": \"e79cc95b-dac9-4c58-8b1f-96aa1ae62a26\", \"x\": [3.682809045791822, 2.143820995874165], \"y\": [-4.1644246270513445, -0.17039279949742941]}, {\"marker\": {\"color\": 0, \"line\": {\"width\": 1}, \"size\": 9, \"symbol\": 3}, \"mode\": \"markers\", \"name\": \"High income0\", \"text\": [\"Antigua and Barbuda\", \"Bahamas\", \"Brunei Darussalam\", \"China, Macao SAR\", \"China, Taiwan Province of\", \"Japan\", \"Panama\", \"Republic of Korea\", \"Saint Kitts and Nevis\"], \"type\": \"scatter\", \"uid\": \"446ece89-27b5-4d71-afc6-448a670c1be2\", \"x\": [0.8999083425697635, 1.2550018435298482, 0.9493427804385842, 1.8417999997188168, 0.542450202773705, 0.9249350282419273, -0.38060831756682983, 0.29607687689076717, -0.13300246861019246], \"y\": [1.2308365143171462, 1.2216089165593678, 2.141524597224632, 2.8649784206143623, 2.0269602477105524, 2.5509599450409275, 0.9395709343127172, 2.778920197121249, 1.0853968195691723]}, {\"marker\": {\"color\": 1, \"line\": {\"width\": 1}, \"size\": 9, \"symbol\": 3}, \"mode\": \"markers\", \"name\": \"High income1\", \"text\": [\"Barbados\", \"Chile\", \"Cyprus\", \"Oman\", \"Saudi Arabia\", \"Slovakia\", \"Trinidad and Tobago\", \"United Arab Emirates\"], \"type\": \"scatter\", \"uid\": \"c2a8a145-6158-4cfe-85c2-e35ca459001d\", \"x\": [0.7157320925378302, 1.250954122339907, 0.965733122678537, 0.33402168450884057, 0.14124672322035267, 1.1712101113029214, 0.0074670162306179014, -0.25868832803558145], \"y\": [0.3289711560555292, -0.0419202435200735, 0.3710092288989442, -0.2616667951178221, -0.22478873758997753, 0.09598456723959597, 0.24464500852686083, -0.5824782807505995]}, {\"marker\": {\"color\": 2, \"line\": {\"width\": 1}, \"size\": 9, \"symbol\": 3}, \"mode\": \"markers\", \"name\": \"High income2\", \"text\": [], \"type\": \"scatter\", \"uid\": \"aa4e1e05-2376-46d7-ac6a-7709abdd529d\", \"x\": [], \"y\": []}, {\"marker\": {\"color\": 3, \"line\": {\"width\": 1}, \"size\": 9, \"symbol\": 3}, \"mode\": \"markers\", \"name\": \"High income3\", \"text\": [\"Argentina\", \"Australia\", \"Austria\", \"Belgium\", \"Bermuda\", \"Canada\", \"China, Hong Kong SAR\", \"Croatia\", \"Czechia\", \"Denmark\", \"Estonia\", \"Finland\", \"France\", \"French Polynesia\", \"Germany\", \"Greece\", \"Hungary\", \"Iceland\", \"Ireland\", \"Israel\", \"Italy\", \"Kuwait\", \"Latvia\", \"Lithuania\", \"Luxembourg\", \"Malta\", \"Netherlands\", \"New Caledonia\", \"New Zealand\", \"Norway\", \"Poland\", \"Portugal\", \"Slovenia\", \"Spain\", \"Sweden\", \"Switzerland\", \"United Kingdom\", \"United States of America\", \"Uruguay\"], \"type\": \"scatter\", \"uid\": \"1b5eca2b-e3b2-4c31-a056-8335910d4004\", \"x\": [3.2983498762122334, 2.8002643010035624, 3.429784707164056, 2.2968281516748634, 2.284301805268657, 1.9253313062795252, 3.301781941735512, 1.4817413475205174, 2.262140771038658, 3.504807928693892, 3.3325712363062685, 4.1188588596609526, 3.169053843356343, 1.7781222551987987, 3.1894889099375328, 2.544962047643226, 1.5703559804597171, 3.8616723113499294, 2.723542787742862, 3.172953055041278, 2.752216860789632, 1.4946064494434443, 2.9749939802249656, 4.383300887530981, 3.5050312995510264, 2.4393397624417057, 3.7082371049534113, 1.3047356152072567, 1.711554120510259, 2.921361627271437, 3.757380361743879, 2.6144073362894886, 2.088311050755875, 2.6161160429544137, 3.7290882295353867, 2.227111295079833, 2.3740110641023042, 3.2536410635146082, 1.8221168640922374], \"y\": [-0.8126898482776399, -0.2915935120730121, 0.555266877567473, 0.027533723081726705, 0.7771684171803444, -0.10020090276356512, 3.154621130404117, 0.15223676768619857, 0.2645022954602303, 0.5450920113255161, -0.9162582864977895, 0.48935195296993406, 0.05682524479079521, 1.1729280594109088, 0.5136882458139987, -1.4410342268163416, 0.2563795405312364, 0.3008469607060452, -0.3980260445066677, -0.17741029486518783, 0.09022781952943736, -0.3320897028840272, -0.12228503600345081, 0.9662738512933384, 0.2750394384928398, 0.21921484249835788, 0.4302635451022588, 0.7576528154740066, -0.8674287533440144, 0.2096665522520034, 0.7187548723722688, 1.0008698726733043, -0.28913432815623147, 1.1852367702287456, 0.5409868782211086, -0.0665368600229202, -0.17629378330116102, 0.25151296869878453, -1.0347514422303852]}, {\"marker\": {\"color\": \"rgba(220, 220, 220, .4)\", \"line\": {\"width\": 1}, \"size\": 20}, \"mode\": \"markers\", \"name\": \"Center\", \"type\": \"scatter\", \"uid\": \"204e75d0-3c22-430e-bcea-bda50b5829be\", \"x\": [-0.35030091007755954, 0.2682138080787182, -2.5027543233261786, 2.7684376478050665], \"y\": [1.9650582976259912, -0.8252137515582704, -0.30014743019252227, -0.024552892800928136]}],\n",
       "                        {\"hovermode\": \"closest\", \"showlegend\": true, \"title\": {\"text\": \"2 component PCA Kmeans Clustering Income group\"}, \"xaxis\": {\"gridwidth\": 2, \"ticklen\": 5, \"title\": {\"text\": \"principal component 1\"}, \"zeroline\": false}, \"yaxis\": {\"gridwidth\": 2, \"ticklen\": 5, \"title\": {\"text\": \"principal component 2\"}}},\n",
       "                        {\"showLink\": false, \"linkText\": \"Export to plot.ly\", \"plotlyServerURL\": \"https://plot.ly\", \"responsive\": true}\n",
       "                    ).then(function(){\n",
       "                            \n",
       "var gd = document.getElementById('8d32838e-5f40-4de4-8ff4-1807b47c3d52');\n",
       "var x = new MutationObserver(function (mutations, observer) {{\n",
       "        var display = window.getComputedStyle(gd).display;\n",
       "        if (!display || display === 'none') {{\n",
       "            console.log([gd, 'removed!']);\n",
       "            Plotly.purge(gd);\n",
       "            observer.disconnect();\n",
       "        }}\n",
       "}});\n",
       "\n",
       "// Listen for the removal of the full notebook cells\n",
       "var notebookContainer = gd.closest('#notebook-container');\n",
       "if (notebookContainer) {{\n",
       "    x.observe(notebookContainer, {childList: true});\n",
       "}}\n",
       "\n",
       "// Listen for the clearing of the current output cell\n",
       "var outputEl = gd.closest('.output');\n",
       "if (outputEl) {{\n",
       "    x.observe(outputEl, {childList: true});\n",
       "}}\n",
       "\n",
       "                        })\n",
       "                };\n",
       "                });\n",
       "            </script>\n",
       "        </div>"
      ]
     },
     "metadata": {},
     "output_type": "display_data"
    },
    {
     "name": "stderr",
     "output_type": "stream",
     "text": [
      "C:\\Users\\XuP-intern\\AppData\\Local\\Continuum\\anaconda3\\lib\\site-packages\\IPython\\core\\display.py:689: UserWarning:\n",
      "\n",
      "Consider using IPython.display.IFrame instead\n",
      "\n"
     ]
    }
   ],
   "source": [
    "# Plot using plotly on Region level.\n",
    "\n",
    "plot_plotly(principalDf,\"Income group\",income_centers,\"Protein Foods\")"
   ]
  },
  {
   "cell_type": "markdown",
   "metadata": {},
   "source": [
    "### Analysis 2: PCA on protein foods + GDP + Urban/Rural ratio + permanent crops ratio "
   ]
  },
  {
   "cell_type": "markdown",
   "metadata": {},
   "source": [
    "###### Prepare Dataset\n",
    "###### For this analysis, we groub bovine meat sheep goat pigmeat and poultry as a food group. Same for milk and egg.We then calculate a urban rural ration by dividing urban population with rural population. Last, we calculate a permanent crops ratio by dividing permanent crop area by total country area. \n",
    "\n",
    "###### This results in a dataset with Bovine_Sheep_Pigmeat_Poultry, Cereals, Milk_Egg, Fish_x, Av 2011+2012+2013 extracted from WDI (constant 2010 Us dollars)Urban_Rural_ratio  Permenent_Crops_Ratio, Country, Code, Income group, Region, and Continent as columns. \n"
   ]
  },
  {
   "cell_type": "code",
   "execution_count": 28,
   "metadata": {
    "code_folding": []
   },
   "outputs": [
    {
     "data": {
      "text/html": [
       "<div>\n",
       "<style scoped>\n",
       "    .dataframe tbody tr th:only-of-type {\n",
       "        vertical-align: middle;\n",
       "    }\n",
       "\n",
       "    .dataframe tbody tr th {\n",
       "        vertical-align: top;\n",
       "    }\n",
       "\n",
       "    .dataframe thead th {\n",
       "        text-align: right;\n",
       "    }\n",
       "</style>\n",
       "<table border=\"1\" class=\"dataframe\">\n",
       "  <thead>\n",
       "    <tr style=\"text-align: right;\">\n",
       "      <th></th>\n",
       "      <th>Bovine_Sheep_Pigmeat_Poultry</th>\n",
       "      <th>Cereals</th>\n",
       "      <th>Milk_Egg</th>\n",
       "      <th>Fish_x</th>\n",
       "      <th>Av 2011+2012+2013 extracted from WDI (constant 2010 US$)</th>\n",
       "      <th>Urban_Rural_ratio</th>\n",
       "      <th>Permenent_Crops_Ratio</th>\n",
       "      <th>Country</th>\n",
       "      <th>Code</th>\n",
       "      <th>Income group_y</th>\n",
       "      <th>Region_y</th>\n",
       "      <th>Continent</th>\n",
       "    </tr>\n",
       "  </thead>\n",
       "  <tbody>\n",
       "    <tr>\n",
       "      <th>0</th>\n",
       "      <td>4.82</td>\n",
       "      <td>41.39</td>\n",
       "      <td>6.34</td>\n",
       "      <td>0.02</td>\n",
       "      <td>572.815028</td>\n",
       "      <td>0.328817</td>\n",
       "      <td>0.001838</td>\n",
       "      <td>Afghanistan</td>\n",
       "      <td>AFG</td>\n",
       "      <td>Low income</td>\n",
       "      <td>South Asia</td>\n",
       "      <td>Asia</td>\n",
       "    </tr>\n",
       "    <tr>\n",
       "      <th>1</th>\n",
       "      <td>22.20</td>\n",
       "      <td>35.48</td>\n",
       "      <td>32.91</td>\n",
       "      <td>1.50</td>\n",
       "      <td>4271.534293</td>\n",
       "      <td>1.429285</td>\n",
       "      <td>0.026748</td>\n",
       "      <td>Albania</td>\n",
       "      <td>ALB</td>\n",
       "      <td>Upper middle income</td>\n",
       "      <td>Europe &amp; Central Asia</td>\n",
       "      <td>Eurpoe</td>\n",
       "    </tr>\n",
       "    <tr>\n",
       "      <th>2</th>\n",
       "      <td>7.18</td>\n",
       "      <td>49.25</td>\n",
       "      <td>15.87</td>\n",
       "      <td>1.23</td>\n",
       "      <td>4555.191581</td>\n",
       "      <td>2.395336</td>\n",
       "      <td>0.003880</td>\n",
       "      <td>Algeria</td>\n",
       "      <td>DZA</td>\n",
       "      <td>Upper middle income</td>\n",
       "      <td>Middle East &amp; North Africa</td>\n",
       "      <td>Africa</td>\n",
       "    </tr>\n",
       "    <tr>\n",
       "      <th>3</th>\n",
       "      <td>11.60</td>\n",
       "      <td>19.00</td>\n",
       "      <td>1.53</td>\n",
       "      <td>4.14</td>\n",
       "      <td>3709.969541</td>\n",
       "      <td>0.528939</td>\n",
       "      <td>0.002326</td>\n",
       "      <td>Angola</td>\n",
       "      <td>AGO</td>\n",
       "      <td>Lower middle income</td>\n",
       "      <td>Sub-Saharan Africa</td>\n",
       "      <td>Africa</td>\n",
       "    </tr>\n",
       "    <tr>\n",
       "      <th>4</th>\n",
       "      <td>27.84</td>\n",
       "      <td>16.60</td>\n",
       "      <td>13.52</td>\n",
       "      <td>13.11</td>\n",
       "      <td>11929.279270</td>\n",
       "      <td>0.300981</td>\n",
       "      <td>0.022727</td>\n",
       "      <td>Antigua and Barbuda</td>\n",
       "      <td>ATG</td>\n",
       "      <td>High income</td>\n",
       "      <td>Latin America &amp; Caribbean</td>\n",
       "      <td>North America</td>\n",
       "    </tr>\n",
       "  </tbody>\n",
       "</table>\n",
       "</div>"
      ],
      "text/plain": [
       "   Bovine_Sheep_Pigmeat_Poultry  Cereals  Milk_Egg  Fish_x  \\\n",
       "0                          4.82    41.39      6.34    0.02   \n",
       "1                         22.20    35.48     32.91    1.50   \n",
       "2                          7.18    49.25     15.87    1.23   \n",
       "3                         11.60    19.00      1.53    4.14   \n",
       "4                         27.84    16.60     13.52   13.11   \n",
       "\n",
       "    Av 2011+2012+2013 extracted from WDI (constant 2010 US$)  \\\n",
       "0                                         572.815028           \n",
       "1                                        4271.534293           \n",
       "2                                        4555.191581           \n",
       "3                                        3709.969541           \n",
       "4                                       11929.279270           \n",
       "\n",
       "   Urban_Rural_ratio  Permenent_Crops_Ratio              Country Code  \\\n",
       "0           0.328817               0.001838          Afghanistan  AFG   \n",
       "1           1.429285               0.026748              Albania  ALB   \n",
       "2           2.395336               0.003880              Algeria  DZA   \n",
       "3           0.528939               0.002326               Angola  AGO   \n",
       "4           0.300981               0.022727  Antigua and Barbuda  ATG   \n",
       "\n",
       "        Income group_y                    Region_y      Continent  \n",
       "0           Low income                  South Asia           Asia  \n",
       "1  Upper middle income       Europe & Central Asia         Eurpoe  \n",
       "2  Upper middle income  Middle East & North Africa         Africa  \n",
       "3  Lower middle income          Sub-Saharan Africa         Africa  \n",
       "4          High income   Latin America & Caribbean  North America  "
      ]
     },
     "execution_count": 28,
     "metadata": {},
     "output_type": "execute_result"
    }
   ],
   "source": [
    "\n",
    "\n",
    "protein_group_merged_df['Bovine_Sheep_Pigmeat_Poultry'] = protein_group_merged_df['Bovine meat']+protein_group_merged_df['Sheep and goat meat']+protein_group_merged_df['Pigmeat']+protein_group_merged_df['Poultry']\n",
    "protein_group_merged_df['Milk_Egg'] = protein_group_merged_df['Milk']+protein_group_merged_df['Eggs']\n",
    "protein_group_merged_master_df = protein_group_merged_df.merge(master_df,how=\"left\",on=\"Country\")\n",
    "protein_group_merged_master_df['Urban_Rural_ratio'] = protein_group_merged_master_df[\"Urban population\"]/protein_group_merged_master_df[\"Rural population\"]\n",
    "protein_group_merged_master_df['Permenent_Crops_Ratio'] = protein_group_merged_master_df['Permanent crops area']/ protein_group_merged_master_df['Total area of the country (excl. coastal waters)']\n",
    "protein_group_merged_final_master_df = protein_group_merged_master_df.merge(principalDf,how=\"left\",on =\"Country\")\n",
    "socio_cols = ['Bovine_Sheep_Pigmeat_Poultry','Cereals','Milk_Egg','Fish_x'\n",
    "              ,' Av 2011+2012+2013 extracted from WDI (constant 2010 US$)'\n",
    "              ,'Urban_Rural_ratio','Permenent_Crops_Ratio']\n",
    "\n",
    "country_cols = ['Country','Code','Income group_y','Region_y','Continent']\n",
    "\n",
    "desired_cols = socio_cols + country_cols\n",
    "\n",
    "socio_pca_df = protein_group_merged_final_master_df[desired_cols]\n",
    "# socio_pca_df.rename({\"Income group_y\":\"Income group\",\"Fish_x\":\"Fish\",\"Region_y\":\"Region\"},axis = 1,inplace = True)\n",
    "socio_pca_df.head()"
   ]
  },
  {
   "cell_type": "code",
   "execution_count": 29,
   "metadata": {},
   "outputs": [
    {
     "data": {
      "text/html": [
       "<div>\n",
       "<style scoped>\n",
       "    .dataframe tbody tr th:only-of-type {\n",
       "        vertical-align: middle;\n",
       "    }\n",
       "\n",
       "    .dataframe tbody tr th {\n",
       "        vertical-align: top;\n",
       "    }\n",
       "\n",
       "    .dataframe thead th {\n",
       "        text-align: right;\n",
       "    }\n",
       "</style>\n",
       "<table border=\"1\" class=\"dataframe\">\n",
       "  <thead>\n",
       "    <tr style=\"text-align: right;\">\n",
       "      <th></th>\n",
       "      <th>Bovine_Sheep_Pigmeat_Poultry</th>\n",
       "      <th>Cereals</th>\n",
       "      <th>Milk_Egg</th>\n",
       "      <th>Fish_x</th>\n",
       "      <th>Av 2011+2012+2013 extracted from WDI (constant 2010 US$)</th>\n",
       "      <th>Urban_Rural_ratio</th>\n",
       "      <th>Permenent_Crops_Ratio</th>\n",
       "      <th>Country</th>\n",
       "      <th>Code</th>\n",
       "      <th>Income group_y</th>\n",
       "      <th>Region_y</th>\n",
       "      <th>Continent</th>\n",
       "    </tr>\n",
       "  </thead>\n",
       "  <tbody>\n",
       "    <tr>\n",
       "      <th>17</th>\n",
       "      <td>38.51</td>\n",
       "      <td>14.63</td>\n",
       "      <td>12.07</td>\n",
       "      <td>12.40</td>\n",
       "      <td>82266.93602</td>\n",
       "      <td>NaN</td>\n",
       "      <td>NaN</td>\n",
       "      <td>Bermuda</td>\n",
       "      <td>BMU</td>\n",
       "      <td>High income</td>\n",
       "      <td>North America</td>\n",
       "      <td>North America</td>\n",
       "    </tr>\n",
       "    <tr>\n",
       "      <th>32</th>\n",
       "      <td>48.46</td>\n",
       "      <td>19.07</td>\n",
       "      <td>13.34</td>\n",
       "      <td>17.38</td>\n",
       "      <td>34325.77821</td>\n",
       "      <td>NaN</td>\n",
       "      <td>NaN</td>\n",
       "      <td>China, Hong Kong SAR</td>\n",
       "      <td>HKG</td>\n",
       "      <td>High income</td>\n",
       "      <td>East Asia &amp; Pacific</td>\n",
       "      <td>Asia</td>\n",
       "    </tr>\n",
       "    <tr>\n",
       "      <th>33</th>\n",
       "      <td>34.35</td>\n",
       "      <td>18.57</td>\n",
       "      <td>9.42</td>\n",
       "      <td>15.11</td>\n",
       "      <td>66970.48546</td>\n",
       "      <td>NaN</td>\n",
       "      <td>NaN</td>\n",
       "      <td>China, Macao SAR</td>\n",
       "      <td>MAC</td>\n",
       "      <td>High income</td>\n",
       "      <td>East Asia &amp; Pacific</td>\n",
       "      <td>Asia</td>\n",
       "    </tr>\n",
       "    <tr>\n",
       "      <th>35</th>\n",
       "      <td>25.05</td>\n",
       "      <td>22.13</td>\n",
       "      <td>7.63</td>\n",
       "      <td>8.98</td>\n",
       "      <td>NaN</td>\n",
       "      <td>NaN</td>\n",
       "      <td>NaN</td>\n",
       "      <td>China, Taiwan Province of</td>\n",
       "      <td>TWN</td>\n",
       "      <td>High income</td>\n",
       "      <td>East Asia &amp; Pacific</td>\n",
       "      <td>Asia</td>\n",
       "    </tr>\n",
       "    <tr>\n",
       "      <th>44</th>\n",
       "      <td>2.55</td>\n",
       "      <td>27.69</td>\n",
       "      <td>1.78</td>\n",
       "      <td>2.58</td>\n",
       "      <td>NaN</td>\n",
       "      <td>1.513552</td>\n",
       "      <td>0.019081</td>\n",
       "      <td>Democratic People's Republic of Korea</td>\n",
       "      <td>PRK</td>\n",
       "      <td>Low income</td>\n",
       "      <td>East Asia &amp; Pacific</td>\n",
       "      <td>Asia</td>\n",
       "    </tr>\n",
       "    <tr>\n",
       "      <th>46</th>\n",
       "      <td>6.57</td>\n",
       "      <td>37.06</td>\n",
       "      <td>4.65</td>\n",
       "      <td>1.01</td>\n",
       "      <td>NaN</td>\n",
       "      <td>3.036647</td>\n",
       "      <td>0.000000</td>\n",
       "      <td>Djibouti</td>\n",
       "      <td>DJI</td>\n",
       "      <td>Lower middle income</td>\n",
       "      <td>Middle East &amp; North Africa</td>\n",
       "      <td>Africa</td>\n",
       "    </tr>\n",
       "    <tr>\n",
       "      <th>57</th>\n",
       "      <td>34.92</td>\n",
       "      <td>20.25</td>\n",
       "      <td>11.51</td>\n",
       "      <td>13.29</td>\n",
       "      <td>NaN</td>\n",
       "      <td>NaN</td>\n",
       "      <td>NaN</td>\n",
       "      <td>French Polynesia</td>\n",
       "      <td>PYF</td>\n",
       "      <td>High income</td>\n",
       "      <td>East Asia &amp; Pacific</td>\n",
       "      <td>Australia</td>\n",
       "    </tr>\n",
       "    <tr>\n",
       "      <th>112</th>\n",
       "      <td>27.44</td>\n",
       "      <td>22.12</td>\n",
       "      <td>14.43</td>\n",
       "      <td>7.40</td>\n",
       "      <td>NaN</td>\n",
       "      <td>NaN</td>\n",
       "      <td>NaN</td>\n",
       "      <td>New Caledonia</td>\n",
       "      <td>NCL</td>\n",
       "      <td>High income</td>\n",
       "      <td>East Asia &amp; Pacific</td>\n",
       "      <td>Australia</td>\n",
       "    </tr>\n",
       "    <tr>\n",
       "      <th>127</th>\n",
       "      <td>12.77</td>\n",
       "      <td>28.02</td>\n",
       "      <td>16.60</td>\n",
       "      <td>3.63</td>\n",
       "      <td>NaN</td>\n",
       "      <td>0.630905</td>\n",
       "      <td>0.087149</td>\n",
       "      <td>Republic of Moldova</td>\n",
       "      <td>MDA</td>\n",
       "      <td>Lower middle income</td>\n",
       "      <td>Europe &amp; Central Asia</td>\n",
       "      <td>Eurpoe</td>\n",
       "    </tr>\n",
       "    <tr>\n",
       "      <th>153</th>\n",
       "      <td>12.46</td>\n",
       "      <td>27.89</td>\n",
       "      <td>15.76</td>\n",
       "      <td>1.43</td>\n",
       "      <td>NaN</td>\n",
       "      <td>1.370286</td>\n",
       "      <td>0.014002</td>\n",
       "      <td>North Macedonia</td>\n",
       "      <td>MKD</td>\n",
       "      <td>Upper middle income</td>\n",
       "      <td>Europe &amp; Central Asia</td>\n",
       "      <td>Europe</td>\n",
       "    </tr>\n",
       "  </tbody>\n",
       "</table>\n",
       "</div>"
      ],
      "text/plain": [
       "     Bovine_Sheep_Pigmeat_Poultry  Cereals  Milk_Egg  Fish_x  \\\n",
       "17                          38.51    14.63     12.07   12.40   \n",
       "32                          48.46    19.07     13.34   17.38   \n",
       "33                          34.35    18.57      9.42   15.11   \n",
       "35                          25.05    22.13      7.63    8.98   \n",
       "44                           2.55    27.69      1.78    2.58   \n",
       "46                           6.57    37.06      4.65    1.01   \n",
       "57                          34.92    20.25     11.51   13.29   \n",
       "112                         27.44    22.12     14.43    7.40   \n",
       "127                         12.77    28.02     16.60    3.63   \n",
       "153                         12.46    27.89     15.76    1.43   \n",
       "\n",
       "      Av 2011+2012+2013 extracted from WDI (constant 2010 US$)  \\\n",
       "17                                         82266.93602           \n",
       "32                                         34325.77821           \n",
       "33                                         66970.48546           \n",
       "35                                                 NaN           \n",
       "44                                                 NaN           \n",
       "46                                                 NaN           \n",
       "57                                                 NaN           \n",
       "112                                                NaN           \n",
       "127                                                NaN           \n",
       "153                                                NaN           \n",
       "\n",
       "     Urban_Rural_ratio  Permenent_Crops_Ratio  \\\n",
       "17                 NaN                    NaN   \n",
       "32                 NaN                    NaN   \n",
       "33                 NaN                    NaN   \n",
       "35                 NaN                    NaN   \n",
       "44            1.513552               0.019081   \n",
       "46            3.036647               0.000000   \n",
       "57                 NaN                    NaN   \n",
       "112                NaN                    NaN   \n",
       "127           0.630905               0.087149   \n",
       "153           1.370286               0.014002   \n",
       "\n",
       "                                   Country Code       Income group_y  \\\n",
       "17                                 Bermuda  BMU          High income   \n",
       "32                    China, Hong Kong SAR  HKG          High income   \n",
       "33                        China, Macao SAR  MAC          High income   \n",
       "35               China, Taiwan Province of  TWN          High income   \n",
       "44   Democratic People's Republic of Korea  PRK           Low income   \n",
       "46                                Djibouti  DJI  Lower middle income   \n",
       "57                        French Polynesia  PYF          High income   \n",
       "112                          New Caledonia  NCL          High income   \n",
       "127                    Republic of Moldova  MDA  Lower middle income   \n",
       "153                        North Macedonia  MKD  Upper middle income   \n",
       "\n",
       "                       Region_y      Continent  \n",
       "17                North America  North America  \n",
       "32          East Asia & Pacific           Asia  \n",
       "33          East Asia & Pacific           Asia  \n",
       "35          East Asia & Pacific           Asia  \n",
       "44          East Asia & Pacific           Asia  \n",
       "46   Middle East & North Africa         Africa  \n",
       "57          East Asia & Pacific      Australia  \n",
       "112         East Asia & Pacific      Australia  \n",
       "127       Europe & Central Asia         Eurpoe  \n",
       "153       Europe & Central Asia         Europe  "
      ]
     },
     "execution_count": 29,
     "metadata": {},
     "output_type": "execute_result"
    }
   ],
   "source": [
    "# Missing Values \n",
    "socio_pca_df[pd.isnull(socio_pca_df).any(axis=1)]"
   ]
  },
  {
   "cell_type": "code",
   "execution_count": 30,
   "metadata": {},
   "outputs": [
    {
     "data": {
      "text/plain": [
       "array([ 0.59811036,  0.72640358,  2.25214871, -0.64372031, -0.47708471,\n",
       "       -0.26942688, -0.14806678])"
      ]
     },
     "execution_count": 30,
     "metadata": {},
     "output_type": "execute_result"
    }
   ],
   "source": [
    "# Since missing values cannot be processing using pca, we will simply drop them.\n",
    "\n",
    "socio_pca_dropped_df = socio_pca_df.dropna()\n",
    "socio_scaled = StandardScaler().fit_transform(socio_pca_dropped_df[socio_cols])\n",
    "socio_scaled[1]"
   ]
  },
  {
   "cell_type": "markdown",
   "metadata": {},
   "source": [
    "###### PCA"
   ]
  },
  {
   "cell_type": "code",
   "execution_count": 31,
   "metadata": {},
   "outputs": [
    {
     "data": {
      "text/html": [
       "<div>\n",
       "<style scoped>\n",
       "    .dataframe tbody tr th:only-of-type {\n",
       "        vertical-align: middle;\n",
       "    }\n",
       "\n",
       "    .dataframe tbody tr th {\n",
       "        vertical-align: top;\n",
       "    }\n",
       "\n",
       "    .dataframe thead th {\n",
       "        text-align: right;\n",
       "    }\n",
       "</style>\n",
       "<table border=\"1\" class=\"dataframe\">\n",
       "  <thead>\n",
       "    <tr style=\"text-align: right;\">\n",
       "      <th></th>\n",
       "      <th>principal component 1</th>\n",
       "      <th>principal component 2</th>\n",
       "      <th>Country</th>\n",
       "      <th>Continent</th>\n",
       "      <th>Income group</th>\n",
       "      <th>Region</th>\n",
       "    </tr>\n",
       "  </thead>\n",
       "  <tbody>\n",
       "    <tr>\n",
       "      <th>0</th>\n",
       "      <td>-1.697410</td>\n",
       "      <td>-1.543451</td>\n",
       "      <td>Afghanistan</td>\n",
       "      <td>Asia</td>\n",
       "      <td>Low income</td>\n",
       "      <td>South Asia</td>\n",
       "    </tr>\n",
       "    <tr>\n",
       "      <th>1</th>\n",
       "      <td>0.936540</td>\n",
       "      <td>-1.201689</td>\n",
       "      <td>Albania</td>\n",
       "      <td>Eurpoe</td>\n",
       "      <td>Upper middle income</td>\n",
       "      <td>Europe &amp; Central Asia</td>\n",
       "    </tr>\n",
       "    <tr>\n",
       "      <th>2</th>\n",
       "      <td>-0.844069</td>\n",
       "      <td>-2.055723</td>\n",
       "      <td>Algeria</td>\n",
       "      <td>Africa</td>\n",
       "      <td>Upper middle income</td>\n",
       "      <td>Middle East &amp; North Africa</td>\n",
       "    </tr>\n",
       "    <tr>\n",
       "      <th>3</th>\n",
       "      <td>-1.081889</td>\n",
       "      <td>0.334796</td>\n",
       "      <td>Angola</td>\n",
       "      <td>Africa</td>\n",
       "      <td>Lower middle income</td>\n",
       "      <td>Sub-Saharan Africa</td>\n",
       "    </tr>\n",
       "    <tr>\n",
       "      <th>4</th>\n",
       "      <td>0.844759</td>\n",
       "      <td>1.377859</td>\n",
       "      <td>Antigua and Barbuda</td>\n",
       "      <td>North America</td>\n",
       "      <td>High income</td>\n",
       "      <td>Latin America &amp; Caribbean</td>\n",
       "    </tr>\n",
       "  </tbody>\n",
       "</table>\n",
       "</div>"
      ],
      "text/plain": [
       "   principal component 1  principal component 2              Country  \\\n",
       "0              -1.697410              -1.543451          Afghanistan   \n",
       "1               0.936540              -1.201689              Albania   \n",
       "2              -0.844069              -2.055723              Algeria   \n",
       "3              -1.081889               0.334796               Angola   \n",
       "4               0.844759               1.377859  Antigua and Barbuda   \n",
       "\n",
       "       Continent         Income group                      Region  \n",
       "0           Asia           Low income                  South Asia  \n",
       "1         Eurpoe  Upper middle income       Europe & Central Asia  \n",
       "2         Africa  Upper middle income  Middle East & North Africa  \n",
       "3         Africa  Lower middle income          Sub-Saharan Africa  \n",
       "4  North America          High income   Latin America & Caribbean  "
      ]
     },
     "execution_count": 31,
     "metadata": {},
     "output_type": "execute_result"
    }
   ],
   "source": [
    "principalComponents_socio = pca.fit_transform(socio_scaled)\n",
    "\n",
    "principalDf_socio = pd.DataFrame(data = principalComponents_socio\n",
    "             , columns = ['principal component 1', 'principal component 2'])\n",
    "principalDf_socio[\"Country\"] = socio_pca_dropped_df[\"Country\"]\n",
    "principalDf_socio[\"Continent\"] = socio_pca_dropped_df[\"Continent\"]\n",
    "principalDf_socio[\"Income group\"] = socio_pca_dropped_df[\"Income group_y\"]\n",
    "principalDf_socio[\"Region\"] = socio_pca_dropped_df[\"Region_y\"]\n",
    "X_socio = principalDf_socio[[\"principal component 1\",\"principal component 2\"]].values\n",
    "principalDf_socio.head()"
   ]
  },
  {
   "cell_type": "markdown",
   "metadata": {},
   "source": [
    "#### Continent Level"
   ]
  },
  {
   "cell_type": "code",
   "execution_count": 32,
   "metadata": {
    "scrolled": true
   },
   "outputs": [
    {
     "name": "stdout",
     "output_type": "stream",
     "text": [
      "['Asia' 'Eurpoe' 'Africa' 'North America' 'South America' 'Australia' nan]\n"
     ]
    },
    {
     "name": "stderr",
     "output_type": "stream",
     "text": [
      "C:\\Users\\XuP-intern\\AppData\\Local\\Continuum\\anaconda3\\lib\\site-packages\\matplotlib\\legend.py:798: UserWarning:\n",
      "\n",
      "Legend does not support 's' instances.\n",
      "A proxy artist may be used instead.\n",
      "See: http://matplotlib.org/users/legend_guide.html#creating-artists-specifically-for-adding-to-the-legend-aka-proxy-artists\n",
      "\n",
      "C:\\Users\\XuP-intern\\AppData\\Local\\Continuum\\anaconda3\\lib\\site-packages\\matplotlib\\legend.py:798: UserWarning:\n",
      "\n",
      "Legend does not support 'd' instances.\n",
      "A proxy artist may be used instead.\n",
      "See: http://matplotlib.org/users/legend_guide.html#creating-artists-specifically-for-adding-to-the-legend-aka-proxy-artists\n",
      "\n",
      "C:\\Users\\XuP-intern\\AppData\\Local\\Continuum\\anaconda3\\lib\\site-packages\\matplotlib\\legend.py:798: UserWarning:\n",
      "\n",
      "Legend does not support 'p' instances.\n",
      "A proxy artist may be used instead.\n",
      "See: http://matplotlib.org/users/legend_guide.html#creating-artists-specifically-for-adding-to-the-legend-aka-proxy-artists\n",
      "\n",
      "C:\\Users\\XuP-intern\\AppData\\Local\\Continuum\\anaconda3\\lib\\site-packages\\matplotlib\\legend.py:798: UserWarning:\n",
      "\n",
      "Legend does not support 'h' instances.\n",
      "A proxy artist may be used instead.\n",
      "See: http://matplotlib.org/users/legend_guide.html#creating-artists-specifically-for-adding-to-the-legend-aka-proxy-artists\n",
      "\n",
      "C:\\Users\\XuP-intern\\AppData\\Local\\Continuum\\anaconda3\\lib\\site-packages\\matplotlib\\legend.py:798: UserWarning:\n",
      "\n",
      "Legend does not support 'o' instances.\n",
      "A proxy artist may be used instead.\n",
      "See: http://matplotlib.org/users/legend_guide.html#creating-artists-specifically-for-adding-to-the-legend-aka-proxy-artists\n",
      "\n",
      "C:\\Users\\XuP-intern\\AppData\\Local\\Continuum\\anaconda3\\lib\\site-packages\\matplotlib\\legend.py:798: UserWarning:\n",
      "\n",
      "Legend does not support '*' instances.\n",
      "A proxy artist may be used instead.\n",
      "See: http://matplotlib.org/users/legend_guide.html#creating-artists-specifically-for-adding-to-the-legend-aka-proxy-artists\n",
      "\n",
      "C:\\Users\\XuP-intern\\AppData\\Local\\Continuum\\anaconda3\\lib\\site-packages\\matplotlib\\legend.py:798: UserWarning:\n",
      "\n",
      "Legend does not support 'x' instances.\n",
      "A proxy artist may be used instead.\n",
      "See: http://matplotlib.org/users/legend_guide.html#creating-artists-specifically-for-adding-to-the-legend-aka-proxy-artists\n",
      "\n"
     ]
    },
    {
     "data": {
      "image/png": "[encoded data removed]",
      "text/plain": [
       "<Figure size 576x576 with 1 Axes>"
      ]
     },
     "metadata": {
      "needs_background": "light"
     },
     "output_type": "display_data"
    },
    {
     "data": {
      "image/png": "[encoded data removed]",
      "text/plain": [
       "<Figure size 576x576 with 1 Axes>"
      ]
     },
     "metadata": {
      "needs_background": "light"
     },
     "output_type": "display_data"
    }
   ],
   "source": [
    "colors_region = ['r', 'g', 'b','c','m','y']\n",
    "pca_plot(colors_region,principalDf_socio,\"Continent\")\n",
    "\n",
    "continent_cluster_labels_socio, continent_centers_socio = perform_kmeans(X_socio, 6)\n",
    "principalDf_socio[\"Continent_Cluster\"] = continent_cluster_labels_socio\n",
    "mark_shapes = ['s','d','p','h','o','*','x']\n",
    "\n",
    "pca_kmeans_plot(colors_region,mark_shapes,principalDf_socio,\"Continent\",continent_centers_socio)"
   ]
  },
  {
   "cell_type": "code",
   "execution_count": 33,
   "metadata": {
    "scrolled": true
   },
   "outputs": [
    {
     "data": {
      "application/vnd.plotly.v1+json": {
       "config": {
        "linkText": "Export to plot.ly",
        "plotlyServerURL": "https://plot.ly",
        "showLink": false
       },
       "data": [
        {
         "marker": {
          "color": 0,
          "line": {
           "width": 1
          },
          "size": 9,
          "symbol": 0
         },
         "mode": "markers",
         "name": "Asia0",
         "text": [
          "Armenia",
          "Brunei Darussalam",
          "Iraq",
          "Jordan",
          "Kuwait",
          "Malaysia",
          "Maldives",
          "Nepal",
          "Pakistan",
          "Tajikistan",
          "Thailand",
          "Turkmenistan"
         ],
         "type": "scatter",
         "uid": "85d83882-4651-4505-ab12-f82de30de414",
         "x": [
          0.09278812044825452,
          0.10002931429037883,
          1.0276342929177762,
          0.8151694825992627,
          1.733589864370219,
          0.17012002756519523,
          1.2920439726088986,
          0.7515751798336623,
          0.4538360103147787,
          0.11438861126346808,
          1.2461767711649758,
          0.8962246248883992
         ],
         "y": [
          -0.9382790136973391,
          -0.8579177739878006,
          -0.7116520108307233,
          -0.19409135441012912,
          0.15736929151697573,
          -0.6467545106775828,
          -0.7003479978118538,
          -0.19351498321984212,
          -1.4537239305437173,
          -0.5778972811261671,
          -0.6095938772352139,
          -0.28523899873308367
         ]
        },
        {
         "marker": {
          "color": 1,
          "line": {
           "width": 1
          },
          "size": 9,
          "symbol": 0
         },
         "mode": "markers",
         "name": "Asia1",
         "text": [
          "Bangladesh",
          "Cambodia",
          "Georgia",
          "Myanmar",
          "Saudi Arabia",
          "Sri Lanka",
          "Timor-Leste",
          "Turkey"
         ],
         "type": "scatter",
         "uid": "8256a489-7c07-470e-b12f-2f133e00df8c",
         "x": [
          -2.0184911071699387,
          -1.6629277598525958,
          -1.8150146530856845,
          -1.8840236642818395,
          -1.894440357050651,
          -1.8765681374298009,
          -1.6353417883446704,
          -1.0896395628969702
         ],
         "y": [
          -0.13706821892481022,
          0.27178800561584054,
          0.17229614576998234,
          0.3372067156614352,
          1.5859720350300157,
          -0.09294091535223646,
          0.06344841595426143,
          1.9533933436727984
         ]
        },
        {
         "marker": {
          "color": 2,
          "line": {
           "width": 1
          },
          "size": 9,
          "symbol": 0
         },
         "mode": "markers",
         "name": "Asia2",
         "text": [
          "Indonesia",
          "Kyrgyzstan",
          "Mongolia"
         ],
         "type": "scatter",
         "uid": "a1364db8-1dd1-499d-9d55-83fd075582e7",
         "x": [
          2.1069803720334717,
          4.978943539810282,
          3.418693656680766
         ],
         "y": [
          1.3447801157845853,
          0.15074862550313586,
          0.05709613904407643
         ]
        },
        {
         "marker": {
          "color": 3,
          "line": {
           "width": 1
          },
          "size": 9,
          "symbol": 0
         },
         "mode": "markers",
         "name": "Asia3",
         "text": [
          "Israel",
          "Republic of Korea"
         ],
         "type": "scatter",
         "uid": "be3e7a31-af55-4b09-a916-c7ec5aff7695",
         "x": [
          -1.8224089676942188,
          -2.403619403892054
         ],
         "y": [
          5.733283261841905,
          4.555869243433894
         ]
        },
        {
         "marker": {
          "color": 4,
          "line": {
           "width": 1
          },
          "size": 9,
          "symbol": 0
         },
         "mode": "markers",
         "name": "Asia4",
         "text": [
          "China, mainland",
          "Cyprus",
          "India",
          "Kazakhstan",
          "Lebanon",
          "Oman",
          "Philippines"
         ],
         "type": "scatter",
         "uid": "ad57b136-f672-4400-9567-74b4bcc85ce3",
         "x": [
          0.29341470246000256,
          -0.5108063992491925,
          -0.4315023344195417,
          -0.42667568542074474,
          -0.4607633632718433,
          0.5670304788874663,
          0.23237637316842857
         ],
         "y": [
          0.5052724321120584,
          0.8609853150958702,
          0.9455842233943689,
          0.6543205353053694,
          3.0433532488002495,
          1.0148402858617827,
          1.4506639512025408
         ]
        },
        {
         "marker": {
          "color": 5,
          "line": {
           "width": 1
          },
          "size": 9,
          "symbol": 0
         },
         "mode": "markers",
         "name": "Asia5",
         "text": [
          "Afghanistan",
          "Azerbaijan",
          "Iran (Islamic Republic of)",
          "Japan",
          "Lao People's Democratic Republic",
          "United Arab Emirates"
         ],
         "type": "scatter",
         "uid": "811fa27a-4f3f-4dba-8537-2160fff06709",
         "x": [
          -1.697410120640752,
          -0.7716116820685527,
          -0.582768375439522,
          -1.6674777831039373,
          -1.6878487456536,
          -1.7326312212609845
         ],
         "y": [
          -1.5434506618250943,
          -2.0334849113621662,
          -1.2242653003132364,
          -0.5516542762089379,
          -0.4557942236872599,
          -0.5874135771873088
         ]
        },
        {
         "marker": {
          "color": 6,
          "line": {
           "width": 1
          },
          "size": 9,
          "symbol": 0
         },
         "mode": "markers",
         "name": "Asia6",
         "text": [],
         "type": "scatter",
         "uid": "e37015b4-cf5f-40f4-a1c5-ae4d7ee501c9",
         "x": [],
         "y": []
        },
        {
         "marker": {
          "color": 0,
          "line": {
           "width": 1
          },
          "size": 9,
          "symbol": 1
         },
         "mode": "markers",
         "name": "Eurpoe0",
         "text": [
          "Albania",
          "Belarus",
          "France",
          "Germany",
          "Iceland",
          "Russian Federation",
          "Serbia"
         ],
         "type": "scatter",
         "uid": "2bdde526-84a3-4e6c-80f9-117aeaf9a22a",
         "x": [
          0.9365399612021017,
          1.0116982666771925,
          1.4459549850913607,
          -0.38305852681855296,
          1.487044666098583,
          -0.13757455395517001,
          -0.3492598641909243
         ],
         "y": [
          -1.201689203698959,
          -0.18220803806478383,
          0.25266957050253996,
          -0.06744429792786755,
          0.1750718694881236,
          -0.5980761513751194,
          -0.03713218984481795
         ]
        },
        {
         "marker": {
          "color": 1,
          "line": {
           "width": 1
          },
          "size": 9,
          "symbol": 1
         },
         "mode": "markers",
         "name": "Eurpoe1",
         "text": [
          "Denmark",
          "Finland",
          "Malta",
          "Spain",
          "Switzerland"
         ],
         "type": "scatter",
         "uid": "7fe0087e-75f7-43c2-be84-6f551f2447ed",
         "x": [
          -0.9682825253085652,
          -1.7015991495175211,
          -1.7723817440690093,
          -1.7130083387449586,
          -1.681880805191861
         ],
         "y": [
          0.27424395470851803,
          1.9117257155688463,
          -0.03610867540110736,
          0.029941129920906858,
          1.4444051743624156
         ]
        },
        {
         "marker": {
          "color": 2,
          "line": {
           "width": 1
          },
          "size": 9,
          "symbol": 1
         },
         "mode": "markers",
         "name": "Eurpoe2",
         "text": [
          "Austria",
          "Belgium",
          "Croatia",
          "Hungary",
          "Italy",
          "Lithuania",
          "Montenegro",
          "Slovakia",
          "Slovenia"
         ],
         "type": "scatter",
         "uid": "727f21ea-b6ce-4fea-ab21-14781a29af37",
         "x": [
          2.49925829180802,
          5.1690696718524505,
          2.7387324760305027,
          2.914598912157268,
          2.7894646431280834,
          3.4378168540156833,
          2.096984861302116,
          3.3705434022265646,
          3.1960322639754675
         ],
         "y": [
          -0.4041082957581522,
          -0.32425146070447863,
          -0.025800484699504526,
          -0.34767878158871257,
          -0.8598360855517289,
          -0.02945002608303857,
          0.3003758940331083,
          0.07983550740194019,
          -0.07609459595755877
         ]
        },
        {
         "marker": {
          "color": 3,
          "line": {
           "width": 1
          },
          "size": 9,
          "symbol": 1
         },
         "mode": "markers",
         "name": "Eurpoe3",
         "text": [],
         "type": "scatter",
         "uid": "1709983c-819d-41d9-9571-707ea5c05577",
         "x": [],
         "y": []
        },
        {
         "marker": {
          "color": 4,
          "line": {
           "width": 1
          },
          "size": 9,
          "symbol": 1
         },
         "mode": "markers",
         "name": "Eurpoe4",
         "text": [
          "Czechia",
          "Norway",
          "Poland",
          "Portugal"
         ],
         "type": "scatter",
         "uid": "655347bf-521d-4642-955b-0b5b7bca655d",
         "x": [
          -0.10523013381641709,
          1.4030474837653042,
          0.282381472382214,
          0.28693645306475196
         ],
         "y": [
          0.4986660842608068,
          1.1920547703468016,
          0.7969961460896453,
          2.192654000404062
         ]
        },
        {
         "marker": {
          "color": 5,
          "line": {
           "width": 1
          },
          "size": 9,
          "symbol": 1
         },
         "mode": "markers",
         "name": "Eurpoe5",
         "text": [
          "Bosnia and Herzegovina",
          "Bulgaria",
          "Estonia",
          "Greece",
          "Ireland",
          "Latvia",
          "Luxembourg",
          "Netherlands",
          "Romania",
          "Sweden",
          "Ukraine",
          "United Kingdom"
         ],
         "type": "scatter",
         "uid": "c32417f0-59e8-4c7b-80e4-c17be5548dfd",
         "x": [
          -0.8796449326264388,
          -1.8539552547660936,
          -1.650128614626429,
          -0.9661520621523775,
          -1.3560846900769448,
          -1.9666126669108592,
          -0.6634469178822539,
          -0.7191219289529936,
          -1.5851167698078001,
          -0.1789231253295809,
          -1.6011940361906098,
          -1.6098223216152385
         ],
         "y": [
          -0.6273614852013268,
          -1.5374577585581481,
          -0.8310875138021281,
          -0.4199560971274845,
          -0.5667742853654102,
          -0.7106244155014685,
          -1.254563866380137,
          -0.9255942002221457,
          -0.4405568184577929,
          -1.8493517879497932,
          -1.2357889925354657,
          -0.7891891349791984
         ]
        },
        {
         "marker": {
          "color": 6,
          "line": {
           "width": 1
          },
          "size": 9,
          "symbol": 1
         },
         "mode": "markers",
         "name": "Eurpoe6",
         "text": [],
         "type": "scatter",
         "uid": "3e1f18f9-ede4-477f-b35f-d9e5dac6f0e2",
         "x": [],
         "y": []
        },
        {
         "marker": {
          "color": 0,
          "line": {
           "width": 1
          },
          "size": 9,
          "symbol": 2
         },
         "mode": "markers",
         "name": "Africa0",
         "text": [
          "Botswana",
          "Chad",
          "CÃƒÂ´te d'Ivoire",
          "Madagascar",
          "Malawi",
          "Nigeria",
          "Senegal"
         ],
         "type": "scatter",
         "uid": "decd13e0-d959-4af5-a1d7-688b24aba067",
         "x": [
          1.2969451588981882,
          1.126098146822494,
          1.1547146971486633,
          -0.10484702475569553,
          0.22307854931906426,
          0.7881043388377904,
          1.4874493907577864
         ],
         "y": [
          -0.1229770590456236,
          -0.586840196288645,
          -0.41494042861550406,
          -0.32211634944072765,
          -0.7705711443991067,
          -0.6920717007439866,
          -0.9399875156610894
         ]
        },
        {
         "marker": {
          "color": 1,
          "line": {
           "width": 1
          },
          "size": 9,
          "symbol": 2
         },
         "mode": "markers",
         "name": "Africa1",
         "text": [
          "Angola",
          "Benin",
          "Cabo Verde",
          "Gabon",
          "Gambia",
          "Ghana",
          "Guinea-Bissau",
          "Mauritania",
          "Mauritius",
          "Niger",
          "Rwanda",
          "South Africa",
          "Uganda"
         ],
         "type": "scatter",
         "uid": "4e1ab0f3-52e3-435e-a680-cbadb90496c7",
         "x": [
          -1.0818886899047466,
          -1.5411073255710999,
          -1.6157292789434363,
          -1.3748089984784013,
          -1.7842496101926266,
          -1.7527538191992473,
          -1.7799321402999395,
          -0.8358212229477898,
          -0.9454226261450629,
          -1.5504667722443701,
          -1.6431078242186399,
          -1.0889326819582776,
          -1.1859710692386296
         ],
         "y": [
          0.33479622449772534,
          0.2693360518944025,
          0.2680415102981853,
          0.03483450198722658,
          -0.18044270196046794,
          1.0337133515907215,
          0.931680022742502,
          0.6910167239109154,
          -0.07411443398426855,
          2.0710856994393723,
          0.7477848395791405,
          1.1578172730766663,
          1.0164842946548798
         ]
        },
        {
         "marker": {
          "color": 2,
          "line": {
           "width": 1
          },
          "size": 9,
          "symbol": 2
         },
         "mode": "markers",
         "name": "Africa2",
         "text": [
          "Cameroon",
          "Egypt",
          "Namibia",
          "Togo"
         ],
         "type": "scatter",
         "uid": "a7c6e8dd-9b7e-492d-95ad-51fc533b5612",
         "x": [
          2.3601531156471522,
          2.510280507040692,
          3.727101345782506,
          3.2841446747397716
         ],
         "y": [
          -0.0409044885856792,
          -0.012352585898475361,
          0.5663662472742307,
          -0.13464434317000404
         ]
        },
        {
         "marker": {
          "color": 3,
          "line": {
           "width": 1
          },
          "size": 9,
          "symbol": 2
         },
         "mode": "markers",
         "name": "Africa3",
         "text": [
          "Lesotho"
         ],
         "type": "scatter",
         "uid": "13954738-4124-4c69-9b54-cde7b8596bf4",
         "x": [
          0.4958044359188891
         ],
         "y": [
          6.065440784985911
         ]
        },
        {
         "marker": {
          "color": 4,
          "line": {
           "width": 1
          },
          "size": 9,
          "symbol": 2
         },
         "mode": "markers",
         "name": "Africa4",
         "text": [
          "Sao Tome and Principe",
          "Sudan"
         ],
         "type": "scatter",
         "uid": "c694884e-751e-4372-b76b-12a61f62861d",
         "x": [
          1.7422920797086738,
          0.20320298125526484
         ],
         "y": [
          1.5437004215534584,
          0.5440660760138807
         ]
        },
        {
         "marker": {
          "color": 5,
          "line": {
           "width": 1
          },
          "size": 9,
          "symbol": 2
         },
         "mode": "markers",
         "name": "Africa5",
         "text": [
          "Algeria",
          "Burkina Faso",
          "Central African Republic",
          "Congo (note no data in Food suppley tables for DRC)",
          "Ethiopia",
          "Guinea",
          "Kenya",
          "Liberia",
          "Mali",
          "Morocco",
          "Mozambique",
          "Sierra Leone",
          "Eswatini",
          "Tunisia"
         ],
         "type": "scatter",
         "uid": "47211d89-297c-450c-9f57-ee2ffb3d5f1c",
         "x": [
          -0.8440685189793667,
          -0.5825366211783465,
          -1.8090522015872292,
          -0.48385716893534764,
          -0.8531881018453802,
          -1.6344003841231114,
          -1.957780524549306,
          -1.2968517618007933,
          -1.317319375324838,
          -1.1686694075526918,
          -1.590223922718095,
          -1.316812409334327,
          -0.1996661610381046,
          -0.8268689731421277
         ],
         "y": [
          -2.055723415318895,
          -0.3286903023530706,
          -0.9700448324106417,
          -0.3337701762790485,
          -1.3703426580556415,
          -0.5238917455834444,
          -2.1107886952005845,
          -1.6877989536602744,
          -1.7193662816296826,
          -0.612748221106872,
          -1.030342217517311,
          -0.750877444315325,
          -1.6227730410045826,
          -1.5877997108141453
         ]
        },
        {
         "marker": {
          "color": 6,
          "line": {
           "width": 1
          },
          "size": 9,
          "symbol": 2
         },
         "mode": "markers",
         "name": "Africa6",
         "text": [],
         "type": "scatter",
         "uid": "2177dde3-e309-4a19-a79a-0826b0b06ef2",
         "x": [],
         "y": []
        },
        {
         "marker": {
          "color": 0,
          "line": {
           "width": 1
          },
          "size": 9,
          "symbol": 3
         },
         "mode": "markers",
         "name": "North America0",
         "text": [
          "Grenada",
          "Panama",
          "Saint Kitts and Nevis",
          "Saint Lucia"
         ],
         "type": "scatter",
         "uid": "97f9b633-829f-482b-ae5d-0a4d72b3bbb7",
         "x": [
          0.6232839978584427,
          0.873234334280595,
          0.09929585616419405,
          1.1817367677991106
         ],
         "y": [
          -0.4344606196547449,
          -0.5895711827162241,
          -0.5645208132489844,
          -0.544668293800872
         ]
        },
        {
         "marker": {
          "color": 1,
          "line": {
           "width": 1
          },
          "size": 9,
          "symbol": 3
         },
         "mode": "markers",
         "name": "North America1",
         "text": [
          "Belize",
          "Canada",
          "Dominican Republic",
          "Nicaragua",
          "Saint Vincent and the Grenadines"
         ],
         "type": "scatter",
         "uid": "f0b7d142-ae58-4d6f-be8c-ed2ddd0a36e8",
         "x": [
          -0.5541004063659856,
          -1.1713140385964975,
          -0.6646493115160885,
          -0.6305546458196787,
          -1.381833956480704
         ],
         "y": [
          -0.05600547589131159,
          0.5252124380814305,
          0.9325623120564227,
          -0.07270629277330096,
          1.2970974401331368
         ]
        },
        {
         "marker": {
          "color": 2,
          "line": {
           "width": 1
          },
          "size": 9,
          "symbol": 3
         },
         "mode": "markers",
         "name": "North America2",
         "text": [
          "Bahamas",
          "Guatemala",
          "Honduras",
          "Trinidad and Tobago"
         ],
         "type": "scatter",
         "uid": "94b6da07-8209-498b-8edf-bcf8cfb04861",
         "x": [
          1.997751952230016,
          4.494902567019446,
          2.506396593239008,
          2.4072554671851636
         ],
         "y": [
          0.9095370918723985,
          1.6604143739984187,
          -0.5334328931506014,
          -0.7645063855499601
         ]
        },
        {
         "marker": {
          "color": 3,
          "line": {
           "width": 1
          },
          "size": 9,
          "symbol": 3
         },
         "mode": "markers",
         "name": "North America3",
         "text": [],
         "type": "scatter",
         "uid": "9dfc5fe3-4503-4e08-9d7f-4b6241d69702",
         "x": [],
         "y": []
        },
        {
         "marker": {
          "color": 4,
          "line": {
           "width": 1
          },
          "size": 9,
          "symbol": 3
         },
         "mode": "markers",
         "name": "North America4",
         "text": [
          "Antigua and Barbuda",
          "Barbados",
          "Costa Rica",
          "Cuba",
          "El Salvador"
         ],
         "type": "scatter",
         "uid": "5d0a5c3e-2ecd-4f22-b6c3-23cc78bc568b",
         "x": [
          0.8447586393763887,
          0.6348291861413285,
          1.1213910251970858,
          -0.2816358249678399,
          -0.18057074507068893
         ],
         "y": [
          1.3778592301150592,
          0.9877319672418183,
          0.6197199705027545,
          2.570690577544649,
          0.5589438359476006
         ]
        },
        {
         "marker": {
          "color": 5,
          "line": {
           "width": 1
          },
          "size": 9,
          "symbol": 3
         },
         "mode": "markers",
         "name": "North America5",
         "text": [
          "Dominica",
          "Haiti",
          "Jamaica",
          "Mexico"
         ],
         "type": "scatter",
         "uid": "a2b25131-6c36-4082-9fdb-94a120646f02",
         "x": [
          -1.9195208735208957,
          -1.405305273829591,
          -0.4132241408937572,
          -1.7785324979852302
         ],
         "y": [
          -1.1130018126159025,
          -1.4571321999413949,
          -1.4197472397963942,
          -1.2115414050601474
         ]
        },
        {
         "marker": {
          "color": 6,
          "line": {
           "width": 1
          },
          "size": 9,
          "symbol": 3
         },
         "mode": "markers",
         "name": "North America6",
         "text": [],
         "type": "scatter",
         "uid": "f987ae46-254f-488c-a006-32e2f9538f54",
         "x": [],
         "y": []
        },
        {
         "marker": {
          "color": 0,
          "line": {
           "width": 1
          },
          "size": 9,
          "symbol": 4
         },
         "mode": "markers",
         "name": "South America0",
         "text": [
          "Brazil",
          "Chile",
          "Colombia"
         ],
         "type": "scatter",
         "uid": "2adf4eea-8e53-4ba4-bba7-929ed11a0710",
         "x": [
          1.5202649045559373,
          -0.3854075250513515,
          0.6673753823898034
         ],
         "y": [
          0.45555575951847765,
          -0.17923554335824005,
          -0.09693108099638988
         ]
        },
        {
         "marker": {
          "color": 1,
          "line": {
           "width": 1
          },
          "size": 9,
          "symbol": 4
         },
         "mode": "markers",
         "name": "South America1",
         "text": [
          "Paraguay"
         ],
         "type": "scatter",
         "uid": "3ff3412c-a628-4d4f-871a-9355270e3b2a",
         "x": [
          -1.8783042629902822
         ],
         "y": [
          1.5130943997920991
         ]
        },
        {
         "marker": {
          "color": 2,
          "line": {
           "width": 1
          },
          "size": 9,
          "symbol": 4
         },
         "mode": "markers",
         "name": "South America2",
         "text": [
          "Argentina",
          "Ecuador"
         ],
         "type": "scatter",
         "uid": "03043d5c-1058-48e6-bb51-b040b7bd5566",
         "x": [
          2.135768065099927,
          3.0795304153940957
         ],
         "y": [
          -0.5656254447553128,
          -0.2818609086154058
         ]
        },
        {
         "marker": {
          "color": 3,
          "line": {
           "width": 1
          },
          "size": 9,
          "symbol": 4
         },
         "mode": "markers",
         "name": "South America3",
         "text": [],
         "type": "scatter",
         "uid": "85d63104-ad45-490c-a4eb-c036dc72d5dd",
         "x": [],
         "y": []
        },
        {
         "marker": {
          "color": 4,
          "line": {
           "width": 1
          },
          "size": 9,
          "symbol": 4
         },
         "mode": "markers",
         "name": "South America4",
         "text": [
          "Peru"
         ],
         "type": "scatter",
         "uid": "3746f342-a91a-4ea1-ba6f-0c055b8a03ca",
         "x": [
          0.4334291320902332
         ],
         "y": [
          0.8712763944998104
         ]
        },
        {
         "marker": {
          "color": 5,
          "line": {
           "width": 1
          },
          "size": 9,
          "symbol": 4
         },
         "mode": "markers",
         "name": "South America5",
         "text": [
          "Bolivia (Plurinational State of)",
          "Guyana",
          "Suriname"
         ],
         "type": "scatter",
         "uid": "13e96eab-cf90-4c6f-840b-5b17bf9d86ff",
         "x": [
          -0.5742328253056509,
          -0.9224043218741698,
          -1.2829027645430924
         ],
         "y": [
          -1.154788450463492,
          -1.300773373483378,
          -0.43529925391619784
         ]
        },
        {
         "marker": {
          "color": 6,
          "line": {
           "width": 1
          },
          "size": 9,
          "symbol": 4
         },
         "mode": "markers",
         "name": "South America6",
         "text": [],
         "type": "scatter",
         "uid": "911d8737-98ad-4044-ab72-8bc51fe5c9e1",
         "x": [],
         "y": []
        },
        {
         "marker": {
          "color": 0,
          "line": {
           "width": 1
          },
          "size": 9,
          "symbol": 5
         },
         "mode": "markers",
         "name": "Australia0",
         "text": [
          "New Zealand"
         ],
         "type": "scatter",
         "uid": "90406e5e-95c3-43b4-b897-2e5adcde6498",
         "x": [
          -0.14254990832575198
         ],
         "y": [
          -0.2491721913176558
         ]
        },
        {
         "marker": {
          "color": 1,
          "line": {
           "width": 1
          },
          "size": 9,
          "symbol": 5
         },
         "mode": "markers",
         "name": "Australia1",
         "text": [
          "Kiribati"
         ],
         "type": "scatter",
         "uid": "56723631-fe62-475b-a1f8-0af8866a8656",
         "x": [
          -1.7000333639582839
         ],
         "y": [
          0.04394355073132196
         ]
        },
        {
         "marker": {
          "color": 2,
          "line": {
           "width": 1
          },
          "size": 9,
          "symbol": 5
         },
         "mode": "markers",
         "name": "Australia2",
         "text": [
          "Australia",
          "Fiji"
         ],
         "type": "scatter",
         "uid": "2ba86edd-3126-411e-92c5-661e6267c34f",
         "x": [
          3.601356674927375,
          2.493577717222948
         ],
         "y": [
          0.13771972278054598,
          -0.4145685688782614
         ]
        },
        {
         "marker": {
          "color": 3,
          "line": {
           "width": 1
          },
          "size": 9,
          "symbol": 5
         },
         "mode": "markers",
         "name": "Australia3",
         "text": [],
         "type": "scatter",
         "uid": "22710b37-605d-401a-a7ed-1712fa028f87",
         "x": [],
         "y": []
        },
        {
         "marker": {
          "color": 4,
          "line": {
           "width": 1
          },
          "size": 9,
          "symbol": 5
         },
         "mode": "markers",
         "name": "Australia4",
         "text": [],
         "type": "scatter",
         "uid": "d025c727-08da-41ba-860d-484c66f000fb",
         "x": [],
         "y": []
        },
        {
         "marker": {
          "color": 5,
          "line": {
           "width": 1
          },
          "size": 9,
          "symbol": 5
         },
         "mode": "markers",
         "name": "Australia5",
         "text": [
          "Samoa",
          "Solomon Islands"
         ],
         "type": "scatter",
         "uid": "248d4c45-a6c3-4f9c-9a6d-198db6030355",
         "x": [
          -0.3316694602179114,
          -1.6050790260876788
         ],
         "y": [
          -1.2818053858163327,
          -0.8856664360915395
         ]
        },
        {
         "marker": {
          "color": 6,
          "line": {
           "width": 1
          },
          "size": 9,
          "symbol": 5
         },
         "mode": "markers",
         "name": "Australia6",
         "text": [],
         "type": "scatter",
         "uid": "f374610a-c311-420d-b32c-b914abbb53d2",
         "x": [],
         "y": []
        },
        {
         "marker": {
          "color": 0,
          "line": {
           "width": 1
          },
          "size": 9,
          "symbol": 6
         },
         "mode": "markers",
         "name": "nan0",
         "text": [],
         "type": "scatter",
         "uid": "ecb86148-c224-48ff-9098-224f97f3e123",
         "x": [],
         "y": []
        },
        {
         "marker": {
          "color": 1,
          "line": {
           "width": 1
          },
          "size": 9,
          "symbol": 6
         },
         "mode": "markers",
         "name": "nan1",
         "text": [],
         "type": "scatter",
         "uid": "6dcc7fc4-1725-4deb-bc1a-12a8ce0a40ba",
         "x": [],
         "y": []
        },
        {
         "marker": {
          "color": 2,
          "line": {
           "width": 1
          },
          "size": 9,
          "symbol": 6
         },
         "mode": "markers",
         "name": "nan2",
         "text": [],
         "type": "scatter",
         "uid": "a9143c5a-9c61-47b2-b02b-6fde806aba76",
         "x": [],
         "y": []
        },
        {
         "marker": {
          "color": 3,
          "line": {
           "width": 1
          },
          "size": 9,
          "symbol": 6
         },
         "mode": "markers",
         "name": "nan3",
         "text": [],
         "type": "scatter",
         "uid": "db4b0551-45eb-4544-a9b9-dbb1a2efd216",
         "x": [],
         "y": []
        },
        {
         "marker": {
          "color": 4,
          "line": {
           "width": 1
          },
          "size": 9,
          "symbol": 6
         },
         "mode": "markers",
         "name": "nan4",
         "text": [],
         "type": "scatter",
         "uid": "77cfedba-9ba2-48c4-9f00-df37329f514c",
         "x": [],
         "y": []
        },
        {
         "marker": {
          "color": 5,
          "line": {
           "width": 1
          },
          "size": 9,
          "symbol": 6
         },
         "mode": "markers",
         "name": "nan5",
         "text": [],
         "type": "scatter",
         "uid": "165d666b-f8f0-4b98-b15e-3e7f3e7ae8f3",
         "x": [],
         "y": []
        },
        {
         "marker": {
          "color": 6,
          "line": {
           "width": 1
          },
          "size": 9,
          "symbol": 6
         },
         "mode": "markers",
         "name": "nan6",
         "text": [],
         "type": "scatter",
         "uid": "5317ed1f-7f2b-401d-a1da-e92f98d23263",
         "x": [],
         "y": []
        },
        {
         "marker": {
          "color": "rgba(220, 220, 220, .4)",
          "line": {
           "width": 1
          },
          "size": 20
         },
         "mode": "markers",
         "name": "Center",
         "type": "scatter",
         "uid": "211037b2-c749-476e-89cf-613758f978c0",
         "x": [
          0.6281561616167871,
          -1.4581550486407244,
          3.020028184480491,
          -1.2434079785557945,
          0.2739017982343863,
          -1.2074090533729032
         ],
         "y": [
          -0.4293701496083122,
          0.6511859324117353,
          0.0009538734753103093,
          5.451531096753903,
          1.20843590408502,
          -1.1093626192507484
         ]
        }
       ],
       "layout": {
        "hovermode": "closest",
        "showlegend": true,
        "title": {
         "text": "2 component PCA Kmeans Clustering Continent"
        },
        "xaxis": {
         "gridwidth": 2,
         "ticklen": 5,
         "title": {
          "text": "principal component 1"
         },
         "zeroline": false
        },
        "yaxis": {
         "gridwidth": 2,
         "ticklen": 5,
         "title": {
          "text": "principal component 2"
         }
        }
       }
      },
      "text/html": [
       "<div>\n",
       "        \n",
       "        \n",
       "            <div id=\"c9a5a96f-c26f-425c-9bd5-b4952f4b8461\" class=\"plotly-graph-div\" style=\"height:525px; width:100%;\"></div>\n",
       "            <script type=\"text/javascript\">\n",
       "                require([\"plotly\"], function(Plotly) {\n",
       "                    window.PLOTLYENV=window.PLOTLYENV || {};\n",
       "                    window.PLOTLYENV.BASE_URL='https://plot.ly';\n",
       "                    \n",
       "                if (document.getElementById(\"c9a5a96f-c26f-425c-9bd5-b4952f4b8461\")) {\n",
       "                    Plotly.newPlot(\n",
       "                        'c9a5a96f-c26f-425c-9bd5-b4952f4b8461',\n",
       "                        [{\"marker\": {\"color\": 0, \"line\": {\"width\": 1}, \"size\": 9, \"symbol\": 0}, \"mode\": \"markers\", \"name\": \"Asia0\", \"text\": [\"Armenia\", \"Brunei Darussalam\", \"Iraq\", \"Jordan\", \"Kuwait\", \"Malaysia\", \"Maldives\", \"Nepal\", \"Pakistan\", \"Tajikistan\", \"Thailand\", \"Turkmenistan\"], \"type\": \"scatter\", \"uid\": \"85d83882-4651-4505-ab12-f82de30de414\", \"x\": [0.09278812044825452, 0.10002931429037883, 1.0276342929177762, 0.8151694825992627, 1.733589864370219, 0.17012002756519523, 1.2920439726088986, 0.7515751798336623, 0.4538360103147787, 0.11438861126346808, 1.2461767711649758, 0.8962246248883992], \"y\": [-0.9382790136973391, -0.8579177739878006, -0.7116520108307233, -0.19409135441012912, 0.15736929151697573, -0.6467545106775828, -0.7003479978118538, -0.19351498321984212, -1.4537239305437173, -0.5778972811261671, -0.6095938772352139, -0.28523899873308367]}, {\"marker\": {\"color\": 1, \"line\": {\"width\": 1}, \"size\": 9, \"symbol\": 0}, \"mode\": \"markers\", \"name\": \"Asia1\", \"text\": [\"Bangladesh\", \"Cambodia\", \"Georgia\", \"Myanmar\", \"Saudi Arabia\", \"Sri Lanka\", \"Timor-Leste\", \"Turkey\"], \"type\": \"scatter\", \"uid\": \"8256a489-7c07-470e-b12f-2f133e00df8c\", \"x\": [-2.0184911071699387, -1.6629277598525958, -1.8150146530856845, -1.8840236642818395, -1.894440357050651, -1.8765681374298009, -1.6353417883446704, -1.0896395628969702], \"y\": [-0.13706821892481022, 0.27178800561584054, 0.17229614576998234, 0.3372067156614352, 1.5859720350300157, -0.09294091535223646, 0.06344841595426143, 1.9533933436727984]}, {\"marker\": {\"color\": 2, \"line\": {\"width\": 1}, \"size\": 9, \"symbol\": 0}, \"mode\": \"markers\", \"name\": \"Asia2\", \"text\": [\"Indonesia\", \"Kyrgyzstan\", \"Mongolia\"], \"type\": \"scatter\", \"uid\": \"a1364db8-1dd1-499d-9d55-83fd075582e7\", \"x\": [2.1069803720334717, 4.978943539810282, 3.418693656680766], \"y\": [1.3447801157845853, 0.15074862550313586, 0.05709613904407643]}, {\"marker\": {\"color\": 3, \"line\": {\"width\": 1}, \"size\": 9, \"symbol\": 0}, \"mode\": \"markers\", \"name\": \"Asia3\", \"text\": [\"Israel\", \"Republic of Korea\"], \"type\": \"scatter\", \"uid\": \"be3e7a31-af55-4b09-a916-c7ec5aff7695\", \"x\": [-1.8224089676942188, -2.403619403892054], \"y\": [5.733283261841905, 4.555869243433894]}, {\"marker\": {\"color\": 4, \"line\": {\"width\": 1}, \"size\": 9, \"symbol\": 0}, \"mode\": \"markers\", \"name\": \"Asia4\", \"text\": [\"China, mainland\", \"Cyprus\", \"India\", \"Kazakhstan\", \"Lebanon\", \"Oman\", \"Philippines\"], \"type\": \"scatter\", \"uid\": \"ad57b136-f672-4400-9567-74b4bcc85ce3\", \"x\": [0.29341470246000256, -0.5108063992491925, -0.4315023344195417, -0.42667568542074474, -0.4607633632718433, 0.5670304788874663, 0.23237637316842857], \"y\": [0.5052724321120584, 0.8609853150958702, 0.9455842233943689, 0.6543205353053694, 3.0433532488002495, 1.0148402858617827, 1.4506639512025408]}, {\"marker\": {\"color\": 5, \"line\": {\"width\": 1}, \"size\": 9, \"symbol\": 0}, \"mode\": \"markers\", \"name\": \"Asia5\", \"text\": [\"Afghanistan\", \"Azerbaijan\", \"Iran (Islamic Republic of)\", \"Japan\", \"Lao People's Democratic Republic\", \"United Arab Emirates\"], \"type\": \"scatter\", \"uid\": \"811fa27a-4f3f-4dba-8537-2160fff06709\", \"x\": [-1.697410120640752, -0.7716116820685527, -0.582768375439522, -1.6674777831039373, -1.6878487456536, -1.7326312212609845], \"y\": [-1.5434506618250943, -2.0334849113621662, -1.2242653003132364, -0.5516542762089379, -0.4557942236872599, -0.5874135771873088]}, {\"marker\": {\"color\": 6, \"line\": {\"width\": 1}, \"size\": 9, \"symbol\": 0}, \"mode\": \"markers\", \"name\": \"Asia6\", \"text\": [], \"type\": \"scatter\", \"uid\": \"e37015b4-cf5f-40f4-a1c5-ae4d7ee501c9\", \"x\": [], \"y\": []}, {\"marker\": {\"color\": 0, \"line\": {\"width\": 1}, \"size\": 9, \"symbol\": 1}, \"mode\": \"markers\", \"name\": \"Eurpoe0\", \"text\": [\"Albania\", \"Belarus\", \"France\", \"Germany\", \"Iceland\", \"Russian Federation\", \"Serbia\"], \"type\": \"scatter\", \"uid\": \"2bdde526-84a3-4e6c-80f9-117aeaf9a22a\", \"x\": [0.9365399612021017, 1.0116982666771925, 1.4459549850913607, -0.38305852681855296, 1.487044666098583, -0.13757455395517001, -0.3492598641909243], \"y\": [-1.201689203698959, -0.18220803806478383, 0.25266957050253996, -0.06744429792786755, 0.1750718694881236, -0.5980761513751194, -0.03713218984481795]}, {\"marker\": {\"color\": 1, \"line\": {\"width\": 1}, \"size\": 9, \"symbol\": 1}, \"mode\": \"markers\", \"name\": \"Eurpoe1\", \"text\": [\"Denmark\", \"Finland\", \"Malta\", \"Spain\", \"Switzerland\"], \"type\": \"scatter\", \"uid\": \"7fe0087e-75f7-43c2-be84-6f551f2447ed\", \"x\": [-0.9682825253085652, -1.7015991495175211, -1.7723817440690093, -1.7130083387449586, -1.681880805191861], \"y\": [0.27424395470851803, 1.9117257155688463, -0.03610867540110736, 0.029941129920906858, 1.4444051743624156]}, {\"marker\": {\"color\": 2, \"line\": {\"width\": 1}, \"size\": 9, \"symbol\": 1}, \"mode\": \"markers\", \"name\": \"Eurpoe2\", \"text\": [\"Austria\", \"Belgium\", \"Croatia\", \"Hungary\", \"Italy\", \"Lithuania\", \"Montenegro\", \"Slovakia\", \"Slovenia\"], \"type\": \"scatter\", \"uid\": \"727f21ea-b6ce-4fea-ab21-14781a29af37\", \"x\": [2.49925829180802, 5.1690696718524505, 2.7387324760305027, 2.914598912157268, 2.7894646431280834, 3.4378168540156833, 2.096984861302116, 3.3705434022265646, 3.1960322639754675], \"y\": [-0.4041082957581522, -0.32425146070447863, -0.025800484699504526, -0.34767878158871257, -0.8598360855517289, -0.02945002608303857, 0.3003758940331083, 0.07983550740194019, -0.07609459595755877]}, {\"marker\": {\"color\": 3, \"line\": {\"width\": 1}, \"size\": 9, \"symbol\": 1}, \"mode\": \"markers\", \"name\": \"Eurpoe3\", \"text\": [], \"type\": \"scatter\", \"uid\": \"1709983c-819d-41d9-9571-707ea5c05577\", \"x\": [], \"y\": []}, {\"marker\": {\"color\": 4, \"line\": {\"width\": 1}, \"size\": 9, \"symbol\": 1}, \"mode\": \"markers\", \"name\": \"Eurpoe4\", \"text\": [\"Czechia\", \"Norway\", \"Poland\", \"Portugal\"], \"type\": \"scatter\", \"uid\": \"655347bf-521d-4642-955b-0b5b7bca655d\", \"x\": [-0.10523013381641709, 1.4030474837653042, 0.282381472382214, 0.28693645306475196], \"y\": [0.4986660842608068, 1.1920547703468016, 0.7969961460896453, 2.192654000404062]}, {\"marker\": {\"color\": 5, \"line\": {\"width\": 1}, \"size\": 9, \"symbol\": 1}, \"mode\": \"markers\", \"name\": \"Eurpoe5\", \"text\": [\"Bosnia and Herzegovina\", \"Bulgaria\", \"Estonia\", \"Greece\", \"Ireland\", \"Latvia\", \"Luxembourg\", \"Netherlands\", \"Romania\", \"Sweden\", \"Ukraine\", \"United Kingdom\"], \"type\": \"scatter\", \"uid\": \"c32417f0-59e8-4c7b-80e4-c17be5548dfd\", \"x\": [-0.8796449326264388, -1.8539552547660936, -1.650128614626429, -0.9661520621523775, -1.3560846900769448, -1.9666126669108592, -0.6634469178822539, -0.7191219289529936, -1.5851167698078001, -0.1789231253295809, -1.6011940361906098, -1.6098223216152385], \"y\": [-0.6273614852013268, -1.5374577585581481, -0.8310875138021281, -0.4199560971274845, -0.5667742853654102, -0.7106244155014685, -1.254563866380137, -0.9255942002221457, -0.4405568184577929, -1.8493517879497932, -1.2357889925354657, -0.7891891349791984]}, {\"marker\": {\"color\": 6, \"line\": {\"width\": 1}, \"size\": 9, \"symbol\": 1}, \"mode\": \"markers\", \"name\": \"Eurpoe6\", \"text\": [], \"type\": \"scatter\", \"uid\": \"3e1f18f9-ede4-477f-b35f-d9e5dac6f0e2\", \"x\": [], \"y\": []}, {\"marker\": {\"color\": 0, \"line\": {\"width\": 1}, \"size\": 9, \"symbol\": 2}, \"mode\": \"markers\", \"name\": \"Africa0\", \"text\": [\"Botswana\", \"Chad\", \"C\\u00c3\\u0192\\u00c2\\u00b4te d'Ivoire\", \"Madagascar\", \"Malawi\", \"Nigeria\", \"Senegal\"], \"type\": \"scatter\", \"uid\": \"decd13e0-d959-4af5-a1d7-688b24aba067\", \"x\": [1.2969451588981882, 1.126098146822494, 1.1547146971486633, -0.10484702475569553, 0.22307854931906426, 0.7881043388377904, 1.4874493907577864], \"y\": [-0.1229770590456236, -0.586840196288645, -0.41494042861550406, -0.32211634944072765, -0.7705711443991067, -0.6920717007439866, -0.9399875156610894]}, {\"marker\": {\"color\": 1, \"line\": {\"width\": 1}, \"size\": 9, \"symbol\": 2}, \"mode\": \"markers\", \"name\": \"Africa1\", \"text\": [\"Angola\", \"Benin\", \"Cabo Verde\", \"Gabon\", \"Gambia\", \"Ghana\", \"Guinea-Bissau\", \"Mauritania\", \"Mauritius\", \"Niger\", \"Rwanda\", \"South Africa\", \"Uganda\"], \"type\": \"scatter\", \"uid\": \"4e1ab0f3-52e3-435e-a680-cbadb90496c7\", \"x\": [-1.0818886899047466, -1.5411073255710999, -1.6157292789434363, -1.3748089984784013, -1.7842496101926266, -1.7527538191992473, -1.7799321402999395, -0.8358212229477898, -0.9454226261450629, -1.5504667722443701, -1.6431078242186399, -1.0889326819582776, -1.1859710692386296], \"y\": [0.33479622449772534, 0.2693360518944025, 0.2680415102981853, 0.03483450198722658, -0.18044270196046794, 1.0337133515907215, 0.931680022742502, 0.6910167239109154, -0.07411443398426855, 2.0710856994393723, 0.7477848395791405, 1.1578172730766663, 1.0164842946548798]}, {\"marker\": {\"color\": 2, \"line\": {\"width\": 1}, \"size\": 9, \"symbol\": 2}, \"mode\": \"markers\", \"name\": \"Africa2\", \"text\": [\"Cameroon\", \"Egypt\", \"Namibia\", \"Togo\"], \"type\": \"scatter\", \"uid\": \"a7c6e8dd-9b7e-492d-95ad-51fc533b5612\", \"x\": [2.3601531156471522, 2.510280507040692, 3.727101345782506, 3.2841446747397716], \"y\": [-0.0409044885856792, -0.012352585898475361, 0.5663662472742307, -0.13464434317000404]}, {\"marker\": {\"color\": 3, \"line\": {\"width\": 1}, \"size\": 9, \"symbol\": 2}, \"mode\": \"markers\", \"name\": \"Africa3\", \"text\": [\"Lesotho\"], \"type\": \"scatter\", \"uid\": \"13954738-4124-4c69-9b54-cde7b8596bf4\", \"x\": [0.4958044359188891], \"y\": [6.065440784985911]}, {\"marker\": {\"color\": 4, \"line\": {\"width\": 1}, \"size\": 9, \"symbol\": 2}, \"mode\": \"markers\", \"name\": \"Africa4\", \"text\": [\"Sao Tome and Principe\", \"Sudan\"], \"type\": \"scatter\", \"uid\": \"c694884e-751e-4372-b76b-12a61f62861d\", \"x\": [1.7422920797086738, 0.20320298125526484], \"y\": [1.5437004215534584, 0.5440660760138807]}, {\"marker\": {\"color\": 5, \"line\": {\"width\": 1}, \"size\": 9, \"symbol\": 2}, \"mode\": \"markers\", \"name\": \"Africa5\", \"text\": [\"Algeria\", \"Burkina Faso\", \"Central African Republic\", \"Congo (note no data in Food suppley tables for DRC)\", \"Ethiopia\", \"Guinea\", \"Kenya\", \"Liberia\", \"Mali\", \"Morocco\", \"Mozambique\", \"Sierra Leone\", \"Eswatini\", \"Tunisia\"], \"type\": \"scatter\", \"uid\": \"47211d89-297c-450c-9f57-ee2ffb3d5f1c\", \"x\": [-0.8440685189793667, -0.5825366211783465, -1.8090522015872292, -0.48385716893534764, -0.8531881018453802, -1.6344003841231114, -1.957780524549306, -1.2968517618007933, -1.317319375324838, -1.1686694075526918, -1.590223922718095, -1.316812409334327, -0.1996661610381046, -0.8268689731421277], \"y\": [-2.055723415318895, -0.3286903023530706, -0.9700448324106417, -0.3337701762790485, -1.3703426580556415, -0.5238917455834444, -2.1107886952005845, -1.6877989536602744, -1.7193662816296826, -0.612748221106872, -1.030342217517311, -0.750877444315325, -1.6227730410045826, -1.5877997108141453]}, {\"marker\": {\"color\": 6, \"line\": {\"width\": 1}, \"size\": 9, \"symbol\": 2}, \"mode\": \"markers\", \"name\": \"Africa6\", \"text\": [], \"type\": \"scatter\", \"uid\": \"2177dde3-e309-4a19-a79a-0826b0b06ef2\", \"x\": [], \"y\": []}, {\"marker\": {\"color\": 0, \"line\": {\"width\": 1}, \"size\": 9, \"symbol\": 3}, \"mode\": \"markers\", \"name\": \"North America0\", \"text\": [\"Grenada\", \"Panama\", \"Saint Kitts and Nevis\", \"Saint Lucia\"], \"type\": \"scatter\", \"uid\": \"97f9b633-829f-482b-ae5d-0a4d72b3bbb7\", \"x\": [0.6232839978584427, 0.873234334280595, 0.09929585616419405, 1.1817367677991106], \"y\": [-0.4344606196547449, -0.5895711827162241, -0.5645208132489844, -0.544668293800872]}, {\"marker\": {\"color\": 1, \"line\": {\"width\": 1}, \"size\": 9, \"symbol\": 3}, \"mode\": \"markers\", \"name\": \"North America1\", \"text\": [\"Belize\", \"Canada\", \"Dominican Republic\", \"Nicaragua\", \"Saint Vincent and the Grenadines\"], \"type\": \"scatter\", \"uid\": \"f0b7d142-ae58-4d6f-be8c-ed2ddd0a36e8\", \"x\": [-0.5541004063659856, -1.1713140385964975, -0.6646493115160885, -0.6305546458196787, -1.381833956480704], \"y\": [-0.05600547589131159, 0.5252124380814305, 0.9325623120564227, -0.07270629277330096, 1.2970974401331368]}, {\"marker\": {\"color\": 2, \"line\": {\"width\": 1}, \"size\": 9, \"symbol\": 3}, \"mode\": \"markers\", \"name\": \"North America2\", \"text\": [\"Bahamas\", \"Guatemala\", \"Honduras\", \"Trinidad and Tobago\"], \"type\": \"scatter\", \"uid\": \"94b6da07-8209-498b-8edf-bcf8cfb04861\", \"x\": [1.997751952230016, 4.494902567019446, 2.506396593239008, 2.4072554671851636], \"y\": [0.9095370918723985, 1.6604143739984187, -0.5334328931506014, -0.7645063855499601]}, {\"marker\": {\"color\": 3, \"line\": {\"width\": 1}, \"size\": 9, \"symbol\": 3}, \"mode\": \"markers\", \"name\": \"North America3\", \"text\": [], \"type\": \"scatter\", \"uid\": \"9dfc5fe3-4503-4e08-9d7f-4b6241d69702\", \"x\": [], \"y\": []}, {\"marker\": {\"color\": 4, \"line\": {\"width\": 1}, \"size\": 9, \"symbol\": 3}, \"mode\": \"markers\", \"name\": \"North America4\", \"text\": [\"Antigua and Barbuda\", \"Barbados\", \"Costa Rica\", \"Cuba\", \"El Salvador\"], \"type\": \"scatter\", \"uid\": \"5d0a5c3e-2ecd-4f22-b6c3-23cc78bc568b\", \"x\": [0.8447586393763887, 0.6348291861413285, 1.1213910251970858, -0.2816358249678399, -0.18057074507068893], \"y\": [1.3778592301150592, 0.9877319672418183, 0.6197199705027545, 2.570690577544649, 0.5589438359476006]}, {\"marker\": {\"color\": 5, \"line\": {\"width\": 1}, \"size\": 9, \"symbol\": 3}, \"mode\": \"markers\", \"name\": \"North America5\", \"text\": [\"Dominica\", \"Haiti\", \"Jamaica\", \"Mexico\"], \"type\": \"scatter\", \"uid\": \"a2b25131-6c36-4082-9fdb-94a120646f02\", \"x\": [-1.9195208735208957, -1.405305273829591, -0.4132241408937572, -1.7785324979852302], \"y\": [-1.1130018126159025, -1.4571321999413949, -1.4197472397963942, -1.2115414050601474]}, {\"marker\": {\"color\": 6, \"line\": {\"width\": 1}, \"size\": 9, \"symbol\": 3}, \"mode\": \"markers\", \"name\": \"North America6\", \"text\": [], \"type\": \"scatter\", \"uid\": \"f987ae46-254f-488c-a006-32e2f9538f54\", \"x\": [], \"y\": []}, {\"marker\": {\"color\": 0, \"line\": {\"width\": 1}, \"size\": 9, \"symbol\": 4}, \"mode\": \"markers\", \"name\": \"South America0\", \"text\": [\"Brazil\", \"Chile\", \"Colombia\"], \"type\": \"scatter\", \"uid\": \"2adf4eea-8e53-4ba4-bba7-929ed11a0710\", \"x\": [1.5202649045559373, -0.3854075250513515, 0.6673753823898034], \"y\": [0.45555575951847765, -0.17923554335824005, -0.09693108099638988]}, {\"marker\": {\"color\": 1, \"line\": {\"width\": 1}, \"size\": 9, \"symbol\": 4}, \"mode\": \"markers\", \"name\": \"South America1\", \"text\": [\"Paraguay\"], \"type\": \"scatter\", \"uid\": \"3ff3412c-a628-4d4f-871a-9355270e3b2a\", \"x\": [-1.8783042629902822], \"y\": [1.5130943997920991]}, {\"marker\": {\"color\": 2, \"line\": {\"width\": 1}, \"size\": 9, \"symbol\": 4}, \"mode\": \"markers\", \"name\": \"South America2\", \"text\": [\"Argentina\", \"Ecuador\"], \"type\": \"scatter\", \"uid\": \"03043d5c-1058-48e6-bb51-b040b7bd5566\", \"x\": [2.135768065099927, 3.0795304153940957], \"y\": [-0.5656254447553128, -0.2818609086154058]}, {\"marker\": {\"color\": 3, \"line\": {\"width\": 1}, \"size\": 9, \"symbol\": 4}, \"mode\": \"markers\", \"name\": \"South America3\", \"text\": [], \"type\": \"scatter\", \"uid\": \"85d63104-ad45-490c-a4eb-c036dc72d5dd\", \"x\": [], \"y\": []}, {\"marker\": {\"color\": 4, \"line\": {\"width\": 1}, \"size\": 9, \"symbol\": 4}, \"mode\": \"markers\", \"name\": \"South America4\", \"text\": [\"Peru\"], \"type\": \"scatter\", \"uid\": \"3746f342-a91a-4ea1-ba6f-0c055b8a03ca\", \"x\": [0.4334291320902332], \"y\": [0.8712763944998104]}, {\"marker\": {\"color\": 5, \"line\": {\"width\": 1}, \"size\": 9, \"symbol\": 4}, \"mode\": \"markers\", \"name\": \"South America5\", \"text\": [\"Bolivia (Plurinational State of)\", \"Guyana\", \"Suriname\"], \"type\": \"scatter\", \"uid\": \"13e96eab-cf90-4c6f-840b-5b17bf9d86ff\", \"x\": [-0.5742328253056509, -0.9224043218741698, -1.2829027645430924], \"y\": [-1.154788450463492, -1.300773373483378, -0.43529925391619784]}, {\"marker\": {\"color\": 6, \"line\": {\"width\": 1}, \"size\": 9, \"symbol\": 4}, \"mode\": \"markers\", \"name\": \"South America6\", \"text\": [], \"type\": \"scatter\", \"uid\": \"911d8737-98ad-4044-ab72-8bc51fe5c9e1\", \"x\": [], \"y\": []}, {\"marker\": {\"color\": 0, \"line\": {\"width\": 1}, \"size\": 9, \"symbol\": 5}, \"mode\": \"markers\", \"name\": \"Australia0\", \"text\": [\"New Zealand\"], \"type\": \"scatter\", \"uid\": \"90406e5e-95c3-43b4-b897-2e5adcde6498\", \"x\": [-0.14254990832575198], \"y\": [-0.2491721913176558]}, {\"marker\": {\"color\": 1, \"line\": {\"width\": 1}, \"size\": 9, \"symbol\": 5}, \"mode\": \"markers\", \"name\": \"Australia1\", \"text\": [\"Kiribati\"], \"type\": \"scatter\", \"uid\": \"56723631-fe62-475b-a1f8-0af8866a8656\", \"x\": [-1.7000333639582839], \"y\": [0.04394355073132196]}, {\"marker\": {\"color\": 2, \"line\": {\"width\": 1}, \"size\": 9, \"symbol\": 5}, \"mode\": \"markers\", \"name\": \"Australia2\", \"text\": [\"Australia\", \"Fiji\"], \"type\": \"scatter\", \"uid\": \"2ba86edd-3126-411e-92c5-661e6267c34f\", \"x\": [3.601356674927375, 2.493577717222948], \"y\": [0.13771972278054598, -0.4145685688782614]}, {\"marker\": {\"color\": 3, \"line\": {\"width\": 1}, \"size\": 9, \"symbol\": 5}, \"mode\": \"markers\", \"name\": \"Australia3\", \"text\": [], \"type\": \"scatter\", \"uid\": \"22710b37-605d-401a-a7ed-1712fa028f87\", \"x\": [], \"y\": []}, {\"marker\": {\"color\": 4, \"line\": {\"width\": 1}, \"size\": 9, \"symbol\": 5}, \"mode\": \"markers\", \"name\": \"Australia4\", \"text\": [], \"type\": \"scatter\", \"uid\": \"d025c727-08da-41ba-860d-484c66f000fb\", \"x\": [], \"y\": []}, {\"marker\": {\"color\": 5, \"line\": {\"width\": 1}, \"size\": 9, \"symbol\": 5}, \"mode\": \"markers\", \"name\": \"Australia5\", \"text\": [\"Samoa\", \"Solomon Islands\"], \"type\": \"scatter\", \"uid\": \"248d4c45-a6c3-4f9c-9a6d-198db6030355\", \"x\": [-0.3316694602179114, -1.6050790260876788], \"y\": [-1.2818053858163327, -0.8856664360915395]}, {\"marker\": {\"color\": 6, \"line\": {\"width\": 1}, \"size\": 9, \"symbol\": 5}, \"mode\": \"markers\", \"name\": \"Australia6\", \"text\": [], \"type\": \"scatter\", \"uid\": \"f374610a-c311-420d-b32c-b914abbb53d2\", \"x\": [], \"y\": []}, {\"marker\": {\"color\": 0, \"line\": {\"width\": 1}, \"size\": 9, \"symbol\": 6}, \"mode\": \"markers\", \"name\": \"nan0\", \"text\": [], \"type\": \"scatter\", \"uid\": \"ecb86148-c224-48ff-9098-224f97f3e123\", \"x\": [], \"y\": []}, {\"marker\": {\"color\": 1, \"line\": {\"width\": 1}, \"size\": 9, \"symbol\": 6}, \"mode\": \"markers\", \"name\": \"nan1\", \"text\": [], \"type\": \"scatter\", \"uid\": \"6dcc7fc4-1725-4deb-bc1a-12a8ce0a40ba\", \"x\": [], \"y\": []}, {\"marker\": {\"color\": 2, \"line\": {\"width\": 1}, \"size\": 9, \"symbol\": 6}, \"mode\": \"markers\", \"name\": \"nan2\", \"text\": [], \"type\": \"scatter\", \"uid\": \"a9143c5a-9c61-47b2-b02b-6fde806aba76\", \"x\": [], \"y\": []}, {\"marker\": {\"color\": 3, \"line\": {\"width\": 1}, \"size\": 9, \"symbol\": 6}, \"mode\": \"markers\", \"name\": \"nan3\", \"text\": [], \"type\": \"scatter\", \"uid\": \"db4b0551-45eb-4544-a9b9-dbb1a2efd216\", \"x\": [], \"y\": []}, {\"marker\": {\"color\": 4, \"line\": {\"width\": 1}, \"size\": 9, \"symbol\": 6}, \"mode\": \"markers\", \"name\": \"nan4\", \"text\": [], \"type\": \"scatter\", \"uid\": \"77cfedba-9ba2-48c4-9f00-df37329f514c\", \"x\": [], \"y\": []}, {\"marker\": {\"color\": 5, \"line\": {\"width\": 1}, \"size\": 9, \"symbol\": 6}, \"mode\": \"markers\", \"name\": \"nan5\", \"text\": [], \"type\": \"scatter\", \"uid\": \"165d666b-f8f0-4b98-b15e-3e7f3e7ae8f3\", \"x\": [], \"y\": []}, {\"marker\": {\"color\": 6, \"line\": {\"width\": 1}, \"size\": 9, \"symbol\": 6}, \"mode\": \"markers\", \"name\": \"nan6\", \"text\": [], \"type\": \"scatter\", \"uid\": \"5317ed1f-7f2b-401d-a1da-e92f98d23263\", \"x\": [], \"y\": []}, {\"marker\": {\"color\": \"rgba(220, 220, 220, .4)\", \"line\": {\"width\": 1}, \"size\": 20}, \"mode\": \"markers\", \"name\": \"Center\", \"type\": \"scatter\", \"uid\": \"211037b2-c749-476e-89cf-613758f978c0\", \"x\": [0.6281561616167871, -1.4581550486407244, 3.020028184480491, -1.2434079785557945, 0.2739017982343863, -1.2074090533729032], \"y\": [-0.4293701496083122, 0.6511859324117353, 0.0009538734753103093, 5.451531096753903, 1.20843590408502, -1.1093626192507484]}],\n",
       "                        {\"hovermode\": \"closest\", \"showlegend\": true, \"title\": {\"text\": \"2 component PCA Kmeans Clustering Continent\"}, \"xaxis\": {\"gridwidth\": 2, \"ticklen\": 5, \"title\": {\"text\": \"principal component 1\"}, \"zeroline\": false}, \"yaxis\": {\"gridwidth\": 2, \"ticklen\": 5, \"title\": {\"text\": \"principal component 2\"}}},\n",
       "                        {\"showLink\": false, \"linkText\": \"Export to plot.ly\", \"plotlyServerURL\": \"https://plot.ly\", \"responsive\": true}\n",
       "                    ).then(function(){\n",
       "                            \n",
       "var gd = document.getElementById('c9a5a96f-c26f-425c-9bd5-b4952f4b8461');\n",
       "var x = new MutationObserver(function (mutations, observer) {{\n",
       "        var display = window.getComputedStyle(gd).display;\n",
       "        if (!display || display === 'none') {{\n",
       "            console.log([gd, 'removed!']);\n",
       "            Plotly.purge(gd);\n",
       "            observer.disconnect();\n",
       "        }}\n",
       "}});\n",
       "\n",
       "// Listen for the removal of the full notebook cells\n",
       "var notebookContainer = gd.closest('#notebook-container');\n",
       "if (notebookContainer) {{\n",
       "    x.observe(notebookContainer, {childList: true});\n",
       "}}\n",
       "\n",
       "// Listen for the clearing of the current output cell\n",
       "var outputEl = gd.closest('.output');\n",
       "if (outputEl) {{\n",
       "    x.observe(outputEl, {childList: true});\n",
       "}}\n",
       "\n",
       "                        })\n",
       "                };\n",
       "                });\n",
       "            </script>\n",
       "        </div>"
      ]
     },
     "metadata": {},
     "output_type": "display_data"
    },
    {
     "name": "stderr",
     "output_type": "stream",
     "text": [
      "C:\\Users\\XuP-intern\\AppData\\Local\\Continuum\\anaconda3\\lib\\site-packages\\IPython\\core\\display.py:689: UserWarning:\n",
      "\n",
      "Consider using IPython.display.IFrame instead\n",
      "\n"
     ]
    }
   ],
   "source": [
    "plot_plotly(principalDf_socio,\"Continent\",continent_centers_socio,\"Socioeconomic + Foods\")"
   ]
  },
  {
   "cell_type": "markdown",
   "metadata": {},
   "source": [
    "#### Region Level "
   ]
  },
  {
   "cell_type": "code",
   "execution_count": 34,
   "metadata": {},
   "outputs": [
    {
     "name": "stdout",
     "output_type": "stream",
     "text": [
      "['South Asia' 'Europe & Central Asia' 'Middle East & North Africa'\n",
      " 'Sub-Saharan Africa' 'Latin America & Caribbean' 'East Asia & Pacific'\n",
      " nan 'North America']\n"
     ]
    },
    {
     "name": "stderr",
     "output_type": "stream",
     "text": [
      "C:\\Users\\XuP-intern\\AppData\\Local\\Continuum\\anaconda3\\lib\\site-packages\\matplotlib\\legend.py:798: UserWarning:\n",
      "\n",
      "Legend does not support 's' instances.\n",
      "A proxy artist may be used instead.\n",
      "See: http://matplotlib.org/users/legend_guide.html#creating-artists-specifically-for-adding-to-the-legend-aka-proxy-artists\n",
      "\n",
      "C:\\Users\\XuP-intern\\AppData\\Local\\Continuum\\anaconda3\\lib\\site-packages\\matplotlib\\legend.py:798: UserWarning:\n",
      "\n",
      "Legend does not support 'd' instances.\n",
      "A proxy artist may be used instead.\n",
      "See: http://matplotlib.org/users/legend_guide.html#creating-artists-specifically-for-adding-to-the-legend-aka-proxy-artists\n",
      "\n",
      "C:\\Users\\XuP-intern\\AppData\\Local\\Continuum\\anaconda3\\lib\\site-packages\\matplotlib\\legend.py:798: UserWarning:\n",
      "\n",
      "Legend does not support 'p' instances.\n",
      "A proxy artist may be used instead.\n",
      "See: http://matplotlib.org/users/legend_guide.html#creating-artists-specifically-for-adding-to-the-legend-aka-proxy-artists\n",
      "\n",
      "C:\\Users\\XuP-intern\\AppData\\Local\\Continuum\\anaconda3\\lib\\site-packages\\matplotlib\\legend.py:798: UserWarning:\n",
      "\n",
      "Legend does not support 'h' instances.\n",
      "A proxy artist may be used instead.\n",
      "See: http://matplotlib.org/users/legend_guide.html#creating-artists-specifically-for-adding-to-the-legend-aka-proxy-artists\n",
      "\n",
      "C:\\Users\\XuP-intern\\AppData\\Local\\Continuum\\anaconda3\\lib\\site-packages\\matplotlib\\legend.py:798: UserWarning:\n",
      "\n",
      "Legend does not support 'o' instances.\n",
      "A proxy artist may be used instead.\n",
      "See: http://matplotlib.org/users/legend_guide.html#creating-artists-specifically-for-adding-to-the-legend-aka-proxy-artists\n",
      "\n",
      "C:\\Users\\XuP-intern\\AppData\\Local\\Continuum\\anaconda3\\lib\\site-packages\\matplotlib\\legend.py:798: UserWarning:\n",
      "\n",
      "Legend does not support '*' instances.\n",
      "A proxy artist may be used instead.\n",
      "See: http://matplotlib.org/users/legend_guide.html#creating-artists-specifically-for-adding-to-the-legend-aka-proxy-artists\n",
      "\n",
      "C:\\Users\\XuP-intern\\AppData\\Local\\Continuum\\anaconda3\\lib\\site-packages\\matplotlib\\legend.py:798: UserWarning:\n",
      "\n",
      "Legend does not support 'x' instances.\n",
      "A proxy artist may be used instead.\n",
      "See: http://matplotlib.org/users/legend_guide.html#creating-artists-specifically-for-adding-to-the-legend-aka-proxy-artists\n",
      "\n"
     ]
    },
    {
     "data": {
      "image/png": "[encoded data removed]",
      "text/plain": [
       "<Figure size 576x576 with 1 Axes>"
      ]
     },
     "metadata": {
      "needs_background": "light"
     },
     "output_type": "display_data"
    },
    {
     "data": {
      "image/png": "[encoded data removed]",
      "text/plain": [
       "<Figure size 576x576 with 1 Axes>"
      ]
     },
     "metadata": {
      "needs_background": "light"
     },
     "output_type": "display_data"
    }
   ],
   "source": [
    "colors_region = ['r', 'g', 'b','c','m','y','k']\n",
    "pca_plot(colors_region,principalDf_socio,\"Region\")\n",
    "\n",
    "region_cluster_labels_socio, region_centers_socio = perform_kmeans(X_socio, 7)\n",
    "principalDf_socio[\"Region_Cluster\"] = region_cluster_labels_socio\n",
    "mark_shapes = ['s','d','p','h','o','*','x']\n",
    "\n",
    "pca_kmeans_plot(colors_region,mark_shapes,principalDf_socio,\"Region\",region_centers_socio)"
   ]
  },
  {
   "cell_type": "code",
   "execution_count": 35,
   "metadata": {},
   "outputs": [
    {
     "data": {
      "application/vnd.plotly.v1+json": {
       "config": {
        "linkText": "Export to plot.ly",
        "plotlyServerURL": "https://plot.ly",
        "showLink": false
       },
       "data": [
        {
         "marker": {
          "color": 0,
          "line": {
           "width": 1
          },
          "size": 9,
          "symbol": 0
         },
         "mode": "markers",
         "name": "South Asia0",
         "text": [
          "Afghanistan"
         ],
         "type": "scatter",
         "uid": "14b51b09-bf94-42f0-881e-3aa3c6159a11",
         "x": [
          -1.697410120640752
         ],
         "y": [
          -1.5434506618250943
         ]
        },
        {
         "marker": {
          "color": 1,
          "line": {
           "width": 1
          },
          "size": 9,
          "symbol": 0
         },
         "mode": "markers",
         "name": "South Asia1",
         "text": [
          "India"
         ],
         "type": "scatter",
         "uid": "cc473219-d16d-4c07-9e1e-bec23802dc09",
         "x": [
          -0.4315023344195417
         ],
         "y": [
          0.9455842233943689
         ]
        },
        {
         "marker": {
          "color": 2,
          "line": {
           "width": 1
          },
          "size": 9,
          "symbol": 0
         },
         "mode": "markers",
         "name": "South Asia2",
         "text": [],
         "type": "scatter",
         "uid": "49f59992-62e4-429b-b666-4b9b39ea9b3d",
         "x": [],
         "y": []
        },
        {
         "marker": {
          "color": 3,
          "line": {
           "width": 1
          },
          "size": 9,
          "symbol": 0
         },
         "mode": "markers",
         "name": "South Asia3",
         "text": [
          "Bangladesh",
          "Sri Lanka"
         ],
         "type": "scatter",
         "uid": "cc9b0ef8-3a16-4dbe-ba45-1cfb330450b0",
         "x": [
          -2.0184911071699387,
          -1.8765681374298009
         ],
         "y": [
          -0.13706821892481022,
          -0.09294091535223646
         ]
        },
        {
         "marker": {
          "color": 4,
          "line": {
           "width": 1
          },
          "size": 9,
          "symbol": 0
         },
         "mode": "markers",
         "name": "South Asia4",
         "text": [],
         "type": "scatter",
         "uid": "2db71371-219d-4d03-a5cf-b7da5c590048",
         "x": [],
         "y": []
        },
        {
         "marker": {
          "color": 5,
          "line": {
           "width": 1
          },
          "size": 9,
          "symbol": 0
         },
         "mode": "markers",
         "name": "South Asia5",
         "text": [
          "Maldives",
          "Nepal",
          "Pakistan"
         ],
         "type": "scatter",
         "uid": "73a5a05b-9d28-4f34-a275-c45fe6ca0513",
         "x": [
          1.2920439726088986,
          0.7515751798336623,
          0.4538360103147787
         ],
         "y": [
          -0.7003479978118538,
          -0.19351498321984212,
          -1.4537239305437173
         ]
        },
        {
         "marker": {
          "color": 6,
          "line": {
           "width": 1
          },
          "size": 9,
          "symbol": 0
         },
         "mode": "markers",
         "name": "South Asia6",
         "text": [],
         "type": "scatter",
         "uid": "ab7f461e-105f-499b-9748-7519f0bd0a19",
         "x": [],
         "y": []
        },
        {
         "marker": {
          "color": 7,
          "line": {
           "width": 1
          },
          "size": 9,
          "symbol": 0
         },
         "mode": "markers",
         "name": "South Asia7",
         "text": [],
         "type": "scatter",
         "uid": "e2d6de2b-b9b6-494b-b7e5-aaf856abd213",
         "x": [],
         "y": []
        },
        {
         "marker": {
          "color": 0,
          "line": {
           "width": 1
          },
          "size": 9,
          "symbol": 1
         },
         "mode": "markers",
         "name": "Europe & Central Asia0",
         "text": [
          "Azerbaijan",
          "Bulgaria",
          "Luxembourg",
          "Netherlands",
          "Sweden",
          "Ukraine"
         ],
         "type": "scatter",
         "uid": "c03a710d-babb-4b02-b908-63b067588ba8",
         "x": [
          -0.7716116820685527,
          -1.8539552547660936,
          -0.6634469178822539,
          -0.7191219289529936,
          -0.1789231253295809,
          -1.6011940361906098
         ],
         "y": [
          -2.0334849113621662,
          -1.5374577585581481,
          -1.254563866380137,
          -0.9255942002221457,
          -1.8493517879497932,
          -1.2357889925354657
         ]
        },
        {
         "marker": {
          "color": 1,
          "line": {
           "width": 1
          },
          "size": 9,
          "symbol": 1
         },
         "mode": "markers",
         "name": "Europe & Central Asia1",
         "text": [
          "Cyprus",
          "Czechia",
          "Kazakhstan",
          "Norway",
          "Poland",
          "Portugal"
         ],
         "type": "scatter",
         "uid": "fca616e8-30ed-41e3-9349-89316cbc583f",
         "x": [
          -0.5108063992491925,
          -0.10523013381641709,
          -0.42667568542074474,
          1.4030474837653042,
          0.282381472382214,
          0.28693645306475196
         ],
         "y": [
          0.8609853150958702,
          0.4986660842608068,
          0.6543205353053694,
          1.1920547703468016,
          0.7969961460896453,
          2.192654000404062
         ]
        },
        {
         "marker": {
          "color": 2,
          "line": {
           "width": 1
          },
          "size": 9,
          "symbol": 1
         },
         "mode": "markers",
         "name": "Europe & Central Asia2",
         "text": [
          "Austria",
          "Belgium",
          "Croatia",
          "Hungary",
          "Italy",
          "Kyrgyzstan",
          "Lithuania",
          "Montenegro",
          "Slovakia",
          "Slovenia"
         ],
         "type": "scatter",
         "uid": "851026fa-4877-4fd6-9d39-c32195209b5e",
         "x": [
          2.49925829180802,
          5.1690696718524505,
          2.7387324760305027,
          2.914598912157268,
          2.7894646431280834,
          4.978943539810282,
          3.4378168540156833,
          2.096984861302116,
          3.3705434022265646,
          3.1960322639754675
         ],
         "y": [
          -0.4041082957581522,
          -0.32425146070447863,
          -0.025800484699504526,
          -0.34767878158871257,
          -0.8598360855517289,
          0.15074862550313586,
          -0.02945002608303857,
          0.3003758940331083,
          0.07983550740194019,
          -0.07609459595755877
         ]
        },
        {
         "marker": {
          "color": 3,
          "line": {
           "width": 1
          },
          "size": 9,
          "symbol": 1
         },
         "mode": "markers",
         "name": "Europe & Central Asia3",
         "text": [
          "Bosnia and Herzegovina",
          "Denmark",
          "Estonia",
          "Georgia",
          "Germany",
          "Greece",
          "Ireland",
          "Latvia",
          "Romania",
          "Serbia",
          "Spain",
          "United Kingdom"
         ],
         "type": "scatter",
         "uid": "70b6d3a0-3241-468c-b925-7b96cfbb50f9",
         "x": [
          -0.8796449326264388,
          -0.9682825253085652,
          -1.650128614626429,
          -1.8150146530856845,
          -0.38305852681855296,
          -0.9661520621523775,
          -1.3560846900769448,
          -1.9666126669108592,
          -1.5851167698078001,
          -0.3492598641909243,
          -1.7130083387449586,
          -1.6098223216152385
         ],
         "y": [
          -0.6273614852013268,
          0.27424395470851803,
          -0.8310875138021281,
          0.17229614576998234,
          -0.06744429792786755,
          -0.4199560971274845,
          -0.5667742853654102,
          -0.7106244155014685,
          -0.4405568184577929,
          -0.03713218984481795,
          0.029941129920906858,
          -0.7891891349791984
         ]
        },
        {
         "marker": {
          "color": 4,
          "line": {
           "width": 1
          },
          "size": 9,
          "symbol": 1
         },
         "mode": "markers",
         "name": "Europe & Central Asia4",
         "text": [],
         "type": "scatter",
         "uid": "e0614f8c-83e7-46b7-834b-78d2d5b32392",
         "x": [],
         "y": []
        },
        {
         "marker": {
          "color": 5,
          "line": {
           "width": 1
          },
          "size": 9,
          "symbol": 1
         },
         "mode": "markers",
         "name": "Europe & Central Asia5",
         "text": [
          "Albania",
          "Armenia",
          "Belarus",
          "France",
          "Iceland",
          "Russian Federation",
          "Tajikistan",
          "Turkmenistan"
         ],
         "type": "scatter",
         "uid": "86721077-50e0-4811-b9b1-81ff2c3918ba",
         "x": [
          0.9365399612021017,
          0.09278812044825452,
          1.0116982666771925,
          1.4459549850913607,
          1.487044666098583,
          -0.13757455395517001,
          0.11438861126346808,
          0.8962246248883992
         ],
         "y": [
          -1.201689203698959,
          -0.9382790136973391,
          -0.18220803806478383,
          0.25266957050253996,
          0.1750718694881236,
          -0.5980761513751194,
          -0.5778972811261671,
          -0.28523899873308367
         ]
        },
        {
         "marker": {
          "color": 6,
          "line": {
           "width": 1
          },
          "size": 9,
          "symbol": 1
         },
         "mode": "markers",
         "name": "Europe & Central Asia6",
         "text": [
          "Finland",
          "Switzerland",
          "Turkey"
         ],
         "type": "scatter",
         "uid": "91ba825e-e78e-4617-9673-4f66d7c2a0fd",
         "x": [
          -1.7015991495175211,
          -1.681880805191861,
          -1.0896395628969702
         ],
         "y": [
          1.9117257155688463,
          1.4444051743624156,
          1.9533933436727984
         ]
        },
        {
         "marker": {
          "color": 7,
          "line": {
           "width": 1
          },
          "size": 9,
          "symbol": 1
         },
         "mode": "markers",
         "name": "Europe & Central Asia7",
         "text": [],
         "type": "scatter",
         "uid": "a5ed3fb5-7af1-4590-8aa2-cd15eadf9cae",
         "x": [],
         "y": []
        },
        {
         "marker": {
          "color": 0,
          "line": {
           "width": 1
          },
          "size": 9,
          "symbol": 2
         },
         "mode": "markers",
         "name": "Middle East & North Africa0",
         "text": [
          "Algeria",
          "Iran (Islamic Republic of)",
          "Tunisia"
         ],
         "type": "scatter",
         "uid": "8f76734d-6f46-4941-ac04-639b4d1ed0bb",
         "x": [
          -0.8440685189793667,
          -0.582768375439522,
          -0.8268689731421277
         ],
         "y": [
          -2.055723415318895,
          -1.2242653003132364,
          -1.5877997108141453
         ]
        },
        {
         "marker": {
          "color": 1,
          "line": {
           "width": 1
          },
          "size": 9,
          "symbol": 2
         },
         "mode": "markers",
         "name": "Middle East & North Africa1",
         "text": [
          "Oman"
         ],
         "type": "scatter",
         "uid": "d682b8a9-b555-40cb-8df7-370ff4dd0c4c",
         "x": [
          0.5670304788874663
         ],
         "y": [
          1.0148402858617827
         ]
        },
        {
         "marker": {
          "color": 2,
          "line": {
           "width": 1
          },
          "size": 9,
          "symbol": 2
         },
         "mode": "markers",
         "name": "Middle East & North Africa2",
         "text": [
          "Egypt"
         ],
         "type": "scatter",
         "uid": "7168265a-4d3f-49ad-8d2c-363b9fa9a717",
         "x": [
          2.510280507040692
         ],
         "y": [
          -0.012352585898475361
         ]
        },
        {
         "marker": {
          "color": 3,
          "line": {
           "width": 1
          },
          "size": 9,
          "symbol": 2
         },
         "mode": "markers",
         "name": "Middle East & North Africa3",
         "text": [
          "Malta",
          "Morocco",
          "United Arab Emirates"
         ],
         "type": "scatter",
         "uid": "3aaa31f2-c8a0-4331-9634-fe2c861a6522",
         "x": [
          -1.7723817440690093,
          -1.1686694075526918,
          -1.7326312212609845
         ],
         "y": [
          -0.03610867540110736,
          -0.612748221106872,
          -0.5874135771873088
         ]
        },
        {
         "marker": {
          "color": 4,
          "line": {
           "width": 1
          },
          "size": 9,
          "symbol": 2
         },
         "mode": "markers",
         "name": "Middle East & North Africa4",
         "text": [
          "Israel"
         ],
         "type": "scatter",
         "uid": "68e16639-493a-419d-8d71-f6d1743cd8b0",
         "x": [
          -1.8224089676942188
         ],
         "y": [
          5.733283261841905
         ]
        },
        {
         "marker": {
          "color": 5,
          "line": {
           "width": 1
          },
          "size": 9,
          "symbol": 2
         },
         "mode": "markers",
         "name": "Middle East & North Africa5",
         "text": [
          "Iraq",
          "Jordan",
          "Kuwait"
         ],
         "type": "scatter",
         "uid": "436bd680-10f4-41fe-a91c-7026bfd56dd1",
         "x": [
          1.0276342929177762,
          0.8151694825992627,
          1.733589864370219
         ],
         "y": [
          -0.7116520108307233,
          -0.19409135441012912,
          0.15736929151697573
         ]
        },
        {
         "marker": {
          "color": 6,
          "line": {
           "width": 1
          },
          "size": 9,
          "symbol": 2
         },
         "mode": "markers",
         "name": "Middle East & North Africa6",
         "text": [
          "Lebanon",
          "Saudi Arabia"
         ],
         "type": "scatter",
         "uid": "2c12034e-954a-43df-80ad-2061508b87db",
         "x": [
          -0.4607633632718433,
          -1.894440357050651
         ],
         "y": [
          3.0433532488002495,
          1.5859720350300157
         ]
        },
        {
         "marker": {
          "color": 7,
          "line": {
           "width": 1
          },
          "size": 9,
          "symbol": 2
         },
         "mode": "markers",
         "name": "Middle East & North Africa7",
         "text": [],
         "type": "scatter",
         "uid": "d298d1ba-d8ea-4354-a32a-e38d8bc40a17",
         "x": [],
         "y": []
        },
        {
         "marker": {
          "color": 0,
          "line": {
           "width": 1
          },
          "size": 9,
          "symbol": 3
         },
         "mode": "markers",
         "name": "Sub-Saharan Africa0",
         "text": [
          "Central African Republic",
          "Ethiopia",
          "Kenya",
          "Liberia",
          "Mali",
          "Mozambique",
          "Eswatini"
         ],
         "type": "scatter",
         "uid": "0a7b3af8-c47f-43f6-a43c-4b8df96cd782",
         "x": [
          -1.8090522015872292,
          -0.8531881018453802,
          -1.957780524549306,
          -1.2968517618007933,
          -1.317319375324838,
          -1.590223922718095,
          -0.1996661610381046
         ],
         "y": [
          -0.9700448324106417,
          -1.3703426580556415,
          -2.1107886952005845,
          -1.6877989536602744,
          -1.7193662816296826,
          -1.030342217517311,
          -1.6227730410045826
         ]
        },
        {
         "marker": {
          "color": 1,
          "line": {
           "width": 1
          },
          "size": 9,
          "symbol": 3
         },
         "mode": "markers",
         "name": "Sub-Saharan Africa1",
         "text": [
          "Sao Tome and Principe",
          "Sudan"
         ],
         "type": "scatter",
         "uid": "2e3685ab-4d8c-4a04-ba42-d593210482fe",
         "x": [
          1.7422920797086738,
          0.20320298125526484
         ],
         "y": [
          1.5437004215534584,
          0.5440660760138807
         ]
        },
        {
         "marker": {
          "color": 2,
          "line": {
           "width": 1
          },
          "size": 9,
          "symbol": 3
         },
         "mode": "markers",
         "name": "Sub-Saharan Africa2",
         "text": [
          "Cameroon",
          "Namibia",
          "Togo"
         ],
         "type": "scatter",
         "uid": "dc97f9e1-a6d1-48fd-bcd4-ec54cd9d9168",
         "x": [
          2.3601531156471522,
          3.727101345782506,
          3.2841446747397716
         ],
         "y": [
          -0.0409044885856792,
          0.5663662472742307,
          -0.13464434317000404
         ]
        },
        {
         "marker": {
          "color": 3,
          "line": {
           "width": 1
          },
          "size": 9,
          "symbol": 3
         },
         "mode": "markers",
         "name": "Sub-Saharan Africa3",
         "text": [
          "Angola",
          "Benin",
          "Burkina Faso",
          "Cabo Verde",
          "Congo (note no data in Food suppley tables for DRC)",
          "Gabon",
          "Gambia",
          "Guinea",
          "Mauritania",
          "Mauritius",
          "Sierra Leone"
         ],
         "type": "scatter",
         "uid": "9453c233-5515-4ea9-b9d7-d7c820418c55",
         "x": [
          -1.0818886899047466,
          -1.5411073255710999,
          -0.5825366211783465,
          -1.6157292789434363,
          -0.48385716893534764,
          -1.3748089984784013,
          -1.7842496101926266,
          -1.6344003841231114,
          -0.8358212229477898,
          -0.9454226261450629,
          -1.316812409334327
         ],
         "y": [
          0.33479622449772534,
          0.2693360518944025,
          -0.3286903023530706,
          0.2680415102981853,
          -0.3337701762790485,
          0.03483450198722658,
          -0.18044270196046794,
          -0.5238917455834444,
          0.6910167239109154,
          -0.07411443398426855,
          -0.750877444315325
         ]
        },
        {
         "marker": {
          "color": 4,
          "line": {
           "width": 1
          },
          "size": 9,
          "symbol": 3
         },
         "mode": "markers",
         "name": "Sub-Saharan Africa4",
         "text": [
          "Lesotho"
         ],
         "type": "scatter",
         "uid": "85aeffa0-ea8b-460f-819a-50276ae8b3fc",
         "x": [
          0.4958044359188891
         ],
         "y": [
          6.065440784985911
         ]
        },
        {
         "marker": {
          "color": 5,
          "line": {
           "width": 1
          },
          "size": 9,
          "symbol": 3
         },
         "mode": "markers",
         "name": "Sub-Saharan Africa5",
         "text": [
          "Botswana",
          "Chad",
          "CÃƒÂ´te d'Ivoire",
          "Madagascar",
          "Malawi",
          "Nigeria",
          "Senegal"
         ],
         "type": "scatter",
         "uid": "9963c9d6-a4d2-4361-a61d-7f4e3e3c32a3",
         "x": [
          1.2969451588981882,
          1.126098146822494,
          1.1547146971486633,
          -0.10484702475569553,
          0.22307854931906426,
          0.7881043388377904,
          1.4874493907577864
         ],
         "y": [
          -0.1229770590456236,
          -0.586840196288645,
          -0.41494042861550406,
          -0.32211634944072765,
          -0.7705711443991067,
          -0.6920717007439866,
          -0.9399875156610894
         ]
        },
        {
         "marker": {
          "color": 6,
          "line": {
           "width": 1
          },
          "size": 9,
          "symbol": 3
         },
         "mode": "markers",
         "name": "Sub-Saharan Africa6",
         "text": [
          "Ghana",
          "Guinea-Bissau",
          "Niger",
          "Rwanda",
          "South Africa",
          "Uganda"
         ],
         "type": "scatter",
         "uid": "df194187-7d02-496c-bfc7-f431699bac27",
         "x": [
          -1.7527538191992473,
          -1.7799321402999395,
          -1.5504667722443701,
          -1.6431078242186399,
          -1.0889326819582776,
          -1.1859710692386296
         ],
         "y": [
          1.0337133515907215,
          0.931680022742502,
          2.0710856994393723,
          0.7477848395791405,
          1.1578172730766663,
          1.0164842946548798
         ]
        },
        {
         "marker": {
          "color": 7,
          "line": {
           "width": 1
          },
          "size": 9,
          "symbol": 3
         },
         "mode": "markers",
         "name": "Sub-Saharan Africa7",
         "text": [],
         "type": "scatter",
         "uid": "e4f4f07b-76c7-42d4-9410-ad1b6ab0309b",
         "x": [],
         "y": []
        },
        {
         "marker": {
          "color": 0,
          "line": {
           "width": 1
          },
          "size": 9,
          "symbol": 4
         },
         "mode": "markers",
         "name": "Latin America & Caribbean0",
         "text": [
          "Bolivia (Plurinational State of)",
          "Dominica",
          "Guyana",
          "Haiti",
          "Jamaica",
          "Mexico"
         ],
         "type": "scatter",
         "uid": "a296669a-5de6-449f-ae11-0c79dd388678",
         "x": [
          -0.5742328253056509,
          -1.9195208735208957,
          -0.9224043218741698,
          -1.405305273829591,
          -0.4132241408937572,
          -1.7785324979852302
         ],
         "y": [
          -1.154788450463492,
          -1.1130018126159025,
          -1.300773373483378,
          -1.4571321999413949,
          -1.4197472397963942,
          -1.2115414050601474
         ]
        },
        {
         "marker": {
          "color": 1,
          "line": {
           "width": 1
          },
          "size": 9,
          "symbol": 4
         },
         "mode": "markers",
         "name": "Latin America & Caribbean1",
         "text": [
          "Antigua and Barbuda",
          "Barbados",
          "Costa Rica",
          "Dominican Republic",
          "El Salvador",
          "Peru"
         ],
         "type": "scatter",
         "uid": "dcc248f6-5fda-4f82-9948-facc9b86e43d",
         "x": [
          0.8447586393763887,
          0.6348291861413285,
          1.1213910251970858,
          -0.6646493115160885,
          -0.18057074507068893,
          0.4334291320902332
         ],
         "y": [
          1.3778592301150592,
          0.9877319672418183,
          0.6197199705027545,
          0.9325623120564227,
          0.5589438359476006,
          0.8712763944998104
         ]
        },
        {
         "marker": {
          "color": 2,
          "line": {
           "width": 1
          },
          "size": 9,
          "symbol": 4
         },
         "mode": "markers",
         "name": "Latin America & Caribbean2",
         "text": [
          "Argentina",
          "Bahamas",
          "Ecuador",
          "Guatemala",
          "Honduras",
          "Trinidad and Tobago"
         ],
         "type": "scatter",
         "uid": "17d48a8e-d5b6-4ede-8b3b-51cf454b4b42",
         "x": [
          2.135768065099927,
          1.997751952230016,
          3.0795304153940957,
          4.494902567019446,
          2.506396593239008,
          2.4072554671851636
         ],
         "y": [
          -0.5656254447553128,
          0.9095370918723985,
          -0.2818609086154058,
          1.6604143739984187,
          -0.5334328931506014,
          -0.7645063855499601
         ]
        },
        {
         "marker": {
          "color": 3,
          "line": {
           "width": 1
          },
          "size": 9,
          "symbol": 4
         },
         "mode": "markers",
         "name": "Latin America & Caribbean3",
         "text": [
          "Belize",
          "Chile",
          "Nicaragua",
          "Suriname"
         ],
         "type": "scatter",
         "uid": "acabfb82-7244-4ade-92cf-03ed1ec1bc2a",
         "x": [
          -0.5541004063659856,
          -0.3854075250513515,
          -0.6305546458196787,
          -1.2829027645430924
         ],
         "y": [
          -0.05600547589131159,
          -0.17923554335824005,
          -0.07270629277330096,
          -0.43529925391619784
         ]
        },
        {
         "marker": {
          "color": 4,
          "line": {
           "width": 1
          },
          "size": 9,
          "symbol": 4
         },
         "mode": "markers",
         "name": "Latin America & Caribbean4",
         "text": [],
         "type": "scatter",
         "uid": "4d4e25d9-8aa9-45b5-9608-5f90d3f6f3fa",
         "x": [],
         "y": []
        },
        {
         "marker": {
          "color": 5,
          "line": {
           "width": 1
          },
          "size": 9,
          "symbol": 4
         },
         "mode": "markers",
         "name": "Latin America & Caribbean5",
         "text": [
          "Brazil",
          "Colombia",
          "Grenada",
          "Panama",
          "Saint Kitts and Nevis",
          "Saint Lucia"
         ],
         "type": "scatter",
         "uid": "6e0132ad-6b51-4667-9c57-948b7b8520f4",
         "x": [
          1.5202649045559373,
          0.6673753823898034,
          0.6232839978584427,
          0.873234334280595,
          0.09929585616419405,
          1.1817367677991106
         ],
         "y": [
          0.45555575951847765,
          -0.09693108099638988,
          -0.4344606196547449,
          -0.5895711827162241,
          -0.5645208132489844,
          -0.544668293800872
         ]
        },
        {
         "marker": {
          "color": 6,
          "line": {
           "width": 1
          },
          "size": 9,
          "symbol": 4
         },
         "mode": "markers",
         "name": "Latin America & Caribbean6",
         "text": [
          "Cuba",
          "Paraguay",
          "Saint Vincent and the Grenadines"
         ],
         "type": "scatter",
         "uid": "c3dc5965-4c9c-44bc-a3ad-d78f521e28ec",
         "x": [
          -0.2816358249678399,
          -1.8783042629902822,
          -1.381833956480704
         ],
         "y": [
          2.570690577544649,
          1.5130943997920991,
          1.2970974401331368
         ]
        },
        {
         "marker": {
          "color": 7,
          "line": {
           "width": 1
          },
          "size": 9,
          "symbol": 4
         },
         "mode": "markers",
         "name": "Latin America & Caribbean7",
         "text": [],
         "type": "scatter",
         "uid": "3d0cf35e-51e2-4ca4-aa4a-5b1845b79bab",
         "x": [],
         "y": []
        },
        {
         "marker": {
          "color": 0,
          "line": {
           "width": 1
          },
          "size": 9,
          "symbol": 5
         },
         "mode": "markers",
         "name": "East Asia & Pacific0",
         "text": [
          "Samoa",
          "Solomon Islands"
         ],
         "type": "scatter",
         "uid": "0781fe8c-50f1-482a-a4da-ddb77795f096",
         "x": [
          -0.3316694602179114,
          -1.6050790260876788
         ],
         "y": [
          -1.2818053858163327,
          -0.8856664360915395
         ]
        },
        {
         "marker": {
          "color": 1,
          "line": {
           "width": 1
          },
          "size": 9,
          "symbol": 5
         },
         "mode": "markers",
         "name": "East Asia & Pacific1",
         "text": [
          "China, mainland",
          "Philippines"
         ],
         "type": "scatter",
         "uid": "15bf8f6d-b248-42b6-a001-b57c703ba8a9",
         "x": [
          0.29341470246000256,
          0.23237637316842857
         ],
         "y": [
          0.5052724321120584,
          1.4506639512025408
         ]
        },
        {
         "marker": {
          "color": 2,
          "line": {
           "width": 1
          },
          "size": 9,
          "symbol": 5
         },
         "mode": "markers",
         "name": "East Asia & Pacific2",
         "text": [
          "Australia",
          "Fiji",
          "Indonesia",
          "Mongolia"
         ],
         "type": "scatter",
         "uid": "0568beb6-97ca-4e2a-b3ca-f1c72d7bb007",
         "x": [
          3.601356674927375,
          2.493577717222948,
          2.1069803720334717,
          3.418693656680766
         ],
         "y": [
          0.13771972278054598,
          -0.4145685688782614,
          1.3447801157845853,
          0.05709613904407643
         ]
        },
        {
         "marker": {
          "color": 3,
          "line": {
           "width": 1
          },
          "size": 9,
          "symbol": 5
         },
         "mode": "markers",
         "name": "East Asia & Pacific3",
         "text": [
          "Cambodia",
          "Japan",
          "Kiribati",
          "Lao People's Democratic Republic",
          "Myanmar",
          "Timor-Leste"
         ],
         "type": "scatter",
         "uid": "f9fe7488-d4d3-4a10-9af7-10ce32a4686f",
         "x": [
          -1.6629277598525958,
          -1.6674777831039373,
          -1.7000333639582839,
          -1.6878487456536,
          -1.8840236642818395,
          -1.6353417883446704
         ],
         "y": [
          0.27178800561584054,
          -0.5516542762089379,
          0.04394355073132196,
          -0.4557942236872599,
          0.3372067156614352,
          0.06344841595426143
         ]
        },
        {
         "marker": {
          "color": 4,
          "line": {
           "width": 1
          },
          "size": 9,
          "symbol": 5
         },
         "mode": "markers",
         "name": "East Asia & Pacific4",
         "text": [
          "Republic of Korea"
         ],
         "type": "scatter",
         "uid": "d1be2ffa-e1fd-4bb4-a1f2-f8508c2221b4",
         "x": [
          -2.403619403892054
         ],
         "y": [
          4.555869243433894
         ]
        },
        {
         "marker": {
          "color": 5,
          "line": {
           "width": 1
          },
          "size": 9,
          "symbol": 5
         },
         "mode": "markers",
         "name": "East Asia & Pacific5",
         "text": [
          "Brunei Darussalam",
          "Malaysia",
          "New Zealand",
          "Thailand"
         ],
         "type": "scatter",
         "uid": "3d407cb3-5645-400f-97b9-3b5ba2e3193a",
         "x": [
          0.10002931429037883,
          0.17012002756519523,
          -0.14254990832575198,
          1.2461767711649758
         ],
         "y": [
          -0.8579177739878006,
          -0.6467545106775828,
          -0.2491721913176558,
          -0.6095938772352139
         ]
        },
        {
         "marker": {
          "color": 6,
          "line": {
           "width": 1
          },
          "size": 9,
          "symbol": 5
         },
         "mode": "markers",
         "name": "East Asia & Pacific6",
         "text": [],
         "type": "scatter",
         "uid": "98ba302f-7ce1-47cb-b134-6279251ad959",
         "x": [],
         "y": []
        },
        {
         "marker": {
          "color": 7,
          "line": {
           "width": 1
          },
          "size": 9,
          "symbol": 5
         },
         "mode": "markers",
         "name": "East Asia & Pacific7",
         "text": [],
         "type": "scatter",
         "uid": "47a1249d-71d6-46cd-a57b-957c9b99ca3a",
         "x": [],
         "y": []
        },
        {
         "marker": {
          "color": 0,
          "line": {
           "width": 1
          },
          "size": 9,
          "symbol": 6
         },
         "mode": "markers",
         "name": "nan0",
         "text": [],
         "type": "scatter",
         "uid": "ce169886-0686-4c72-a3c1-1a5402967a64",
         "x": [],
         "y": []
        },
        {
         "marker": {
          "color": 1,
          "line": {
           "width": 1
          },
          "size": 9,
          "symbol": 6
         },
         "mode": "markers",
         "name": "nan1",
         "text": [],
         "type": "scatter",
         "uid": "19a0d232-3f29-4dff-8d5e-89a276ef0721",
         "x": [],
         "y": []
        },
        {
         "marker": {
          "color": 2,
          "line": {
           "width": 1
          },
          "size": 9,
          "symbol": 6
         },
         "mode": "markers",
         "name": "nan2",
         "text": [],
         "type": "scatter",
         "uid": "0fa60678-7dea-47a3-898b-a35512aa5e6b",
         "x": [],
         "y": []
        },
        {
         "marker": {
          "color": 3,
          "line": {
           "width": 1
          },
          "size": 9,
          "symbol": 6
         },
         "mode": "markers",
         "name": "nan3",
         "text": [],
         "type": "scatter",
         "uid": "7dcc5096-7238-4bb9-b28f-2c0898cde15e",
         "x": [],
         "y": []
        },
        {
         "marker": {
          "color": 4,
          "line": {
           "width": 1
          },
          "size": 9,
          "symbol": 6
         },
         "mode": "markers",
         "name": "nan4",
         "text": [],
         "type": "scatter",
         "uid": "307ad3fa-f3c8-4485-b96e-db2579752f0d",
         "x": [],
         "y": []
        },
        {
         "marker": {
          "color": 5,
          "line": {
           "width": 1
          },
          "size": 9,
          "symbol": 6
         },
         "mode": "markers",
         "name": "nan5",
         "text": [],
         "type": "scatter",
         "uid": "f22ca81e-2e61-48d8-99c2-99a151e29870",
         "x": [],
         "y": []
        },
        {
         "marker": {
          "color": 6,
          "line": {
           "width": 1
          },
          "size": 9,
          "symbol": 6
         },
         "mode": "markers",
         "name": "nan6",
         "text": [],
         "type": "scatter",
         "uid": "c290d857-ff93-4272-b1c7-e2ce16a1ba8a",
         "x": [],
         "y": []
        },
        {
         "marker": {
          "color": 7,
          "line": {
           "width": 1
          },
          "size": 9,
          "symbol": 6
         },
         "mode": "markers",
         "name": "nan7",
         "text": [],
         "type": "scatter",
         "uid": "7714c70e-72c4-4de4-8c94-6ac35dd4ca53",
         "x": [],
         "y": []
        },
        {
         "marker": {
          "color": 0,
          "line": {
           "width": 1
          },
          "size": 9,
          "symbol": 7
         },
         "mode": "markers",
         "name": "North America0",
         "text": [],
         "type": "scatter",
         "uid": "069420f8-e8ef-4954-bd70-c8bd4fd35b92",
         "x": [],
         "y": []
        },
        {
         "marker": {
          "color": 1,
          "line": {
           "width": 1
          },
          "size": 9,
          "symbol": 7
         },
         "mode": "markers",
         "name": "North America1",
         "text": [],
         "type": "scatter",
         "uid": "6f001025-c776-4576-887b-904c34ad6d88",
         "x": [],
         "y": []
        },
        {
         "marker": {
          "color": 2,
          "line": {
           "width": 1
          },
          "size": 9,
          "symbol": 7
         },
         "mode": "markers",
         "name": "North America2",
         "text": [],
         "type": "scatter",
         "uid": "005fbfdc-1986-48ae-9a31-fe4989e2e126",
         "x": [],
         "y": []
        },
        {
         "marker": {
          "color": 3,
          "line": {
           "width": 1
          },
          "size": 9,
          "symbol": 7
         },
         "mode": "markers",
         "name": "North America3",
         "text": [
          "Canada"
         ],
         "type": "scatter",
         "uid": "cc9cde13-7cf1-4c46-a138-e567c5b4caf5",
         "x": [
          -1.1713140385964975
         ],
         "y": [
          0.5252124380814305
         ]
        },
        {
         "marker": {
          "color": 4,
          "line": {
           "width": 1
          },
          "size": 9,
          "symbol": 7
         },
         "mode": "markers",
         "name": "North America4",
         "text": [],
         "type": "scatter",
         "uid": "44b84783-dfc0-4f81-8d6a-3253fd8a2286",
         "x": [],
         "y": []
        },
        {
         "marker": {
          "color": 5,
          "line": {
           "width": 1
          },
          "size": 9,
          "symbol": 7
         },
         "mode": "markers",
         "name": "North America5",
         "text": [],
         "type": "scatter",
         "uid": "9f1fb906-5337-4e17-90e7-1a1d27bc0bd5",
         "x": [],
         "y": []
        },
        {
         "marker": {
          "color": 6,
          "line": {
           "width": 1
          },
          "size": 9,
          "symbol": 7
         },
         "mode": "markers",
         "name": "North America6",
         "text": [],
         "type": "scatter",
         "uid": "35311d70-96d2-4301-9284-2564b71c5001",
         "x": [],
         "y": []
        },
        {
         "marker": {
          "color": 7,
          "line": {
           "width": 1
          },
          "size": 9,
          "symbol": 7
         },
         "mode": "markers",
         "name": "North America7",
         "text": [],
         "type": "scatter",
         "uid": "bd9cd1c8-b12a-4f42-a774-17fb4344a5a0",
         "x": [],
         "y": []
        },
        {
         "marker": {
          "color": "rgba(220, 220, 220, .4)",
          "line": {
           "width": 1
          },
          "size": 20
         },
         "mode": "markers",
         "name": "Center",
         "type": "scatter",
         "uid": "dbc883ab-fd0e-4997-ae78-95c69d338f34",
         "x": [
          -1.1207877568523232,
          0.2749709525292112,
          3.020028184480491,
          -1.2919955083764951,
          -1.2434079785557945,
          0.7820466056878844,
          -1.4082566658711428
         ],
         "y": [
          -1.4472131168253524,
          0.9389037204724564,
          0.0009538734753103093,
          -0.17282100742360723,
          5.451531096753903,
          -0.4957971944429444,
          1.5503919058721602
         ]
        }
       ],
       "layout": {
        "hovermode": "closest",
        "showlegend": true,
        "title": {
         "text": "2 component PCA Kmeans Clustering Region"
        },
        "xaxis": {
         "gridwidth": 2,
         "ticklen": 5,
         "title": {
          "text": "principal component 1"
         },
         "zeroline": false
        },
        "yaxis": {
         "gridwidth": 2,
         "ticklen": 5,
         "title": {
          "text": "principal component 2"
         }
        }
       }
      },
      "text/html": [
       "<div>\n",
       "        \n",
       "        \n",
       "            <div id=\"c37f3e26-42fe-4557-9baa-a3cd5896f5d7\" class=\"plotly-graph-div\" style=\"height:525px; width:100%;\"></div>\n",
       "            <script type=\"text/javascript\">\n",
       "                require([\"plotly\"], function(Plotly) {\n",
       "                    window.PLOTLYENV=window.PLOTLYENV || {};\n",
       "                    window.PLOTLYENV.BASE_URL='https://plot.ly';\n",
       "                    \n",
       "                if (document.getElementById(\"c37f3e26-42fe-4557-9baa-a3cd5896f5d7\")) {\n",
       "                    Plotly.newPlot(\n",
       "                        'c37f3e26-42fe-4557-9baa-a3cd5896f5d7',\n",
       "                        [{\"marker\": {\"color\": 0, \"line\": {\"width\": 1}, \"size\": 9, \"symbol\": 0}, \"mode\": \"markers\", \"name\": \"South Asia0\", \"text\": [\"Afghanistan\"], \"type\": \"scatter\", \"uid\": \"14b51b09-bf94-42f0-881e-3aa3c6159a11\", \"x\": [-1.697410120640752], \"y\": [-1.5434506618250943]}, {\"marker\": {\"color\": 1, \"line\": {\"width\": 1}, \"size\": 9, \"symbol\": 0}, \"mode\": \"markers\", \"name\": \"South Asia1\", \"text\": [\"India\"], \"type\": \"scatter\", \"uid\": \"cc473219-d16d-4c07-9e1e-bec23802dc09\", \"x\": [-0.4315023344195417], \"y\": [0.9455842233943689]}, {\"marker\": {\"color\": 2, \"line\": {\"width\": 1}, \"size\": 9, \"symbol\": 0}, \"mode\": \"markers\", \"name\": \"South Asia2\", \"text\": [], \"type\": \"scatter\", \"uid\": \"49f59992-62e4-429b-b666-4b9b39ea9b3d\", \"x\": [], \"y\": []}, {\"marker\": {\"color\": 3, \"line\": {\"width\": 1}, \"size\": 9, \"symbol\": 0}, \"mode\": \"markers\", \"name\": \"South Asia3\", \"text\": [\"Bangladesh\", \"Sri Lanka\"], \"type\": \"scatter\", \"uid\": \"cc9b0ef8-3a16-4dbe-ba45-1cfb330450b0\", \"x\": [-2.0184911071699387, -1.8765681374298009], \"y\": [-0.13706821892481022, -0.09294091535223646]}, {\"marker\": {\"color\": 4, \"line\": {\"width\": 1}, \"size\": 9, \"symbol\": 0}, \"mode\": \"markers\", \"name\": \"South Asia4\", \"text\": [], \"type\": \"scatter\", \"uid\": \"2db71371-219d-4d03-a5cf-b7da5c590048\", \"x\": [], \"y\": []}, {\"marker\": {\"color\": 5, \"line\": {\"width\": 1}, \"size\": 9, \"symbol\": 0}, \"mode\": \"markers\", \"name\": \"South Asia5\", \"text\": [\"Maldives\", \"Nepal\", \"Pakistan\"], \"type\": \"scatter\", \"uid\": \"73a5a05b-9d28-4f34-a275-c45fe6ca0513\", \"x\": [1.2920439726088986, 0.7515751798336623, 0.4538360103147787], \"y\": [-0.7003479978118538, -0.19351498321984212, -1.4537239305437173]}, {\"marker\": {\"color\": 6, \"line\": {\"width\": 1}, \"size\": 9, \"symbol\": 0}, \"mode\": \"markers\", \"name\": \"South Asia6\", \"text\": [], \"type\": \"scatter\", \"uid\": \"ab7f461e-105f-499b-9748-7519f0bd0a19\", \"x\": [], \"y\": []}, {\"marker\": {\"color\": 7, \"line\": {\"width\": 1}, \"size\": 9, \"symbol\": 0}, \"mode\": \"markers\", \"name\": \"South Asia7\", \"text\": [], \"type\": \"scatter\", \"uid\": \"e2d6de2b-b9b6-494b-b7e5-aaf856abd213\", \"x\": [], \"y\": []}, {\"marker\": {\"color\": 0, \"line\": {\"width\": 1}, \"size\": 9, \"symbol\": 1}, \"mode\": \"markers\", \"name\": \"Europe & Central Asia0\", \"text\": [\"Azerbaijan\", \"Bulgaria\", \"Luxembourg\", \"Netherlands\", \"Sweden\", \"Ukraine\"], \"type\": \"scatter\", \"uid\": \"c03a710d-babb-4b02-b908-63b067588ba8\", \"x\": [-0.7716116820685527, -1.8539552547660936, -0.6634469178822539, -0.7191219289529936, -0.1789231253295809, -1.6011940361906098], \"y\": [-2.0334849113621662, -1.5374577585581481, -1.254563866380137, -0.9255942002221457, -1.8493517879497932, -1.2357889925354657]}, {\"marker\": {\"color\": 1, \"line\": {\"width\": 1}, \"size\": 9, \"symbol\": 1}, \"mode\": \"markers\", \"name\": \"Europe & Central Asia1\", \"text\": [\"Cyprus\", \"Czechia\", \"Kazakhstan\", \"Norway\", \"Poland\", \"Portugal\"], \"type\": \"scatter\", \"uid\": \"fca616e8-30ed-41e3-9349-89316cbc583f\", \"x\": [-0.5108063992491925, -0.10523013381641709, -0.42667568542074474, 1.4030474837653042, 0.282381472382214, 0.28693645306475196], \"y\": [0.8609853150958702, 0.4986660842608068, 0.6543205353053694, 1.1920547703468016, 0.7969961460896453, 2.192654000404062]}, {\"marker\": {\"color\": 2, \"line\": {\"width\": 1}, \"size\": 9, \"symbol\": 1}, \"mode\": \"markers\", \"name\": \"Europe & Central Asia2\", \"text\": [\"Austria\", \"Belgium\", \"Croatia\", \"Hungary\", \"Italy\", \"Kyrgyzstan\", \"Lithuania\", \"Montenegro\", \"Slovakia\", \"Slovenia\"], \"type\": \"scatter\", \"uid\": \"851026fa-4877-4fd6-9d39-c32195209b5e\", \"x\": [2.49925829180802, 5.1690696718524505, 2.7387324760305027, 2.914598912157268, 2.7894646431280834, 4.978943539810282, 3.4378168540156833, 2.096984861302116, 3.3705434022265646, 3.1960322639754675], \"y\": [-0.4041082957581522, -0.32425146070447863, -0.025800484699504526, -0.34767878158871257, -0.8598360855517289, 0.15074862550313586, -0.02945002608303857, 0.3003758940331083, 0.07983550740194019, -0.07609459595755877]}, {\"marker\": {\"color\": 3, \"line\": {\"width\": 1}, \"size\": 9, \"symbol\": 1}, \"mode\": \"markers\", \"name\": \"Europe & Central Asia3\", \"text\": [\"Bosnia and Herzegovina\", \"Denmark\", \"Estonia\", \"Georgia\", \"Germany\", \"Greece\", \"Ireland\", \"Latvia\", \"Romania\", \"Serbia\", \"Spain\", \"United Kingdom\"], \"type\": \"scatter\", \"uid\": \"70b6d3a0-3241-468c-b925-7b96cfbb50f9\", \"x\": [-0.8796449326264388, -0.9682825253085652, -1.650128614626429, -1.8150146530856845, -0.38305852681855296, -0.9661520621523775, -1.3560846900769448, -1.9666126669108592, -1.5851167698078001, -0.3492598641909243, -1.7130083387449586, -1.6098223216152385], \"y\": [-0.6273614852013268, 0.27424395470851803, -0.8310875138021281, 0.17229614576998234, -0.06744429792786755, -0.4199560971274845, -0.5667742853654102, -0.7106244155014685, -0.4405568184577929, -0.03713218984481795, 0.029941129920906858, -0.7891891349791984]}, {\"marker\": {\"color\": 4, \"line\": {\"width\": 1}, \"size\": 9, \"symbol\": 1}, \"mode\": \"markers\", \"name\": \"Europe & Central Asia4\", \"text\": [], \"type\": \"scatter\", \"uid\": \"e0614f8c-83e7-46b7-834b-78d2d5b32392\", \"x\": [], \"y\": []}, {\"marker\": {\"color\": 5, \"line\": {\"width\": 1}, \"size\": 9, \"symbol\": 1}, \"mode\": \"markers\", \"name\": \"Europe & Central Asia5\", \"text\": [\"Albania\", \"Armenia\", \"Belarus\", \"France\", \"Iceland\", \"Russian Federation\", \"Tajikistan\", \"Turkmenistan\"], \"type\": \"scatter\", \"uid\": \"86721077-50e0-4811-b9b1-81ff2c3918ba\", \"x\": [0.9365399612021017, 0.09278812044825452, 1.0116982666771925, 1.4459549850913607, 1.487044666098583, -0.13757455395517001, 0.11438861126346808, 0.8962246248883992], \"y\": [-1.201689203698959, -0.9382790136973391, -0.18220803806478383, 0.25266957050253996, 0.1750718694881236, -0.5980761513751194, -0.5778972811261671, -0.28523899873308367]}, {\"marker\": {\"color\": 6, \"line\": {\"width\": 1}, \"size\": 9, \"symbol\": 1}, \"mode\": \"markers\", \"name\": \"Europe & Central Asia6\", \"text\": [\"Finland\", \"Switzerland\", \"Turkey\"], \"type\": \"scatter\", \"uid\": \"91ba825e-e78e-4617-9673-4f66d7c2a0fd\", \"x\": [-1.7015991495175211, -1.681880805191861, -1.0896395628969702], \"y\": [1.9117257155688463, 1.4444051743624156, 1.9533933436727984]}, {\"marker\": {\"color\": 7, \"line\": {\"width\": 1}, \"size\": 9, \"symbol\": 1}, \"mode\": \"markers\", \"name\": \"Europe & Central Asia7\", \"text\": [], \"type\": \"scatter\", \"uid\": \"a5ed3fb5-7af1-4590-8aa2-cd15eadf9cae\", \"x\": [], \"y\": []}, {\"marker\": {\"color\": 0, \"line\": {\"width\": 1}, \"size\": 9, \"symbol\": 2}, \"mode\": \"markers\", \"name\": \"Middle East & North Africa0\", \"text\": [\"Algeria\", \"Iran (Islamic Republic of)\", \"Tunisia\"], \"type\": \"scatter\", \"uid\": \"8f76734d-6f46-4941-ac04-639b4d1ed0bb\", \"x\": [-0.8440685189793667, -0.582768375439522, -0.8268689731421277], \"y\": [-2.055723415318895, -1.2242653003132364, -1.5877997108141453]}, {\"marker\": {\"color\": 1, \"line\": {\"width\": 1}, \"size\": 9, \"symbol\": 2}, \"mode\": \"markers\", \"name\": \"Middle East & North Africa1\", \"text\": [\"Oman\"], \"type\": \"scatter\", \"uid\": \"d682b8a9-b555-40cb-8df7-370ff4dd0c4c\", \"x\": [0.5670304788874663], \"y\": [1.0148402858617827]}, {\"marker\": {\"color\": 2, \"line\": {\"width\": 1}, \"size\": 9, \"symbol\": 2}, \"mode\": \"markers\", \"name\": \"Middle East & North Africa2\", \"text\": [\"Egypt\"], \"type\": \"scatter\", \"uid\": \"7168265a-4d3f-49ad-8d2c-363b9fa9a717\", \"x\": [2.510280507040692], \"y\": [-0.012352585898475361]}, {\"marker\": {\"color\": 3, \"line\": {\"width\": 1}, \"size\": 9, \"symbol\": 2}, \"mode\": \"markers\", \"name\": \"Middle East & North Africa3\", \"text\": [\"Malta\", \"Morocco\", \"United Arab Emirates\"], \"type\": \"scatter\", \"uid\": \"3aaa31f2-c8a0-4331-9634-fe2c861a6522\", \"x\": [-1.7723817440690093, -1.1686694075526918, -1.7326312212609845], \"y\": [-0.03610867540110736, -0.612748221106872, -0.5874135771873088]}, {\"marker\": {\"color\": 4, \"line\": {\"width\": 1}, \"size\": 9, \"symbol\": 2}, \"mode\": \"markers\", \"name\": \"Middle East & North Africa4\", \"text\": [\"Israel\"], \"type\": \"scatter\", \"uid\": \"68e16639-493a-419d-8d71-f6d1743cd8b0\", \"x\": [-1.8224089676942188], \"y\": [5.733283261841905]}, {\"marker\": {\"color\": 5, \"line\": {\"width\": 1}, \"size\": 9, \"symbol\": 2}, \"mode\": \"markers\", \"name\": \"Middle East & North Africa5\", \"text\": [\"Iraq\", \"Jordan\", \"Kuwait\"], \"type\": \"scatter\", \"uid\": \"436bd680-10f4-41fe-a91c-7026bfd56dd1\", \"x\": [1.0276342929177762, 0.8151694825992627, 1.733589864370219], \"y\": [-0.7116520108307233, -0.19409135441012912, 0.15736929151697573]}, {\"marker\": {\"color\": 6, \"line\": {\"width\": 1}, \"size\": 9, \"symbol\": 2}, \"mode\": \"markers\", \"name\": \"Middle East & North Africa6\", \"text\": [\"Lebanon\", \"Saudi Arabia\"], \"type\": \"scatter\", \"uid\": \"2c12034e-954a-43df-80ad-2061508b87db\", \"x\": [-0.4607633632718433, -1.894440357050651], \"y\": [3.0433532488002495, 1.5859720350300157]}, {\"marker\": {\"color\": 7, \"line\": {\"width\": 1}, \"size\": 9, \"symbol\": 2}, \"mode\": \"markers\", \"name\": \"Middle East & North Africa7\", \"text\": [], \"type\": \"scatter\", \"uid\": \"d298d1ba-d8ea-4354-a32a-e38d8bc40a17\", \"x\": [], \"y\": []}, {\"marker\": {\"color\": 0, \"line\": {\"width\": 1}, \"size\": 9, \"symbol\": 3}, \"mode\": \"markers\", \"name\": \"Sub-Saharan Africa0\", \"text\": [\"Central African Republic\", \"Ethiopia\", \"Kenya\", \"Liberia\", \"Mali\", \"Mozambique\", \"Eswatini\"], \"type\": \"scatter\", \"uid\": \"0a7b3af8-c47f-43f6-a43c-4b8df96cd782\", \"x\": [-1.8090522015872292, -0.8531881018453802, -1.957780524549306, -1.2968517618007933, -1.317319375324838, -1.590223922718095, -0.1996661610381046], \"y\": [-0.9700448324106417, -1.3703426580556415, -2.1107886952005845, -1.6877989536602744, -1.7193662816296826, -1.030342217517311, -1.6227730410045826]}, {\"marker\": {\"color\": 1, \"line\": {\"width\": 1}, \"size\": 9, \"symbol\": 3}, \"mode\": \"markers\", \"name\": \"Sub-Saharan Africa1\", \"text\": [\"Sao Tome and Principe\", \"Sudan\"], \"type\": \"scatter\", \"uid\": \"2e3685ab-4d8c-4a04-ba42-d593210482fe\", \"x\": [1.7422920797086738, 0.20320298125526484], \"y\": [1.5437004215534584, 0.5440660760138807]}, {\"marker\": {\"color\": 2, \"line\": {\"width\": 1}, \"size\": 9, \"symbol\": 3}, \"mode\": \"markers\", \"name\": \"Sub-Saharan Africa2\", \"text\": [\"Cameroon\", \"Namibia\", \"Togo\"], \"type\": \"scatter\", \"uid\": \"dc97f9e1-a6d1-48fd-bcd4-ec54cd9d9168\", \"x\": [2.3601531156471522, 3.727101345782506, 3.2841446747397716], \"y\": [-0.0409044885856792, 0.5663662472742307, -0.13464434317000404]}, {\"marker\": {\"color\": 3, \"line\": {\"width\": 1}, \"size\": 9, \"symbol\": 3}, \"mode\": \"markers\", \"name\": \"Sub-Saharan Africa3\", \"text\": [\"Angola\", \"Benin\", \"Burkina Faso\", \"Cabo Verde\", \"Congo (note no data in Food suppley tables for DRC)\", \"Gabon\", \"Gambia\", \"Guinea\", \"Mauritania\", \"Mauritius\", \"Sierra Leone\"], \"type\": \"scatter\", \"uid\": \"9453c233-5515-4ea9-b9d7-d7c820418c55\", \"x\": [-1.0818886899047466, -1.5411073255710999, -0.5825366211783465, -1.6157292789434363, -0.48385716893534764, -1.3748089984784013, -1.7842496101926266, -1.6344003841231114, -0.8358212229477898, -0.9454226261450629, -1.316812409334327], \"y\": [0.33479622449772534, 0.2693360518944025, -0.3286903023530706, 0.2680415102981853, -0.3337701762790485, 0.03483450198722658, -0.18044270196046794, -0.5238917455834444, 0.6910167239109154, -0.07411443398426855, -0.750877444315325]}, {\"marker\": {\"color\": 4, \"line\": {\"width\": 1}, \"size\": 9, \"symbol\": 3}, \"mode\": \"markers\", \"name\": \"Sub-Saharan Africa4\", \"text\": [\"Lesotho\"], \"type\": \"scatter\", \"uid\": \"85aeffa0-ea8b-460f-819a-50276ae8b3fc\", \"x\": [0.4958044359188891], \"y\": [6.065440784985911]}, {\"marker\": {\"color\": 5, \"line\": {\"width\": 1}, \"size\": 9, \"symbol\": 3}, \"mode\": \"markers\", \"name\": \"Sub-Saharan Africa5\", \"text\": [\"Botswana\", \"Chad\", \"C\\u00c3\\u0192\\u00c2\\u00b4te d'Ivoire\", \"Madagascar\", \"Malawi\", \"Nigeria\", \"Senegal\"], \"type\": \"scatter\", \"uid\": \"9963c9d6-a4d2-4361-a61d-7f4e3e3c32a3\", \"x\": [1.2969451588981882, 1.126098146822494, 1.1547146971486633, -0.10484702475569553, 0.22307854931906426, 0.7881043388377904, 1.4874493907577864], \"y\": [-0.1229770590456236, -0.586840196288645, -0.41494042861550406, -0.32211634944072765, -0.7705711443991067, -0.6920717007439866, -0.9399875156610894]}, {\"marker\": {\"color\": 6, \"line\": {\"width\": 1}, \"size\": 9, \"symbol\": 3}, \"mode\": \"markers\", \"name\": \"Sub-Saharan Africa6\", \"text\": [\"Ghana\", \"Guinea-Bissau\", \"Niger\", \"Rwanda\", \"South Africa\", \"Uganda\"], \"type\": \"scatter\", \"uid\": \"df194187-7d02-496c-bfc7-f431699bac27\", \"x\": [-1.7527538191992473, -1.7799321402999395, -1.5504667722443701, -1.6431078242186399, -1.0889326819582776, -1.1859710692386296], \"y\": [1.0337133515907215, 0.931680022742502, 2.0710856994393723, 0.7477848395791405, 1.1578172730766663, 1.0164842946548798]}, {\"marker\": {\"color\": 7, \"line\": {\"width\": 1}, \"size\": 9, \"symbol\": 3}, \"mode\": \"markers\", \"name\": \"Sub-Saharan Africa7\", \"text\": [], \"type\": \"scatter\", \"uid\": \"e4f4f07b-76c7-42d4-9410-ad1b6ab0309b\", \"x\": [], \"y\": []}, {\"marker\": {\"color\": 0, \"line\": {\"width\": 1}, \"size\": 9, \"symbol\": 4}, \"mode\": \"markers\", \"name\": \"Latin America & Caribbean0\", \"text\": [\"Bolivia (Plurinational State of)\", \"Dominica\", \"Guyana\", \"Haiti\", \"Jamaica\", \"Mexico\"], \"type\": \"scatter\", \"uid\": \"a296669a-5de6-449f-ae11-0c79dd388678\", \"x\": [-0.5742328253056509, -1.9195208735208957, -0.9224043218741698, -1.405305273829591, -0.4132241408937572, -1.7785324979852302], \"y\": [-1.154788450463492, -1.1130018126159025, -1.300773373483378, -1.4571321999413949, -1.4197472397963942, -1.2115414050601474]}, {\"marker\": {\"color\": 1, \"line\": {\"width\": 1}, \"size\": 9, \"symbol\": 4}, \"mode\": \"markers\", \"name\": \"Latin America & Caribbean1\", \"text\": [\"Antigua and Barbuda\", \"Barbados\", \"Costa Rica\", \"Dominican Republic\", \"El Salvador\", \"Peru\"], \"type\": \"scatter\", \"uid\": \"dcc248f6-5fda-4f82-9948-facc9b86e43d\", \"x\": [0.8447586393763887, 0.6348291861413285, 1.1213910251970858, -0.6646493115160885, -0.18057074507068893, 0.4334291320902332], \"y\": [1.3778592301150592, 0.9877319672418183, 0.6197199705027545, 0.9325623120564227, 0.5589438359476006, 0.8712763944998104]}, {\"marker\": {\"color\": 2, \"line\": {\"width\": 1}, \"size\": 9, \"symbol\": 4}, \"mode\": \"markers\", \"name\": \"Latin America & Caribbean2\", \"text\": [\"Argentina\", \"Bahamas\", \"Ecuador\", \"Guatemala\", \"Honduras\", \"Trinidad and Tobago\"], \"type\": \"scatter\", \"uid\": \"17d48a8e-d5b6-4ede-8b3b-51cf454b4b42\", \"x\": [2.135768065099927, 1.997751952230016, 3.0795304153940957, 4.494902567019446, 2.506396593239008, 2.4072554671851636], \"y\": [-0.5656254447553128, 0.9095370918723985, -0.2818609086154058, 1.6604143739984187, -0.5334328931506014, -0.7645063855499601]}, {\"marker\": {\"color\": 3, \"line\": {\"width\": 1}, \"size\": 9, \"symbol\": 4}, \"mode\": \"markers\", \"name\": \"Latin America & Caribbean3\", \"text\": [\"Belize\", \"Chile\", \"Nicaragua\", \"Suriname\"], \"type\": \"scatter\", \"uid\": \"acabfb82-7244-4ade-92cf-03ed1ec1bc2a\", \"x\": [-0.5541004063659856, -0.3854075250513515, -0.6305546458196787, -1.2829027645430924], \"y\": [-0.05600547589131159, -0.17923554335824005, -0.07270629277330096, -0.43529925391619784]}, {\"marker\": {\"color\": 4, \"line\": {\"width\": 1}, \"size\": 9, \"symbol\": 4}, \"mode\": \"markers\", \"name\": \"Latin America & Caribbean4\", \"text\": [], \"type\": \"scatter\", \"uid\": \"4d4e25d9-8aa9-45b5-9608-5f90d3f6f3fa\", \"x\": [], \"y\": []}, {\"marker\": {\"color\": 5, \"line\": {\"width\": 1}, \"size\": 9, \"symbol\": 4}, \"mode\": \"markers\", \"name\": \"Latin America & Caribbean5\", \"text\": [\"Brazil\", \"Colombia\", \"Grenada\", \"Panama\", \"Saint Kitts and Nevis\", \"Saint Lucia\"], \"type\": \"scatter\", \"uid\": \"6e0132ad-6b51-4667-9c57-948b7b8520f4\", \"x\": [1.5202649045559373, 0.6673753823898034, 0.6232839978584427, 0.873234334280595, 0.09929585616419405, 1.1817367677991106], \"y\": [0.45555575951847765, -0.09693108099638988, -0.4344606196547449, -0.5895711827162241, -0.5645208132489844, -0.544668293800872]}, {\"marker\": {\"color\": 6, \"line\": {\"width\": 1}, \"size\": 9, \"symbol\": 4}, \"mode\": \"markers\", \"name\": \"Latin America & Caribbean6\", \"text\": [\"Cuba\", \"Paraguay\", \"Saint Vincent and the Grenadines\"], \"type\": \"scatter\", \"uid\": \"c3dc5965-4c9c-44bc-a3ad-d78f521e28ec\", \"x\": [-0.2816358249678399, -1.8783042629902822, -1.381833956480704], \"y\": [2.570690577544649, 1.5130943997920991, 1.2970974401331368]}, {\"marker\": {\"color\": 7, \"line\": {\"width\": 1}, \"size\": 9, \"symbol\": 4}, \"mode\": \"markers\", \"name\": \"Latin America & Caribbean7\", \"text\": [], \"type\": \"scatter\", \"uid\": \"3d0cf35e-51e2-4ca4-aa4a-5b1845b79bab\", \"x\": [], \"y\": []}, {\"marker\": {\"color\": 0, \"line\": {\"width\": 1}, \"size\": 9, \"symbol\": 5}, \"mode\": \"markers\", \"name\": \"East Asia & Pacific0\", \"text\": [\"Samoa\", \"Solomon Islands\"], \"type\": \"scatter\", \"uid\": \"0781fe8c-50f1-482a-a4da-ddb77795f096\", \"x\": [-0.3316694602179114, -1.6050790260876788], \"y\": [-1.2818053858163327, -0.8856664360915395]}, {\"marker\": {\"color\": 1, \"line\": {\"width\": 1}, \"size\": 9, \"symbol\": 5}, \"mode\": \"markers\", \"name\": \"East Asia & Pacific1\", \"text\": [\"China, mainland\", \"Philippines\"], \"type\": \"scatter\", \"uid\": \"15bf8f6d-b248-42b6-a001-b57c703ba8a9\", \"x\": [0.29341470246000256, 0.23237637316842857], \"y\": [0.5052724321120584, 1.4506639512025408]}, {\"marker\": {\"color\": 2, \"line\": {\"width\": 1}, \"size\": 9, \"symbol\": 5}, \"mode\": \"markers\", \"name\": \"East Asia & Pacific2\", \"text\": [\"Australia\", \"Fiji\", \"Indonesia\", \"Mongolia\"], \"type\": \"scatter\", \"uid\": \"0568beb6-97ca-4e2a-b3ca-f1c72d7bb007\", \"x\": [3.601356674927375, 2.493577717222948, 2.1069803720334717, 3.418693656680766], \"y\": [0.13771972278054598, -0.4145685688782614, 1.3447801157845853, 0.05709613904407643]}, {\"marker\": {\"color\": 3, \"line\": {\"width\": 1}, \"size\": 9, \"symbol\": 5}, \"mode\": \"markers\", \"name\": \"East Asia & Pacific3\", \"text\": [\"Cambodia\", \"Japan\", \"Kiribati\", \"Lao People's Democratic Republic\", \"Myanmar\", \"Timor-Leste\"], \"type\": \"scatter\", \"uid\": \"f9fe7488-d4d3-4a10-9af7-10ce32a4686f\", \"x\": [-1.6629277598525958, -1.6674777831039373, -1.7000333639582839, -1.6878487456536, -1.8840236642818395, -1.6353417883446704], \"y\": [0.27178800561584054, -0.5516542762089379, 0.04394355073132196, -0.4557942236872599, 0.3372067156614352, 0.06344841595426143]}, {\"marker\": {\"color\": 4, \"line\": {\"width\": 1}, \"size\": 9, \"symbol\": 5}, \"mode\": \"markers\", \"name\": \"East Asia & Pacific4\", \"text\": [\"Republic of Korea\"], \"type\": \"scatter\", \"uid\": \"d1be2ffa-e1fd-4bb4-a1f2-f8508c2221b4\", \"x\": [-2.403619403892054], \"y\": [4.555869243433894]}, {\"marker\": {\"color\": 5, \"line\": {\"width\": 1}, \"size\": 9, \"symbol\": 5}, \"mode\": \"markers\", \"name\": \"East Asia & Pacific5\", \"text\": [\"Brunei Darussalam\", \"Malaysia\", \"New Zealand\", \"Thailand\"], \"type\": \"scatter\", \"uid\": \"3d407cb3-5645-400f-97b9-3b5ba2e3193a\", \"x\": [0.10002931429037883, 0.17012002756519523, -0.14254990832575198, 1.2461767711649758], \"y\": [-0.8579177739878006, -0.6467545106775828, -0.2491721913176558, -0.6095938772352139]}, {\"marker\": {\"color\": 6, \"line\": {\"width\": 1}, \"size\": 9, \"symbol\": 5}, \"mode\": \"markers\", \"name\": \"East Asia & Pacific6\", \"text\": [], \"type\": \"scatter\", \"uid\": \"98ba302f-7ce1-47cb-b134-6279251ad959\", \"x\": [], \"y\": []}, {\"marker\": {\"color\": 7, \"line\": {\"width\": 1}, \"size\": 9, \"symbol\": 5}, \"mode\": \"markers\", \"name\": \"East Asia & Pacific7\", \"text\": [], \"type\": \"scatter\", \"uid\": \"47a1249d-71d6-46cd-a57b-957c9b99ca3a\", \"x\": [], \"y\": []}, {\"marker\": {\"color\": 0, \"line\": {\"width\": 1}, \"size\": 9, \"symbol\": 6}, \"mode\": \"markers\", \"name\": \"nan0\", \"text\": [], \"type\": \"scatter\", \"uid\": \"ce169886-0686-4c72-a3c1-1a5402967a64\", \"x\": [], \"y\": []}, {\"marker\": {\"color\": 1, \"line\": {\"width\": 1}, \"size\": 9, \"symbol\": 6}, \"mode\": \"markers\", \"name\": \"nan1\", \"text\": [], \"type\": \"scatter\", \"uid\": \"19a0d232-3f29-4dff-8d5e-89a276ef0721\", \"x\": [], \"y\": []}, {\"marker\": {\"color\": 2, \"line\": {\"width\": 1}, \"size\": 9, \"symbol\": 6}, \"mode\": \"markers\", \"name\": \"nan2\", \"text\": [], \"type\": \"scatter\", \"uid\": \"0fa60678-7dea-47a3-898b-a35512aa5e6b\", \"x\": [], \"y\": []}, {\"marker\": {\"color\": 3, \"line\": {\"width\": 1}, \"size\": 9, \"symbol\": 6}, \"mode\": \"markers\", \"name\": \"nan3\", \"text\": [], \"type\": \"scatter\", \"uid\": \"7dcc5096-7238-4bb9-b28f-2c0898cde15e\", \"x\": [], \"y\": []}, {\"marker\": {\"color\": 4, \"line\": {\"width\": 1}, \"size\": 9, \"symbol\": 6}, \"mode\": \"markers\", \"name\": \"nan4\", \"text\": [], \"type\": \"scatter\", \"uid\": \"307ad3fa-f3c8-4485-b96e-db2579752f0d\", \"x\": [], \"y\": []}, {\"marker\": {\"color\": 5, \"line\": {\"width\": 1}, \"size\": 9, \"symbol\": 6}, \"mode\": \"markers\", \"name\": \"nan5\", \"text\": [], \"type\": \"scatter\", \"uid\": \"f22ca81e-2e61-48d8-99c2-99a151e29870\", \"x\": [], \"y\": []}, {\"marker\": {\"color\": 6, \"line\": {\"width\": 1}, \"size\": 9, \"symbol\": 6}, \"mode\": \"markers\", \"name\": \"nan6\", \"text\": [], \"type\": \"scatter\", \"uid\": \"c290d857-ff93-4272-b1c7-e2ce16a1ba8a\", \"x\": [], \"y\": []}, {\"marker\": {\"color\": 7, \"line\": {\"width\": 1}, \"size\": 9, \"symbol\": 6}, \"mode\": \"markers\", \"name\": \"nan7\", \"text\": [], \"type\": \"scatter\", \"uid\": \"7714c70e-72c4-4de4-8c94-6ac35dd4ca53\", \"x\": [], \"y\": []}, {\"marker\": {\"color\": 0, \"line\": {\"width\": 1}, \"size\": 9, \"symbol\": 7}, \"mode\": \"markers\", \"name\": \"North America0\", \"text\": [], \"type\": \"scatter\", \"uid\": \"069420f8-e8ef-4954-bd70-c8bd4fd35b92\", \"x\": [], \"y\": []}, {\"marker\": {\"color\": 1, \"line\": {\"width\": 1}, \"size\": 9, \"symbol\": 7}, \"mode\": \"markers\", \"name\": \"North America1\", \"text\": [], \"type\": \"scatter\", \"uid\": \"6f001025-c776-4576-887b-904c34ad6d88\", \"x\": [], \"y\": []}, {\"marker\": {\"color\": 2, \"line\": {\"width\": 1}, \"size\": 9, \"symbol\": 7}, \"mode\": \"markers\", \"name\": \"North America2\", \"text\": [], \"type\": \"scatter\", \"uid\": \"005fbfdc-1986-48ae-9a31-fe4989e2e126\", \"x\": [], \"y\": []}, {\"marker\": {\"color\": 3, \"line\": {\"width\": 1}, \"size\": 9, \"symbol\": 7}, \"mode\": \"markers\", \"name\": \"North America3\", \"text\": [\"Canada\"], \"type\": \"scatter\", \"uid\": \"cc9cde13-7cf1-4c46-a138-e567c5b4caf5\", \"x\": [-1.1713140385964975], \"y\": [0.5252124380814305]}, {\"marker\": {\"color\": 4, \"line\": {\"width\": 1}, \"size\": 9, \"symbol\": 7}, \"mode\": \"markers\", \"name\": \"North America4\", \"text\": [], \"type\": \"scatter\", \"uid\": \"44b84783-dfc0-4f81-8d6a-3253fd8a2286\", \"x\": [], \"y\": []}, {\"marker\": {\"color\": 5, \"line\": {\"width\": 1}, \"size\": 9, \"symbol\": 7}, \"mode\": \"markers\", \"name\": \"North America5\", \"text\": [], \"type\": \"scatter\", \"uid\": \"9f1fb906-5337-4e17-90e7-1a1d27bc0bd5\", \"x\": [], \"y\": []}, {\"marker\": {\"color\": 6, \"line\": {\"width\": 1}, \"size\": 9, \"symbol\": 7}, \"mode\": \"markers\", \"name\": \"North America6\", \"text\": [], \"type\": \"scatter\", \"uid\": \"35311d70-96d2-4301-9284-2564b71c5001\", \"x\": [], \"y\": []}, {\"marker\": {\"color\": 7, \"line\": {\"width\": 1}, \"size\": 9, \"symbol\": 7}, \"mode\": \"markers\", \"name\": \"North America7\", \"text\": [], \"type\": \"scatter\", \"uid\": \"bd9cd1c8-b12a-4f42-a774-17fb4344a5a0\", \"x\": [], \"y\": []}, {\"marker\": {\"color\": \"rgba(220, 220, 220, .4)\", \"line\": {\"width\": 1}, \"size\": 20}, \"mode\": \"markers\", \"name\": \"Center\", \"type\": \"scatter\", \"uid\": \"dbc883ab-fd0e-4997-ae78-95c69d338f34\", \"x\": [-1.1207877568523232, 0.2749709525292112, 3.020028184480491, -1.2919955083764951, -1.2434079785557945, 0.7820466056878844, -1.4082566658711428], \"y\": [-1.4472131168253524, 0.9389037204724564, 0.0009538734753103093, -0.17282100742360723, 5.451531096753903, -0.4957971944429444, 1.5503919058721602]}],\n",
       "                        {\"hovermode\": \"closest\", \"showlegend\": true, \"title\": {\"text\": \"2 component PCA Kmeans Clustering Region\"}, \"xaxis\": {\"gridwidth\": 2, \"ticklen\": 5, \"title\": {\"text\": \"principal component 1\"}, \"zeroline\": false}, \"yaxis\": {\"gridwidth\": 2, \"ticklen\": 5, \"title\": {\"text\": \"principal component 2\"}}},\n",
       "                        {\"showLink\": false, \"linkText\": \"Export to plot.ly\", \"plotlyServerURL\": \"https://plot.ly\", \"responsive\": true}\n",
       "                    ).then(function(){\n",
       "                            \n",
       "var gd = document.getElementById('c37f3e26-42fe-4557-9baa-a3cd5896f5d7');\n",
       "var x = new MutationObserver(function (mutations, observer) {{\n",
       "        var display = window.getComputedStyle(gd).display;\n",
       "        if (!display || display === 'none') {{\n",
       "            console.log([gd, 'removed!']);\n",
       "            Plotly.purge(gd);\n",
       "            observer.disconnect();\n",
       "        }}\n",
       "}});\n",
       "\n",
       "// Listen for the removal of the full notebook cells\n",
       "var notebookContainer = gd.closest('#notebook-container');\n",
       "if (notebookContainer) {{\n",
       "    x.observe(notebookContainer, {childList: true});\n",
       "}}\n",
       "\n",
       "// Listen for the clearing of the current output cell\n",
       "var outputEl = gd.closest('.output');\n",
       "if (outputEl) {{\n",
       "    x.observe(outputEl, {childList: true});\n",
       "}}\n",
       "\n",
       "                        })\n",
       "                };\n",
       "                });\n",
       "            </script>\n",
       "        </div>"
      ]
     },
     "metadata": {},
     "output_type": "display_data"
    },
    {
     "name": "stderr",
     "output_type": "stream",
     "text": [
      "C:\\Users\\XuP-intern\\AppData\\Local\\Continuum\\anaconda3\\lib\\site-packages\\IPython\\core\\display.py:689: UserWarning:\n",
      "\n",
      "Consider using IPython.display.IFrame instead\n",
      "\n"
     ]
    }
   ],
   "source": [
    "plot_plotly(principalDf_socio,\"Region\",region_centers_socio,\"Socioeconomic + Foods\")"
   ]
  },
  {
   "cell_type": "markdown",
   "metadata": {},
   "source": [
    "#### Development Level"
   ]
  },
  {
   "cell_type": "code",
   "execution_count": 36,
   "metadata": {},
   "outputs": [
    {
     "name": "stdout",
     "output_type": "stream",
     "text": [
      "['Low income' 'Upper middle income' 'Lower middle income' 'High income'\n",
      " nan]\n"
     ]
    },
    {
     "name": "stderr",
     "output_type": "stream",
     "text": [
      "C:\\Users\\XuP-intern\\AppData\\Local\\Continuum\\anaconda3\\lib\\site-packages\\matplotlib\\legend.py:798: UserWarning:\n",
      "\n",
      "Legend does not support 's' instances.\n",
      "A proxy artist may be used instead.\n",
      "See: http://matplotlib.org/users/legend_guide.html#creating-artists-specifically-for-adding-to-the-legend-aka-proxy-artists\n",
      "\n",
      "C:\\Users\\XuP-intern\\AppData\\Local\\Continuum\\anaconda3\\lib\\site-packages\\matplotlib\\legend.py:798: UserWarning:\n",
      "\n",
      "Legend does not support 'd' instances.\n",
      "A proxy artist may be used instead.\n",
      "See: http://matplotlib.org/users/legend_guide.html#creating-artists-specifically-for-adding-to-the-legend-aka-proxy-artists\n",
      "\n",
      "C:\\Users\\XuP-intern\\AppData\\Local\\Continuum\\anaconda3\\lib\\site-packages\\matplotlib\\legend.py:798: UserWarning:\n",
      "\n",
      "Legend does not support 'p' instances.\n",
      "A proxy artist may be used instead.\n",
      "See: http://matplotlib.org/users/legend_guide.html#creating-artists-specifically-for-adding-to-the-legend-aka-proxy-artists\n",
      "\n",
      "C:\\Users\\XuP-intern\\AppData\\Local\\Continuum\\anaconda3\\lib\\site-packages\\matplotlib\\legend.py:798: UserWarning:\n",
      "\n",
      "Legend does not support 'h' instances.\n",
      "A proxy artist may be used instead.\n",
      "See: http://matplotlib.org/users/legend_guide.html#creating-artists-specifically-for-adding-to-the-legend-aka-proxy-artists\n",
      "\n"
     ]
    },
    {
     "data": {
      "image/png": "[encoded data removed]",
      "text/plain": [
       "<Figure size 576x576 with 1 Axes>"
      ]
     },
     "metadata": {
      "needs_background": "light"
     },
     "output_type": "display_data"
    },
    {
     "data": {
      "image/png": "[encoded data removed]",
      "text/plain": [
       "<Figure size 576x576 with 1 Axes>"
      ]
     },
     "metadata": {
      "needs_background": "light"
     },
     "output_type": "display_data"
    }
   ],
   "source": [
    "colors_region = ['r', 'g', 'b','c']\n",
    "pca_plot(colors_region,principalDf_socio,\"Income group\")\n",
    "\n",
    "income_cluster_labels_socio, income_centers_socio = perform_kmeans(X_socio, 4)\n",
    "principalDf_socio[\"Income group_Cluster\"] = income_cluster_labels_socio\n",
    "mark_shapes = ['s','d','p','h']\n",
    "\n",
    "pca_kmeans_plot(colors_region,mark_shapes,principalDf_socio,\"Income group\",income_centers_socio)\n",
    "\n",
    "principalDf_socio.to_csv(\"pca_protein.csv\")"
   ]
  },
  {
   "cell_type": "code",
   "execution_count": 37,
   "metadata": {},
   "outputs": [
    {
     "data": {
      "application/vnd.plotly.v1+json": {
       "config": {
        "linkText": "Export to plot.ly",
        "plotlyServerURL": "https://plot.ly",
        "showLink": false
       },
       "data": [
        {
         "marker": {
          "color": 0,
          "line": {
           "width": 1
          },
          "size": 9,
          "symbol": 0
         },
         "mode": "markers",
         "name": "Low income0",
         "text": [
          "Chad",
          "Madagascar",
          "Malawi",
          "Nepal",
          "Senegal",
          "Tajikistan"
         ],
         "type": "scatter",
         "uid": "e2c4debe-9866-4e22-b754-bb49d3abebdc",
         "x": [
          1.126098146822494,
          -0.10484702475569553,
          0.22307854931906426,
          0.7515751798336623,
          1.4874493907577864,
          0.11438861126346808
         ],
         "y": [
          -0.586840196288645,
          -0.32211634944072765,
          -0.7705711443991067,
          -0.19351498321984212,
          -0.9399875156610894,
          -0.5778972811261671
         ]
        },
        {
         "marker": {
          "color": 1,
          "line": {
           "width": 1
          },
          "size": 9,
          "symbol": 0
         },
         "mode": "markers",
         "name": "Low income1",
         "text": [
          "Afghanistan",
          "Benin",
          "Burkina Faso",
          "Central African Republic",
          "Ethiopia",
          "Gambia",
          "Guinea",
          "Haiti",
          "Liberia",
          "Mali",
          "Mozambique",
          "Sierra Leone"
         ],
         "type": "scatter",
         "uid": "d04dce81-49ee-478a-aab3-4b10f548dd71",
         "x": [
          -1.697410120640752,
          -1.5411073255710999,
          -0.5825366211783465,
          -1.8090522015872292,
          -0.8531881018453802,
          -1.7842496101926266,
          -1.6344003841231114,
          -1.405305273829591,
          -1.2968517618007933,
          -1.317319375324838,
          -1.590223922718095,
          -1.316812409334327
         ],
         "y": [
          -1.5434506618250943,
          0.2693360518944025,
          -0.3286903023530706,
          -0.9700448324106417,
          -1.3703426580556415,
          -0.18044270196046794,
          -0.5238917455834444,
          -1.4571321999413949,
          -1.6877989536602744,
          -1.7193662816296826,
          -1.030342217517311,
          -0.750877444315325
         ]
        },
        {
         "marker": {
          "color": 2,
          "line": {
           "width": 1
          },
          "size": 9,
          "symbol": 0
         },
         "mode": "markers",
         "name": "Low income2",
         "text": [
          "Togo"
         ],
         "type": "scatter",
         "uid": "cf3d9cb9-ac8e-4d8b-bd78-da0deb3b7318",
         "x": [
          3.2841446747397716
         ],
         "y": [
          -0.13464434317000404
         ]
        },
        {
         "marker": {
          "color": 3,
          "line": {
           "width": 1
          },
          "size": 9,
          "symbol": 0
         },
         "mode": "markers",
         "name": "Low income3",
         "text": [
          "Guinea-Bissau",
          "Niger",
          "Rwanda",
          "Uganda"
         ],
         "type": "scatter",
         "uid": "50252605-40e3-43a7-8488-c8b501343cac",
         "x": [
          -1.7799321402999395,
          -1.5504667722443701,
          -1.6431078242186399,
          -1.1859710692386296
         ],
         "y": [
          0.931680022742502,
          2.0710856994393723,
          0.7477848395791405,
          1.0164842946548798
         ]
        },
        {
         "marker": {
          "color": 4,
          "line": {
           "width": 1
          },
          "size": 9,
          "symbol": 0
         },
         "mode": "markers",
         "name": "Low income4",
         "text": [],
         "type": "scatter",
         "uid": "b7d03362-29a5-46d2-aacb-0b008f1f3afb",
         "x": [],
         "y": []
        },
        {
         "marker": {
          "color": 0,
          "line": {
           "width": 1
          },
          "size": 9,
          "symbol": 1
         },
         "mode": "markers",
         "name": "Upper middle income0",
         "text": [
          "Albania",
          "Armenia",
          "Belarus",
          "Botswana",
          "Brazil",
          "China, mainland",
          "Colombia",
          "Costa Rica",
          "Grenada",
          "Iraq",
          "Jordan",
          "Kazakhstan",
          "Malaysia",
          "Maldives",
          "Peru",
          "Russian Federation",
          "Saint Lucia",
          "Serbia",
          "Thailand",
          "Turkmenistan"
         ],
         "type": "scatter",
         "uid": "9b01a8dc-b12a-428c-ab68-77a09400f07c",
         "x": [
          0.9365399612021017,
          0.09278812044825452,
          1.0116982666771925,
          1.2969451588981882,
          1.5202649045559373,
          0.29341470246000256,
          0.6673753823898034,
          1.1213910251970858,
          0.6232839978584427,
          1.0276342929177762,
          0.8151694825992627,
          -0.42667568542074474,
          0.17012002756519523,
          1.2920439726088986,
          0.4334291320902332,
          -0.13757455395517001,
          1.1817367677991106,
          -0.3492598641909243,
          1.2461767711649758,
          0.8962246248883992
         ],
         "y": [
          -1.201689203698959,
          -0.9382790136973391,
          -0.18220803806478383,
          -0.1229770590456236,
          0.45555575951847765,
          0.5052724321120584,
          -0.09693108099638988,
          0.6197199705027545,
          -0.4344606196547449,
          -0.7116520108307233,
          -0.19409135441012912,
          0.6543205353053694,
          -0.6467545106775828,
          -0.7003479978118538,
          0.8712763944998104,
          -0.5980761513751194,
          -0.544668293800872,
          -0.03713218984481795,
          -0.6095938772352139,
          -0.28523899873308367
         ]
        },
        {
         "marker": {
          "color": 1,
          "line": {
           "width": 1
          },
          "size": 9,
          "symbol": 1
         },
         "mode": "markers",
         "name": "Upper middle income1",
         "text": [
          "Algeria",
          "Azerbaijan",
          "Belize",
          "Bosnia and Herzegovina",
          "Bulgaria",
          "Dominica",
          "Gabon",
          "Guyana",
          "Iran (Islamic Republic of)",
          "Jamaica",
          "Mauritius",
          "Mexico",
          "Romania",
          "Samoa",
          "Suriname"
         ],
         "type": "scatter",
         "uid": "aa39b416-5e47-4d1a-b63a-9dbfd9fc6941",
         "x": [
          -0.8440685189793667,
          -0.7716116820685527,
          -0.5541004063659856,
          -0.8796449326264388,
          -1.8539552547660936,
          -1.9195208735208957,
          -1.3748089984784013,
          -0.9224043218741698,
          -0.582768375439522,
          -0.4132241408937572,
          -0.9454226261450629,
          -1.7785324979852302,
          -1.5851167698078001,
          -0.3316694602179114,
          -1.2829027645430924
         ],
         "y": [
          -2.055723415318895,
          -2.0334849113621662,
          -0.05600547589131159,
          -0.6273614852013268,
          -1.5374577585581481,
          -1.1130018126159025,
          0.03483450198722658,
          -1.300773373483378,
          -1.2242653003132364,
          -1.4197472397963942,
          -0.07411443398426855,
          -1.2115414050601474,
          -0.4405568184577929,
          -1.2818053858163327,
          -0.43529925391619784
         ]
        },
        {
         "marker": {
          "color": 2,
          "line": {
           "width": 1
          },
          "size": 9,
          "symbol": 1
         },
         "mode": "markers",
         "name": "Upper middle income2",
         "text": [
          "Ecuador",
          "Fiji",
          "Guatemala",
          "Montenegro",
          "Namibia"
         ],
         "type": "scatter",
         "uid": "b10ca986-1ad2-4183-b86e-4469d6ceb47d",
         "x": [
          3.0795304153940957,
          2.493577717222948,
          4.494902567019446,
          2.096984861302116,
          3.727101345782506
         ],
         "y": [
          -0.2818609086154058,
          -0.4145685688782614,
          1.6604143739984187,
          0.3003758940331083,
          0.5663662472742307
         ]
        },
        {
         "marker": {
          "color": 3,
          "line": {
           "width": 1
          },
          "size": 9,
          "symbol": 1
         },
         "mode": "markers",
         "name": "Upper middle income3",
         "text": [
          "Cuba",
          "Dominican Republic",
          "Lebanon",
          "Paraguay",
          "Saint Vincent and the Grenadines",
          "South Africa",
          "Turkey"
         ],
         "type": "scatter",
         "uid": "f16e7d67-6ee6-4c25-946c-39b171bfc1cd",
         "x": [
          -0.2816358249678399,
          -0.6646493115160885,
          -0.4607633632718433,
          -1.8783042629902822,
          -1.381833956480704,
          -1.0889326819582776,
          -1.0896395628969702
         ],
         "y": [
          2.570690577544649,
          0.9325623120564227,
          3.0433532488002495,
          1.5130943997920991,
          1.2970974401331368,
          1.1578172730766663,
          1.9533933436727984
         ]
        },
        {
         "marker": {
          "color": 4,
          "line": {
           "width": 1
          },
          "size": 9,
          "symbol": 1
         },
         "mode": "markers",
         "name": "Upper middle income4",
         "text": [],
         "type": "scatter",
         "uid": "c97fbcb1-1a67-4e5e-8ffb-b48d5ba709a0",
         "x": [],
         "y": []
        },
        {
         "marker": {
          "color": 0,
          "line": {
           "width": 1
          },
          "size": 9,
          "symbol": 2
         },
         "mode": "markers",
         "name": "Lower middle income0",
         "text": [
          "CÃƒÂ´te d'Ivoire",
          "El Salvador",
          "Nigeria",
          "Pakistan",
          "Sudan"
         ],
         "type": "scatter",
         "uid": "c1caba8c-3fa4-4062-a374-3a60d31e2c11",
         "x": [
          1.1547146971486633,
          -0.18057074507068893,
          0.7881043388377904,
          0.4538360103147787,
          0.20320298125526484
         ],
         "y": [
          -0.41494042861550406,
          0.5589438359476006,
          -0.6920717007439866,
          -1.4537239305437173,
          0.5440660760138807
         ]
        },
        {
         "marker": {
          "color": 1,
          "line": {
           "width": 1
          },
          "size": 9,
          "symbol": 2
         },
         "mode": "markers",
         "name": "Lower middle income1",
         "text": [
          "Angola",
          "Bangladesh",
          "Bolivia (Plurinational State of)",
          "Cabo Verde",
          "Cambodia",
          "Congo (note no data in Food suppley tables for DRC)",
          "Georgia",
          "Kenya",
          "Kiribati",
          "Lao People's Democratic Republic",
          "Morocco",
          "Myanmar",
          "Nicaragua",
          "Solomon Islands",
          "Sri Lanka",
          "Eswatini",
          "Timor-Leste",
          "Tunisia",
          "Ukraine"
         ],
         "type": "scatter",
         "uid": "58a25dfd-8940-4e26-bd48-a1232e68c366",
         "x": [
          -1.0818886899047466,
          -2.0184911071699387,
          -0.5742328253056509,
          -1.6157292789434363,
          -1.6629277598525958,
          -0.48385716893534764,
          -1.8150146530856845,
          -1.957780524549306,
          -1.7000333639582839,
          -1.6878487456536,
          -1.1686694075526918,
          -1.8840236642818395,
          -0.6305546458196787,
          -1.6050790260876788,
          -1.8765681374298009,
          -0.1996661610381046,
          -1.6353417883446704,
          -0.8268689731421277,
          -1.6011940361906098
         ],
         "y": [
          0.33479622449772534,
          -0.13706821892481022,
          -1.154788450463492,
          0.2680415102981853,
          0.27178800561584054,
          -0.3337701762790485,
          0.17229614576998234,
          -2.1107886952005845,
          0.04394355073132196,
          -0.4557942236872599,
          -0.612748221106872,
          0.3372067156614352,
          -0.07270629277330096,
          -0.8856664360915395,
          -0.09294091535223646,
          -1.6227730410045826,
          0.06344841595426143,
          -1.5877997108141453,
          -1.2357889925354657
         ]
        },
        {
         "marker": {
          "color": 2,
          "line": {
           "width": 1
          },
          "size": 9,
          "symbol": 2
         },
         "mode": "markers",
         "name": "Lower middle income2",
         "text": [
          "Cameroon",
          "Egypt",
          "Honduras",
          "Indonesia",
          "Kyrgyzstan",
          "Mongolia",
          "Sao Tome and Principe"
         ],
         "type": "scatter",
         "uid": "62651d5e-b1f0-437a-9722-cf4f8d8d976f",
         "x": [
          2.3601531156471522,
          2.510280507040692,
          2.506396593239008,
          2.1069803720334717,
          4.978943539810282,
          3.418693656680766,
          1.7422920797086738
         ],
         "y": [
          -0.0409044885856792,
          -0.012352585898475361,
          -0.5334328931506014,
          1.3447801157845853,
          0.15074862550313586,
          0.05709613904407643,
          1.5437004215534584
         ]
        },
        {
         "marker": {
          "color": 3,
          "line": {
           "width": 1
          },
          "size": 9,
          "symbol": 2
         },
         "mode": "markers",
         "name": "Lower middle income3",
         "text": [
          "Ghana",
          "India",
          "Lesotho",
          "Mauritania",
          "Philippines"
         ],
         "type": "scatter",
         "uid": "5f088979-19a7-4e00-a7f9-10f78ea834ab",
         "x": [
          -1.7527538191992473,
          -0.4315023344195417,
          0.4958044359188891,
          -0.8358212229477898,
          0.23237637316842857
         ],
         "y": [
          1.0337133515907215,
          0.9455842233943689,
          6.065440784985911,
          0.6910167239109154,
          1.4506639512025408
         ]
        },
        {
         "marker": {
          "color": 4,
          "line": {
           "width": 1
          },
          "size": 9,
          "symbol": 2
         },
         "mode": "markers",
         "name": "Lower middle income4",
         "text": [],
         "type": "scatter",
         "uid": "1e677c98-71eb-48cd-b682-f5aa50df9356",
         "x": [],
         "y": []
        },
        {
         "marker": {
          "color": 0,
          "line": {
           "width": 1
          },
          "size": 9,
          "symbol": 3
         },
         "mode": "markers",
         "name": "High income0",
         "text": [
          "Antigua and Barbuda",
          "Barbados",
          "Brunei Darussalam",
          "Chile",
          "Czechia",
          "France",
          "Germany",
          "Iceland",
          "Kuwait",
          "New Zealand",
          "Norway",
          "Oman",
          "Panama",
          "Poland",
          "Saint Kitts and Nevis"
         ],
         "type": "scatter",
         "uid": "4b0d4b6f-4c56-4172-91c6-a0c2dd22945c",
         "x": [
          0.8447586393763887,
          0.6348291861413285,
          0.10002931429037883,
          -0.3854075250513515,
          -0.10523013381641709,
          1.4459549850913607,
          -0.38305852681855296,
          1.487044666098583,
          1.733589864370219,
          -0.14254990832575198,
          1.4030474837653042,
          0.5670304788874663,
          0.873234334280595,
          0.282381472382214,
          0.09929585616419405
         ],
         "y": [
          1.3778592301150592,
          0.9877319672418183,
          -0.8579177739878006,
          -0.17923554335824005,
          0.4986660842608068,
          0.25266957050253996,
          -0.06744429792786755,
          0.1750718694881236,
          0.15736929151697573,
          -0.2491721913176558,
          1.1920547703468016,
          1.0148402858617827,
          -0.5895711827162241,
          0.7969961460896453,
          -0.5645208132489844
         ]
        },
        {
         "marker": {
          "color": 1,
          "line": {
           "width": 1
          },
          "size": 9,
          "symbol": 3
         },
         "mode": "markers",
         "name": "High income1",
         "text": [
          "Canada",
          "Denmark",
          "Estonia",
          "Greece",
          "Ireland",
          "Japan",
          "Latvia",
          "Luxembourg",
          "Malta",
          "Netherlands",
          "Spain",
          "Sweden",
          "United Arab Emirates",
          "United Kingdom"
         ],
         "type": "scatter",
         "uid": "e5b96f95-b167-46e1-8c21-e8eff1631ac4",
         "x": [
          -1.1713140385964975,
          -0.9682825253085652,
          -1.650128614626429,
          -0.9661520621523775,
          -1.3560846900769448,
          -1.6674777831039373,
          -1.9666126669108592,
          -0.6634469178822539,
          -1.7723817440690093,
          -0.7191219289529936,
          -1.7130083387449586,
          -0.1789231253295809,
          -1.7326312212609845,
          -1.6098223216152385
         ],
         "y": [
          0.5252124380814305,
          0.27424395470851803,
          -0.8310875138021281,
          -0.4199560971274845,
          -0.5667742853654102,
          -0.5516542762089379,
          -0.7106244155014685,
          -1.254563866380137,
          -0.03610867540110736,
          -0.9255942002221457,
          0.029941129920906858,
          -1.8493517879497932,
          -0.5874135771873088,
          -0.7891891349791984
         ]
        },
        {
         "marker": {
          "color": 2,
          "line": {
           "width": 1
          },
          "size": 9,
          "symbol": 3
         },
         "mode": "markers",
         "name": "High income2",
         "text": [
          "Argentina",
          "Australia",
          "Austria",
          "Bahamas",
          "Belgium",
          "Croatia",
          "Hungary",
          "Italy",
          "Lithuania",
          "Slovakia",
          "Slovenia",
          "Trinidad and Tobago"
         ],
         "type": "scatter",
         "uid": "5e4cd35f-abd3-4719-8fe1-508dc33ec208",
         "x": [
          2.135768065099927,
          3.601356674927375,
          2.49925829180802,
          1.997751952230016,
          5.1690696718524505,
          2.7387324760305027,
          2.914598912157268,
          2.7894646431280834,
          3.4378168540156833,
          3.3705434022265646,
          3.1960322639754675,
          2.4072554671851636
         ],
         "y": [
          -0.5656254447553128,
          0.13771972278054598,
          -0.4041082957581522,
          0.9095370918723985,
          -0.32425146070447863,
          -0.025800484699504526,
          -0.34767878158871257,
          -0.8598360855517289,
          -0.02945002608303857,
          0.07983550740194019,
          -0.07609459595755877,
          -0.7645063855499601
         ]
        },
        {
         "marker": {
          "color": 3,
          "line": {
           "width": 1
          },
          "size": 9,
          "symbol": 3
         },
         "mode": "markers",
         "name": "High income3",
         "text": [
          "Cyprus",
          "Finland",
          "Israel",
          "Portugal",
          "Republic of Korea",
          "Saudi Arabia",
          "Switzerland"
         ],
         "type": "scatter",
         "uid": "a09600d8-d92d-42fe-a49c-f7c4b451a13d",
         "x": [
          -0.5108063992491925,
          -1.7015991495175211,
          -1.8224089676942188,
          0.28693645306475196,
          -2.403619403892054,
          -1.894440357050651,
          -1.681880805191861
         ],
         "y": [
          0.8609853150958702,
          1.9117257155688463,
          5.733283261841905,
          2.192654000404062,
          4.555869243433894,
          1.5859720350300157,
          1.4444051743624156
         ]
        },
        {
         "marker": {
          "color": 4,
          "line": {
           "width": 1
          },
          "size": 9,
          "symbol": 3
         },
         "mode": "markers",
         "name": "High income4",
         "text": [],
         "type": "scatter",
         "uid": "57b2f399-7ece-421d-95a4-ccde0291b9e8",
         "x": [],
         "y": []
        },
        {
         "marker": {
          "color": 0,
          "line": {
           "width": 1
          },
          "size": 9,
          "symbol": 4
         },
         "mode": "markers",
         "name": "nan0",
         "text": [],
         "type": "scatter",
         "uid": "284ca76f-2387-4774-bcbd-bbff76331a29",
         "x": [],
         "y": []
        },
        {
         "marker": {
          "color": 1,
          "line": {
           "width": 1
          },
          "size": 9,
          "symbol": 4
         },
         "mode": "markers",
         "name": "nan1",
         "text": [],
         "type": "scatter",
         "uid": "8ddafbcc-8445-4c19-baf4-ab39526b567e",
         "x": [],
         "y": []
        },
        {
         "marker": {
          "color": 2,
          "line": {
           "width": 1
          },
          "size": 9,
          "symbol": 4
         },
         "mode": "markers",
         "name": "nan2",
         "text": [],
         "type": "scatter",
         "uid": "1532ce55-ed54-408c-bcea-22da29f00e00",
         "x": [],
         "y": []
        },
        {
         "marker": {
          "color": 3,
          "line": {
           "width": 1
          },
          "size": 9,
          "symbol": 4
         },
         "mode": "markers",
         "name": "nan3",
         "text": [],
         "type": "scatter",
         "uid": "77957b07-1f1b-4458-8b69-e6e11aa008d3",
         "x": [],
         "y": []
        },
        {
         "marker": {
          "color": 4,
          "line": {
           "width": 1
          },
          "size": 9,
          "symbol": 4
         },
         "mode": "markers",
         "name": "nan4",
         "text": [],
         "type": "scatter",
         "uid": "87b6577c-0978-47f2-8b45-5106159244b2",
         "x": [],
         "y": []
        },
        {
         "marker": {
          "color": "rgba(220, 220, 220, .4)",
          "line": {
           "width": 1
          },
          "size": 20
         },
         "mode": "markers",
         "name": "Center",
         "type": "scatter",
         "uid": "8e599975-fab1-461b-a3dc-1db3401668c8",
         "x": [
          0.5995884954117782,
          -1.272044433455026,
          2.9708844881431133,
          -1.0906025610807015
         ],
         "y": [
          -0.135872603138821,
          -0.7249610649545714,
          0.060290279170623705,
          1.9297564971418568
         ]
        }
       ],
       "layout": {
        "hovermode": "closest",
        "showlegend": true,
        "title": {
         "text": "2 component PCA Kmeans Clustering Income group"
        },
        "xaxis": {
         "gridwidth": 2,
         "ticklen": 5,
         "title": {
          "text": "principal component 1"
         },
         "zeroline": false
        },
        "yaxis": {
         "gridwidth": 2,
         "ticklen": 5,
         "title": {
          "text": "principal component 2"
         }
        }
       }
      },
      "text/html": [
       "<div>\n",
       "        \n",
       "        \n",
       "            <div id=\"de625dad-51cc-43e1-96e0-6458bb5994fc\" class=\"plotly-graph-div\" style=\"height:525px; width:100%;\"></div>\n",
       "            <script type=\"text/javascript\">\n",
       "                require([\"plotly\"], function(Plotly) {\n",
       "                    window.PLOTLYENV=window.PLOTLYENV || {};\n",
       "                    window.PLOTLYENV.BASE_URL='https://plot.ly';\n",
       "                    \n",
       "                if (document.getElementById(\"de625dad-51cc-43e1-96e0-6458bb5994fc\")) {\n",
       "                    Plotly.newPlot(\n",
       "                        'de625dad-51cc-43e1-96e0-6458bb5994fc',\n",
       "                        [{\"marker\": {\"color\": 0, \"line\": {\"width\": 1}, \"size\": 9, \"symbol\": 0}, \"mode\": \"markers\", \"name\": \"Low income0\", \"text\": [\"Chad\", \"Madagascar\", \"Malawi\", \"Nepal\", \"Senegal\", \"Tajikistan\"], \"type\": \"scatter\", \"uid\": \"e2c4debe-9866-4e22-b754-bb49d3abebdc\", \"x\": [1.126098146822494, -0.10484702475569553, 0.22307854931906426, 0.7515751798336623, 1.4874493907577864, 0.11438861126346808], \"y\": [-0.586840196288645, -0.32211634944072765, -0.7705711443991067, -0.19351498321984212, -0.9399875156610894, -0.5778972811261671]}, {\"marker\": {\"color\": 1, \"line\": {\"width\": 1}, \"size\": 9, \"symbol\": 0}, \"mode\": \"markers\", \"name\": \"Low income1\", \"text\": [\"Afghanistan\", \"Benin\", \"Burkina Faso\", \"Central African Republic\", \"Ethiopia\", \"Gambia\", \"Guinea\", \"Haiti\", \"Liberia\", \"Mali\", \"Mozambique\", \"Sierra Leone\"], \"type\": \"scatter\", \"uid\": \"d04dce81-49ee-478a-aab3-4b10f548dd71\", \"x\": [-1.697410120640752, -1.5411073255710999, -0.5825366211783465, -1.8090522015872292, -0.8531881018453802, -1.7842496101926266, -1.6344003841231114, -1.405305273829591, -1.2968517618007933, -1.317319375324838, -1.590223922718095, -1.316812409334327], \"y\": [-1.5434506618250943, 0.2693360518944025, -0.3286903023530706, -0.9700448324106417, -1.3703426580556415, -0.18044270196046794, -0.5238917455834444, -1.4571321999413949, -1.6877989536602744, -1.7193662816296826, -1.030342217517311, -0.750877444315325]}, {\"marker\": {\"color\": 2, \"line\": {\"width\": 1}, \"size\": 9, \"symbol\": 0}, \"mode\": \"markers\", \"name\": \"Low income2\", \"text\": [\"Togo\"], \"type\": \"scatter\", \"uid\": \"cf3d9cb9-ac8e-4d8b-bd78-da0deb3b7318\", \"x\": [3.2841446747397716], \"y\": [-0.13464434317000404]}, {\"marker\": {\"color\": 3, \"line\": {\"width\": 1}, \"size\": 9, \"symbol\": 0}, \"mode\": \"markers\", \"name\": \"Low income3\", \"text\": [\"Guinea-Bissau\", \"Niger\", \"Rwanda\", \"Uganda\"], \"type\": \"scatter\", \"uid\": \"50252605-40e3-43a7-8488-c8b501343cac\", \"x\": [-1.7799321402999395, -1.5504667722443701, -1.6431078242186399, -1.1859710692386296], \"y\": [0.931680022742502, 2.0710856994393723, 0.7477848395791405, 1.0164842946548798]}, {\"marker\": {\"color\": 4, \"line\": {\"width\": 1}, \"size\": 9, \"symbol\": 0}, \"mode\": \"markers\", \"name\": \"Low income4\", \"text\": [], \"type\": \"scatter\", \"uid\": \"b7d03362-29a5-46d2-aacb-0b008f1f3afb\", \"x\": [], \"y\": []}, {\"marker\": {\"color\": 0, \"line\": {\"width\": 1}, \"size\": 9, \"symbol\": 1}, \"mode\": \"markers\", \"name\": \"Upper middle income0\", \"text\": [\"Albania\", \"Armenia\", \"Belarus\", \"Botswana\", \"Brazil\", \"China, mainland\", \"Colombia\", \"Costa Rica\", \"Grenada\", \"Iraq\", \"Jordan\", \"Kazakhstan\", \"Malaysia\", \"Maldives\", \"Peru\", \"Russian Federation\", \"Saint Lucia\", \"Serbia\", \"Thailand\", \"Turkmenistan\"], \"type\": \"scatter\", \"uid\": \"9b01a8dc-b12a-428c-ab68-77a09400f07c\", \"x\": [0.9365399612021017, 0.09278812044825452, 1.0116982666771925, 1.2969451588981882, 1.5202649045559373, 0.29341470246000256, 0.6673753823898034, 1.1213910251970858, 0.6232839978584427, 1.0276342929177762, 0.8151694825992627, -0.42667568542074474, 0.17012002756519523, 1.2920439726088986, 0.4334291320902332, -0.13757455395517001, 1.1817367677991106, -0.3492598641909243, 1.2461767711649758, 0.8962246248883992], \"y\": [-1.201689203698959, -0.9382790136973391, -0.18220803806478383, -0.1229770590456236, 0.45555575951847765, 0.5052724321120584, -0.09693108099638988, 0.6197199705027545, -0.4344606196547449, -0.7116520108307233, -0.19409135441012912, 0.6543205353053694, -0.6467545106775828, -0.7003479978118538, 0.8712763944998104, -0.5980761513751194, -0.544668293800872, -0.03713218984481795, -0.6095938772352139, -0.28523899873308367]}, {\"marker\": {\"color\": 1, \"line\": {\"width\": 1}, \"size\": 9, \"symbol\": 1}, \"mode\": \"markers\", \"name\": \"Upper middle income1\", \"text\": [\"Algeria\", \"Azerbaijan\", \"Belize\", \"Bosnia and Herzegovina\", \"Bulgaria\", \"Dominica\", \"Gabon\", \"Guyana\", \"Iran (Islamic Republic of)\", \"Jamaica\", \"Mauritius\", \"Mexico\", \"Romania\", \"Samoa\", \"Suriname\"], \"type\": \"scatter\", \"uid\": \"aa39b416-5e47-4d1a-b63a-9dbfd9fc6941\", \"x\": [-0.8440685189793667, -0.7716116820685527, -0.5541004063659856, -0.8796449326264388, -1.8539552547660936, -1.9195208735208957, -1.3748089984784013, -0.9224043218741698, -0.582768375439522, -0.4132241408937572, -0.9454226261450629, -1.7785324979852302, -1.5851167698078001, -0.3316694602179114, -1.2829027645430924], \"y\": [-2.055723415318895, -2.0334849113621662, -0.05600547589131159, -0.6273614852013268, -1.5374577585581481, -1.1130018126159025, 0.03483450198722658, -1.300773373483378, -1.2242653003132364, -1.4197472397963942, -0.07411443398426855, -1.2115414050601474, -0.4405568184577929, -1.2818053858163327, -0.43529925391619784]}, {\"marker\": {\"color\": 2, \"line\": {\"width\": 1}, \"size\": 9, \"symbol\": 1}, \"mode\": \"markers\", \"name\": \"Upper middle income2\", \"text\": [\"Ecuador\", \"Fiji\", \"Guatemala\", \"Montenegro\", \"Namibia\"], \"type\": \"scatter\", \"uid\": \"b10ca986-1ad2-4183-b86e-4469d6ceb47d\", \"x\": [3.0795304153940957, 2.493577717222948, 4.494902567019446, 2.096984861302116, 3.727101345782506], \"y\": [-0.2818609086154058, -0.4145685688782614, 1.6604143739984187, 0.3003758940331083, 0.5663662472742307]}, {\"marker\": {\"color\": 3, \"line\": {\"width\": 1}, \"size\": 9, \"symbol\": 1}, \"mode\": \"markers\", \"name\": \"Upper middle income3\", \"text\": [\"Cuba\", \"Dominican Republic\", \"Lebanon\", \"Paraguay\", \"Saint Vincent and the Grenadines\", \"South Africa\", \"Turkey\"], \"type\": \"scatter\", \"uid\": \"f16e7d67-6ee6-4c25-946c-39b171bfc1cd\", \"x\": [-0.2816358249678399, -0.6646493115160885, -0.4607633632718433, -1.8783042629902822, -1.381833956480704, -1.0889326819582776, -1.0896395628969702], \"y\": [2.570690577544649, 0.9325623120564227, 3.0433532488002495, 1.5130943997920991, 1.2970974401331368, 1.1578172730766663, 1.9533933436727984]}, {\"marker\": {\"color\": 4, \"line\": {\"width\": 1}, \"size\": 9, \"symbol\": 1}, \"mode\": \"markers\", \"name\": \"Upper middle income4\", \"text\": [], \"type\": \"scatter\", \"uid\": \"c97fbcb1-1a67-4e5e-8ffb-b48d5ba709a0\", \"x\": [], \"y\": []}, {\"marker\": {\"color\": 0, \"line\": {\"width\": 1}, \"size\": 9, \"symbol\": 2}, \"mode\": \"markers\", \"name\": \"Lower middle income0\", \"text\": [\"C\\u00c3\\u0192\\u00c2\\u00b4te d'Ivoire\", \"El Salvador\", \"Nigeria\", \"Pakistan\", \"Sudan\"], \"type\": \"scatter\", \"uid\": \"c1caba8c-3fa4-4062-a374-3a60d31e2c11\", \"x\": [1.1547146971486633, -0.18057074507068893, 0.7881043388377904, 0.4538360103147787, 0.20320298125526484], \"y\": [-0.41494042861550406, 0.5589438359476006, -0.6920717007439866, -1.4537239305437173, 0.5440660760138807]}, {\"marker\": {\"color\": 1, \"line\": {\"width\": 1}, \"size\": 9, \"symbol\": 2}, \"mode\": \"markers\", \"name\": \"Lower middle income1\", \"text\": [\"Angola\", \"Bangladesh\", \"Bolivia (Plurinational State of)\", \"Cabo Verde\", \"Cambodia\", \"Congo (note no data in Food suppley tables for DRC)\", \"Georgia\", \"Kenya\", \"Kiribati\", \"Lao People's Democratic Republic\", \"Morocco\", \"Myanmar\", \"Nicaragua\", \"Solomon Islands\", \"Sri Lanka\", \"Eswatini\", \"Timor-Leste\", \"Tunisia\", \"Ukraine\"], \"type\": \"scatter\", \"uid\": \"58a25dfd-8940-4e26-bd48-a1232e68c366\", \"x\": [-1.0818886899047466, -2.0184911071699387, -0.5742328253056509, -1.6157292789434363, -1.6629277598525958, -0.48385716893534764, -1.8150146530856845, -1.957780524549306, -1.7000333639582839, -1.6878487456536, -1.1686694075526918, -1.8840236642818395, -0.6305546458196787, -1.6050790260876788, -1.8765681374298009, -0.1996661610381046, -1.6353417883446704, -0.8268689731421277, -1.6011940361906098], \"y\": [0.33479622449772534, -0.13706821892481022, -1.154788450463492, 0.2680415102981853, 0.27178800561584054, -0.3337701762790485, 0.17229614576998234, -2.1107886952005845, 0.04394355073132196, -0.4557942236872599, -0.612748221106872, 0.3372067156614352, -0.07270629277330096, -0.8856664360915395, -0.09294091535223646, -1.6227730410045826, 0.06344841595426143, -1.5877997108141453, -1.2357889925354657]}, {\"marker\": {\"color\": 2, \"line\": {\"width\": 1}, \"size\": 9, \"symbol\": 2}, \"mode\": \"markers\", \"name\": \"Lower middle income2\", \"text\": [\"Cameroon\", \"Egypt\", \"Honduras\", \"Indonesia\", \"Kyrgyzstan\", \"Mongolia\", \"Sao Tome and Principe\"], \"type\": \"scatter\", \"uid\": \"62651d5e-b1f0-437a-9722-cf4f8d8d976f\", \"x\": [2.3601531156471522, 2.510280507040692, 2.506396593239008, 2.1069803720334717, 4.978943539810282, 3.418693656680766, 1.7422920797086738], \"y\": [-0.0409044885856792, -0.012352585898475361, -0.5334328931506014, 1.3447801157845853, 0.15074862550313586, 0.05709613904407643, 1.5437004215534584]}, {\"marker\": {\"color\": 3, \"line\": {\"width\": 1}, \"size\": 9, \"symbol\": 2}, \"mode\": \"markers\", \"name\": \"Lower middle income3\", \"text\": [\"Ghana\", \"India\", \"Lesotho\", \"Mauritania\", \"Philippines\"], \"type\": \"scatter\", \"uid\": \"5f088979-19a7-4e00-a7f9-10f78ea834ab\", \"x\": [-1.7527538191992473, -0.4315023344195417, 0.4958044359188891, -0.8358212229477898, 0.23237637316842857], \"y\": [1.0337133515907215, 0.9455842233943689, 6.065440784985911, 0.6910167239109154, 1.4506639512025408]}, {\"marker\": {\"color\": 4, \"line\": {\"width\": 1}, \"size\": 9, \"symbol\": 2}, \"mode\": \"markers\", \"name\": \"Lower middle income4\", \"text\": [], \"type\": \"scatter\", \"uid\": \"1e677c98-71eb-48cd-b682-f5aa50df9356\", \"x\": [], \"y\": []}, {\"marker\": {\"color\": 0, \"line\": {\"width\": 1}, \"size\": 9, \"symbol\": 3}, \"mode\": \"markers\", \"name\": \"High income0\", \"text\": [\"Antigua and Barbuda\", \"Barbados\", \"Brunei Darussalam\", \"Chile\", \"Czechia\", \"France\", \"Germany\", \"Iceland\", \"Kuwait\", \"New Zealand\", \"Norway\", \"Oman\", \"Panama\", \"Poland\", \"Saint Kitts and Nevis\"], \"type\": \"scatter\", \"uid\": \"4b0d4b6f-4c56-4172-91c6-a0c2dd22945c\", \"x\": [0.8447586393763887, 0.6348291861413285, 0.10002931429037883, -0.3854075250513515, -0.10523013381641709, 1.4459549850913607, -0.38305852681855296, 1.487044666098583, 1.733589864370219, -0.14254990832575198, 1.4030474837653042, 0.5670304788874663, 0.873234334280595, 0.282381472382214, 0.09929585616419405], \"y\": [1.3778592301150592, 0.9877319672418183, -0.8579177739878006, -0.17923554335824005, 0.4986660842608068, 0.25266957050253996, -0.06744429792786755, 0.1750718694881236, 0.15736929151697573, -0.2491721913176558, 1.1920547703468016, 1.0148402858617827, -0.5895711827162241, 0.7969961460896453, -0.5645208132489844]}, {\"marker\": {\"color\": 1, \"line\": {\"width\": 1}, \"size\": 9, \"symbol\": 3}, \"mode\": \"markers\", \"name\": \"High income1\", \"text\": [\"Canada\", \"Denmark\", \"Estonia\", \"Greece\", \"Ireland\", \"Japan\", \"Latvia\", \"Luxembourg\", \"Malta\", \"Netherlands\", \"Spain\", \"Sweden\", \"United Arab Emirates\", \"United Kingdom\"], \"type\": \"scatter\", \"uid\": \"e5b96f95-b167-46e1-8c21-e8eff1631ac4\", \"x\": [-1.1713140385964975, -0.9682825253085652, -1.650128614626429, -0.9661520621523775, -1.3560846900769448, -1.6674777831039373, -1.9666126669108592, -0.6634469178822539, -1.7723817440690093, -0.7191219289529936, -1.7130083387449586, -0.1789231253295809, -1.7326312212609845, -1.6098223216152385], \"y\": [0.5252124380814305, 0.27424395470851803, -0.8310875138021281, -0.4199560971274845, -0.5667742853654102, -0.5516542762089379, -0.7106244155014685, -1.254563866380137, -0.03610867540110736, -0.9255942002221457, 0.029941129920906858, -1.8493517879497932, -0.5874135771873088, -0.7891891349791984]}, {\"marker\": {\"color\": 2, \"line\": {\"width\": 1}, \"size\": 9, \"symbol\": 3}, \"mode\": \"markers\", \"name\": \"High income2\", \"text\": [\"Argentina\", \"Australia\", \"Austria\", \"Bahamas\", \"Belgium\", \"Croatia\", \"Hungary\", \"Italy\", \"Lithuania\", \"Slovakia\", \"Slovenia\", \"Trinidad and Tobago\"], \"type\": \"scatter\", \"uid\": \"5e4cd35f-abd3-4719-8fe1-508dc33ec208\", \"x\": [2.135768065099927, 3.601356674927375, 2.49925829180802, 1.997751952230016, 5.1690696718524505, 2.7387324760305027, 2.914598912157268, 2.7894646431280834, 3.4378168540156833, 3.3705434022265646, 3.1960322639754675, 2.4072554671851636], \"y\": [-0.5656254447553128, 0.13771972278054598, -0.4041082957581522, 0.9095370918723985, -0.32425146070447863, -0.025800484699504526, -0.34767878158871257, -0.8598360855517289, -0.02945002608303857, 0.07983550740194019, -0.07609459595755877, -0.7645063855499601]}, {\"marker\": {\"color\": 3, \"line\": {\"width\": 1}, \"size\": 9, \"symbol\": 3}, \"mode\": \"markers\", \"name\": \"High income3\", \"text\": [\"Cyprus\", \"Finland\", \"Israel\", \"Portugal\", \"Republic of Korea\", \"Saudi Arabia\", \"Switzerland\"], \"type\": \"scatter\", \"uid\": \"a09600d8-d92d-42fe-a49c-f7c4b451a13d\", \"x\": [-0.5108063992491925, -1.7015991495175211, -1.8224089676942188, 0.28693645306475196, -2.403619403892054, -1.894440357050651, -1.681880805191861], \"y\": [0.8609853150958702, 1.9117257155688463, 5.733283261841905, 2.192654000404062, 4.555869243433894, 1.5859720350300157, 1.4444051743624156]}, {\"marker\": {\"color\": 4, \"line\": {\"width\": 1}, \"size\": 9, \"symbol\": 3}, \"mode\": \"markers\", \"name\": \"High income4\", \"text\": [], \"type\": \"scatter\", \"uid\": \"57b2f399-7ece-421d-95a4-ccde0291b9e8\", \"x\": [], \"y\": []}, {\"marker\": {\"color\": 0, \"line\": {\"width\": 1}, \"size\": 9, \"symbol\": 4}, \"mode\": \"markers\", \"name\": \"nan0\", \"text\": [], \"type\": \"scatter\", \"uid\": \"284ca76f-2387-4774-bcbd-bbff76331a29\", \"x\": [], \"y\": []}, {\"marker\": {\"color\": 1, \"line\": {\"width\": 1}, \"size\": 9, \"symbol\": 4}, \"mode\": \"markers\", \"name\": \"nan1\", \"text\": [], \"type\": \"scatter\", \"uid\": \"8ddafbcc-8445-4c19-baf4-ab39526b567e\", \"x\": [], \"y\": []}, {\"marker\": {\"color\": 2, \"line\": {\"width\": 1}, \"size\": 9, \"symbol\": 4}, \"mode\": \"markers\", \"name\": \"nan2\", \"text\": [], \"type\": \"scatter\", \"uid\": \"1532ce55-ed54-408c-bcea-22da29f00e00\", \"x\": [], \"y\": []}, {\"marker\": {\"color\": 3, \"line\": {\"width\": 1}, \"size\": 9, \"symbol\": 4}, \"mode\": \"markers\", \"name\": \"nan3\", \"text\": [], \"type\": \"scatter\", \"uid\": \"77957b07-1f1b-4458-8b69-e6e11aa008d3\", \"x\": [], \"y\": []}, {\"marker\": {\"color\": 4, \"line\": {\"width\": 1}, \"size\": 9, \"symbol\": 4}, \"mode\": \"markers\", \"name\": \"nan4\", \"text\": [], \"type\": \"scatter\", \"uid\": \"87b6577c-0978-47f2-8b45-5106159244b2\", \"x\": [], \"y\": []}, {\"marker\": {\"color\": \"rgba(220, 220, 220, .4)\", \"line\": {\"width\": 1}, \"size\": 20}, \"mode\": \"markers\", \"name\": \"Center\", \"type\": \"scatter\", \"uid\": \"8e599975-fab1-461b-a3dc-1db3401668c8\", \"x\": [0.5995884954117782, -1.272044433455026, 2.9708844881431133, -1.0906025610807015], \"y\": [-0.135872603138821, -0.7249610649545714, 0.060290279170623705, 1.9297564971418568]}],\n",
       "                        {\"hovermode\": \"closest\", \"showlegend\": true, \"title\": {\"text\": \"2 component PCA Kmeans Clustering Income group\"}, \"xaxis\": {\"gridwidth\": 2, \"ticklen\": 5, \"title\": {\"text\": \"principal component 1\"}, \"zeroline\": false}, \"yaxis\": {\"gridwidth\": 2, \"ticklen\": 5, \"title\": {\"text\": \"principal component 2\"}}},\n",
       "                        {\"showLink\": false, \"linkText\": \"Export to plot.ly\", \"plotlyServerURL\": \"https://plot.ly\", \"responsive\": true}\n",
       "                    ).then(function(){\n",
       "                            \n",
       "var gd = document.getElementById('de625dad-51cc-43e1-96e0-6458bb5994fc');\n",
       "var x = new MutationObserver(function (mutations, observer) {{\n",
       "        var display = window.getComputedStyle(gd).display;\n",
       "        if (!display || display === 'none') {{\n",
       "            console.log([gd, 'removed!']);\n",
       "            Plotly.purge(gd);\n",
       "            observer.disconnect();\n",
       "        }}\n",
       "}});\n",
       "\n",
       "// Listen for the removal of the full notebook cells\n",
       "var notebookContainer = gd.closest('#notebook-container');\n",
       "if (notebookContainer) {{\n",
       "    x.observe(notebookContainer, {childList: true});\n",
       "}}\n",
       "\n",
       "// Listen for the clearing of the current output cell\n",
       "var outputEl = gd.closest('.output');\n",
       "if (outputEl) {{\n",
       "    x.observe(outputEl, {childList: true});\n",
       "}}\n",
       "\n",
       "                        })\n",
       "                };\n",
       "                });\n",
       "            </script>\n",
       "        </div>"
      ]
     },
     "metadata": {},
     "output_type": "display_data"
    },
    {
     "name": "stderr",
     "output_type": "stream",
     "text": [
      "C:\\Users\\XuP-intern\\AppData\\Local\\Continuum\\anaconda3\\lib\\site-packages\\IPython\\core\\display.py:689: UserWarning:\n",
      "\n",
      "Consider using IPython.display.IFrame instead\n",
      "\n"
     ]
    }
   ],
   "source": [
    "plot_plotly(principalDf_socio,\"Income group\",income_centers_socio,\"Socioeconomic + Foods\")"
   ]
  }
 ],
 "metadata": {
  "kernelspec": {
   "display_name": "Python 3",
   "language": "python",
   "name": "python3"
  },
  "language_info": {
   "codemirror_mode": {
    "name": "ipython",
    "version": 3
   },
   "file_extension": ".py",
   "mimetype": "text/x-python",
   "name": "python",
   "nbconvert_exporter": "python",
   "pygments_lexer": "ipython3",
   "version": "3.7.1"
  }
 },
 "nbformat": 4,
 "nbformat_minor": 2
}
